{
 "cells": [
  {
   "cell_type": "markdown",
   "metadata": {
    "id": "WB5GKtxmD5Xe"
   },
   "source": [
    "# 第11回課題\n",
    "*  以下のコードは開放・閉鎖の原則に違反している\n",
    "*  コードの概要:\n",
    ">*  オンライン支払いシステムをイメージしたコード\n",
    ">*  `PaymentProcessor`クラスは，3つのメソッド`process_payment`，`process_credit_card`，`process_paypal`を持つ\n",
    ">*  `process_payment`メソッド: `if`文を使って，支払い方法（`process_payment`）の種類によって呼び出すメソッド（`process_credit_card`と\n",
    "`process_paypal`）を切り替える\n",
    ">*  `process_credit_card`メソッド: クレジットカードによる支払い処理を行うメソッド（具体的な処理は省略）\n",
    ">*  `process_paypal`メソッド: PayPalによる支払い処理を行うメソッド（具体的な処理は省略）\n",
    "  \n",
    "---\n",
    "**開放・閉鎖の原則に違反しているコード:**\n",
    "```Python\n",
    "class PaymentProcessor:\n",
    "    def process_payment(self, payment_type: str, amount: int) -> None:\n",
    "        if payment_type == 'CreditCard':\n",
    "            self.process_credit_card(amount)\n",
    "        elif payment_type == 'PayPal':\n",
    "            self.process_paypal(amount)\n",
    "        # 新しい支払い方法を追加するたびにこのクラスを変更する必要がある -> 小テスト\n",
    "\n",
    "    def process_credit_card(self, amount: int) -> None:\n",
    "        print(f'クレジットカードで{amount}円を支払いました。')\n",
    "\n",
    "    def process_paypal(self, amount: int) -> None:\n",
    "        print(f'PayPalで{amount}円を支払いました。')\n",
    "\n",
    "processor = PaymentProcessor()\n",
    "processor.process_payment('CreditCard', 1000) # output: クレジットカードで1000円を支払いました。\n",
    "processor.process_payment('PayPal', 2000) # output: PayPalで2000円を支払いました。\n",
    "```\n",
    "---\n",
    "\n",
    "*  このコードを修正して，以下の要件を満たすコードを作成しなさい．\n",
    "\n",
    "**＜要件＞**\n",
    "*  下のコードセルを使う\n",
    "*  すでに入力されているコードは削除・変更しない\n",
    "*  コメントはすべて削除する\n",
    "*  以下の方針で，開放・閉鎖の原則を遵守したコードに修正する\n",
    ">*  抽象クラス`Payment`を定義し，その中で抽象メソッド`pay`を定義する\n",
    ">*  `pay`メソッドは，支払い処理を行うメソッドで，その実装はサブクラスの`CreditCardPayment`クラスと`PayPalPayment`クラスで行う\n",
    ">*  `CreditCardPayment`クラスの`pay`メソッドは，修正前の`process_credit_card`メソッドと同じ処理を行う\n",
    ">*  `PayPalPayment`クラスの`pay`メソッドは，修正前の`process_paypal`メソッドと同じ処理を行う\n",
    ">*  `PaymentProcessor`クラスは，`process_payment`メソッドを持つ\n",
    ">*  `process_payment`メソッドは，仮引数の`payment`と`amount`に，`Payment`クラスを継承するクラスのオブジェクトと金額（`int`クラスのオブジェクト）をそれぞれ受け取り, そのオブジェクトの`pay`メソッドを呼び出す\n",
    "*  「# ここにコードを記述」のある行にだけコードを追加で記述する\n",
    "*  すべてのメソッドに，型ヒントを付ける\n",
    "*  新たに空行を作らない\n",
    "*  指定した書式にノートブック名を変更する\n",
    "*  実行結果を表示した状態で提出する\n",
    "\n",
    "  \n",
    "---\n",
    "**【参考】修正後のコードの実行結果:**   \n",
    "```Python\n",
    "クレジットカードで1000円を支払いました。\n",
    "PayPalで2000円を支払いました。\n",
    "```\n",
    "---"
   ]
  },
  {
   "cell_type": "code",
   "execution_count": null,
   "metadata": {},
   "outputs": [],
   "source": [
    "from abc import ABC, abstractmethod\n",
    "\n",
    "# ここにコードを記述\n",
    "    @abstractmethod\n",
    "    def pay(self, amount: int) -> None:\n",
    "        pass\n",
    "\n",
    "class CreditCardPayment(Payment):\n",
    "    # ここにコードを記述\n",
    "        print(f'クレジットカードで{amount}円を支払いました。')\n",
    "\n",
    "class PayPalPayment(Payment):\n",
    "    # ここにコードを記述\n",
    "        print(f'PayPalで{amount}円を支払いました。')\n",
    "\n",
    "class PaymentProcessor:\n",
    "    # ここにコードを記述\n",
    "        payment.pay(amount)\n",
    "\n",
    "processor = PaymentProcessor()\n",
    "credit_card = CreditCardPayment()\n",
    "paypal = PayPalPayment()\n",
    "\n",
    "processor.process_payment(credit_card, 1000) \n",
    "processor.process_payment(paypal, 2000)"
   ]
  }
 ],
 "metadata": {
  "colab": {
   "authorship_tag": "ABX9TyMSzoXsgNOppMgZhPbWbp07",
   "provenance": []
  },
  "kernelspec": {
   "display_name": "Python 3",
   "name": "python3"
  },
  "language_info": {
   "codemirror_mode": {
    "name": "ipython",
    "version": 3
   },
   "file_extension": ".py",
   "mimetype": "text/x-python",
   "name": "python",
   "nbconvert_exporter": "python",
   "pygments_lexer": "ipython3",
   "version": "3.11.5"
  }
 },
 "nbformat": 4,
 "nbformat_minor": 0
}
