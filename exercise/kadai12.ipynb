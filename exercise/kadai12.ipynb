{
 "cells": [
  {
   "cell_type": "markdown",
   "metadata": {
    "id": "WB5GKtxmD5Xe"
   },
   "source": [
    "# 第12回課題\n",
    "以下の要件を満たすコードを，Strategyパターンを用いて作成しなさい．\n",
    "\n",
    "**＜要件＞**\n",
    "*  下のコードセルを使う\n",
    "*  すでに入力されているコードは削除・変更しない\n",
    "*  コメントはすべて削除する\n",
    "*  以下のクラス図で表現される，様々な方法で割引した商品の価格を表示するシステムを実装するコードを作成する（仕様は以下のとおり）\n",
    "*  「# ここにコードを記述」のある行にだけコードを追加で記述する\n",
    "*  コンストラクタを含むすべてのメソッドに，型ヒントを付ける\n",
    "*  新たに空行を作らない\n",
    "*  指定した書式にノートブック名を変更する\n",
    "*  実行結果を表示した状態で提出する\n",
    "  \n",
    "\n",
    "---\n",
    "**システムの仕様:**\n",
    "*  `DiscountStrategy`クラスは，割引方法を定義するための抽象クラスであり，抽象メソッドとして`apply_discount`が定義されている\n",
    "*  `apply_discount`メソッドは，商品の価格に割引を適用するためのメソッドで，その実装は，サブクラスである`PercentageDiscount`クラスと`FixedAmountDiscount`クラスでそれぞれ定義する\n",
    "*  `PercentageDiscount`クラスは，パーセンテージ割引を行う具体的な割引方法のクラスとして定義する\n",
    "*  `PercentageDiscount`クラスのコンストラクタ（`__init__`）で割引率（`percentage`）を設定し，`apply_discount`メソッドで仮引数`price`で受け取った価格に対してパーセンテージ割引を適用する\n",
    "*  例えば，価格が1000円で割引率が10%の場合，割引後の価格は 1000 * (1 - 10 / 100) = 900 となる\n",
    "*  `FixedAmountDiscount`クラスは，定額割引を行う具体的な割引方法のクラスとして定義する\n",
    "*  `FixedAmountDiscount`クラスのコンストラクタ（`__init__`）で割引額（`discount`）を設定し，`apply_discount`メソッドで仮引数`price`で受け取った価格から割引額を引く\n",
    "*  また，価格が0を下回らないようにするため，戻り値を`max(0, price - self.__discount)`としている \n",
    "*  例えば，価格が2000円で割引額が500円の場合，割引後の価格は 2000 - 500 = 1500 となる\n",
    "*  `Product`クラスは，商品を表し，その商品に対して割引方法を適用する役割を持っている\n",
    "*  コンストラクタ（`__init__`）で商品名（`name`），価格（`price`），割引方法（`discount_strategy`）を設定する\n",
    "*  `show_price`メソッドは，指定された割引方法を適用した価格を表示する\n",
    "*  具体的には，`discount_strategy.apply_discount(self.price)`を呼び出して，動的に設定された割引方法に基づいて価格を計算する\n",
    "\n",
    "**クラス図:**  \n",
    "<img src=\"../doc/fig/design_patterns_strategy_kadai.png\" width=\"600\">\n",
    "\n",
    "---"
   ]
  },
  {
   "cell_type": "code",
   "execution_count": null,
   "metadata": {},
   "outputs": [],
   "source": [
    "from abc import ABC, abstractmethod\n",
    "\n",
    "# ここにコードを記述\n",
    "    @abstractmethod\n",
    "    def apply_discount(self, price: float) -> float:\n",
    "        pass\n",
    "\n",
    "class PercentageDiscount(DiscountStrategy):\n",
    "    def __init__(self, percentage: float) -> None:\n",
    "        self.__percentage = percentage\n",
    "    \n",
    "    # ここにコードを記述\n",
    "        return price * (1 - self.__percentage / 100)\n",
    "\n",
    "class FixedAmountDiscount(DiscountStrategy):\n",
    "    def __init__(self, discount: float) -> None:\n",
    "        self.__discount = discount\n",
    "    \n",
    "    # ここにコードを記述\n",
    "        return max(0, price - self.__discount)\n",
    "\n",
    "class Product:\n",
    "    # ここにコードを記述\n",
    "        self.__name = name\n",
    "        self.__price = price\n",
    "        self.__discount_strategy: DiscountStrategy = discount_strategy\n",
    "    \n",
    "    def show_price(self) -> None:\n",
    "        print(f'{self.__name}の価格: {int(self.__discount_strategy.apply_discount(self.__price))}円')\n",
    "\n",
    "product1 = Product('スマホケース', 1500, PercentageDiscount(10))\n",
    "product1.show_price()\n",
    "\n",
    "product1 = Product('モバイルバッテリー', 3800, FixedAmountDiscount(200))\n",
    "product1.show_price()"
   ]
  }
 ],
 "metadata": {
  "colab": {
   "authorship_tag": "ABX9TyMSzoXsgNOppMgZhPbWbp07",
   "provenance": []
  },
  "kernelspec": {
   "display_name": "Python 3",
   "name": "python3"
  },
  "language_info": {
   "codemirror_mode": {
    "name": "ipython",
    "version": 3
   },
   "file_extension": ".py",
   "mimetype": "text/x-python",
   "name": "python",
   "nbconvert_exporter": "python",
   "pygments_lexer": "ipython3",
   "version": "3.11.5"
  }
 },
 "nbformat": 4,
 "nbformat_minor": 0
}
