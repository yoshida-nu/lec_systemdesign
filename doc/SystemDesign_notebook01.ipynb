{
 "cells": [
  {
   "cell_type": "markdown",
   "metadata": {},
   "source": [
    "# Google Colaboratoryとは\n",
    "\n",
    "*  Google Colaboratory（本講義では，Colaboratory または Colab と呼ぶこともある）は，クラウド上で Pythonのプログラミング環境（細かく言うと [Jupyter Notebook](https://jupyter.org/) 環境）を提供する Google のウェブサービスの一つ\n",
    "*  ブラウザとGoogleのアカウントがあれば，制限はあるが誰でも無料で利用できる\n",
    "*  本講義では，[Google Chrome](https://www.google.com/intl/ja_jp/chrome/) をブラウザとして利用する\n",
    "*  Colab は「ノートブック」と呼ばれるファイルを使ってプログラミングを行う\n"
   ]
  },
  {
   "cell_type": "markdown",
   "metadata": {},
   "source": [
    "# ノートブックの基本構成\n",
    "![ノートブック名](./fig/01_notebook_name.png)  \n",
    "  \n",
    "*  ノートブックの左上方（上図の赤枠部）には，ノートブック名が表示されている\n",
    "*  ノートブック名は任意の名前に変更することができる\n",
    "*  ノートブック名の下には「ファイル」や「編集」などのメニューがある\n",
    "*  さらに，その下には「+ コード」と「+ テキスト」というボタンがある\n",
    "*  ノートブックの詳細については，本ノートブック末尾の参考資料などを参照する"
   ]
  },
  {
   "cell_type": "markdown",
   "metadata": {},
   "source": [
    "# ノートブックのコピー\n",
    "*  メニュー下の「ドライブにコピー」をクリックすると，ノートブックを複製（コピー）できる\n",
    "*  または，メニュー「ファイル」⇒「ドライブにコピーを保存」で複製（コピー）できる\n",
    "*  Classroom から提供するノートブックは，表示したら必ずコピーすること（コピーしないとノートブックの内容を変更することができない）\n",
    "*  コピーされたノートブックは，Googleドライブ（マイドライブ > Colab notebooks）の中に保存される"
   ]
  },
  {
   "cell_type": "markdown",
   "metadata": {},
   "source": [
    "# ノートブック名\n",
    "*  ノートブック名は任意の名前に変更することができる\n",
    "*  コピーしたノートブックの名前は特に指定がなければ自由につけかえてよい\n",
    "*  ただし，本講義では課題などでノートブック名の書式を指定する場合があるので注意する"
   ]
  },
  {
   "cell_type": "markdown",
   "metadata": {
    "id": "RoxlZXULSAR6"
   },
   "source": [
    "# セルの基本操作\n",
    "*    ノートブックは複数の「セル」と呼ばれるブロックで構成される\n",
    "*    セルには「コードセル」と「テキストセル」の2種類がある \n",
    "*    セルの上のどこかをクリックすると，そのセルを選択することができる\n",
    "*    コードセルには，Pythonでコードを記述する\n",
    "*    テキストセルには，Markdown（文章を記述するためのマークアップ言語）を使った普通の文書（テキスト，見出し，箇条書き等）が記述できる\n",
    "*    テキストセルの上をダブルクリックすると，そのテキストセルの内容が編集可能となる\n",
    "*    本講義では，Markdown については特に扱わないが，例えば，以下のURLなどに簡単な説明がある  \n",
    ">https://colab.research.google.com/notebooks/markdown_guide.ipynb\n",
    "*    セルの追加はノートブック上部の[＋コード]と[＋テキスト]をクリック（他のやり方もあるので自分で調べてみる or 試してみる）\n",
    "*    セルの削除は，削除するセルを選択してから，ごみ箱アイコンをクリック（他のやり方もあるので自分で調べてみる or 試してみる）\n",
    "*    セルの編集において，よく使うショートカットキーには，以下のようなものがある\n",
    ">*  `[Ctrl] + [C]`: コピー\n",
    ">*  `[Ctrl] + [X]`: 切り取り\n",
    ">*  `[Ctrl] + [V]`: 貼り付け\n",
    ">*  `[Ctrl] + [Z]`: 元に戻す"
   ]
  },
  {
   "cell_type": "markdown",
   "metadata": {
    "id": "v2czOonKS7Op"
   },
   "source": [
    "# コードの実行\n",
    "*   コードセルに記述したPythonのコードは， `[Ctrl] + [Enter]` で実行できる（他のやり方もあるので自分で調べてみる or 試してみる）\n",
    "*   試しに以下のコードを実行してみる\n",
    "*   コードの意味については後述（今は気にしなくてよい）\n",
    "\n"
   ]
  },
  {
   "cell_type": "code",
   "execution_count": null,
   "metadata": {
    "id": "Vxya914GRpE0"
   },
   "outputs": [],
   "source": [
    "print('Hello World!')"
   ]
  },
  {
   "cell_type": "markdown",
   "metadata": {
    "id": "owvCejc_T-CA"
   },
   "source": [
    "## コメント\n",
    "*  コードセルにおいて，半角「`#`」から始まる行はコメント（メモ）になる\n",
    "*  「`#`」以降，その行の終わりまでがコメントになる\n",
    "*  コメントは行頭からでも，行の途中からでも始めることができる\n",
    "*  後でコードを読み返す時や，他の人がコードをみた時などにおいて，そのコードがどのような処理をしているかといった補足説明のために使う\n",
    "*  また，コードの特定箇所の先頭に「`#`」を付けて（コメント化して）一時的に除外することを「コメントアウト」と呼ぶ\n",
    "*  コメントアウトは，すでに記述されたコードを完全に削除するのではなく一時的に無効化し，動作などを確認する場合に行われる\n",
    "*  `[Ctrl] + [/]`でコメントアウトの設定・解除ができる"
   ]
  },
  {
   "cell_type": "code",
   "execution_count": null,
   "metadata": {
    "id": "VmwDvAPJFPaB"
   },
   "outputs": [],
   "source": [
    "# printは括弧内で指定したデータを表示する関数\n",
    "print('Hello World!')"
   ]
  },
  {
   "cell_type": "markdown",
   "metadata": {},
   "source": [
    "# ノートブックの保存\n",
    "*  ノートブックは，`[Ctrl] + [S]` で手動保存できる\n",
    "*  なお，ノートブックは適当なタイミングで自動保存される\n",
    "*  メニューの右に「すべての変更を保存しました」と表示されていれば，現在の状態が保存されているので，手動保存する必要はない"
   ]
  },
  {
   "cell_type": "markdown",
   "metadata": {},
   "source": [
    "# ノートブックの設定\n",
    "![設定1](./fig/01_notebook_setting1.png)  \n",
    "\n",
    "*  ノートブック右上の歯車アイコン（上図赤枠部）をクリックすると，ノートブックの設定画面が表示される\n",
    "*  「エディタ」の設定を以下のようにしておく（下図参照）\n",
    ">*  **「インデント幅（スペース）」を「4」にする**\n",
    ">*  **「縦の罫線列」を「120」にする**\n",
    ">*  **「行番号を表示」にチェックを入れる**\n",
    ">*  **「インデントガイドの表示」にチェックを入れる**\n",
    "*  他の設定は任意（特に変更しなくてよい）\n",
    "*  設定が完了したら「保存」をクリックする  \n",
    "  \n",
    "![設定2](./fig/01_notebook_setting2.png)"
   ]
  },
  {
   "cell_type": "markdown",
   "metadata": {},
   "source": [
    "# よく使うショートカットキー\n",
    "*  セルに対する基本的な操作には，ショートカットキーが割り当てられている\n",
    "*  多くのショートカットキーが2段階になっている\n",
    "*  まず `[Ctrl] + [M]` を押してから，それぞれの機能によって異なるコマンド（キー）を入力する\n",
    "\n",
    "| 説明                 | コマンド      |\n",
    "|:---|:---|\n",
    "| テキストセルへ変更 | `[Ctrl] + [M] → [M]` |\n",
    "| コードセルへ変更     | `[Ctrl] + [M] → [Y]` |\n",
    "| コードの実行           | `[Ctrl] + [Enter]` |\n",
    "| セルを上に追加       | `[Ctrl] + [M] → [A]` |\n",
    "| セルを下に追加       | `[Ctrl] + [M] → [B]` |\n",
    "| セルのコピー         | `[Ctrl] + [M] → [C]` |\n",
    "| セルの貼り付け       | `[Ctrl] + [M] → [V]` |\n",
    "| セルの消去           | `[Ctrl] + [M] → [D]` |\n",
    "| コメントアウト       | `[Ctrl] + [/]`      |"
   ]
  },
  {
   "cell_type": "markdown",
   "metadata": {},
   "source": [
    "# 文字列の取り扱い\n",
    "*  文字列はシングルクオート `'` またはダブルクオート `\"` で囲う\n",
    "*  逆にいうと，シングルクオート `'` またはダブルクオート `\"` で囲われたものは，すべて文字列とみなされる\n",
    "*  本講義ではシングルクオート `'` を基本的に利用する \n",
    "*  文字列は「文字列リテラル」とも呼ばれる\n",
    "\n",
    "**書式**： `'文字列'` または `\"文字列\"`  \n",
    "\n",
    "*  整数や小数などの数値（数値リテラルとも呼ばれる）は，シングルクオート `'` やダブルクオート `\"` で囲わずに記述できる"
   ]
  },
  {
   "cell_type": "markdown",
   "metadata": {},
   "source": [
    "## `print` 関数\n",
    "*  上のコードで使用した `print` はPythonであらかじめ用意してくれている「関数」の1つ\n",
    "*  関数はあらかじめ決めておいた一連の処理のこと\n",
    ">*  関数に引き渡すデータのことを引数と呼ぶ\n",
    ">*  関数を使うことを呼び出すという\n",
    ">*  関数が返す値（出力）を戻り値と呼ぶ\n",
    "*  あらかじめ用意されている関数を「組み込み関数」と呼ぶ\n",
    "*  Pythonには多くの組み込み関数が用意されている\n",
    "*  利用者は自由にそれらを使う（呼び出す）ことができる  \n",
    "\n",
    "**例**： `print('Hello World!')` ⇒『文字列「Hello World!」を実行画面に表示しなさい』という意味を持つ命令\n",
    "*  実行画面のことを一般に「標準出力」と呼ぶ"
   ]
  },
  {
   "cell_type": "code",
   "execution_count": null,
   "metadata": {},
   "outputs": [],
   "source": [
    "print('Hello World!')\n",
    "print('Pythonをはじめよう！')\n",
    "print(321)"
   ]
  },
  {
   "cell_type": "markdown",
   "metadata": {},
   "source": [
    "文字列の途中に `\\n` を入れることで改行できる．"
   ]
  },
  {
   "cell_type": "code",
   "execution_count": null,
   "metadata": {},
   "outputs": [],
   "source": [
    "print('Hello World!\\nPythonをはじめよう！')"
   ]
  },
  {
   "cell_type": "markdown",
   "metadata": {},
   "source": [
    "## 文字列の長さ\n",
    "組み込み関数の `len` 関数を使うと文字列（引数）の長さを取得できる．"
   ]
  },
  {
   "cell_type": "code",
   "execution_count": null,
   "metadata": {},
   "outputs": [],
   "source": [
    "len('Hello World!')"
   ]
  },
  {
   "cell_type": "markdown",
   "metadata": {},
   "source": [
    "# 算術演算子\n",
    "*  計算（算術演算）するときに使う「`+`」「`-`」「`*`」「`/`」を算術演算子と呼ぶ\n",
    "\n",
    "||||\n",
    "|:-:|:-:|:--|\n",
    "|算術演算子| `+` | 加算 |\n",
    "|| `-` | 減算 |\n",
    "|| `*` | 乗算 |\n",
    "|| `/` | 除算（小数） |\n",
    "|| `//` | 除算の商（整数） |\n",
    "|| `%` | 除算の余り（整数） |\n",
    "|| `**` | べき乗 |\n",
    "\n"
   ]
  },
  {
   "cell_type": "code",
   "execution_count": null,
   "metadata": {},
   "outputs": [],
   "source": [
    "1 + 1"
   ]
  },
  {
   "cell_type": "code",
   "execution_count": null,
   "metadata": {},
   "outputs": [],
   "source": [
    "5.2 - 2"
   ]
  },
  {
   "cell_type": "markdown",
   "metadata": {},
   "source": [
    "複数の計算結果を同時に表示したい場合は `print` 関数を使う．"
   ]
  },
  {
   "cell_type": "code",
   "execution_count": null,
   "metadata": {},
   "outputs": [],
   "source": [
    "print(10 / 4)\n",
    "print(10 // 4)\n",
    "print(10 % 4)"
   ]
  },
  {
   "cell_type": "markdown",
   "metadata": {},
   "source": [
    "## 算術演算子の優先順位\n",
    "*  式の中に複数の算術演算子が含まれる場合には，優先順位が高いものから順に処理される\n",
    "*  同じ優先順位の算術演算子が複数ある場合は，左にある演算子から処理される\n",
    "\n",
    "|||\n",
    "|:-:|:--|\n",
    "| 優先順位 | 算術演算子 |\n",
    "| 高 | `**` |\n",
    "| 中 | `*`, `/`, `%` |\n",
    "| 低 | `+`, `-` |\n",
    "\n",
    "*  式中の一部を丸括弧 `()` で囲むと，括弧内の演算から処理される"
   ]
  },
  {
   "cell_type": "code",
   "execution_count": null,
   "metadata": {},
   "outputs": [],
   "source": [
    "print(2 * 2 ** 3)\n",
    "print((5 + 2 - 3) / 2 * 5)"
   ]
  },
  {
   "cell_type": "markdown",
   "metadata": {},
   "source": [
    "文字列に対して `+` を使うと，文字列が連結できる（※ 数値の場合と処理が異なる）．"
   ]
  },
  {
   "cell_type": "code",
   "execution_count": null,
   "metadata": {},
   "outputs": [],
   "source": [
    "'Hello' + ' ' + 'World!'"
   ]
  },
  {
   "cell_type": "markdown",
   "metadata": {},
   "source": [
    "# 比較演算子\n",
    "* 2つの値の大小を比較するための演算子\n",
    "* 演算結果は「True」と「False」のいずれかの値をとる\n",
    "* このような値を論理型（bool）の値と呼ぶ（詳細は後述）\n",
    "* 比較演算子を使った式が正しければ「True（真）」で，間違っていれば「False（偽）」となる\n",
    "\n",
    "||||\n",
    "|:-:|:-:|:--|\n",
    "|比較演算子| < | 小さい |\n",
    "|| > | 大きい |\n",
    "|| <= | 以上 |\n",
    "|| >= | 以下 |\n",
    "|| == | 等しい |\n",
    "|| != | 等しくない |"
   ]
  },
  {
   "cell_type": "code",
   "execution_count": null,
   "metadata": {},
   "outputs": [],
   "source": [
    "print(10 > 10)\n",
    "print(10 >= 10)\n",
    "print(5 == 2)\n",
    "print(5 != 2)\n",
    "print(1 + 1 == 3)"
   ]
  },
  {
   "cell_type": "markdown",
   "metadata": {},
   "source": [
    "# 参考資料\n",
    "*  [Chainer Tutorials : 01_Welcome_to_Chainer_Tutorial.ipynb](https://colab.research.google.com/github/chainer/tutorials/blob/master/ja/01_Welcome_to_Chainer_Tutorial.ipynb)\n",
    "*  [Chainer Tutorials : 02_Basics_of_Python.ipynb](https://colab.research.google.com/github/chainer/tutorials/blob/master/ja/02_Basics_of_Python.ipynb)\n",
    "*  東京大学, [Colaboratory (Colab) の使い方](https://colab.research.google.com/github/utokyo-ipp/utokyo-ipp.github.io/blob/master/colab/1/1-0.ipynb), 「プログラミング入門」講義資料\n",
    "*  東京大学, [文字列 (string)](https://colab.research.google.com/github/utokyo-ipp/utokyo-ipp.github.io/blob/master/colab/2/2-1.ipynb), 「プログラミング入門」講義資料"
   ]
  }
 ],
 "metadata": {
  "colab": {
   "authorship_tag": "ABX9TyMkXO3Ag0O1a4CuasXPhPub",
   "provenance": []
  },
  "kernelspec": {
   "display_name": "Python 3 (ipykernel)",
   "language": "python",
   "name": "python3"
  },
  "language_info": {
   "codemirror_mode": {
    "name": "ipython",
    "version": 3
   },
   "file_extension": ".py",
   "mimetype": "text/x-python",
   "name": "python",
   "nbconvert_exporter": "python",
   "pygments_lexer": "ipython3",
   "version": "3.12.4"
  }
 },
 "nbformat": 4,
 "nbformat_minor": 1
}
