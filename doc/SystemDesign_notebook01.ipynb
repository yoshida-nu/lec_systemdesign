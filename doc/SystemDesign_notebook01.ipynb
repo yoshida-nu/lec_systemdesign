{
 "cells": [
  {
   "cell_type": "markdown",
   "metadata": {},
   "source": [
    "# Google Colaboratoryの基本"
   ]
  },
  {
   "cell_type": "markdown",
   "metadata": {},
   "source": [
    "## Google Colaboratoryとは\n",
    "\n",
    "*  Google Colaboratory（本講義では，Colaboratory または Colab と呼ぶこともある）は，クラウド上で Pythonのプログラミング環境（細かく言うと [Jupyter Notebook](https://jupyter.org/) 環境）を提供する Google のウェブサービスの一つ\n",
    "*  ブラウザとGoogleのアカウントがあれば，制限はあるが誰でも無料で利用できる\n",
    "*  本講義では，[Google Chrome](https://www.google.com/intl/ja_jp/chrome/) をブラウザとして利用する\n",
    "*  Colab は「ノートブック」と呼ばれるファイルを使ってプログラミングを行う\n"
   ]
  },
  {
   "cell_type": "markdown",
   "metadata": {},
   "source": [
    "## ノートブックの基本構成\n",
    "<img src=\"./fig/01_notebook_name.png\" width=\"500\">  \n",
    "  \n",
    "*  ノートブックの左上方（上図の赤枠部）には，ノートブック名が表示されている\n",
    "*  ノートブック名は任意の名前に変更することができる\n",
    "*  ノートブック名の下には「ファイル」や「編集」などのメニューがある\n",
    "*  さらに，その下には「+ コード」と「+ テキスト」というボタンがある\n",
    "*  ノートブックの詳細については，本ノートブック末尾の参考資料などを参照する"
   ]
  },
  {
   "cell_type": "markdown",
   "metadata": {},
   "source": [
    "## ノートブックのコピー\n",
    "*  メニュー下の「ドライブにコピー」をクリックすると，ノートブックを複製（コピー）できる\n",
    "*  または，メニュー「ファイル」⇒「ドライブにコピーを保存」で複製（コピー）できる\n",
    "*  Classroom から提供するノートブックは，表示したら必ずコピーすること（コピーしないとノートブックの内容を変更することができない）\n",
    "*  コピーされたノートブックは，Googleドライブ（マイドライブ > Colab notebooks）の中に保存される"
   ]
  },
  {
   "cell_type": "markdown",
   "metadata": {},
   "source": [
    "## ノートブック名\n",
    "*  ノートブック名は任意の名前に変更することができる\n",
    "*  コピーしたノートブックの名前は特に指定がなければ自由につけかえてよい\n",
    "*  ただし，本講義では課題などでノートブック名の書式を指定する場合があるので注意する"
   ]
  },
  {
   "cell_type": "markdown",
   "metadata": {
    "id": "RoxlZXULSAR6"
   },
   "source": [
    "## セルの基本操作\n",
    "*    ノートブックは複数の「セル」と呼ばれるブロックで構成される\n",
    "*    セルには「コードセル」と「テキストセル」の2種類がある \n",
    "*    セルの上のどこかをクリックすると，そのセルを選択することができる\n",
    "*    コードセルには，Pythonでコードを記述する\n",
    "*    テキストセルには，Markdown（文章を記述するためのマークアップ言語）を使った普通の文書（テキスト，見出し，箇条書き等）が記述できる\n",
    "*    テキストセルの上をダブルクリックすると，そのテキストセルの内容が編集可能となる\n",
    "*    本講義では，Markdown については特に扱わないが，例えば，以下のURLなどに簡単な説明がある  \n",
    ">https://colab.research.google.com/notebooks/markdown_guide.ipynb\n",
    "*    セルの追加はノートブック上部の[＋コード]と[＋テキスト]をクリック（他のやり方もあるので自分で調べてみる or 試してみる）\n",
    "*    セルの削除は，削除するセルを選択してから，ごみ箱アイコンをクリック（他のやり方もあるので自分で調べてみる or 試してみる）\n",
    "*    セル内のテキストの編集において，よく使うショートカットキーには，以下のようなものがある\n",
    ">*  `[Ctrl] + [C]`: テキストのコピー\n",
    ">*  `[Ctrl] + [X]`: テキストの切り取り\n",
    ">*  `[Ctrl] + [V]`: テキストの貼り付け\n",
    ">*  `[Ctrl] + [Z]`: 元に戻す"
   ]
  },
  {
   "cell_type": "markdown",
   "metadata": {},
   "source": [
    "## ノートブックの保存\n",
    "*  ノートブックは，`[Ctrl] + [S]` で手動保存できる\n",
    "*  なお，ノートブックは適当なタイミングで自動保存される\n",
    "*  メニューの右に「すべての変更を保存しました」と表示されていれば，現在の状態が保存されているので，手動保存する必要はない"
   ]
  },
  {
   "cell_type": "markdown",
   "metadata": {},
   "source": [
    "## ノートブックの設定\n",
    "<img src=\"./fig/01_notebook_setting1.png\" width=\"800\">  \n",
    "\n",
    "*  ノートブック右上の歯車アイコン（上図赤枠部）をクリックすると，ノートブックの設定画面が表示される\n",
    "*  「エディタ」の設定を以下のようにしておく（下図参照）\n",
    ">*  **「インデント幅（スペース）」を「4」にする**\n",
    ">*  **「縦の罫線列」を「120」にする**\n",
    ">*  **「行番号を表示」にチェックを入れる**\n",
    ">*  **「インデントガイドの表示」にチェックを入れる**\n",
    "*  他の設定は任意（特に変更しなくてよい）\n",
    "*  設定が完了したら「保存」をクリックする  \n",
    "  \n",
    "![設定2](./fig/01_notebook_setting2.png)"
   ]
  },
  {
   "cell_type": "markdown",
   "metadata": {},
   "source": [
    "## よく使うショートカットキー\n",
    "*  セルに対する基本的な操作には，ショートカットキーが割り当てられている\n",
    "*  多くのショートカットキーが2段階になっている\n",
    "*  まず `[Ctrl] + [M]` を押してから，それぞれの機能によって異なるコマンド（キー）を入力する\n",
    "\n",
    "| 説明                 | コマンド      |\n",
    "|:---|:---|\n",
    "| テキストセルへ変更 | `[Ctrl] + [M] → [M]` |\n",
    "| コードセルへ変更     | `[Ctrl] + [M] → [Y]` |\n",
    "| コードの実行           | `[Ctrl] + [Enter]` |\n",
    "| セルを上に追加       | `[Ctrl] + [M] → [A]` |\n",
    "| セルを下に追加       | `[Ctrl] + [M] → [B]` |\n",
    "| セルのコピー         | `[Ctrl] + [M] → [C]` |\n",
    "| セルの貼り付け       | `[Ctrl] + [M] → [V]` |\n",
    "| セルの消去           | `[Ctrl] + [M] → [D]` |\n",
    "| コメントアウト       | `[Ctrl] + [/]`      |"
   ]
  },
  {
   "cell_type": "markdown",
   "metadata": {},
   "source": [
    "# オブジェクト指向の基礎"
   ]
  },
  {
   "cell_type": "markdown",
   "metadata": {},
   "source": [
    "## オブジェクト指向とは\n",
    "*  データや処理をそれぞれ1つのモノ（オブジェクトと呼ぶ）として定義し，それらを組合わせることで情報システムを開発していく技術・考え方\n",
    "*  情報システム開発において，高い作業効率性，再利用性，保守性を達成するための技術として活用されている\n",
    "*  オブジェクト指向が確立したことで，より使いやすいプログラミング言語や，より精緻なモデル表記方法などが発展してきた\n",
    "*  オブジェクト指向の基本構成要素： オブジェクトとメッセージ\n",
    "\n",
    "\n"
   ]
  },
  {
   "cell_type": "markdown",
   "metadata": {},
   "source": [
    "## オブジェクト指向の起源\n",
    "* オブジェクト指向はプログラミング言語として登場した ⇒ オブジェクト指向プログラミング言語（OOPL: Object Oriented Programming Language）\n",
    "* OOPLを使ってプログラミングすることをオブジェクト指向プログラミング（OOP: Object Oriented Programming）と呼ぶ\n",
    "* OOPLの起源は，1967年に登場したSimula67（シミュラ67）\n",
    "* Simula67を一般化したSmalltalk（スモールトーク）により，オブジェクト指向の考え方が確立される\n",
    "* その後，C++，Java，C#，Ruby，Pythonなど，数多くのOOPLが考案され現在に至る"
   ]
  },
  {
   "cell_type": "markdown",
   "metadata": {},
   "source": [
    "## OOPLが誕生した背景\n",
    "*  プログラミング言語がなかった時代は…\n",
    ">*  機械語によるプログラミングを行っていた ⇒ ごくわずかな人しかプログラム（情報システム）を作成できなかった\n",
    ">*  もっと多くの人がプログラミングできるようにしたい！ ⇒ プログラミング言語（と機械語に翻訳するコンパイラなど）の誕生\n",
    "*  ここから，プログラミング言語が進化・普及してきたがいくつかの新たな問題が生じる\n",
    ">*  何度も繰り返し実行する処理がある ⇒ 処理を再利用できるようにしたい\n",
    ">*  一つのデータを様々な場所から利用することで，プログラムが複雑になり，バグも多く発生するようになる ⇒ データの共有を最小限にしたい\n",
    ">*  `goto`文（指定した場所にジャンプする機能）を多用することによって，可読性が低下する ⇒ `goto`文（プログラミングの自由度）をなくしたい\n",
    "*  そこで，データの利用や処理の流れに制約を置き，プログラム構造の単純化を図った\n",
    "*  これにより，理解しやすく，変更しやすいプログラムになり，効率的な開発や変更のしやすさが実現できるようになった\n",
    "*  しかし，問題がすべて解決されたわけではない\n",
    "*  OOPL以前の問題点:\n",
    ">*  プログラムの一部の機能で一つのデータを共有するしくみがない\n",
    ">*  再利用の機能が貧弱:  開発したシステムの全部を別のシステムで再利用するといった機能がない\n",
    "* OOPLでは，以下のしくみを導入して上記の問題を解決している\n",
    ">*  クラス\n",
    ">*  継承\n",
    ">*  ポリモーフィズム"
   ]
  },
  {
   "cell_type": "markdown",
   "metadata": {},
   "source": [
    "## OOPからシステム開発の総合的な開発技術へと進化\n",
    "* OOPを利用することで，再利用するための部品群やそのアイデアを抽出したデザインパターンへと発展した\n",
    "* OOPをシステム開発の上流工程におけるモデリングに応用することもできる\n",
    "* さらに，OOPを図で表現したものが，代表的なモデリング手法であるUML（Unified Modeling Language）に対応する"
   ]
  },
  {
   "cell_type": "markdown",
   "metadata": {},
   "source": [
    "## オブジェクト\n",
    "*  オブジェクトには，そのオブジェクト固有のデータ（**属性と値**），及び**メソッド**が定義される"
   ]
  },
  {
   "cell_type": "markdown",
   "metadata": {},
   "source": [
    "### 属性と値\n",
    "* オブジェクトは固有の姿・形・性質を持つ ⇒ これを「属性」と呼ぶ\n",
    ">* 属性の例： 氏名，生年月日，電話番号など\n",
    "* オブジェクトは属性に対して固有の具体的な値を持つ\n",
    ">* 値の例：鈴木一郎など\n",
    "* 属性をプロパティと呼ぶこともある\n",
    "\n",
    "<img src=\"./fig/object_property.jpg\" width=\"450\">  "
   ]
  },
  {
   "cell_type": "markdown",
   "metadata": {},
   "source": [
    "### メソッド\n",
    "* 個々のオブジェクトには固有の役割がある ⇒ これを「責務」と呼ぶ\n",
    "* 役割（責務）を果たすためにオブジェクトは固有の処理を行う ⇒ これを「メソッド」と呼ぶ\n",
    "* メソッドは「操作」と呼ぶこともある\n",
    "* メソッドの例: 電話をかける，呼出を受信するなど\n",
    "\n",
    "<img src=\"./fig/object_method.jpg\" width=\"220\">  "
   ]
  },
  {
   "cell_type": "markdown",
   "metadata": {},
   "source": [
    "### メッセージ\n",
    "* 他のオブジェクトへの仕事の依頼をメッセージと呼ぶ\n",
    "* オブジェクトはメッセージ（メソッド名＋データ）を受け取ったら，そのデータを使ってメソッドを実行する\n",
    "* このデータのことを「引数」と呼ぶ\n",
    "* データを受け取らないときもある\n",
    "\n",
    "<img src=\"./fig/object_message.jpg\" width=\"450\">  "
   ]
  },
  {
   "cell_type": "markdown",
   "metadata": {},
   "source": [
    "## オブジェクト指向についての要点まとめ\n",
    "* オブジェクト指向\n",
    ">* 情報システム開発における再利用性や保守性を高めるための考え方\n",
    ">* データと処理を一体化し，1つのモノ（オブジェクトと呼ぶ）として定義\n",
    "* オブジェクトは固有の属性を持つ\n",
    "* オブジェクトは属性に対して固有の具体的な値を持つ\n",
    "* オブジェクトには固有の責務があり，責務を果たすためにメソッド（固有の処理）を持つ\n",
    "* オブジェクトはメッセージ（メソッド名＋データ）を受け取ったら，自分のメソッドを実行する\n"
   ]
  },
  {
   "cell_type": "markdown",
   "metadata": {
    "id": "v2czOonKS7Op"
   },
   "source": [
    "# Colabにおけるコードの実行\n",
    "*   コードセルに記述したPythonのコードは， `[Ctrl] + [Enter]` で実行できる（他のやり方もあるので自分で調べてみる or 試してみる）\n",
    "*   試しに以下のコードを実行してみる ⇒ 実行画面（コードセルの下）に「Hello World!」と表示される\n",
    "*   コードの意味については後述（今は気にしなくてよい）\n",
    "\n"
   ]
  },
  {
   "cell_type": "code",
   "execution_count": null,
   "metadata": {
    "id": "Vxya914GRpE0"
   },
   "outputs": [],
   "source": [
    "print('Hello World!')"
   ]
  },
  {
   "cell_type": "markdown",
   "metadata": {
    "id": "owvCejc_T-CA"
   },
   "source": [
    "# コメント\n",
    "*  コードセルにおいて，半角「`#`」から始まる行はコメント（メモ）になる\n",
    "*  「`#`」以降，その行の終わりまでがコメントになる\n",
    "*  コメントは行頭からでも，行の途中からでも始めることができる\n",
    "*  後でコードを読み返す時や，他の人がコードをみた時などにおいて，そのコードがどのような処理をしているかといった補足説明のために使う\n",
    "*  また，コードの特定箇所の先頭に「`#`」を付けて（コメント化して）一時的に除外することを「コメントアウト」と呼ぶ\n",
    "*  コメントアウトは，すでに記述されたコードを完全に削除するのではなく一時的に無効化し，動作などを確認する場合に行われる\n",
    "*  `[Ctrl] + [/]`でコメントアウトの設定・解除ができる"
   ]
  },
  {
   "cell_type": "code",
   "execution_count": null,
   "metadata": {
    "id": "VmwDvAPJFPaB"
   },
   "outputs": [],
   "source": [
    "# printは括弧内で指定したデータを表示する関数\n",
    "print('Hello World!')"
   ]
  },
  {
   "cell_type": "markdown",
   "metadata": {},
   "source": [
    "# 文字列の取り扱い\n",
    "*  文字列はシングルクオート `'` またはダブルクオート `\"` で囲う\n",
    "*  逆にいうと，シングルクオート `'` またはダブルクオート `\"` で囲われたものは，すべて文字列とみなされる\n",
    "*  本講義ではシングルクオート `'` を基本的に利用する \n",
    "*  文字列は「文字列リテラル」とも呼ばれる\n",
    "\n",
    "**書式**： `'文字列'` または `\"文字列\"`  \n",
    "\n",
    "*  整数や小数などの数値（数値リテラルとも呼ばれる）は，シングルクオート `'` やダブルクオート `\"` で囲わずに記述できる"
   ]
  },
  {
   "cell_type": "markdown",
   "metadata": {},
   "source": [
    "## `print` 関数\n",
    "*  上のコードで使用した `print` はPythonであらかじめ用意してくれている「関数」の1つ\n",
    "*  関数はあらかじめ決めておいた一連の処理のこと\n",
    ">*  関数に引き渡す値のことを引数と呼ぶ\n",
    ">*  関数を使うことを呼び出すという\n",
    ">*  関数が返す値（出力）を戻り値と呼ぶ\n",
    "*  あらかじめ用意されている関数を「組み込み関数」と呼ぶ\n",
    "*  Pythonには多くの組み込み関数が用意されている\n",
    "*  利用者は自由にそれらを使う（呼び出す）ことができる  \n",
    "\n",
    "**例**： `print('Hello World!')` ⇒『文字列「Hello World!」を実行画面に表示しなさい』という意味を持つ命令\n",
    "*  実行画面のことを一般に「標準出力」と呼ぶ"
   ]
  },
  {
   "cell_type": "code",
   "execution_count": null,
   "metadata": {},
   "outputs": [],
   "source": [
    "print('Hello World!')\n",
    "print('Pythonをはじめよう！')\n",
    "print(321)"
   ]
  },
  {
   "cell_type": "markdown",
   "metadata": {},
   "source": [
    "* 複数の関数を呼び出す場合は，上のコードのように行を変えて（改行して）呼び出す\n",
    "* 同じ行で複数の関数を呼び出すとエラーになる"
   ]
  },
  {
   "cell_type": "markdown",
   "metadata": {},
   "source": [
    "### `print`関数の引数\n",
    "* `print`関数は，カンマで区切ることで，複数個の引数を指定できる\n",
    "* 指定した引数の順番で表示され，引数の間には半角スペースが入る"
   ]
  },
  {
   "cell_type": "code",
   "execution_count": null,
   "metadata": {},
   "outputs": [],
   "source": [
    "print('Hello', 'World!', 'Pythonをはじめよう！')"
   ]
  },
  {
   "cell_type": "markdown",
   "metadata": {},
   "source": [
    "### エスケープシーケンスの利用\n",
    "* 下のコードのように，文字列の途中に `\\n` を入れることで改行できる\n",
    "* 「`\\n`」のように「`\\`」 とそれに続く記号からなる文字列をエスケープシーケンスと呼ぶ\n",
    "* Pythonの実行環境によって「`\\`」は「￥」と表示されることもある\n",
    "\n",
    "|代表的なエスケープシーケンス|説明|\n",
    "|:-:|:--|\n",
    "| `\\n` | 改行 |\n",
    "|`\\\\` |「`\\`」(バックスラッシュ) |\n",
    "| `\\'` |「`'`」(シングルクオート) |\n",
    "| `\\\"` |「`\"`」(ダブルクオート) |\n",
    "|`\\t` |タブ|"
   ]
  },
  {
   "cell_type": "code",
   "execution_count": null,
   "metadata": {},
   "outputs": [],
   "source": [
    "print('Hello World!\\nPythonをはじめよう！')\n",
    "print('「\\\\n」は改行を表すエスケープシーケンスです')"
   ]
  },
  {
   "cell_type": "markdown",
   "metadata": {},
   "source": [
    "## 文字列の長さ\n",
    "* 組み込み関数の `len` 関数を使うと文字列（引数）の長さを取得できる"
   ]
  },
  {
   "cell_type": "code",
   "execution_count": null,
   "metadata": {},
   "outputs": [],
   "source": [
    "len('Hello World!')"
   ]
  },
  {
   "cell_type": "markdown",
   "metadata": {},
   "source": [
    "# 算術演算子\n",
    "* 計算（算術演算）するときに使う「`+`」「`-`」「`*`」「`/`」を算術演算子と呼ぶ\n",
    "\n",
    "|算術演算子| 意味 |\n",
    "|:-:|:--|\n",
    "| `+` | 加算 |\n",
    "| `-` | 減算 |\n",
    "| `*` | 乗算 |\n",
    "| `/` | 除算（小数） |\n",
    "| `//` | 除算の商（整数） |\n",
    "| `%` | 除算の余り（整数） |\n",
    "| `**` | べき乗 |\n",
    "\n"
   ]
  },
  {
   "cell_type": "code",
   "execution_count": null,
   "metadata": {},
   "outputs": [],
   "source": [
    "1 + 1"
   ]
  },
  {
   "cell_type": "code",
   "execution_count": null,
   "metadata": {},
   "outputs": [],
   "source": [
    "5.2 - 2"
   ]
  },
  {
   "cell_type": "markdown",
   "metadata": {},
   "source": [
    "* 複数の計算結果を同時に表示したい場合は `print` 関数を使う\n"
   ]
  },
  {
   "cell_type": "code",
   "execution_count": null,
   "metadata": {},
   "outputs": [],
   "source": [
    "print(10 / 4)\n",
    "print(10 // 4)\n",
    "print(10 % 4)"
   ]
  },
  {
   "cell_type": "markdown",
   "metadata": {},
   "source": [
    "* `print` 関数を使わずに，複数の計算式をコードセルに記述した場合は，最後の計算結果だけが表示される"
   ]
  },
  {
   "cell_type": "code",
   "execution_count": null,
   "metadata": {},
   "outputs": [],
   "source": [
    "10 / 4\n",
    "10 // 4\n",
    "10 % 4"
   ]
  },
  {
   "cell_type": "markdown",
   "metadata": {},
   "source": [
    "*  上記のような，`print`関数内に記述した部分のことを「**式**」と呼ぶ\n",
    "*  式とは，演算子（演算を指示するための記号）と，その演算子によって演算されるもの（これを「**オペランド**」と呼ぶ）が並んでいるものを指す\n",
    "*  オペランドは，数値や文字列などのリテラルとなる\n",
    "*  リテラルとは，コード内に記述された具体的な数値リテラルや文字列リテラルのこと\n",
    "*  本講義では，リテラルのことを「値」あるいは「データ」と呼ぶことが多いが，前後の文脈によっては「オブジェクト」「インスタンス」と呼ぶこともある\n",
    "*  インスタンスについては次回以降説明\n",
    "*  多くの場合は，演算子の左右にオペランドを記述する"
   ]
  },
  {
   "cell_type": "markdown",
   "metadata": {},
   "source": [
    "## 算術演算子の優先順位\n",
    "*  式の中に複数の算術演算子が含まれる場合には，優先順位が高いものから順に処理される\n",
    "*  同じ優先順位の算術演算子が複数ある場合は，左にある演算子から処理される\n",
    "\n",
    "| 優先順位 | 算術演算子 |\n",
    "|:-:|:--|\n",
    "| 高 | `**` |\n",
    "| 中 | `*`, `/`, `%` |\n",
    "| 低 | `+`, `-` |\n",
    "\n",
    "*  式中の一部を丸括弧 `()` で囲むと，括弧内の演算から処理される"
   ]
  },
  {
   "cell_type": "code",
   "execution_count": null,
   "metadata": {},
   "outputs": [],
   "source": [
    "print(2 * 2 ** 3)\n",
    "print((5 + 2 - 3) / 2 * 5)"
   ]
  },
  {
   "cell_type": "markdown",
   "metadata": {},
   "source": [
    "* 2つの文字列をオペランドとして `+` を使うと，文字列が連結できる（※ 数値の場合と処理が異なる）"
   ]
  },
  {
   "cell_type": "code",
   "execution_count": null,
   "metadata": {},
   "outputs": [],
   "source": [
    "print('Hello' + ' ' + 'World!')"
   ]
  },
  {
   "cell_type": "markdown",
   "metadata": {},
   "source": [
    "* 文字列と数値をオペランドとして `*` を使うと，文字列の繰り返しができる（※ 数値の場合と処理が異なる）\n",
    "* `文字列 * 数値`，`数値 * 文字列`，どちらでもよい"
   ]
  },
  {
   "cell_type": "code",
   "execution_count": null,
   "metadata": {},
   "outputs": [],
   "source": [
    "print('Hello' * 2)"
   ]
  },
  {
   "cell_type": "markdown",
   "metadata": {},
   "source": [
    "# 比較演算子\n",
    "* 2つの値の大小を比較するための演算子\n",
    "* 演算結果は「`True`」と「`False`」のいずれかの値をとる\n",
    "* このような値を論理型（bool）の値と呼ぶ（詳細は次回説明）\n",
    "* 比較演算子を使った式が正しければ「`True`（真）」で，間違っていれば「`False`（偽）」となる\n",
    "\n",
    "|比較演算子|意味|\n",
    "|:-:|:--|\n",
    "| < | 小さい |\n",
    "| > | 大きい |\n",
    "| <= | 以上 |\n",
    "| >= | 以下 |\n",
    "| == | 等しい |\n",
    "| != | 等しくない |"
   ]
  },
  {
   "cell_type": "code",
   "execution_count": null,
   "metadata": {},
   "outputs": [],
   "source": [
    "print(10 > 10)\n",
    "print(10 >= 10)\n",
    "print(5 == 2)\n",
    "print(5 != 2)\n",
    "print(1 + 1 == 3)"
   ]
  },
  {
   "cell_type": "markdown",
   "metadata": {},
   "source": [
    "# 変数と代入"
   ]
  },
  {
   "cell_type": "markdown",
   "metadata": {},
   "source": [
    "## 変数とは\n",
    "*  変数とは，値を格納するための名前がついた箱のようなもの\n",
    "*  変数に値を格納することを**代入**と呼ぶ\n",
    "*  別の言い方をすると…\n",
    ">*  変数は特定の値を識別するために名前をつける仕組み\n",
    ">*  代入は値に名前をつけること ⇒ **変数の定義** \n",
    "\n",
    "<img src=\"./fig/variable.jpg\" alt=\"変数\" width=\"600\">"
   ]
  },
  {
   "cell_type": "markdown",
   "metadata": {},
   "source": [
    "## 代入の書式\n",
    "* `=` を用いる  \n",
    "\n",
    "**書式**： `変数名 = 値`\n",
    "\n",
    "*  数学的に `左辺 = 右辺` は，左辺と右辺が等しいという意味を持つが，Python では**左辺の変数に右辺の値を代入する**という意味になる\n",
    "  \n",
    "**例**： `text = 'Hello World!'`  \n",
    "\n",
    "*  『`text`という名前の変数に文字列「Hello World!」を格納しろ』という意味"
   ]
  },
  {
   "cell_type": "code",
   "execution_count": null,
   "metadata": {},
   "outputs": [],
   "source": [
    "a = 10\n",
    "print(a)"
   ]
  },
  {
   "cell_type": "code",
   "execution_count": null,
   "metadata": {},
   "outputs": [],
   "source": [
    "x = 5.2\n",
    "print(x + 3.3)"
   ]
  },
  {
   "cell_type": "code",
   "execution_count": null,
   "metadata": {},
   "outputs": [],
   "source": [
    "x = 5\n",
    "y = 2\n",
    "print(x / y)"
   ]
  },
  {
   "cell_type": "code",
   "execution_count": null,
   "metadata": {},
   "outputs": [],
   "source": [
    "text = 'Hello World!'\n",
    "print(text)"
   ]
  },
  {
   "cell_type": "markdown",
   "metadata": {},
   "source": [
    "## 変数には何度も代入できる\n",
    "*  変数への代入は何度もできるが，上書きされることに注意する  \n",
    " \n",
    "<img src=\"./fig/assignment_variable.jpg\" alt=\"変数への代入\" width=\"400\">"
   ]
  },
  {
   "cell_type": "code",
   "execution_count": null,
   "metadata": {},
   "outputs": [],
   "source": [
    "data = 321\n",
    "print(data)\n",
    "data = 100\n",
    "print(data)"
   ]
  },
  {
   "cell_type": "markdown",
   "metadata": {},
   "source": [
    "## 複合代入演算子\n",
    "*  自分自身の変数を使った演算結果を自分自身に代入することもできる\n",
    "\n",
    "> 例1: `x = x + 1`  \n",
    "> 例2: `x = x - 1`  \n",
    "> 例3: `x = x * 0.1`  \n",
    "  \n",
    "*  上記の例は以下のように書くこともできる．  \n",
    "> 例1: `x += 1`  \n",
    "> 例2: `x -= 1`  \n",
    "> 例3: `x *= 0.1`  \n",
    "\n",
    "* このように，算術演算子と代入の`=`を組合わせたものを複合代入演算子と呼ぶ"
   ]
  },
  {
   "cell_type": "code",
   "execution_count": null,
   "metadata": {},
   "outputs": [],
   "source": [
    "a = 10\n",
    "print(a)\n",
    "a = a - 7\n",
    "print(a)\n",
    "a += 5\n",
    "print(a)"
   ]
  },
  {
   "cell_type": "markdown",
   "metadata": {},
   "source": [
    "## アンパック代入\n",
    "*  多くの変数を使ったコードを作成する場合，多くの行が変数への代入になることがある\n",
    "*  このような場合には，複数の変数への代入を1行でまとめて記述する「アンパック代入」を使うと，コードがシンプルになる \n",
    "*  **例1**: `x, y = 1, 3` ⇒ `x`に`1`，`y`に`3`が代入される \n",
    "*  **例2**: `x, y = y, x + y` ⇒ `x`に`y`の値，`y`に`x + y`の演算結果が代入される"
   ]
  },
  {
   "cell_type": "code",
   "execution_count": null,
   "metadata": {},
   "outputs": [],
   "source": [
    "a, b = 5, 10\n",
    "print('a =', a)\n",
    "print('b =', b)\n",
    "a, b = b, a + b\n",
    "print('a =', a)\n",
    "print('b =', b)"
   ]
  },
  {
   "cell_type": "markdown",
   "metadata": {},
   "source": [
    "## 変数名\n",
    "*  変数名は決められた命名ルールの範囲で自由に決めることができる\n",
    "*  変数名の命名ルール\n",
    ">*  半角のアルファベット `a`～`z`, `A`～`Z`, `_`(アンダースコア), 数字の`0`～`9`が使える\n",
    ">*  数字のみの変数名，先頭が数字の変数名は使えない\n",
    ">*  「予約語」と呼ばれる単語は使えない\n",
    ">>*  予約語はPythonの中であらかじめ別の目的で使用することが決まっているもの\n",
    ">>*  予約語（一部）: False, True, def, if, elif, else, import, whileなど\n",
    "*  よい変数名を付けるように心がける⇒ [参考サイト](https://web-camp.io/magazine/archives/117332)\n",
    ">*  変数名をみれば，それがどんな情報かわかるような名前を付けるのが望ましい\n",
    ">*  標準的な命名規則（アッパーキャメルケース，ロワーキャメルケース，スネークケースなど）にしたがって名前をつける\n",
    "*  標準的な命名規則（教科書 p.55）\n",
    ">*  アッパーキャメルケースの例: MyAge, UploadData\n",
    ">*  ロワーキャメルケースの例: myAge, uploadData\n",
    ">*  スネークケース: my_age, upload_data\n",
    "*  コーディング規約のPEP8（後述）では，スネークケースを推奨している"
   ]
  },
  {
   "cell_type": "markdown",
   "metadata": {},
   "source": [
    "## コーディング規約\n",
    "*  コーディング規約とは，プログラマたちが守る書き方や形式に関するルール\n",
    "*  チームやプロジェクト，会社などで決められている\n",
    "*  コーディング規約を作成することのメリット\n",
    ">*  「可読性」「保守性」「品質」を高める\n",
    ">*  誰でも理解できる\n",
    ">*  誰でも修正・追加ができる\n",
    ">*  バグが少ないプログラムを誰でも作れる\n",
    "*  Pythonのコーディング規約： [PEP8（ペップエイト）](https://pep8-ja.readthedocs.io/ja/latest/)"
   ]
  },
  {
   "cell_type": "markdown",
   "metadata": {},
   "source": [
    "# 実習\n",
    "以下の動作をするコードを作成しなさい．\n",
    "\n",
    "**処理手順:**\n",
    "* 変数`x`に任意の整数値を代入\n",
    "* `x`に10を加えた値を表示\n",
    "* `x`を10倍した値を表示\n",
    "* `x`を2乗した値を表示\n",
    "* `x`を2で割った商を表示\n",
    "* `x`を2で割った余りを表示\n",
    "* `x`を2で割った余りが0と等しいかを論理型の値として表示"
   ]
  },
  {
   "cell_type": "code",
   "execution_count": null,
   "metadata": {},
   "outputs": [],
   "source": []
  },
  {
   "cell_type": "markdown",
   "metadata": {},
   "source": [
    "# 参考資料\n",
    "*  [Chainer Tutorials : 01_Welcome_to_Chainer_Tutorial.ipynb](https://colab.research.google.com/github/chainer/tutorials/blob/master/ja/01_Welcome_to_Chainer_Tutorial.ipynb)\n",
    "*  [Chainer Tutorials : 02_Basics_of_Python.ipynb](https://colab.research.google.com/github/chainer/tutorials/blob/master/ja/02_Basics_of_Python.ipynb)\n",
    "*  東京大学, 「[プログラミング入門](https://utokyo-ipp.github.io/)」講義資料, 2024\n",
    "*  平澤章, [オブジェクト指向でなぜつくるのか 第3版](https://bookplus.nikkei.com/atcl/catalog/21/S00180/), 日経BP, 2021\n",
    "*  竹政昭利, 林田幸司, 大西洋平, 三村次朗, 藤本陽啓, 伊藤宏幸, [かんたん UML入門 [改訂2版]](https://gihyo.jp/book/2017/978-4-7741-9039-6), 技術評論社, 2017"
   ]
  }
 ],
 "metadata": {
  "colab": {
   "authorship_tag": "ABX9TyMkXO3Ag0O1a4CuasXPhPub",
   "provenance": []
  },
  "kernelspec": {
   "display_name": "Python 3",
   "language": "python",
   "name": "python3"
  },
  "language_info": {
   "codemirror_mode": {
    "name": "ipython",
    "version": 3
   },
   "file_extension": ".py",
   "mimetype": "text/x-python",
   "name": "python",
   "nbconvert_exporter": "python",
   "pygments_lexer": "ipython3",
   "version": "3.12.5"
  }
 },
 "nbformat": 4,
 "nbformat_minor": 1
}
