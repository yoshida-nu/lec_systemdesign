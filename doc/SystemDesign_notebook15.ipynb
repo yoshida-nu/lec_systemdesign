{
 "cells": [
  {
   "cell_type": "markdown",
   "metadata": {
    "id": "05T5BltsASuv"
   },
   "source": [
    "# オブジェクトとクラス"
   ]
  },
  {
   "cell_type": "markdown",
   "metadata": {},
   "source": [
    "## オブジェクト\n",
    "*  オブジェクトには，そのオブジェクト固有の属性とメソッドが定義される\n",
    "*  メソッドはデータの処理方法\n",
    ">*  例: オブジェクトである文字列を大文字／小文字にする\n",
    "*  オブジェクトは属性に対して固有の具体的な値を持つ\n",
    "*  オブジェクトはメッセージ（メソッド名＋引数）を受け取ったら，自分のメソッドを実行する\n",
    "  \n",
    "<img src=\"./fig/03_example_object.png\" width=\"500\">\n"
   ]
  },
  {
   "cell_type": "markdown",
   "metadata": {},
   "source": [
    "## クラス\n",
    "*  オブジェクトはクラスから生成される\n",
    "*  クラスはオブジェクトの雛形（設計図）のようなもの\n",
    ">* 設計図は，そのクラスのオブジェクトがどのような属性やメソッドを持っているかなどが定義される\n",
    "*  直感的なクラスのイメージ\n",
    ">*  たい焼き機がクラス\n",
    ">*  たい焼き機から作られるたい焼きがオブジェクト\n",
    ">*  たい焼きの中身や形（属性）は色々\n",
    "*  クラスは設計図なので，クラスがあるだけでは実体（オブジェクト）は存在しない\n",
    "*  オブジェクトは，クラスから生成されることで，初めて存在できる\n",
    "*  クラスから生成されたオブジェクトを「インスタンス」と呼ぶ"
   ]
  },
  {
   "cell_type": "markdown",
   "metadata": {},
   "source": [
    "### クラス属性とインスタンス属性\n",
    "*  属性には「クラス属性」と「インスタンス属性」がある\n",
    "*  インスタンス属性とクラス属性は，用途に応じて使い分ける必要がある\n",
    "*  同じクラスから生成されるすべてのインスタンスにおいて，共通する属性値があれば，クラス固有（クラス共通）の属性としてクラス属性を用いる\n",
    "*  インスタンスごとに異なる属性値を持たせる場合は，インスタンス固有の属性としてインスタンス属性を用いる"
   ]
  },
  {
   "cell_type": "markdown",
   "metadata": {},
   "source": [
    "### UMLでのクラスの詳細な記述\n",
    "*  クラスを長方形で表す\n",
    "*  長方形を3つの区画に分割\n",
    ">*  クラス名を記述する「名前区画」\n",
    ">*  属性名を記述する「属性区画」\n",
    ">*  メソッド名を記述する「メソッド区画」\n",
    " \n",
    "<img src=\"./fig/03_UML_class_diagram_detail_templete2.jpg\" width=\"420\">\n",
    "\n",
    "*  属性とメソッドの数は自由\n",
    "*  名前区画以外は省略できる\n",
    "*  メソッドには引数が指定できる\n",
    "*  属性の詳細項目： 可視性，クラス（データ型），初期値\n",
    "*  メソッドの詳細項目： 可視性，引数，戻り値のクラス\n",
    "*  可視性（主なもの）:\n",
    ">*  ＋： パブリック（公開）⇒ 外部からも見られる\n",
    ">*  －： プライベート（非公開）⇒ クラス内部でのみ見られる\n",
    ">*  ＃： プロテクテッド ⇒ 継承したクラスに限定公開（継承は次回以降説明） \n",
    "*  属性の書式： 可視性 属性名： 型 ＝ 初期値\n",
    ">*  初期値が設定されていない場合は省略\n",
    ">*  クラス属性には，下線を引く\n",
    ">*  一方，インスタンス属性には下線を引かない\n",
    "*  メソッドの書式： 可視性 メソッド名(引数: 型 ＝初期値, ・・・)： 型\n",
    ">*  引数に初期値が設定されていない場合は省略\n",
    ">*  引数が複数ある場合はカンマで区切って記述\n",
    ">*  戻り値がない場合は最後の型は省略（もしくは「void」と記述）\n",
    "\n",
    "<img src=\"./fig/03_UML_class_diagram_detail_templete.jpg\" width=\"480\">"
   ]
  },
  {
   "cell_type": "markdown",
   "metadata": {},
   "source": [
    "### クラス図\n",
    "*  クラス図（Class Diagram）とは，UMLにおけるダイアグラムの一種で，システムの設計を視覚的に表現するための図\n",
    "*  システム内のクラスやその間の関係性，クラスが持つ属性やメソッドを示すことで，設計の概要を把握しやすくする役割を持ってる\n",
    "*  クラス間の関係は「関連」と呼ばれ，いくつかの種類がある"
   ]
  },
  {
   "cell_type": "markdown",
   "metadata": {},
   "source": [
    "### 関連の種類\n",
    "*  依存関係（Dependency）:\n",
    ">*  あるクラスが他のクラスを利用して機能する関係\n",
    ">*  一時的な関係であり，クラスのメソッド内で他のクラスのインスタンスやメソッドを使う\n",
    "*  集約（Aggregation）:\n",
    ">*  「部分-全体」の関係\n",
    ">*  あるクラス（全体）が他のクラス（部分）を「所有」している関係\n",
    ">*  部分（部品）となるオブジェクトは，全体が削除されても存在し続ける\n",
    "* コンポジション（Composition）:\n",
    ">*  集約よりも強い「部分-全体」の関係\n",
    ">*  全体が削除されると，部分も一緒に削除される\n",
    "*  継承（Inheritance）:\n",
    ">*  あるクラス（スーパークラスと呼ぶ）の特性（属性やメソッド）を，別のクラス（サブクラスと呼ぶ）が引き継ぐ関係\n",
    ">*  サブクラスはスーパークラスの機能を再利用したり，独自の機能を追加したりできる\n",
    "*  実現関係（Realization Relationship）:\n",
    ">*  インターフェースとインターフェースで定義した抽象メソッドを実装するクラスとの関係"
   ]
  },
  {
   "cell_type": "markdown",
   "metadata": {},
   "source": [
    "# クラスの定義と利用\n",
    "*  Pythonでは，組み込みクラスとして用意されていない独自のクラスを定義して利用することもできる\n",
    "*  クラスを定義する場合は，まず，`class`の直後に半角スペースを入れて，クラス名を記述し，最後にコロン`:`をつける\n",
    "*  クラス名の頭文字は慣例的に大文字で記述する（詳細はPythonのコーディング規約[PEP8](https://pep8-ja.readthedocs.io/ja/latest/)を参照）\n",
    "*  `class`を記述している行を「ヘッダ」と呼ぶ\n",
    "*  ヘッダの下の行に，属性とメソッドを記述する\n",
    "*  この部分をクラスブロックと呼び，インデントしてブロックの範囲を定める\n",
    "\n"
   ]
  },
  {
   "cell_type": "markdown",
   "metadata": {},
   "source": [
    "## クラス属性の定義とアクセス方法\n",
    "*  クラス属性は，クラスを定義するクラスブロックの中に，変数の代入と同様の記述をすることで定義できる ⇒ `クラス属性名 = 値` \n",
    "*  クラス属性は，インスタンスを生成しなくても `クラス名.クラス属性名` でアクセスすることができる（アクセス可能な可視性の場合のみ）"
   ]
  },
  {
   "cell_type": "markdown",
   "metadata": {},
   "source": [
    "## インスタンス化\n",
    "*  クラスからインスタンス（オブジェクト）を生成することを「インスタンス化」と呼ぶ\n",
    "*  インスタンス化は，`クラス名()` と記述する\n",
    "*  一般に，生成したインスタンスは変数に格納して利用される\n",
    "*  その場合は，`変数名 = クラス名()` と記述する（生成したインスタンスに名前を付けていると解釈してよい）\n",
    "*  インスタンスに固有の属性は `インスタンス.属性名` で指定し，メソッドは `インスタンス.メソッド名()` で指定する（引数がある場合は括弧内に引数を指定する）\n",
    "\n"
   ]
  },
  {
   "cell_type": "markdown",
   "metadata": {},
   "source": [
    "### インスタンス属性の定義とアクセス方法\n",
    "*  生成したインスタンスごとに異なる属性の値（インスタンス固有の値）を持たせたい場合にはインスタンス属性を用いる\n",
    "*  このような場合には，「コンストラクタ」と呼ばれるメソッドを利用する"
   ]
  },
  {
   "cell_type": "markdown",
   "metadata": {},
   "source": [
    "### コンストラクタとは\n",
    "*  特殊メソッドの一つで，インスタンス生成時に自動的に呼び出されるメソッドである\n",
    "*  Pythonではコンストラクタの名前は `__init__` と固定されている  "
   ]
  },
  {
   "cell_type": "markdown",
   "metadata": {},
   "source": [
    "## クラス定義の例\n",
    "*  以下のコードでは，アパートの部屋を表現したクラス`ApartmentRoom`を定義している\n",
    "*  `num_rooms`と`lender`がクラス固有の属性（クラス属性）で，「`10`」と「`'Alice'`」は各属性に対する固有の値\n",
    ">*  `num_rooms`は部屋の総数，`lender`は貸主の名前を表している\n",
    "*  `__init__`と`print_person`はメソッド\n",
    ">*  メソッドの定義は関数と同様\n",
    ">*  `__init__`メソッドは特殊メソッドの一つ\n",
    ">*  1つ目の仮引数には必ずインスタンス自身を表す「self」を記述\n",
    "*  コンストラクタ（`__init__`）で2つのインスタンス属性`tenant`と`number`を定義\n",
    ">*  `tenant`は借主の名前，`number`は部屋番号を表している\n",
    "*  `print_person`メソッドは，部屋の借主と部屋番号を表示する機能を持つ\n",
    "\n",
    "<img src=\"./fig/UML_class_ApartmentRoom.jpg\" width=\"350\">"
   ]
  },
  {
   "cell_type": "code",
   "execution_count": 2,
   "metadata": {},
   "outputs": [
    {
     "name": "stdout",
     "output_type": "stream",
     "text": [
      "Name: John / Room Number: 101\n"
     ]
    }
   ],
   "source": [
    "class ApartmentRoom:\n",
    "\n",
    "    num_rooms: int = 10\n",
    "    lender: str = 'Alice'\n",
    "\n",
    "    def __init__(self, tenant: str, number: str) -> None:\n",
    "        self.tenant = tenant\n",
    "        self.number = number\n",
    "\n",
    "    def print_person(self) -> None:\n",
    "        print(f'Name: {self.tenant} / Room Number: {self.number}')\n",
    "\n",
    "\n",
    "persons = ['Bob', 'John']\n",
    "person1 = ApartmentRoom(persons[0], '105')\n",
    "person2 = ApartmentRoom(persons[1], '101')\n",
    "person2.print_person()"
   ]
  },
  {
   "cell_type": "markdown",
   "metadata": {},
   "source": [
    "# ポリモーフィズム"
   ]
  },
  {
   "cell_type": "markdown",
   "metadata": {},
   "source": [
    "## ポリモーフィズムの準備"
   ]
  },
  {
   "cell_type": "markdown",
   "metadata": {},
   "source": [
    "### メソッドと実装\n",
    "*  メソッドに対応する具体的な処理内容を実装と呼ぶ\n",
    "*  メソッドを呼び出す ⇒ そのクラスに定義されている実装が実行される\n",
    "*  実装はクラスで共通\n",
    "*  メソッドは単なる識別子と捉えることができる\n",
    "*  その裏には実装が紐づいている\n",
    "\n",
    "<img src=\"./fig/methods_and_implementation.png\" width=\"300\">  "
   ]
  },
  {
   "cell_type": "markdown",
   "metadata": {},
   "source": [
    "### 抽象クラス： インスタンスを持たないクラス\n",
    "*  情報システムは，クラスからインスタンスを生成することで，様々な機能を実現する\n",
    "*  この場合，クラスはインスタンスを持つことが前提として定義される\n",
    "*  しかし，インスタンスを持たないクラスを考えると便利なことがある\n",
    "*  上の2つの例における，動物クラスと電球クラスは，インスタンスを持たないクラスとなっている\n",
    "*  一般に，同じような機能を持つクラスに対して，インスタンスを持たないクラスをスーパークラスとして定義することで，共通した属性やメソッドをまとめて定義できる\n",
    "*  このような，インスタンスを持たないクラスのことを抽象クラスと呼ぶ\n",
    "*  UMLのクラス図では，抽象クラスの名前は斜体で記述する\n",
    "*  抽象クラスに対して，インスタンスを持つ通常のクラスを具象クラスと呼ぶ\n",
    "*  抽象クラスは，次に説明する抽象メソッドを持つことができる\n"
   ]
  },
  {
   "cell_type": "markdown",
   "metadata": {},
   "source": [
    "### 抽象メソッド： 実装を持たないメソッド\n",
    "*  実装を持たないメソッドのことを抽象メソッドと呼ぶ\n",
    "*  UMLのクラス図では，抽象メソッドを斜体で記述する\n",
    "*  抽象メソッドを定義できるのは抽象クラスのみ\n",
    "*  抽象メソッドの実装は，サブクラスにおいて抽象メソッドをオーバーライドする形で定義する\n",
    "*  抽象クラスは，抽象メソッドだけでなく，実装を持つ通常のメソッドも定義できる（混在を許す）\n",
    "*  一方，具象クラスは，実装を持つ通常のメソッドしか定義できない（抽象メソッドが定義できない）"
   ]
  },
  {
   "cell_type": "markdown",
   "metadata": {},
   "source": [
    "### インターフェース\n",
    "*  オブジェクト指向におけるインターフェースとは，複数クラスの共通の振る舞いを定義する概念\n",
    "*  クラスが実装すべきメソッドの仕様（メソッドの名前，引数，戻り値のクラス（型））を定義したものがインターフェース\n",
    "*  インターフェースでは，具体的な実装は定義しない\n",
    "*  クラスが実現しなければならないメソッドのみが定義された特別なクラス\n",
    "*  オブジェクト指向では，インターフェースと実装を分離することが重要な考え方の一つになる\n",
    ">*  インターフェースを実装するクラスは，共通のメソッドを実装することが強制され，コードの一貫性が保たれる\n",
    ">*  インターフェースを実装するクラスは、どのように動作するかを自由に定義できる\n",
    ">*  外部にはインターフェースだけを公開し，実装は非公開にできるので，外部のオブジェクト（利用者）は実装を気にすることなくメソッドを呼び出すことができるし，実装の変更も容易になる\n",
    "*  インターフェースは，実装を持たない抽象メソッドしか定義されていない（属性や実装を持つメソッドが定義されていない），特別な抽象クラスとしてみることもできる\n"
   ]
  },
  {
   "cell_type": "markdown",
   "metadata": {},
   "source": [
    "## ポリモーフィズムの特徴\n",
    "*  統一された振る舞い: 同じ名前のメソッドを持つが，それが各クラスで異なる動作をする\n",
    "*  コードの再利用性:\n",
    ">*  同じコードを異なるクラスのオブジェクトに対して適用できるため，コードの重複を減らし，汎用的に使用できる\n",
    ">*  共通のメソッドを持つ異なるクラスのオブジェクトに対して同じ処理を行う関数やメソッドを一度定義しておけば，それをさまざまな場面で再利用できる\n",
    "*  拡張性:\n",
    ">* 既存のコード（システム）に影響を与えることなく新しいクラスを追加することができる\n",
    "*  柔軟性:\n",
    ">*  異なるクラスのオブジェクトに対して共通のインターフェースで操作できる（クラスが違っても同じ操作を実行できる）ため，特定のクラスに依存しない汎用的な設計が可能になる\n",
    ">*  これにより，クラスの変更や差し替えが容易になる"
   ]
  },
  {
   "cell_type": "markdown",
   "metadata": {},
   "source": [
    "## ポリモーフィズムの例\n",
    "*  抽象クラス「`Animal`」⇒動物全体を表すクラス\n",
    ">*  共通のインスタンス属性「`_name`」⇒名前を表す属性\n",
    ">*  共通のメソッド（コンストラクタ）「`__init__`」で`_name`属性の値を定義\n",
    ">*  共通のメソッド「`print_name`」⇒名前を表示するメソッド\n",
    ">*  抽象メソッド「`move`」⇒実装はサブクラスで定義\n",
    "*  `Animal`クラスのサブクラス⇒`Bird`クラスと`Fish`クラス\n",
    ">*  `_name`属性，`__init__`メソッド，及び`print_name`メソッドが継承される\n",
    ">*  それぞれのサブクラスで抽象メソッド`move`の実装を定義\n",
    "  \n",
    "<img src=\"./fig/polymorphism_animal.jpg\" width=\"280\">  "
   ]
  },
  {
   "cell_type": "code",
   "execution_count": null,
   "metadata": {
    "id": "7dgf4L1gASu4",
    "outputId": "2a35c1b3-46af-474c-ff66-225c62a447f3"
   },
   "outputs": [
    {
     "name": "stdout",
     "output_type": "stream",
     "text": [
      "Monet\n",
      "Monet is flying\n"
     ]
    }
   ],
   "source": [
    "from abc import ABC, abstractmethod\n",
    "\n",
    "class Animal(ABC):\n",
    "\n",
    "    def __init__(self, name: str) -> None:\n",
    "        self._name = name\n",
    "\n",
    "    def print_name(self) -> None:\n",
    "        print(self._name)\n",
    "\n",
    "    @abstractmethod\n",
    "    def move(self) -> None:\n",
    "        pass\n",
    "\n",
    "class Bird(Animal):\n",
    "\n",
    "    def move(self) -> None:\n",
    "        print(f'{self._name} is flying')\n",
    "\n",
    "class Fish(Animal):\n",
    "\n",
    "    def move(self) -> None:\n",
    "        print(f'{self._name} is swimming')\n",
    "\n",
    "\n",
    "animal_a = Bird('Monet')\n",
    "animal_b = Fish('Arlong')\n",
    "animal_a.print_name()\n",
    "animal_a.move()"
   ]
  },
  {
   "cell_type": "markdown",
   "metadata": {},
   "source": [
    "# 集約とコンポジション\n",
    "*  集約（Aggregation）とコンポジション（Composition）は，オブジェクト指向においてオブジェクト同士の「所有関係」を表現するための設計概念\n",
    "*  どちらも「関連」の一種であるが，オブジェクトの所有権などに違いがある"
   ]
  },
  {
   "cell_type": "markdown",
   "metadata": {},
   "source": [
    "## 集約（Aggregation）\n",
    "*  集約は「部分と全体」の関係を表すが，部分（部品）は全体（集約側）とは独立して存在できる\n",
    "*  つまり，一方のクラスのインスタンス（全体）が他方のクラスのインスタンス（部分）を参照するが，所有権はない\n",
    "*  したがって，全体のインスタンスが破棄されても，部分のインスタンスは影響を受けない\n",
    "*  UMLでは下図のように表現する: 全体と部分のクラスを直線でつなぎ，全体のほうに白いひし形をつける\n",
    "\n",
    "<img src=\"./fig/aggregation_templete.png\" width=\"300\">  \n"
   ]
  },
  {
   "cell_type": "markdown",
   "metadata": {},
   "source": [
    "## コンポジション（Composition）\n",
    "*  コンポジションは，より強い「所有関係」を表しており，ある構成物（全体）を構成している要素（部分）が，その構成物だけに使われる場合の集約\n",
    "*  構成物（全体）に対応するインスタンスだけが，その構成要素（部分）の存在（生成と消滅）の責務を担う\n",
    "*  したがって，一方のクラスのインスタンス（全体）が破棄されると，他方のクラスのインスタンス（部分）も破棄される\n",
    "*  UMLでは下図のように表現する: 全体と部分のクラスを直線でつなぎ，全体のほうに黒いひし形をつける\n",
    "\n",
    "<img src=\"./fig/composition_templete.png\" width=\"300\">  "
   ]
  },
  {
   "cell_type": "markdown",
   "metadata": {},
   "source": [
    "## 集約の例: 学生と大学\n",
    "*  学生 ⇒ `Student`クラス\n",
    "*  大学 ⇒ `University`クラス\n",
    "*  学生（部分）が大学（全体）に所属している関係を表す\n",
    "*  `University`クラスのインスタンス属性`students`はリストで，`Student`クラスのインスタンスを要素として持つ\n",
    "*  大学（全体）が削除されても，学生（部分）は独立して存在できる\n",
    "\n",
    "<img src=\"./fig/aggregation_university.jpg\" width=\"250\">  "
   ]
  },
  {
   "cell_type": "code",
   "execution_count": null,
   "metadata": {
    "id": "oX9KUbsKASu4",
    "outputId": "dd152793-611a-4b4c-90cc-652fdf25ce16"
   },
   "outputs": [
    {
     "name": "stdout",
     "output_type": "stream",
     "text": [
      "John\n",
      "Jane\n"
     ]
    }
   ],
   "source": [
    "class Student:\n",
    "\n",
    "    def __init__(self, name: str) -> None:\n",
    "        self.name = name\n",
    "\n",
    "class University:\n",
    "\n",
    "    def __init__(self) -> None:\n",
    "        self.students: list[Student] = []\n",
    "\n",
    "    def enroll(self, stu: Student) -> None:\n",
    "        self.students.append(stu)\n",
    "\n",
    "stu1 = Student('John')\n",
    "stu2 = Student('Jane')\n",
    "\n",
    "univ = University()\n",
    "univ.enroll(stu1)\n",
    "univ.enroll(stu2)\n",
    "print(univ.students[0].name)\n",
    "print(univ.students[1].name)"
   ]
  },
  {
   "cell_type": "markdown",
   "metadata": {},
   "source": [
    "# SOLID原則とデザインパターン"
   ]
  },
  {
   "cell_type": "markdown",
   "metadata": {},
   "source": [
    "## SOLID原則の概要\n",
    "*  オブジェクト指向プログラミングをする上で，重要となる5つの原則\n",
    ">*  単一責任の原則（**S**ingle Responsibility Principle）\n",
    ">*  開放・閉鎖の原則（**O**pen-Closed Principle）\n",
    ">*  リスコフの置換原則（**L**iskov Substitution Principle）\n",
    ">*  インタフェース分離の原則（**I**nterface Segregation Principle）\n",
    ">*  依存関係逆転の原則（**D**ependency InversionPrinciple\n",
    "*  SOLID原則の遵守によって修正性を向上させることで，保守性を向上する\n",
    ">*  修正性が高くなると，依存関係がシンプルで，モジュール性（システムを独立した部品（モジュール）に分割する能力）が高くなる\n",
    ">*  モジュール性が高くなると，再利用性と試験性（テストしやすさ）も高くなる\n",
    ">*  修正しやすいコードは，解析性（理解しやすさ）も高い"
   ]
  },
  {
   "cell_type": "markdown",
   "metadata": {},
   "source": [
    "## 開放・閉鎖の原則（OCP: Open-Closed Principle）\n",
    "*  情報システム（ソフトウェア）の構成要素（クラス，モジュール，関数など）拡張に対して開かれており，一方，修正・変更に対しては閉じているべきであるという原則\n",
    "*  つまり，既存のコードを変更せずに，新機能を追加できるような設計を目指すべきということ\n",
    "*  開放（Open）: 新しい機能や振る舞いを追加するために，既存のコードを拡張できる状態\n",
    "*  閉鎖（Closed）: 既存のコードを変更する必要がない状態\n",
    "*  この原則に従うことで，バグの発生リスクを低減し，コードの安定性を保つことができる"
   ]
  },
  {
   "cell_type": "markdown",
   "metadata": {},
   "source": [
    "### 開放・閉鎖の原則を遵守するための方法\n",
    "*  開放・閉鎖の原則を遵守するためには，主に抽象化とポリモーフィズムを活用する\n",
    "*  具体的には，抽象クラスやインターフェースを定義し，実装をサブクラスや実装クラスに委譲する\n",
    "*  これにより，新しい機能（クラス）を追加する際に，既存のクラスを変更せずに拡張できる"
   ]
  },
  {
   "cell_type": "markdown",
   "metadata": {},
   "source": [
    "## 依存性逆転の原則（DIP: Dependency Inversion Principle）\n",
    "*  コードの依存関係が抽象だけを参照している\n",
    ">*  抽象とは，抽象クラスやインターフェースと解釈すればよい\n",
    "*  上位のモジュール（クラス）は下位のモジュール（クラス）に直接依存すべきではなく，両者は抽象に依存すべきであるという原則\n",
    "*  抽象に依存する⇒具象に依存しない\n",
    ">*  変化しやすい具象クラスを参照・継承しない\n",
    ">*  具象メソッドをオーバーライドしない"
   ]
  },
  {
   "cell_type": "markdown",
   "metadata": {},
   "source": [
    "### DIPを遵守するための方法\n",
    "*  インターフェースや抽象クラスを使用する\n",
    ">*  上位モジュールと下位モジュールを，共通のインターフェースまたは抽象クラスに依存させる\n",
    ">*  これにより，上位モジュールは，下位モジュールの実装を直接参照しないため，依存性が逆転する\n",
    "*  Dependency Injection（DI: 依存性注入）パターンを使用する\n",
    ">*  DIパターンは，デザインパターンの一つ（GoFのデザインパターンではない）\n",
    ">*  GoFのデザインパターンではないので，ソフトウェア設計における手法・原則として位置づけられることもある\n",
    ">*  必要な下位モジュールを直接作成せずに外部から提供する\n",
    ">*  これにより，上位モジュールが具体的な下位モジュールに依存しなくなる"
   ]
  },
  {
   "cell_type": "markdown",
   "metadata": {},
   "source": [
    "## デザインパターン\n",
    "*  デザインパターンは，情報システム（ソフトウェア）設計において，よく遭遇する問題に効率よく対処するための再利用可能な解決策（ノウハウ集）\n",
    "*  ソフトウェア開発のベストプラクティスとして広く受け入れられている\n",
    "*  23種類の「GoFデザインパターン」が有名だが，それ以外のデザインパターンも数多く存在する\n",
    ">*  GoFデザインパターンとは，1994年に出版された「[Design Patterns: Elements of Reusable Object-Oriented Software](https://github.com/GunterMueller/Books-3/blob/master/Design%20Patterns%20Elements%20of%20Reusable%20Object-Oriented%20Software.pdf)」で紹介された23のデザインパターン\n",
    ">*  著者4名（Erich Gamma, Richard Helm, Ralph Johnson, John Vlissides）が「Gang of Four」と呼ばれるようになったことから，このような呼ばれ方となった\n",
    "*  デザインパターンを理解し適切に適用することで，より効率的で保守性の高い情報システムを開発することができる"
   ]
  },
  {
   "cell_type": "markdown",
   "metadata": {},
   "source": [
    "## SOLID原則とデザインパターンの関係\n",
    "*  SOLID原則はデザインパターンの理解と適用を容易にするための重要な指針となる\n",
    "*  SOLID原則とデザインパターンは相互に補完し合い，堅牢で柔軟な情報システム（ソフトウェア）設計を実現するための基盤を提供する\n",
    "*  SOLID原則を理解していることでデザインパターンの目的や利点をより深く理解できる"
   ]
  },
  {
   "cell_type": "markdown",
   "metadata": {},
   "source": [
    "## Dependency Injection（DI: 依存性注入）パターン\n",
    "*  クラスが直接依存関係（下位モジュール）を生成するのではなく，下位モジュールを外部から注入（提供）する仕組み\n",
    "*  DIパターンにおける注入方法には，コンストラクタ注入やセッター注入などがある\n",
    "*  一般的には，コンストラクタ注入が使われる"
   ]
  },
  {
   "cell_type": "markdown",
   "metadata": {},
   "source": [
    "# Strategyパターン\n",
    "*  Strategy（ストラテジー）はアルゴリズム（処理の手順）\n",
    "*  Strategyパターンは，複数の様々なストラテジーを定義し，それらを動的に交換可能とすることができる（実行時に選択できる）\n",
    "*  Strategyパターンは，アルゴリズムの詳細をカプセル化し，利用者から分離させることができるので，アルゴリズムの交換や拡張を容易にできる\n",
    "*  その結果，コードの再利用性が向上する"
   ]
  },
  {
   "cell_type": "markdown",
   "metadata": {},
   "source": [
    "## Strategyパターンの構成要素\n",
    "*   Strategy: アルゴリズム共通のインターフェース．具体的なアルゴリズムは，すべてこのインターフェースを継承する\n",
    "*   ConcreteStrategy: ストラテジーを実装し，具体的な複数のストラテジーを実装する\n",
    "*   Context: \n",
    ">*   具体的なストラテジーを選択・使用するクラスで，動的にアルゴリズムを設定または交換できるようにする\n",
    ">*   このとき，Contextはアルゴリズムの具体的な実装を知らず，Strategyインターフェースを通じてアルゴリズムにアクセスする\n",
    "\n",
    "<img src=\"./fig/design_patterns_strategy.png\" width=\"550\">\n",
    "  \n",
    "---\n",
    "**基本的な書式:**\n",
    "```Python\n",
    "from abc import ABC, abstractmethod\n",
    "\n",
    "# Strategy\n",
    "class Strategy(ABC):\n",
    "    \n",
    "    @abstractmethod\n",
    "    def execute(self):\n",
    "        pass\n",
    "\n",
    "# ConcreteStrategyA\n",
    "class ConcreteStrategyA(Strategy):\n",
    "    \n",
    "    def execute(self):\n",
    "        ConcreteStrategyAのストラテジー\n",
    "\n",
    "# ConcreteStrategyB\n",
    "class ConcreteStrategyB(Strategy):\n",
    "    \n",
    "    def execute(self):\n",
    "        ConcreteStrategyBのストラテジー\n",
    "\n",
    "# Context\n",
    "class Context:\n",
    "    \n",
    "    def __init__(self, strategy: Strategy):\n",
    "        self.__strategy = strategy\n",
    "\n",
    "    \n",
    "    def perform(self):\n",
    "        self.__strategy.execute() # 具体的なストラテジーの実行\n",
    "```\n",
    "---\n"
   ]
  },
  {
   "cell_type": "markdown",
   "metadata": {},
   "source": [
    "## DIPを活用した設計の例\n",
    "*  この例では，支払い方法（VisaやPaypal）を動的に切り替えられる柔軟なシステムを構築している\n",
    "*  DIPを遵守するために，StrategyパターンやDIパターンを利用している\n",
    "*  `Payment`クラス\n",
    ">*  インターフェース（抽象クラス）として定義\n",
    ">*  抽象メソッドとして，`pay`メソッドを定義 ⇒ 共通化した支払い処理を表現\n",
    ">*  Strategyパターンにおける「Strategy」の役割を果たす\n",
    "*  `Visa`クラス\n",
    ">*  `Payment`クラスを継承したサブクラス\n",
    ">*  `pay`メソッドを実装している\n",
    ">*  このクラスの`pay`メソッドは，クレジットカード（Visaカード）で支払う処理を簡易的に表現している\n",
    ">*  Strategyパターンにおける「ConcreteStrategy」の役割を果たす\n",
    "*  `Paypal`クラス\n",
    ">*  `Payment`クラスを継承したサブクラス\n",
    ">*  `pay`メソッドを実装している\n",
    ">*  このクラスの`pay`メソッドは，Paypalで支払う処理を簡易的に表現している\n",
    ">*  Strategyパターンにおける「ConcreteStrategy」の役割を果たす\n",
    "*  `Member`クラス\n",
    ">*  `Payment`クラスのオブジェクトをインスタンス属性`payment`として持つ ⇒ コンポジション\n",
    ">*  `do`メソッドのなかで，`pay`メソッドを呼び出している（依存関係があるので，クラス図では破線の矢印で結ぶほうが望ましいといえるが，ここでは省略した）\n",
    ">*  Strategyパターンにおける「Context」の役割を果たす\n",
    ">*  具体的な支払い方法である`Visa`クラスや`Paypal`クラスに依存せず，抽象クラス`Payment`に依存しているので，DIPを遵守している\n",
    ">*  支払い方法の依存関係は，コンストラクタ（`__init__`）を通じて注入される ⇒ DIパターンのコンストラクタ注入\n",
    "*  さらに，この設計はOCPも遵守している\n",
    ">*  新しい支払い方法（例えば，ビットコインなど）を追加する場合，`pay`メソッドを実装する新しいクラスを作成するだけで対応可能\n",
    ">*  既存のクラスや他のコードに変更を加える必要がない\n",
    "\n",
    "<img src=\"./fig/design_patterns_strategy_payment1.jpg\" width=\"420\">\n"
   ]
  },
  {
   "cell_type": "code",
   "execution_count": 4,
   "metadata": {
    "colab": {
     "base_uri": "https://localhost:8080/"
    },
    "executionInfo": {
     "elapsed": 317,
     "status": "ok",
     "timestamp": 1735533920967,
     "user": {
      "displayName": "Takahiro YOSHIDA",
      "userId": "00096252480874798687"
     },
     "user_tz": -540
    },
    "id": "FK23vBGlJxid",
    "outputId": "c7e58c7e-1176-4eae-8230-dc4280d07c9f"
   },
   "outputs": [
    {
     "name": "stdout",
     "output_type": "stream",
     "text": [
      "Pay 1000$ by VisaCard.\n",
      "Pay 1000$ by Paypal.\n"
     ]
    }
   ],
   "source": [
    "from abc import ABC, abstractmethod\n",
    "\n",
    "class Payment(ABC):\n",
    "\n",
    "    @abstractmethod\n",
    "    def pay(self, price: int) -> str:\n",
    "        pass\n",
    "\n",
    "class Visa(Payment):\n",
    "\n",
    "    def pay(self, price: int) -> str:\n",
    "        return f'Pay {price}$ by VisaCard.'\n",
    "\n",
    "class Paypal(Payment):\n",
    "\n",
    "    def pay(self, price: int) -> str:\n",
    "        return f'Pay {price}$ by Paypal.'\n",
    "\n",
    "class Member:\n",
    "\n",
    "    def __init__(self, payment: Payment) -> None:\n",
    "        self.payment = payment\n",
    "\n",
    "    def do(self, price: int) -> str:\n",
    "        return self.payment.pay(price)\n",
    "\n",
    "member_a = Member(Visa())\n",
    "member_b = Member(Paypal())\n",
    "print(member_a.do(1000))\n",
    "print(member_b.do(1000))"
   ]
  },
  {
   "cell_type": "markdown",
   "metadata": {},
   "source": [
    "# Factory Methodパターン\n",
    "*  オブジェクトの作成をサブクラスに委ねることで，利用者側（クライアント／別のシステム）を具体的なクラスのインスタンス化から独立させる\n",
    "*  オブジェクトの生成とオブジェクトの具体的な処理（実装）を分離することで（単一責任の原則遵守），柔軟にオブジェクトを利用でき再利用性を高める  \n",
    "*  直感的なイメージ:\n",
    ">*  製品（オブジェクト）を生成する工場（クラス）のテンプレートがある\n",
    ">*  具体的な工場（車工場や船工場）はこのテンプレートに基づいて作られる\n",
    ">*  これらの具体的な工場から製品が生成される\n",
    "*  具体的には，インターフェースで処理の骨組みを作り，サブクラスを用いてオブジェクトを作成する\n",
    "*  サブクラスに応じて，作成されるオブジェクトのタイプを変える "
   ]
  },
  {
   "cell_type": "markdown",
   "metadata": {},
   "source": [
    "## Factory Methodパターンの構成要素\n",
    "*  Product:\n",
    ">*  生成されるオブジェクトの構成要素を定義するインターフェースまたは抽象クラス\n",
    ">*  具体的な構成要素は, サブクラス（具象クラス）のConcreteProductで定義\n",
    "*  ConcreteProduct:\n",
    ">*  Productインターフェースを実装する具体的なクラス（複数作成）\n",
    "*  Creator:\n",
    ">*  Productのオブジェクト（インスタンス）を生成する処理を定義したインターフェース\n",
    ">*  具体的な生成処理については, サブクラス（具象クラス）のConcreteCreatorで定義\n",
    "*  ConcreteCreator:\n",
    ">*  Creatorクラスを継承し，Creatorを具体化するクラス\n",
    ">*  ConcreteProductのオブジェクト（インスタンス）を生成する具体的な処理を定義したクラス\n",
    "\n",
    "\n",
    "<!-- <img src=\"./fig/design_patterns_factorymethod.png\" width=\"400\"> -->"
   ]
  },
  {
   "cell_type": "markdown",
   "metadata": {},
   "source": [
    "## Factory Methodパターンの例\n",
    "*  この例では，動的に通知オブジェクト（メールとSMS）を生成し，異なるメッセージ通知方法を実現している\n",
    "*  `NotificationFactory`クラス ⇒ Creator\n",
    ">*  インターフェース（抽象クラス）として定義\n",
    ">*  抽象メソッドとして`create`メソッドを定義 ⇒ 共通化したインスタンス化（通知オブジェクト生成）処理を表現\n",
    ">*  具体的なインスタンス化処理は，サブクラスで実装する\n",
    "\n",
    "*  `Notification`クラス ⇒ Product\n",
    ">*  抽象クラスとして定義\n",
    ">*  抽象メソッドとして`notify`メソッドを定義 ⇒ 共通化した通知処理を表現\n",
    ">*  `notify`メソッドでは，引数として受け取ったメッセージ（`str`）を通知する機能を持つ\n",
    ">*  具体的な通知処理は，サブクラスで実装する\n",
    "\n",
    "*  `EmailNotification`クラス ⇒ ConcreteProduct\n",
    ">*  `Notification`クラスを継承したサブクラス\n",
    ">*  `notify`メソッドを，メール通知の処理として実装する\n",
    ">*  コードでは，メール通知処理を簡易的に表現している\n",
    "\n",
    "*  `SMSlNotification`クラス  ⇒ ConcreteProduct\n",
    ">*  `Notification`クラスを継承したサブクラス\n",
    ">*  `notify`メソッドを，SMS通知の処理として実装する\n",
    ">*  コードでは，SMS通知処理を簡易的に表現している\n",
    "\n",
    "*  `EmailNotificationFactory`クラス ⇒ ConcreteCreator\n",
    ">*  `NotificationFactory`クラスを継承したサブクラス\n",
    ">*  `create`メソッドを，`EmailNotification`クラスのインスタンス化処理として実装する\n",
    "\n",
    "*  `SMSlNotificationFactory`クラス  ⇒ ConcreteCreator\n",
    ">*  `NotificationFactory`クラスを継承したサブクラス\n",
    ">*  `create`メソッドを，`SMSNotification`クラスのインスタンス化処理として実装する\n",
    "\n",
    "*  `send_notification`関数\n",
    ">*  実際に通知処理を行うクライアント\n",
    ">*  `NotificationFactory`クラス（Creator）のオブジェクトを引数として受け取る\n",
    ">*  受け取ったオブジェクトの`create`メソッドを呼び出して，通知オブジェクト（`Notification`クラス（Product）のオブジェクト）を生成する\n",
    ">*  生成された通知オブジェクトの`notify`メソッドを呼び出して，通知処理を実行する\n",
    "\n",
    "*  この例のように，Factory Methodパターンは，具体的な通知オブジェクトの生成を利用者（クライアント／他のシステム）から隠蔽し，通知方法に応じたオブジェクトを動的に生成している\n",
    "*  これにより，柔軟かつ拡張可能な設計を実現する\n",
    "*  Factory Methodパターンは，オブジェクトの作成プロセスが複雑な場合や，利用者側で利用するオブジェクトが属するクラスの詳細を知らなくてもよい場合に特に有効に働く\n",
    "\n",
    "\n",
    "<img src=\"./fig/design_patterns_factorymethod_notification.jpg\" width=\"800\">"
   ]
  },
  {
   "cell_type": "code",
   "execution_count": 1,
   "metadata": {
    "colab": {
     "base_uri": "https://localhost:8080/"
    },
    "executionInfo": {
     "elapsed": 400,
     "status": "ok",
     "timestamp": 1735535186322,
     "user": {
      "displayName": "Takahiro YOSHIDA",
      "userId": "00096252480874798687"
     },
     "user_tz": -540
    },
    "id": "oU3fVul_RMju",
    "outputId": "8e2717f7-8ead-4459-b885-13191783ac07"
   },
   "outputs": [
    {
     "name": "stdout",
     "output_type": "stream",
     "text": [
      "メール通知: これはメール通知のメッセージです\n",
      "SMS通知: これはSMS通知のメッセージです\n"
     ]
    }
   ],
   "source": [
    "from abc import ABC, abstractmethod\n",
    "\n",
    "class NotificationFactory(ABC):\n",
    "\n",
    "    @abstractmethod\n",
    "    def create(self) -> 'Notification':\n",
    "        pass\n",
    "\n",
    "class Notification(ABC):\n",
    "\n",
    "    @abstractmethod\n",
    "    def notify(self, message: str) -> None:\n",
    "        pass\n",
    "\n",
    "class EmailNotification(Notification):\n",
    "\n",
    "    def notify(self, message: str) -> None:\n",
    "        print(f'メール通知: {message}')\n",
    "\n",
    "class SMSNotification(Notification):\n",
    "\n",
    "    def notify(self, message: str) -> None:\n",
    "        print(f'SMS通知: {message}')\n",
    "\n",
    "class EmailNotificationFactory(NotificationFactory):\n",
    "\n",
    "    def create(self) -> EmailNotification:\n",
    "        return EmailNotification()\n",
    "\n",
    "class SMSNotificationFactory(NotificationFactory):\n",
    "\n",
    "    def create(self) -> SMSNotification:\n",
    "        return SMSNotification()\n",
    "\n",
    "def send_notification(factory: NotificationFactory, message: str) -> None:\n",
    "    notification = factory.create()\n",
    "    notification.notify(message)\n",
    "\n",
    "# メール通知を送信\n",
    "email_factory = EmailNotificationFactory()\n",
    "send_notification(email_factory, 'これはメール通知のメッセージです')\n",
    "\n",
    "# SMS通知を送信\n",
    "sms_factory = SMSNotificationFactory()\n",
    "send_notification(sms_factory, 'これはSMS通知のメッセージです')\n"
   ]
  },
  {
   "cell_type": "markdown",
   "metadata": {
    "id": "jPXbPC8gASu_"
   },
   "source": [
    "# 参考資料\n",
    "*  Robert C.Martin (著), 角征典 (翻訳), 高木正弘 (翻訳), [Clean Architecture 達人に学ぶソフトウェアの構造と設計](https://www.kadokawa.co.jp/product/301806000678/), KADOKAWA, 2018.\n",
    "*  ひらまつしょうたろう, [Python で身につける オブジェクト指向【SOLID原則+デザインパターンで、オブジェクト指向設計 の基礎を習得！】](https://www.udemy.com/course/python-solid-design-pattern/?couponCode=KEEPLEARNING), Udemy, 最終更新日 2024/6.\n",
    "*  Mark Summerfield (著), 斎藤康毅 (訳), [実践 Python 3](https://www.oreilly.co.jp/books/9784873117393/), オライリージャパン, 2015.\n",
    "<!-- *  Bill Lubanovic (著), 鈴木駿 (監訳), 長尾高弘 (訳), [入門 Python 3 第2版](https://www.oreilly.co.jp/books/9784873119328/), オライリージャパン, 2021. -->\n",
    "<!-- *  Guido van Rossum (著), 鴨澤眞夫 (翻訳), [Pythonチュートリアル 第4版](https://www.oreilly.co.jp/books/9784873119359/), オライリージャパン, 2021. -->\n",
    "\n"
   ]
  }
 ],
 "metadata": {
  "colab": {
   "provenance": []
  },
  "kernelspec": {
   "display_name": "base",
   "language": "python",
   "name": "python3"
  },
  "language_info": {
   "codemirror_mode": {
    "name": "ipython",
    "version": 3
   },
   "file_extension": ".py",
   "mimetype": "text/x-python",
   "name": "python",
   "nbconvert_exporter": "python",
   "pygments_lexer": "ipython3",
   "version": "3.9.18"
  }
 },
 "nbformat": 4,
 "nbformat_minor": 0
}
