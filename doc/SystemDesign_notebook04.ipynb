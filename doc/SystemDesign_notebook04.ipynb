{
 "cells": [
  {
   "cell_type": "markdown",
   "metadata": {},
   "source": [
    "# クラス属性とインスタンス属性\n",
    "* クラスの属性には，「クラス属性」と「インスタンス属性」がある\n",
    "* 前回はこれらの違いを気にしてなかったので，今回はこれらの違いや使い方について学習する"
   ]
  },
  {
   "cell_type": "markdown",
   "metadata": {},
   "source": [
    "## クラス属性"
   ]
  },
  {
   "cell_type": "markdown",
   "metadata": {},
   "source": [
    "### クラス属性の例: `Hero`クラス\n",
    "* 前回と同様に，以下のコードについて考える\n",
    "* コードの内容の詳細は，[第3回講義資料](https://colab.research.google.com/github/yoshida-nu/lec_systemdesign/blob/main/doc/SystemDesign_notebook03.ipynb)を参照する\n",
    "* 実行結果からわかるように，2つのインスタンスは同じ属性の値を共有してしまっている\n",
    "* これは，`__name`と`__hp`をクラス属性として定義していることが原因"
   ]
  },
  {
   "cell_type": "code",
   "execution_count": null,
   "metadata": {},
   "outputs": [],
   "source": [
    "class Hero:\n",
    "    __name = '太郎' # 属性（プライベート）\n",
    "    __hp = 100 # 属性（プライベート）\n",
    "\n",
    "    def sleep(self, hours): # メソッド（パブリック）\n",
    "        print(f'{Hero.__name}は{hours}時間寝た!')\n",
    "        Hero.__hp += hours\n",
    "        print(f'{Hero.__name}の現在のHP: {Hero.__hp}')\n",
    "\n",
    "h = Hero() # インスタンス化\n",
    "h.sleep(3) # メソッドの呼び出し\n",
    "\n",
    "h2 = Hero() # インスタンス化\n",
    "h2.sleep(10) # メソッドの呼び出し"
   ]
  },
  {
   "cell_type": "markdown",
   "metadata": {},
   "source": [
    "### クラス属性とは\n",
    "* 同じクラスから生成されるすべてのインスタンス（オブジェクト）で共通の属性を**クラス属性**（またはクラス変数）と呼ぶ\n",
    "* 同じクラスから生成されるすべてのインスタンスにおいて，共通する属性値があれば，クラス固有（クラス共通）の属性としてクラス属性を用いる\n",
    "* 上のコード例における，`__name`と`__hp`はクラス属性として定義されている\n",
    "* しかし，`Hero`クラスのインスタンス（いろんなヒーロー）は，それぞれ名前もHPも違うので，`__name`と`__hp`は，すべてのインスタンスで共通ではなく，インスタンスごとに異なる属性値を持たせるべき\n",
    "* よって，`__name`と`__hp`をクラス属性として定義するのは適切ではない"
   ]
  },
  {
   "cell_type": "markdown",
   "metadata": {},
   "source": [
    "### クラス属性の定義とアクセス方法\n",
    "* クラス属性は，クラスを定義するクラスブロックの中に，変数の代入と同様の記述をすることで定義できる ⇒ `属性名 = 値`\n",
    "* クラス属性は，インスタンスを生成しなくても `クラス名.クラス属性名` でアクセスすることができる（アクセス可能な可視性の場合のみ）\n",
    "* よって，クラス属性の参照先はクラスにあるが，インスタンスからもアクセスできる ⇒ `インスタンス名.クラス属性名`でもアクセス可\n",
    "* ただし，インスタンス側で同名の属性を代入すると「インスタンス専用の属性（インスタンス属性）」が新たに作られて，クラス属性とは別物になることに注意する\n",
    "* つまり，クラス定義の外部で`インスタンス名.クラス属性名 = 値`を実行すると，ここで代入した値がインスタンス専用の新規属性となる（同じ名前のクラス属性とインスタンス属性が存在）"
   ]
  },
  {
   "cell_type": "code",
   "execution_count": null,
   "metadata": {},
   "outputs": [],
   "source": [
    "class Counter:\n",
    "    count = 0 # クラス属性\n",
    "c = Counter()\n",
    "c.count += 1 # インスタンス属性\n",
    "print(f'c.count: {c.count}')\n",
    "print(f'Counter.count: {Counter.count}')"
   ]
  },
  {
   "cell_type": "markdown",
   "metadata": {},
   "source": [
    "## インスタンス属性"
   ]
  },
  {
   "cell_type": "markdown",
   "metadata": {},
   "source": [
    "### インスタンス属性とは\n",
    "* 同じクラスから生成される個々のインスタンスが固有の属性値をそれぞれ保有する場合，その属性を**インスタンス属性**（またはインスタンス変数）と呼ぶ\n",
    "* `Hero`クラスの例の場合，`__name`と`__hp`はクラス属性ではなく，後述する`Hero`クラスの例のようにインスタンス属性として定義されるべき"
   ]
  },
  {
   "cell_type": "markdown",
   "metadata": {},
   "source": [
    "### インスタンス属性の定義とアクセス方法\n",
    "* インスタンス属性は，通常は`__init__`メソッドの中で，`self.インスタンス属性名 = 値` として定義する\n",
    "* `__init__`メソッドは，一般に「**コンストラクタ**」と呼ばれる特殊メソッドの一つ\n",
    "* インスタンス化した後は，`インスタンス名.インスタンス属性名`でアクセスできる\n",
    "* ただし，可視性（プライベートなど）によってはアクセスできない場合もある"
   ]
  },
  {
   "cell_type": "markdown",
   "metadata": {},
   "source": [
    "### インスタンス化とコンストラクタ\n",
    "* コンストラクタとは，インスタンス化したときに自動的に呼び出されるメソッド\n",
    "* Pythonではコンストラクタの名前が「`__init__`」と決められている\n",
    "* コンストラクタの仮引数に，インスタンス属性の値を渡すので，インスタンス属性の定義を忘れてしまうといったことも防げる\n",
    "* また，インスタンス属性が複数ある場合は，まとめて定義できるので，コードがシンプルになる\n",
    "* 後述する`Hero`クラスの例では，`self.__name` や `self.__hp` がインスタンス属性となる"
   ]
  },
  {
   "cell_type": "markdown",
   "metadata": {},
   "source": [
    "### インスタンス属性の例: `Hero`クラス"
   ]
  },
  {
   "cell_type": "code",
   "execution_count": null,
   "metadata": {},
   "outputs": [],
   "source": [
    "class Hero:\n",
    "    def __init__(self, a, b=100): # コンストラクタ\n",
    "        self.__name = a # インスタンス属性\n",
    "        self.__hp = b # インスタンス属性（デフォルト値は100）\n",
    "\n",
    "    def sleep(self, hours):\n",
    "        print(f'{self.__name}は{hours}時間寝た!')\n",
    "        self.__hp += hours\n",
    "        print(f'{self.__name}の現在のHP: {self.__hp}')\n",
    "\n",
    "h = Hero('太郎', 150) # インスタンス化\n",
    "h.sleep(3) # メソッドの呼び出し\n",
    "\n",
    "h2 = Hero('花子') # インスタンス化\n",
    "h2.sleep(10) # メソッドの呼び出し"
   ]
  },
  {
   "cell_type": "markdown",
   "metadata": {},
   "source": [
    "### 引数`self`\n",
    "*  メソッド（コンストラクタを含む）を呼び出す際には，必ずその対象となるインスタンスが存在する\n",
    "*  すべてのメソッド（コンストラクタを含む）は，第1引数として，呼び出し先のインスタンスを指定する\n",
    "*  ただし，呼び出す際には省略することができる\n",
    "*  インスタンスを受け取る仮引数の名前は，慣例で`self`としている\n",
    "*  仮引数の名前は`self`ではなくても構わないが，保守性を高めるために，慣例として`self`が使われている\n",
    "*  この`self`にインスタンスを渡すことで，そのインスタンスのメソッドを呼び出すことができる  \n",
    "*  上のコードで「`h.sleep(3)`」と呼び出したときの`self`には`h`が渡されていることになる\n",
    "*  このときの `sleep`メソッドにおける`self.name`は，`h.name`（インスタンス`h`の`name`属性），つまり「太郎」となる\n",
    "*  一方，「`h2.sleep(10)`」と呼び出したときの`self`には`h2`が渡されるので，`sleep`メソッドにおける`self.name`は，`h2.name`，つまり「花子」となる\n",
    "*  なお，本講義における講義資料内のUMLの図では，基本的に`self`の記述を省略する\n"
   ]
  },
  {
   "cell_type": "markdown",
   "metadata": {},
   "source": [
    "## UMLでの記述\n",
    "*  UML（クラス図）ではクラス属性には，下線を引く\n",
    "*  一方，インスタンス属性には下線を引かない\n",
    "*  前回までの図では，厳密にクラス属性とインスタンス属性を区別していなかったが，以降では区別して記述する\n",
    "*  クラス属性を使った`Hero`クラスは，下図のように表すことができる（引数`self`は省略）\n",
    "\n",
    "<img src=\"./fig/Hero_class_03.jpg\" width=\"250\">"
   ]
  },
  {
   "cell_type": "markdown",
   "metadata": {},
   "source": [
    "## コード例: `Circle`クラス\n",
    "<img src=\"./fig/05_CircleClass.jpg\" width=\"230\">"
   ]
  },
  {
   "cell_type": "code",
   "execution_count": null,
   "metadata": {},
   "outputs": [],
   "source": [
    "class Circle:\n",
    "    \n",
    "    __pi = 3.14 # 円周率: プライベートなクラス属性\n",
    "\n",
    "    def __init__(self, r):\n",
    "        self.radius = r # 半径: インスタンス属性\n",
    "\n",
    "    def length(self): # 円周の長さを返す\n",
    "        return self.radius * 2 * Circle.__pi\n",
    "\n",
    "    def area(self): # 円の面積を返す\n",
    "        return self.radius ** 2 * Circle.__pi\n",
    "\n",
    "#__piにアクセスしようとするとエラーになる\n",
    "# print(Circle2.__pi)\n",
    "\n",
    "c = Circle(5)\n",
    "print(c.radius) #インスタンス属性には外部からアクセスできる\n",
    "print(c.area())"
   ]
  },
  {
   "cell_type": "markdown",
   "metadata": {},
   "source": [
    "# 型ヒント（Type Hinting）\n",
    "*  Pythonでは，引数や戻り値，変数のクラスを指定しなくても動作する\n",
    "*  例えば，以下のコードで定義している`add_two_integers`関数は，引数として2つの整数値を受け取ると，それらの和を戻り値として返すが，引数や戻り値のクラスは指定していない\n",
    "*  しかし，コードを見ただけでは，引数にどのクラスのオブジェクトを渡すのか， どのクラスの戻り値が返ってくるのかがわからない\n",
    "*  よって，コードからでは，その仕様がわからない\n",
    "*  加えて，オブジェクトのクラスの取り扱いに関するミスも起こりやすくなる\n",
    "  \n",
    "---\n",
    "```Python\n",
    "def add_two_integers(a, b):\n",
    "    return a + b\n",
    "```\n",
    "---\n",
    " \n",
    "*  Pythonの型ヒント（Type Hinting）は，関数の引数や戻り値，変数がどのような型（クラス）であるかを明示するためのしくみ\n",
    "*  型ヒント自体はプログラムの動作に影響を与えないが，オブジェクトのクラス（データ型）の取り扱いミスが見つけやすくなり，コードの可読性や保守性を高める効果がある\n",
    "*  また，Google Coaboratoryなどの開発環境における補完機能やエラーチェックが強化され，開発がスムーズになる\n",
    "*  【参考】mypyモジュールを使うと，Pythonコードを解析し，コード内で取り扱っているクラスの整合性がチェックできる（[mypy公式ドキュメント](https://mypy.readthedocs.io/)）\n",
    "*  また，型ヒントによって，UMLの図で記述した引数や戻り値のクラスをコードに対応付けることもできる"
   ]
  },
  {
   "cell_type": "markdown",
   "metadata": {},
   "source": [
    "## 変数の型ヒント\n",
    "*  変数に型ヒントを付ける場合は，変数名の後にコロン「`:`」とクラスを記述する\n",
    "  \n",
    "---\n",
    "```Python\n",
    "変数名: クラス = 値\n",
    "```\n",
    "---"
   ]
  },
  {
   "cell_type": "code",
   "execution_count": null,
   "metadata": {},
   "outputs": [],
   "source": [
    "age: int = 25\n",
    "name: str = 'Alice'\n",
    "height: float = 1.75\n",
    "is_student: bool = True"
   ]
  },
  {
   "cell_type": "markdown",
   "metadata": {},
   "source": [
    "## 関数（メソッド）の型ヒント\n",
    "*  引数は変数と同様に，仮引数名の後にコロン「`:`」とクラスを記述する\n",
    "*  戻り値は，関数定義の最後（コロン「`:`」の直後）に矢印「`->`」とクラスを記述する\n",
    "*  メソッドの型ヒントも同様に記述する\n",
    "  \n",
    "---\n",
    "```Python\n",
    "def 関数名(引数1:クラス, 引数2:クラス, ...) -> 戻り値のクラス:\n",
    "    処理\n",
    "```\n",
    "---"
   ]
  },
  {
   "cell_type": "code",
   "execution_count": null,
   "metadata": {},
   "outputs": [],
   "source": [
    "def greet(name: str) -> str:\n",
    "    return f'Hello, {name}!'\n",
    "\n",
    "your_name: str = 'Hanako'\n",
    "\n",
    "print(greet(your_name))"
   ]
  },
  {
   "cell_type": "markdown",
   "metadata": {},
   "source": [
    "*  戻り値がない場合には，`None`と記述する\n",
    "*  メソッドの場合も同様"
   ]
  },
  {
   "cell_type": "code",
   "execution_count": null,
   "metadata": {},
   "outputs": [],
   "source": [
    "def show_greet(name: str) -> None:\n",
    "    print(f'Hello, {name}!')\n",
    "\n",
    "your_name: str = 'Taro'\n",
    "\n",
    "show_greet(your_name)"
   ]
  },
  {
   "cell_type": "markdown",
   "metadata": {},
   "source": [
    "## コンテナオブジェクトの型ヒント\n",
    "*  リスト（`list`）やタプル（`tuple`）などの，コンテナオブジェクトの型ヒントでは，コンテナのクラスと要素のクラスをそれぞれ指定する\n",
    "* 書式（リストやタプルの場合）: `変数名: クラス[要素のクラス] = 値`\n",
    "* 書式（ディクショナリの場合）: `変数名: dict[キーのクラス, 値のクラス] = 値`\n"
   ]
  },
  {
   "cell_type": "code",
   "execution_count": null,
   "metadata": {},
   "outputs": [],
   "source": [
    "numbers: list[int] = [1, 2, 3]\n",
    "scores: dict[str, int] = {'Alice': 90, 'Bob': 85}"
   ]
  },
  {
   "cell_type": "markdown",
   "metadata": {},
   "source": [
    "## 独自クラスの型ヒント\n",
    "*  独自に定義したクラスを型ヒントとして記述することもできる\n",
    "*  引数`self`は暗黙的にそのクラスが分かるので，一般には型ヒントは記述しない"
   ]
  },
  {
   "cell_type": "code",
   "execution_count": null,
   "metadata": {},
   "outputs": [],
   "source": [
    "class MyClass:\n",
    "    def __init__(self, value: str) -> None: \n",
    "        self.value = value\n",
    "\n",
    "def print_myclass_value(obj: MyClass) -> None: # 引数はMyClassクラスのオブジェクト\n",
    "    print(obj.value)\n",
    "\n",
    "obj: MyClass = MyClass('Class 1')\n",
    "print_myclass_value(obj)"
   ]
  },
  {
   "cell_type": "markdown",
   "metadata": {},
   "source": [
    "## typingモジュール\n",
    "*  Pythonのtypingモジュールは，標準ライブラリに含まれるモジュールで，型ヒントを実現するために用いられる\n",
    "*  typingモジュールを使うと，これまでに説明した型ヒントの記述例よりも，さらに高度な型ヒントが表現できる\n",
    "*  具体的には，typingモジュール内に用意されている，型ヒントを定義するための構造を使って型ヒントを記述する\n",
    "*  型ヒントを定義するための構造には，`Union`，`Optional`，`Any`などがある\n",
    "*  これらの構造を使う場合は，`from typing import 構造`と記述してインポートする必要がある"
   ]
  },
  {
   "cell_type": "markdown",
   "metadata": {},
   "source": [
    "### `Union`を使った型ヒント\n",
    "*  例えば，引数が`int`か`str`のいずれかの場合など，複数の異なるクラスを受け入れたい場合は`Union`を使う\n",
    "*  `Union`は`from typing import Union`でインポートする\n",
    "  \n",
    "書式:\n",
    "```Python\n",
    "Union[クラス1, クラス2, ...]\n",
    "```\n",
    "\n",
    "*  以下のコードで定義している`process`関数は，`int`と`str`のどちらかを引数として受け取る"
   ]
  },
  {
   "cell_type": "code",
   "execution_count": null,
   "metadata": {},
   "outputs": [],
   "source": [
    "from typing import Union\n",
    "\n",
    "def process(value: Union[int, str]) -> None:\n",
    "    print(value)\n",
    "\n",
    "process(5)\n",
    "process('Hello')"
   ]
  },
  {
   "cell_type": "markdown",
   "metadata": {},
   "source": [
    "### `Optional`を使った型ヒント\n",
    "*  ある引数や戻り値，変数が`None`，または特定のクラスに属することを表す場合は，`Optional`を使う\n",
    "*  `Optional`は`from typing import Optional`でインポートする\n",
    "  \n",
    "書式:\n",
    "```Python\n",
    "Optional[クラス]\n",
    "```\n",
    "\n",
    "*  以下のコードで定義している`find_user`関数の戻り値は，引数が1の場合は，`str`のAliceを返し，それ以外の場合は`None`を返す\n",
    "*  `Optional[int]`は，`Union[int, None]`の省略形になっている"
   ]
  },
  {
   "cell_type": "code",
   "execution_count": null,
   "metadata": {},
   "outputs": [],
   "source": [
    "from typing import Optional\n",
    "\n",
    "def find_user(user_id: int) -> Optional[str]:\n",
    "    if user_id == 1:\n",
    "        return 'Alice'\n",
    "    else:\n",
    "        return None\n",
    "    \n",
    "print(find_user(1))\n",
    "print(find_user(2))"
   ]
  },
  {
   "cell_type": "markdown",
   "metadata": {},
   "source": [
    "### `Any`を使った型ヒント\n",
    "*  どんな型でも受け入れることを表す場合は，`Any`を使う\n",
    "*  `Any`は`from typing import Any`でインポートする\n",
    "*  以下のコードで定義している`log`関数の仮引数`message`は，任意のクラスのオブジェクトを受け取る"
   ]
  },
  {
   "cell_type": "code",
   "execution_count": null,
   "metadata": {},
   "outputs": [],
   "source": [
    "from typing import Any\n",
    "\n",
    "def log(message: Any) -> None:\n",
    "    print(message)"
   ]
  },
  {
   "cell_type": "markdown",
   "metadata": {},
   "source": [
    "### `Callable`をつかった型ヒント\n",
    "*  関数などの呼び出し可能なオブジェクトのクラスを指定する場合は，`Callable`を使う\n",
    "*  `Callable`は`from typing import Callable`でインポートする\n",
    "* 書式: `Callable[[引数のクラス], 戻り値のクラス]`\n",
    "* 引数のクラスが何でもよい場合は，`Callable[..., 戻り値のクラス]`とする\n",
    "*  以下のコードで定義している`apply_func`関数の仮引数`f`に対する型ヒントに`Callable`を使っている\n",
    "*  仮引数`f`は，「2つの`int`クラスのオブジェクトを引数として受け取り，`int`クラスのオブジェクトを返す関数」を受け取る\n",
    "*  `add`関数は，型ヒントで指定した関数に当てはまるので，引数として渡すことができる"
   ]
  },
  {
   "cell_type": "code",
   "execution_count": null,
   "metadata": {},
   "outputs": [],
   "source": [
    "from typing import Callable\n",
    "\n",
    "def apply_func(f: Callable[[int, int], int], x: int, y: int) -> int:\n",
    "    return f(x, y)\n",
    "\n",
    "def add(a: int, b: int) -> int:\n",
    "    return a + b\n",
    "\n",
    "result: int  = apply_func(add, 10, 20)\n",
    "print(result)\n"
   ]
  },
  {
   "cell_type": "markdown",
   "metadata": {},
   "source": [
    "## 型ヒントのメリット・デメリット\n",
    "*  コードを読むだけで変数や関数で想定しているクラスが理解できる\n",
    "*  Google Coaboratoryなどの開発環境における補完機能やエラーチェックが強化され，開発がスムーズになる\n",
    "*  型ヒントには上記のメリットがあるが，デメリットとしては，コードの記述量が増えることが挙げられる"
   ]
  },
  {
   "cell_type": "markdown",
   "metadata": {},
   "source": [
    "# クラス図\n",
    "*  クラス図（Class Diagram）とは，UMLにおけるダイアグラムの一種で，システムの設計を視覚的に表現するための図\n",
    "*  システムの要素となる各クラスがどのような属性・メソッドを持つのか，クラス間にどのような関係があるかを視覚化したもの\n",
    "*  システム内のクラスやその間の関係性，クラスが持つ属性やメソッドを示すことで，設計の概要を把握しやすくする役割を持ってる\n",
    "*  クラス間の関係は「**関連**」と呼ばれ，いくつかの種類がある"
   ]
  },
  {
   "cell_type": "markdown",
   "metadata": {},
   "source": [
    "## 関連の種類（概要）\n",
    "*  依存関係（Dependency）:\n",
    ">*  あるクラスが他のクラスを利用して機能する関係\n",
    ">*  一時的な関係であり，クラスのメソッド内で他のクラスのインスタンスやメソッドを使う\n",
    ">*  例: メソッドの引数として他クラスのインスタンスを渡す\n",
    "*  集約（Aggregation）:\n",
    ">*  「部分-全体」の関係\n",
    ">*  あるクラス（全体）が他のクラス（部分）を「所有」している官営\n",
    ">*  部分（部品）となるオブジェクトは，全体が削除されても存在し続ける\n",
    "* コンポジション（Composition）:\n",
    ">*  集約よりも強い「部分-全体」の関係\n",
    ">*  全体が削除されると，部分も一緒に削除される\n",
    "*  継承（Inheritance）:\n",
    ">*  あるクラス（スーパークラスと呼ぶ）の特性（属性やメソッド）を，別のクラス（サブクラスと呼ぶ）が引き継ぐ関係\n",
    ">*  サブクラスはスーパークラスの機能を再利用したり，独自の機能を追加したりできる\n",
    "*  実現関係（Realization Relationship）:\n",
    ">*  インターフェースや抽象クラス（次回以降説明）と呼ばれる特別なクラスを使って，クラスが特定のメソッドや動作を保証する関係\n",
    ">*  この関係にあるクラスはインターフェースや抽象クラスで定義されたメソッドを具体的に実装する"
   ]
  },
  {
   "cell_type": "markdown",
   "metadata": {},
   "source": [
    "# 汎化と特化\n",
    "*  複数のクラスの共通する特性を持ったクラスに一般化することを汎化と呼ぶ\n",
    "*  あるクラスの特性を保持したまま，新たな特性を追加して特殊化することを特化と呼ぶ\n",
    "*  汎化したクラスをスーパークラスと呼び，特化したクラスをサブクラスと呼ぶ\n",
    "*  クラス図において，汎化・特化の関係があるクラスを，線の先が白の三角形となっている矢印で結ぶ\n",
    "*  先が白三角形の矢印の先にあるクラスがスーパークラスで，その反対の矢印の根元にあるクラスがサブクラス"
   ]
  },
  {
   "cell_type": "markdown",
   "metadata": {},
   "source": [
    "## 汎化と特化の例\n",
    "*  例えば，和食には，そば，すし，天ぷらなどがある\n",
    "*  したがって，和食は，そば，すし，天ぷらのスーパークラスで，そば，すし，天ぷらは和食のサブクラスとなる\n",
    "*  下図は両方とも同じ関係を表すクラス図\n",
    ">*  スーパークラスとサブクラスの組に対して矢印を1本ずつ描いてもいいし，1つの線にまとめて描いてもいい\n",
    "\n",
    "> <img src=\"./fig/05_generalization.jpg\" width=\"550\">\n",
    "\n",
    "  \n",
    "*  また，汎化関係は何階層でも考えることができる\n",
    "\n",
    "> <img src=\"./fig/05_generalization2.jpg\" width=\"300\">\n",
    "  \n",
    "\n",
    "*  スーパークラスは，親クラス，基底クラスとも呼ばれる\n",
    "*  また，サブクラスは子クラス，派生クラスとも呼ばれる"
   ]
  },
  {
   "cell_type": "markdown",
   "metadata": {},
   "source": [
    "## 複数のスーパークラスを持つクラス\n",
    "*  クラスは複数のスーパークラスを持つこともできる\n",
    "*  引き続き，上図の例について考える\n",
    "*  未成年・学生というクラスを定義したとすると，このクラスは未成年クラスのサブクラスであり，同時に学生クラスのサブクラスでもある\n",
    "*  このように複数のスーパークラスをもつクラスは多重継承しているという（継承については後述）\n",
    "  \n",
    "> <img src=\"./fig/05_multiple_inheritance.jpg\" width=\"350\">"
   ]
  },
  {
   "cell_type": "markdown",
   "metadata": {},
   "source": [
    "# 継承（Inheritance）\n",
    "*  継承はオブジェクト指向プログラミングの重要な概念の一つ\n",
    "*  あるクラス（スーパークラス）の特性（属性やメソッド）を別のクラス（子クラス）が引き継ぐしくみ\n",
    "\n",
    "**継承を使うケースの例：**\n",
    "*  既に利用している自分が作った既存のクラスを継承するケース\n",
    "*  他の人が作ったクラスを継承するケース\n",
    "*  共通部分がある複数のクラスを1つのクラスにまとめるケース"
   ]
  },
  {
   "cell_type": "markdown",
   "metadata": {},
   "source": [
    "## 継承の例\n",
    "※ 話を簡単にするため，属性やメソッドの詳細な記述は省略している  \n",
    "\n",
    "**デジカメとタブレットも扱っている携帯電話販売ショップ:**\n",
    "*  ショップで扱っている全商品（携帯，デジカメ，タブレット）に対応する商品クラスをスーパークラスとする\n",
    "*  携帯，デジカメ，タブレットを商品クラスのサブクラスとして考える\n",
    "*  各サブクラス共通の属性: 商品コード，商品名，価格\n",
    ">*  これらをスーパークラスの属性として定義\n",
    ">*  可視性はプロテクテッド「#」\n",
    ">*  プロテクテッドはサブクラスにのみ公開（他のクラスからはアクセス不可）\n",
    ">*  これらの属性はサブクラスに継承される（サブクラスの属性区画には記述しなくてよい）\n",
    "*  各サブクラス共通のメソッド: 商品コードを取得する()，商品名を取得する()，価格を取得する()\n",
    ">*  これらをスーパークラスのメソッドとして定義\n",
    ">*  可視性はパブリック「+」\n",
    ">*  これらのメソッドはサブクラスに継承される（サブクラスのメソッド区画には記述しなくてよい）\n",
    "*  各サブクラスに固有の属性とメソッド（各サブクラスの属性区画とメソッド区画に記述する）\n",
    ">*  携帯: 液晶サイズ，液晶サイズを取得する()\n",
    ">*  デジカメ: 画素数，画素数を取得する()\n",
    ">*  タブレット: 容量，容量を取得する()\n",
    ">*  属性はプライベートで，メソッドはパブリックとする\n",
    "\n",
    "<img src=\"./fig/05_Inheritance_Example.jpg\" width=\"550\">\n"
   ]
  },
  {
   "cell_type": "markdown",
   "metadata": {},
   "source": [
    "## 継承のメリット\n",
    "*  スーパークラスの属性とメソッドをサブクラスでそのまま利用できる\n",
    "*  既存クラス（スーパークラス）を修正せずに，サブクラスで新たな機能（属性やメソッド）を追加したり，メソッドを上書きして動作を変更できる\n",
    "*  多様なクラス間で共通の機能をまとめることができるので…\n",
    ">*  コードがシンプルになり，可読性が向上する（読みやすくなる）\n",
    ">*  他の同様のクラス（サブクラス）を定義しやすくなる\n",
    ">*  共通部分の変更やメンテナンスが容易になる\n",
    "*  したがって，継承はソフトウェア（情報システム）の再利用性，拡張性，及び保守性の向上につながる"
   ]
  },
  {
   "cell_type": "markdown",
   "metadata": {},
   "source": [
    "## Pythonによる継承の実装"
   ]
  },
  {
   "cell_type": "markdown",
   "metadata": {},
   "source": [
    "### 継承の書式\n",
    "*  サブクラスを定義する場合は，クラス名の後ろに括弧で囲ったスーパークラス名を記述する\n",
    "*  その他は，通常のクラスの定義の書式と同様\n",
    " \n",
    "---\n",
    "```Python\n",
    "class スーパークラス名:\n",
    "    スーパークラスの機能（属性やメソッド）の記述\n",
    "\n",
    "class サブクラス名(スーパークラス名):\n",
    "    サブクラスの固有の機能（固有の属性やメソッド）の記述\n",
    "```\n",
    "---"
   ]
  },
  {
   "cell_type": "markdown",
   "metadata": {},
   "source": [
    "### 継承の例 その1\n",
    "*  まず，2つのクラス`Swimmer`と`Rnnner`を考える\n",
    "* 2つのクラスとも，名前を属性値とするプライベートなインスタンス属性`__name`とその値を定めるためのコンストラクタ（`__init__`メソッド）が定義されている\n",
    "* 2つのクラスには，挨拶をする`sayhello`メソッドも定義されている\n",
    "* `Swimmer`クラスには，泳ぐことに対応する`swim`メソッドが定義されている\n",
    "* `Rnnner`クラスには，走ることに対応する`run`メソッドが定義されている"
   ]
  },
  {
   "cell_type": "code",
   "execution_count": null,
   "metadata": {},
   "outputs": [],
   "source": [
    "class Swimmer:\n",
    "    def __init__(self, name: str) -> None:\n",
    "        self.__name = name\n",
    "\n",
    "    def sayhello(self) -> None:\n",
    "        print(f'私の名前は{self.__name}です．')\n",
    "\n",
    "    def swim(self) -> None:\n",
    "        print(f'{self.__name}！泳ぎます！')\n",
    "        print('...バシャバシャ')\n",
    "\n",
    "class Runner:\n",
    "    def __init__(self, name: str) -> None:\n",
    "        self.__name = name\n",
    "\n",
    "    def sayhello(self) -> None:\n",
    "        print(f'私の名前は{self.__name}です．')\n",
    "\n",
    "    def run(self) -> None:\n",
    "        print(f'{self.__name}！走ります！')\n",
    "        print('...タタタッ')\n",
    "\n",
    "swimmer1: Swimmer = Swimmer('鈴木泳子')\n",
    "swimmer1.sayhello()\n",
    "swimmer1.swim()\n",
    "\n",
    "runner1: Runner = Runner('佐藤走太')\n",
    "runner1.sayhello()\n",
    "runner1.run()"
   ]
  },
  {
   "cell_type": "markdown",
   "metadata": {},
   "source": [
    "*  継承を利用すると，複数のクラスの共通部分のみをとりだした別のクラスとしてまとめることもできる\n",
    "*  すなわち，複数のクラスを汎化したクラス`Athlete`を定義できる\n",
    "*  ただし，サブクラスからもスーパークラスのインスタンス属性にアクセスできるように可視性をプロテクテッドとする\n",
    "*  属性の可視性をプロテクテッドにするには，属性名の前にアンダースコア「`_`」を記述する \n",
    ">*  実際はクラス外からでもアクセスできるが，プロテクテッドに設定した属性のクラス外からのアクセスは非推奨とされているので，実装しないようにする\n",
    ">*  本講義では，アンダースコア「`_`」が先頭についていれば，可視性がプロテクテッドに設定されているものと考える\n",
    "*  下のコードに対応するクラス図は下図のようになる\n",
    "\n",
    "> <img src=\"./fig/inheritance_example_Athlete1.jpg\" width=\"300\">"
   ]
  },
  {
   "cell_type": "code",
   "execution_count": null,
   "metadata": {},
   "outputs": [],
   "source": [
    "class Athlete: # スーパークラス\n",
    "    def __init__(self, name: str) -> None:\n",
    "        self._name = name # プロテクテッド\n",
    "\n",
    "    def sayhello(self) -> None:\n",
    "        print(f'私の名前は{self._name}です．')\n",
    "\n",
    "class Swimmer(Athlete): # サブクラス\n",
    "    def swim(self) -> None:\n",
    "        print(f'{self._name}！泳ぎます！')\n",
    "        print('...バシャバシャ')\n",
    "\n",
    "class Runner(Athlete): # サブクラス\n",
    "    def run(self) -> None:\n",
    "        print(f'{self._name}！走ります！')\n",
    "        print('...タタタッ')\n",
    "\n",
    "swimmer1: Swimmer = Swimmer('鈴木泳子')\n",
    "swimmer1.sayhello()\n",
    "swimmer1.swim()\n",
    "\n",
    "runner1: Runner = Runner('佐藤走太')\n",
    "runner1.sayhello()\n",
    "runner1.run()"
   ]
  },
  {
   "cell_type": "markdown",
   "metadata": {},
   "source": [
    "*  このように継承を用いると，複数のクラスの共通部分をまとめることができる\n",
    "*  効果は以下のとおり:\n",
    ">*   コードがシンプルになり，可読性が向上する（読みやすくなる）\n",
    ">*   他の同様のクラス（上の例だと他の競技）を定義しやすくなる\n",
    ">*   共通部分の変更が容易になる\n",
    "*  また，サブクラスの定義の中で，スーパークラスのメソッドを呼び出すこともできる\n",
    "*  その場合は，`super().メソッド名()`を使う\n",
    "*  以下のコードでは，サブクラス固有のメソッドである`swim`と`run`の定義の中で，スーパークラスの`sayhello`メソッドを呼び出している（あまり意味はない）"
   ]
  },
  {
   "cell_type": "code",
   "execution_count": null,
   "metadata": {},
   "outputs": [],
   "source": [
    "class Athlete: # スーパークラス\n",
    "    def __init__(self, name: str) -> None:\n",
    "        self._name = name # プロテクテッド\n",
    "\n",
    "    def sayhello(self) -> None:\n",
    "        print(f'私の名前は{self._name}です．')\n",
    "\n",
    "class Swimmer(Athlete): # サブクラス\n",
    "    def swim(self) -> None:\n",
    "        super().sayhello()\n",
    "        print(f'{self._name}！泳ぎます！')\n",
    "        print('...バシャバシャ')\n",
    "\n",
    "class Runner(Athlete): # サブクラス\n",
    "    def run(self) -> None:\n",
    "        super().sayhello()\n",
    "        print(f'{self._name}！走ります！')\n",
    "        print('...タタタッ')\n",
    "\n",
    "swimmer1: Swimmer = Swimmer('鈴木泳子')\n",
    "swimmer1.swim()\n",
    "\n",
    "runner1: Runner = Runner('佐藤走太')\n",
    "runner1.run()"
   ]
  },
  {
   "cell_type": "markdown",
   "metadata": {},
   "source": [
    "### 継承の例 その2\n",
    "*  以下のコードは多重継承を実装している例となる\n",
    "*  下図は対応するクラス図\n",
    "*  `Penguin`クラスは`Walker`クラスと`Swimmer`クラスの両方を継承するサブクラスとなる\n",
    "\n",
    "多重継承の書式:  \n",
    "\n",
    "---\n",
    "```Python\n",
    "def サブクラス名(1つ目のスーパークラス名，2つ目のスーパークラス, ...):\n",
    "    クラスの機能の定義\n",
    "```\n",
    "---\n",
    "\n",
    "<img src=\"./fig/multiple_inheritance_example.jpg\" width=\"300\">"
   ]
  },
  {
   "cell_type": "code",
   "execution_count": null,
   "metadata": {},
   "outputs": [],
   "source": [
    "# スーパークラス1: Walker（歩行動物）\n",
    "class Walker:\n",
    "    def walk(self) -> None:\n",
    "        print('この生物は歩けます')\n",
    "\n",
    "# スーパークラス2: Swimmer（泳ぐ動物）\n",
    "class Swimmer:\n",
    "    def swim(self) -> None:\n",
    "        print('この生物は泳げます')\n",
    "\n",
    "# サブクラス: Penguin（ペンギン）\n",
    "class Penguin(Walker, Swimmer):\n",
    "    def speak(self) -> None:\n",
    "        print('ペンギンは鳴きます')\n",
    "\n",
    "# Penguinクラスのインスタンスを作成\n",
    "penguin: Penguin = Penguin()\n",
    "\n",
    "# Penguinクラスのインスタンスから各スーパークラスのメソッドを使用\n",
    "penguin.walk()\n",
    "penguin.swim()\n",
    "# Penguinクラスのメソッドを使用\n",
    "penguin.speak()\n"
   ]
  },
  {
   "cell_type": "markdown",
   "metadata": {},
   "source": [
    "## Pythonにおけるクラスに関する注意\n",
    "*  Pythonにおいて，組み込みクラスを含むすべてのクラスは`object`クラスを継承している\n",
    "*  `object`クラスには，基本的な属性やメソッド（特殊メソッドなど）が定義されている"
   ]
  },
  {
   "cell_type": "markdown",
   "metadata": {},
   "source": [
    "# オーバーライド\n",
    "*  継承を用いると，スーパークラスのメソッドは継承先であるサブクラスにそのまま受け継がれるが，サブクラス側で継承元であるスーパークラスのメソッドを変更（上書き）することができる\n",
    "*  スーパークラスのメソッドをサブクラスで変更することを**オーバーライド**と呼ぶ\n",
    "*  クラス図において，オーバーライドしたメソッドはサブクラスにも記述する\n",
    "*  下図の例はメソッド「`会員登録する()`」をオーバーライドしている\n",
    "*  可視性，引数，戻り値の型は，原則変更しない（変えるのは処理内容だけ）\n",
    "*  ただし，例外もある（説明省略）\n",
    ">*  公開範囲が広い可視性に変更するのはOK，など\n",
    "*  オーバーライドは，オブジェクト指向プログラミングにおける重要な概念の一つである「ポリモーフィズム」を実装するために必要不可欠な機能となる（ポリモーフィズムについては次回以降説明）\n",
    "  \n",
    "> <img src=\"./fig/05_override.jpg\" width=\"140\">\n"
   ]
  },
  {
   "cell_type": "markdown",
   "metadata": {},
   "source": [
    "## オーバーライドの例\n",
    "*  まずは，継承元となる`Super`クラスを定義する"
   ]
  },
  {
   "cell_type": "code",
   "execution_count": null,
   "metadata": {},
   "outputs": [],
   "source": [
    "class Super:\n",
    "    def __init__(self) -> None:\n",
    "        print('これはスーパークラスのコンストラクタ')\n",
    "\n",
    "    def method1(self) -> str:\n",
    "        return 'これはスーパークラスのmethod1の戻り値'\n",
    "\n",
    "super1: Super = Super()\n",
    "r: str = super1.method1()\n",
    "print(r)"
   ]
  },
  {
   "cell_type": "markdown",
   "metadata": {},
   "source": [
    "*  次に，`Super`クラスのサブクラス`Sub`を定義する\n",
    "*  `pass`は「なにもしない」という命令\n",
    "*  したがって，`Sub`は`Super`と全く同じ機能を持つクラスとなる"
   ]
  },
  {
   "cell_type": "code",
   "execution_count": null,
   "metadata": {},
   "outputs": [],
   "source": [
    "class Super:\n",
    "    def __init__(self) -> None:\n",
    "        print('これはスーパークラスのコンストラクタ')\n",
    "\n",
    "    def method1(self) -> str:\n",
    "        return 'これはスーパークラスのmethod1の戻り値'\n",
    "\n",
    "class Sub(Super):\n",
    "    pass # passは「なにもしない」という命令\n",
    "\n",
    "sub1: Sub = Sub()\n",
    "r: str = sub1.method1()\n",
    "print(r)"
   ]
  },
  {
   "cell_type": "markdown",
   "metadata": {},
   "source": [
    "* `Super`クラスの`method1`を`Sub`クラスでオーバーライドする"
   ]
  },
  {
   "cell_type": "code",
   "execution_count": null,
   "metadata": {},
   "outputs": [],
   "source": [
    "class Super:\n",
    "    def __init__(self) -> None:\n",
    "        print('これはスーパークラスのコンストラクタ')\n",
    "\n",
    "    def method1(self) -> str:\n",
    "        return 'これはスーパークラスのmethod1の戻り値'\n",
    "\n",
    "class Sub(Super):\n",
    "    def method1(self) -> str:\n",
    "        return 'これはサブクラスのmethod1の戻り値'\n",
    "\n",
    "super2: Super = Super()\n",
    "r: str = super2.method1()\n",
    "print(r)\n",
    "\n",
    "sub2: Sub = Sub()\n",
    "r: str = sub2.method1()\n",
    "print(r)"
   ]
  },
  {
   "cell_type": "markdown",
   "metadata": {},
   "source": [
    "*  さらに，`Super`クラスのコンストラクタ`__init__`を`Sub`クラスでオーバーライドする"
   ]
  },
  {
   "cell_type": "code",
   "execution_count": null,
   "metadata": {},
   "outputs": [],
   "source": [
    "class Super:\n",
    "    def __init__(self) -> None:\n",
    "        print('これはスーパークラスのコンストラクタ')\n",
    "\n",
    "    def method1(self) -> str:\n",
    "        return 'これはスーパークラスのmethod1の戻り値'\n",
    "\n",
    "class Sub(Super):\n",
    "    def __init__(self) -> None:\n",
    "        print('これはサブクラスのコンストラクタ')\n",
    "\n",
    "    def method1(self) -> str:\n",
    "        return 'これはサブクラスのmethod1の戻り値'\n",
    "\n",
    "super3: Super = Super()\n",
    "r: str = super3.method1()\n",
    "print(r)\n",
    "\n",
    "sub3: Sub = Sub()\n",
    "r: str = sub3.method1()\n",
    "print(r)"
   ]
  },
  {
   "cell_type": "markdown",
   "metadata": {},
   "source": [
    "# 実習\n",
    "以下の仕様を満たすコードを作成しなさい．ただし，コードには型ヒントをつけ，既に入力されているコードは変更・削除しないこと．\n",
    "\n",
    "**処理手順:**\n",
    "*  次の2つのメソッドを持つ`Animal`クラスを定義する\n",
    ">*  `__init__`メソッド: `name`を引数として受け取り，インスタンス属性`self._name`の属性値とする\n",
    ">*  `speak`メソッド: f-stringを使って「`{self._name} makes a sound.`」 を表示する\n",
    "*  次の仕様を満たす`Dog`クラスを定義する\n",
    ">*  `Animal`クラスを継承する\n",
    ">*  `speak`メソッドを以下の処理内容にオーバーライドする\n",
    ">*  まず，スーパークラスの`speak`メソッドを呼び出し，その後「`Woof!`」を表示する\n",
    "*  次の仕様を満たす`Cat`クラスを定義する\n",
    ">*  `Animal`クラスを継承する\n",
    ">*  `speak`メソッドを以下の処理内容にオーバーライドする\n",
    ">*  まず，スーパークラスの`speak`メソッドを呼び出し，その後「`Meow!`」を表示する\n",
    "\n",
    "**期待される実行結果:**\n",
    "```\n",
    "Animal makes a sound.\n",
    "Pochi makes a sound.\n",
    "Woof!\n",
    "Tama makes a sound.\n",
    "Meow!\n",
    "```\n",
    "\n",
    "**クラス図:**\n",
    "  \n",
    "<img src=\"./fig/inheritance_exercise_Animal.jpg\" width=\"350\">"
   ]
  },
  {
   "cell_type": "code",
   "execution_count": null,
   "metadata": {},
   "outputs": [],
   "source": [
    "# ここにコードを記述（必要に応じて改行する）\n",
    "\n",
    "# これ以降は変更・削除しない\n",
    "a: Animal = Animal('Animal')\n",
    "d: Dog = Dog('Pochi')\n",
    "c: Cat = Cat('Tama')\n",
    "a.speak()\n",
    "d.speak()\n",
    "c.speak()"
   ]
  },
  {
   "cell_type": "markdown",
   "metadata": {},
   "source": [
    "# 参考資料\n",
    "*  東京大学, [プログラミング入門](https://colab.research.google.com/github/utokyo-ipp/utokyo-ipp.github.io/blob/master/colab/index.ipynb), 講義資料, 2024\n",
    "*  伊藤裕一, [速習 Python 3 中: オブジェクト指向編 Kindle版](https://www.amazon.co.jp/%E9%80%9F%E7%BF%92-Python-3-%E4%B8%AD-%E3%82%AA%E3%83%96%E3%82%B8%E3%82%A7%E3%82%AF%E3%83%88%E6%8C%87%E5%90%91%E7%B7%A8-ebook/dp/B01N04UBYI), 2016\n",
    "*  ひらまつしょうたろう, [Python でわかる オブジェクト指向 とはなにか？【Python オブジェクト指向 の「なぜ？」を「徹底的に」解説】](https://www.udemy.com/course/oop-python/?couponCode=KEEPLEARNING), Udemy, 最終更新日 2023/7\n",
    "*  Bill Lubanovic (著), 鈴木駿 (監訳), 長尾高弘 (訳), [入門 Python 3 第2版](https://www.oreilly.co.jp/books/9784873119328/), オライリージャパン, 2021\n",
    "*  国本大悟(著), 須藤秋良(著), 株式会社フレアリンク(監修), [スッキリわかるPython入門 第2版](https://book.impress.co.jp/books/1122101165), インプレス, 2023\n",
    "*  柴田淳, [みんなのPython 第4版](https://www.sbcr.jp/product/4797389463/), SBクリエイティブ, 2016\n",
    "*  株式会社ビープラウド(監修), リブロワークス(著), [スラスラ読める Pythonふりがなプログラミング Kindle版](https://www.amazon.co.jp/%E3%82%B9%E3%83%A9%E3%82%B9%E3%83%A9%E8%AA%AD%E3%82%81%E3%82%8B-Python%E3%81%B5%E3%82%8A%E3%81%8C%E3%81%AA%E3%83%97%E3%83%AD%E3%82%B0%E3%83%A9%E3%83%9F%E3%83%B3%E3%82%B0-%E3%81%B5%E3%82%8A%E3%81%8C%E3%81%AA%E3%83%97%E3%83%AD%E3%82%B0%E3%83%A9%E3%83%9F%E3%83%B3%E3%82%B0%E3%82%B7%E3%83%AA%E3%83%BC%E3%82%BA-%E3%83%AA%E3%83%96%E3%83%AD%E3%83%AF%E3%83%BC%E3%82%AF%E3%82%B9/dp/4295003867), インプレス, 2018\n",
    "*  森巧尚, [Python 1年生 体験してわかる！会話でまなべる！プログラミングのしくみ Kindle版](https://www.amazon.co.jp/Python-1%E5%B9%B4%E7%94%9F-%E4%BD%93%E9%A8%93%E3%81%97%E3%81%A6%E3%82%8F%E3%81%8B%E3%82%8B%EF%BC%81%E4%BC%9A%E8%A9%B1%E3%81%A7%E3%81%BE%E3%81%AA%E3%81%B9%E3%82%8B%EF%BC%81%E3%83%97%E3%83%AD%E3%82%B0%E3%83%A9%E3%83%9F%E3%83%B3%E3%82%B0%E3%81%AE%E3%81%97%E3%81%8F%E3%81%BF-%E6%A3%AE-%E5%B7%A7%E5%B0%9A-ebook/dp/B076DDBBK9), 翔泳社, 2017\n"
   ]
  }
 ],
 "metadata": {
  "colab": {
   "authorship_tag": "ABX9TyMWtd6/RDILJQwHHmedSHVP",
   "provenance": []
  },
  "kernelspec": {
   "display_name": "Python 3",
   "name": "python3"
  },
  "language_info": {
   "codemirror_mode": {
    "name": "ipython",
    "version": 3
   },
   "file_extension": ".py",
   "mimetype": "text/x-python",
   "name": "python",
   "nbconvert_exporter": "python",
   "pygments_lexer": "ipython3",
   "version": "3.12.5"
  }
 },
 "nbformat": 4,
 "nbformat_minor": 0
}
