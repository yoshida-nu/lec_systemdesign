{
 "cells": [
  {
   "cell_type": "markdown",
   "metadata": {},
   "source": [
    "# （復習）SOLID原則の概要\n",
    "*  オブジェクト指向プログラミングをする上で，重要となる5つの原則\n",
    ">*  単一責任の原則（**S**ingle Responsibility Principle）\n",
    ">*  開放・閉鎖の原則（**O**pen-Closed Principle）\n",
    ">*  リスコフの置換原則（**L**iskov Substitution Principle）\n",
    ">*  インタフェース分離の原則（**I**nterface Segregation Principle）\n",
    ">*  依存関係逆転の原則（**D**ependency InversionPrinciple\n",
    "*  SOLID原則の遵守によって修正性を向上させることで，保守性を向上する\n",
    ">*  修正性が高くなると，依存関係がシンプルで，モジュール性（システムを独立した部品（モジュール）に分割する能力）が高くなる\n",
    ">*  モジュール性が高くなると，再利用性と試験性（テストしやすさ）も高くなる\n",
    ">*  修正しやすいコードは，解析性（理解しやすさ）も高い"
   ]
  },
  {
   "cell_type": "markdown",
   "metadata": {},
   "source": [
    "# （復習）単一責任の原則\n",
    "*  クラスは一つの責任（役割）を持つ:\n",
    ">*  一つのクラスは一つの目的や役割にフォーカスし，その役割に対してのみ責任を持つべき\n",
    ">*  複数の目的を持たせると，変更が発生した場合にその影響が広範囲に及び、保守が困難になる\n",
    "*  クラスは一つの変更理由を持つ:\n",
    ">*  クラスに加えられる変更の理由は一つだけであるべき\n",
    ">*  例えば，UI（ユーザインタフェース）の変更やデータベースの変更が同じクラスに影響を与えないように設計する\n",
    ">*  一つのクラスが複数の責任を持っていると，一つの変更が別の部分に不具合をもたらす可能性がある"
   ]
  },
  {
   "cell_type": "markdown",
   "metadata": {},
   "source": [
    "## 単一責任の原則に違反している例\n",
    "*  以下のコードは，ホームシアターシステムをイメージしている\n",
    "*  `HomeTheaterSystem`クラスは，複数の役割を持つので明らかに単一責任の原則に違反している\n",
    "*  ここで，システムの起動は，照明オン，プロジェクタオン，サウンドシステムオンの順で操作するものとし，システムの終了は，サウンドシステムオフ，プロジェクタオフ，照明オフの順で操作するものとする"
   ]
  },
  {
   "cell_type": "code",
   "execution_count": null,
   "metadata": {},
   "outputs": [],
   "source": [
    "class HomeTheaterSystem:\n",
    "    def light_on(self) -> None:\n",
    "        print('照明をオンにします')\n",
    "\n",
    "    def light_off(self) -> None:\n",
    "        print('照明をオフにします')\n",
    "\n",
    "    def projector_on(self) -> None:\n",
    "        print('プロジェクタをオンにします')\n",
    "\n",
    "    def projector_off(self) -> None:\n",
    "        print('プロジェクタをオフにします')\n",
    "\n",
    "    def sound_on(self) -> None:\n",
    "        print('サウンドシステムをオンにします')\n",
    "\n",
    "    def sound_off(self) -> None:\n",
    "        print('サウンドシステムをオフにします')\n",
    "\n",
    "# システムの操作\n",
    "system = HomeTheaterSystem()\n",
    "print('--- ホームシアターシステムを起動します ---')\n",
    "system.light_on()\n",
    "system.projector_on()\n",
    "system.sound_on()\n",
    "print('--- 映画鑑賞中 ---')\n",
    "print('--- ホームシアターシステムを終了します ---')\n",
    "system.sound_off()\n",
    "system.projector_off()\n",
    "system.light_off()"
   ]
  },
  {
   "cell_type": "markdown",
   "metadata": {},
   "source": [
    "## 単一責任の原則を遵守した例\n",
    "*  上のコードにおいて，`HomeTheaterSystem`クラスが持つ役割の照明操作，プロジェクタ操作，サウンドシステム操作を，`Lighting`クラス，`Projector`クラス，`SoundSystem`クラスに分けて定義する\n",
    "*  さらにメソッド名を簡略化して，コードの可読性を高める"
   ]
  },
  {
   "cell_type": "code",
   "execution_count": null,
   "metadata": {},
   "outputs": [],
   "source": [
    "class Lighting:\n",
    "    def on(self) -> None:\n",
    "        print('照明をオンにします')\n",
    "\n",
    "    def off(self) -> None:\n",
    "        print('照明をオフにします')\n",
    "\n",
    "class Projector:\n",
    "    def on(self) -> None:\n",
    "        print('プロジェクタをオンにします')\n",
    "\n",
    "    def off(self) -> None:\n",
    "        print('プロジェクタをオフにします')\n",
    "\n",
    "class SoundSystem:\n",
    "    def on(self) -> None:\n",
    "        print('サウンドシステムをオンにします')\n",
    "\n",
    "    def off(self) -> None:\n",
    "        print('サウンドシステムをオフにします')\n",
    "\n",
    "# システムの操作\n",
    "lighting = Lighting()\n",
    "projector = Projector()\n",
    "sound_system = SoundSystem()\n",
    "\n",
    "print('--- ホームシアターシステムを起動します ---')\n",
    "lighting.on()\n",
    "projector.on()\n",
    "sound_system.on()\n",
    "print('--- 映画鑑賞中 ---')\n",
    "print('--- ホームシアターシステムを終了します ---')\n",
    "sound_system.off()\n",
    "projector.off()\n",
    "lighting.off()"
   ]
  },
  {
   "cell_type": "markdown",
   "metadata": {},
   "source": [
    "## 単一責任の原則の問題点\n",
    "*  クラスを細かく分けて定義することで，クラスの利用が複雑になる\n",
    "*  上のコードの場合，それぞれのクラスからインスタンスを生成し，メソッドを順番に呼び出す必要があるので，記述する順番を間違える可能性がある\n",
    "*  また，システムの手続きに変更があった場合に，修正する手間がかかるかもしれない\n",
    "*  この問題を解決するための方法に，Facade（ファサード）パターンと呼ばれるパターンを用いる方法がある\n",
    "*  Facadeパターンは，デザインパターンの一種で，詳細は後述する"
   ]
  },
  {
   "cell_type": "markdown",
   "metadata": {},
   "source": [
    "# デザインパターンの概要\n",
    "*  デザインパターンは，情報システム（ソフトウェア）設計において，よく遭遇する問題に効率よく対処するための再利用可能な解決策（ノウハウ集）\n",
    "*  ソフトウェア開発のベストプラクティスとして広く受け入れられている\n",
    "*  23種類の「GoFデザインパターン」が有名だが，それ以外のデザインパターンも数多く存在する\n",
    ">*  GoFデザインパターンとは，1994年に出版された「Design Patterns: Elements of Reusable Object-Oriented Software」で紹介された23のデザインパターン\n",
    ">*  著者4名（Erich Gamma, Richard Helm, Ralph Johnson, John Vlissides）が「Gang of Four」と呼ばれるようになったことから，このような呼ばれ方となった\n",
    "*  デザインパターンを理解し適切に適用することで，より効率的で保守性の高い情報システムを開発することができる"
   ]
  },
  {
   "cell_type": "markdown",
   "metadata": {},
   "source": [
    "## デザインパターンの種類\n",
    "*  生成パターン（Creational Patterns）： オブジェクトの作成メカニズムに関するパターン\n",
    ">*  Singleton，Factory Method，Abstract Factory，Builder，Prototype\n",
    "*  構造パターン（Structural Patterns）： クラスやオブジェクトの構成に関するパターン\n",
    ">*  Adapter，Bridge，Composite，Decorator，Facade，Flyweight，Proxy\n",
    "*  振る舞いパターン（Behavioral Patterns）： オブジェクト間の相互作用や責任の分配に関するパターン\n",
    ">*  Observer、Strategy、Command、State、Template Method"
   ]
  },
  {
   "cell_type": "markdown",
   "metadata": {},
   "source": [
    "## SOLID原則とデザインパターン\n",
    "*  SOLID原則はデザインパターンの理解と適用を容易にするための重要な指針となる\n",
    "*  SOLID原則とデザインパターンは相互に補完し合い，堅牢で柔軟な情報システム（ソフトウェア）設計を実現するための基盤を提供する\n",
    "*  SOLID原則を理解していることでデザインパターンの目的や利点をより深く理解できる"
   ]
  },
  {
   "cell_type": "markdown",
   "metadata": {},
   "source": [
    "# Facadeパターン\n",
    "*  Facade（ファサード）パターンは，複雑なサブシステム（クラス）に対して簡単なインターフェースを提供する\n",
    "*  上の例でいうと，`Lighting`クラス，`Projector`クラス，`SoundSystem`クラスがサブシステム\n",
    "*  クライアントは複数のクラスや複雑な操作を直接扱うのではなく，シンプルで統一されたインターフェースを通じてシステムを利用できる\n",
    "*  ここで，クライアントとは，クラスのインスタンスからメソッドを呼び出すものを指す\n",
    "*  上の例でいうと，ホームシアターシステムの利用者"
   ]
  },
  {
   "cell_type": "markdown",
   "metadata": {},
   "source": [
    "## Facadeクラス\n",
    "*  Facadeクラスは，Facadeパターンにおいて中心的な役割を果たすクラス\n",
    "*  Facadeクラス自体は複雑な実装を持たず，主に他のクラスへの仕事の振り分けを行う\n",
    "*  つまり，Facadeクラスは，複雑なサブシステムの利用に対する「窓口」として機能し，クライアントがシステムを簡単に利用できるようにする役割を果たす\n"
   ]
  },
  {
   "cell_type": "markdown",
   "metadata": {},
   "source": [
    "## Facadeパターンの例\n",
    "*  上の例に対して，Facadeパターンを適用する\n",
    "*  Facadeパターンを使うと，単一責任の原則の問題を回避でき，以下の効果が期待できる\n",
    ">*  コードの記述量が少なくなる\n",
    ">*  メソッドの呼び出し順を間違えなくなる\n",
    ">*  呼び出し順などの手続きが変わっても，Facadeクラスの中身を変えるだけでよい"
   ]
  },
  {
   "cell_type": "code",
   "execution_count": null,
   "metadata": {},
   "outputs": [],
   "source": [
    "class Lighting:\n",
    "    def on(self) -> None:\n",
    "        print('照明をオンにします')\n",
    "\n",
    "    def off(self) -> None:\n",
    "        print('照明をオフにします')\n",
    "\n",
    "class Projector:\n",
    "    def on(self) -> None:\n",
    "        print('プロジェクタをオンにします')\n",
    "\n",
    "    def off(self) -> None:\n",
    "        print('プロジェクタをオフにします')\n",
    "\n",
    "class SoundSystem:\n",
    "    def on(self) -> None:\n",
    "        print('サウンドシステムをオンにします')\n",
    "\n",
    "    def off(self) -> None:\n",
    "        print('サウンドシステムをオフにします')\n",
    "\n",
    "# Facadeクラスの定義\n",
    "class HomeTheaterFacade:\n",
    "    def __init__(self, lighting: Lighting, projector: Projector, sound_system: SoundSystem) -> None:\n",
    "        self.lighting = lighting\n",
    "        self.projector = projector\n",
    "        self.sound_system = sound_system\n",
    "\n",
    "    def startup(self) -> None:\n",
    "        print('--- ホームシアターシステムを起動します ---')\n",
    "        self.lighting.on()\n",
    "        self.projector.on()\n",
    "        self.sound_system.on()\n",
    "\n",
    "    def shutdown(self) -> None:\n",
    "        print('--- ホームシアターシステムを終了します ---')\n",
    "        self.sound_system.off()\n",
    "        self.projector.off()\n",
    "        self.lighting.off()\n",
    "        \n",
    "# 以降，クライアント側の操作\n",
    "# サブシステムのインスタンス生成\n",
    "lighting = Lighting()\n",
    "projector = Projector()\n",
    "sound_system = SoundSystem()\n",
    "# Facadeクラスのインスタンス生成\n",
    "home_theater = HomeTheaterFacade(lighting, projector, sound_system)\n",
    "home_theater.startup() # システム起動\n",
    "print('--- 映画鑑賞中 ---')\n",
    "home_theater.shutdown() # システム終了"
   ]
  },
  {
   "cell_type": "markdown",
   "metadata": {},
   "source": [
    "# ドメインモデルと値オブジェクト\n",
    "*  複数の役割を持つ大きなクラスから，単一責任の原則を満たす複数のクラスに分割することは簡単ではない\n",
    "*  典型的なクラスの例を知り，経験を積むことで，クラスを分割するスキルが上達する\n",
    "*  ドメインモデルと値オブジェクトについて知ることは，スキルを磨く一つの手段といえる\n",
    "*  SOLID原則やデザインパターンとは少し違う話になるが，ここで，ドメインモデルと値オブジェクトについて簡単に説明しておく"
   ]
  },
  {
   "cell_type": "markdown",
   "metadata": {},
   "source": [
    "## ドメインモデル\n",
    "*  ドメインモデルとは，情報システム開発において，特定の問題領域（ドメイン）を表現するためのモデルを指す\n",
    "*  つまり，対象とするビジネスや業務の概念，関係，ルールをオブジェクト指向の観点から整理・表現したものとなる"
   ]
  },
  {
   "cell_type": "markdown",
   "metadata": {},
   "source": [
    "### ドメインモデルの主な構成要素\n",
    "*  エンティティ（Entity）: 固有の識別子（ID）を持ち，ライフサイクルを通じて同一性が維持されるオブジェクトです\n",
    "*  値オブジェクト（Value Object）: 値オブジェクトは，属性値でその等価性が決まるオブジェクト\n",
    "*  ドメインサービス (Domain Service): 複数のエンティティや値オブジェクトをまたぐ処理\n",
    "*  集約 (Aggregate): 関連するエンティティと値オブジェクトをグループ化したもの"
   ]
  },
  {
   "cell_type": "markdown",
   "metadata": {},
   "source": [
    "### ドメインモデルの身近な例\n",
    "#### オンラインショッピングシステム\n",
    "**エンティティ**\n",
    "* ユーザ\n",
    ">*  属性: ユーザID，名前，メールアドレス，パスワード\n",
    ">*  一意の識別子（ユーザID）を持ち，ライフサイクルを通じて同一性が維持される\n",
    "*  注文\n",
    ">*  属性: 注文ID，ユーザID，注文日，ステータス，合計金額\n",
    ">*  各注文は一意の注文IDを持ち，特定のユーザに紐づく\n",
    "*  製品\n",
    ">*  属性: 製品ID，名前，説明，価格，在庫数\n",
    ">*  各製品は一意の製品IDを持ち，在庫管理が必要\n",
    "  \n",
    "**値オブジェクト**\n",
    "*  住所\n",
    ">*  属性: 住所，都市，郵便番号，国\n",
    ">*  不変であり，ユーザや注文に関連付けられる配送先住所として使用される\n",
    "*  価格\n",
    ">*  属性: 金額，通貨単位\n",
    ">*  金額の計算や比較に使用される不変のオブジェクト\n",
    "\n",
    "**ドメインサービス**\n",
    "*  支払い処理サービス\n",
    ">*  機能: 注文に対する支払いの検証と処理を行う\n",
    "\n",
    "**集約**\n",
    "*  注文集約\n",
    ">*  関連エンティティ・値オブジェクト: 注文，住所\n",
    ">*  関連する注文アイテムや配送先住所を一貫性のある単位として管理"
   ]
  },
  {
   "cell_type": "markdown",
   "metadata": {},
   "source": [
    "## 値オブジェクトの例\n",
    "*  ここでは，値オブジェクトとして「金額」を考える\n",
    "*  金額は0より大きい整数なので，組み込みクラスの`int`で金額を表現することは適切ではない\n",
    "*  以下のコードで定義する価格のクラス`Price`は，インスタンス属性として金額を表す`amount`と通貨単位を表す`currency`を持つ\n",
    "*  しかし，この定義では金額が負になることを許しているので，適切でないといえる\n"
   ]
  },
  {
   "cell_type": "code",
   "execution_count": 1,
   "metadata": {},
   "outputs": [],
   "source": [
    "class Price:\n",
    "    def __init__(self, amount: int, currency: str) -> None:\n",
    "      self.amount = amount\n",
    "      self.currency = currency\n",
    "    \n",
    "price = Price(-1000, 'JPY') # 金額が負になることを許している"
   ]
  },
  {
   "cell_type": "markdown",
   "metadata": {},
   "source": [
    "*  金額が負の値にならないようにするために，ガード節を使う\n",
    "*  具体的には，金額を負の値にしようとすると例外が発生するしくみを入れる\n",
    ">*  金額を値オブジェクトとして扱うための`Amount`クラスを定義\n",
    ">*  `Amount`クラスのインスタンス属性`value`が金額に対応\n",
    ">*  この値オブジェクトを`Price`クラスのインスタンス生成時に渡す\n",
    ">*  これが，インスタンス属性`amount`の属性値となる\n",
    "*  また，`Amount`クラスのオブジェクトを`print`関数で表示させたときに，金額を表すインスタンス属性`value`の値が表示されるようにしている\n",
    "*  具体的には，特殊メソッドの`__str__`を使用する\n",
    ">*  `__str__`メソッドは，クライアント（人間）に対してオブジェクトの情報を分かりやすく提供するために使われる\n",
    ">*  このメソッドの戻り値が，提供される（`print`関数で表示される）情報となる\n",
    "*  このことからわかるように，`print`関数を呼び出すと，内部では引数として渡したオブジェクトが持つ`__str__`メソッドが呼び出されている\n",
    "*  また，`str`関数の内部でも`__str__`メソッドが呼び出されている\n",
    "*  同様の機能を持つ特殊メソッドに`__repr__`メソッドがあるが用途が異なる\n",
    ">*  `__str__`メソッドが，オブジェクトの非公式な文字列表現を提供しているのに対し，`__repr__`メソッドは，オブジェクトの公式な文字列表現を提供している\n",
    ">*  `__str__`メソッドは，一般のクライアント向けなので，オブジェクトを人間が読みやすい形式で表示するために使われる\n",
    ">*  一方，`__repr__`メソッドは，開発者向けで，オブジェクトの詳細情報を提供し，可能であればオブジェクトを再生成できる形式にする\n"
   ]
  },
  {
   "cell_type": "code",
   "execution_count": null,
   "metadata": {},
   "outputs": [],
   "source": [
    "class Amount():\n",
    "   def __init__(self, value: int) -> None:\n",
    "      if value <= 0:\n",
    "         raise ValueError('金額は0より大きい値にしてください')\n",
    "      self.value = value\n",
    "\n",
    "   def __str__(self) -> str:\n",
    "      return str(self.value)\n",
    "   \n",
    "class Price:\n",
    "   def __init__(self, amount: Amount, currency: str) -> None:\n",
    "      self.amount = amount\n",
    "      self.currency = currency\n",
    "\n",
    "   def __str__(self) -> str:\n",
    "      return str(self.amount) + self.currency\n",
    "\n",
    "amount1 = Amount(1000)\n",
    "price1 = Price(amount1, '円')\n",
    "print(price1.amount) # 金額のみを表示\n",
    "print(price1) # 価格を表示\n",
    "\n",
    "amount2 = Amount(50)\n",
    "price2 = Price(amount2, 'ドル')\n",
    "print(price2.amount) # 金額のみを表示\n",
    "print(price2) # 価格を表示"
   ]
  },
  {
   "cell_type": "markdown",
   "metadata": {},
   "source": [
    "# 開放・閉鎖の原則（OCP: Open-Closed Principle）\n",
    "*  情報システム（ソフトウェア）の構成要素（クラス，モジュール，関数など）拡張に対して開かれており，一方，修正・変更に対しては閉じているべきであるという原則\n",
    "*  つまり，既存のコードを変更せずに，新機能を追加できるような設計を目指すべきということ\n",
    "*  開放（Open）: 新しい機能や振る舞いを追加するために，既存のコードを拡張できる状態\n",
    "*  閉鎖（Closed）: 既存のコードを変更する必要がない状態\n",
    "*  この原則に従うことで，バグの発生リスクを低減し，コードの安定性を保つことができる"
   ]
  },
  {
   "cell_type": "markdown",
   "metadata": {},
   "source": [
    "## 開放・閉鎖の原則を遵守するための方法\n",
    "*  開放・閉鎖の原則を遵守するためには，主に抽象化とポリモーフィズムを活用する\n",
    "*  具体的には，抽象クラスやインターフェースを定義し，実装をサブクラスや実装クラスに委譲する\n",
    "*  これにより，新しい機能（クラス）を追加する際に，既存のクラスを変更せずに拡張できる"
   ]
  },
  {
   "cell_type": "markdown",
   "metadata": {},
   "source": [
    "### 簡単な例: 動物の鳴き声を出すシステム"
   ]
  },
  {
   "cell_type": "markdown",
   "metadata": {},
   "source": [
    "#### OCPに違反するコード"
   ]
  },
  {
   "cell_type": "code",
   "execution_count": null,
   "metadata": {},
   "outputs": [],
   "source": [
    "class Animal:\n",
    "    def make_sound(self, animal_type: str) -> None:\n",
    "        if animal_type == 'Dog':\n",
    "            print('ワンワン')\n",
    "        elif animal_type == 'Cat':\n",
    "            print('ニャー')\n",
    "\n",
    "animal = Animal()\n",
    "animal.make_sound('Dog')  # output: ワンワン\n",
    "animal.make_sound('Cat')  # output: ニャー"
   ]
  },
  {
   "cell_type": "markdown",
   "metadata": {},
   "source": [
    "#### 問題点\n",
    "*  新しい動物（例: Cow）を追加するたびに，`Animal`クラスを変更しなければならない\n",
    "*  その結果，`Animal`クラスが複雑化する"
   ]
  },
  {
   "cell_type": "code",
   "execution_count": null,
   "metadata": {},
   "outputs": [],
   "source": [
    "class Animal:\n",
    "    def make_sound(self, animal_type: str) -> None:\n",
    "        if animal_type == 'Dog':\n",
    "            print('ワンワン')\n",
    "        elif animal_type == 'Cat':\n",
    "            print('ニャー')\n",
    "        elif animal_type == 'Cow':\n",
    "            print('モーモー')\n",
    "\n",
    "animal = Animal()\n",
    "animal.make_sound('Dog')  # output: ワンワン\n",
    "animal.make_sound('Cat')  # output: ニャー\n",
    "animal.make_sound('Cow')  # output: モーモー"
   ]
  },
  {
   "cell_type": "markdown",
   "metadata": {},
   "source": [
    "#### OCPに従ったコードに修正\n",
    "*  `Animal`クラスを抽象クラス（インターフェース）にして，`make_sound`メソッドを抽象メソッドとして定義\n",
    "*  Pythonでは，`abc` (Abstract Base Class) モジュールの`ABC`クラスと`abstractmethod`デコレータを読み込むことで，抽象クラス及び抽象メソッドを利用できる\n",
    "*  具体的な動物（`Dog`や`Cat`など）は，`Animal`クラスを継承するサブクラスとし，各クラスで`make_sound`メソッドの実装を定義（オーバーライド）する\n",
    "*  これにより，Animal クラスを変更せずに，新しい動物を追加できる\n",
    "*  各動物クラスが独立しているため，コードの管理が容易になる"
   ]
  },
  {
   "cell_type": "code",
   "execution_count": null,
   "metadata": {},
   "outputs": [],
   "source": [
    "from abc import ABC, abstractmethod\n",
    "\n",
    "class Animal(ABC):\n",
    "    @abstractmethod\n",
    "    def make_sound(self) -> None:\n",
    "        pass\n",
    "\n",
    "class Dog(Animal):\n",
    "    def make_sound(self) -> None:\n",
    "        print('ワンワン')\n",
    "\n",
    "class Cat(Animal):\n",
    "    def make_sound(self) -> None:\n",
    "        print('ニャー')\n",
    "\n",
    "# 新しい動物を追加する場合\n",
    "class Cow(Animal):\n",
    "    def make_sound(self) -> None:\n",
    "        print('モーモー')\n",
    "\n",
    "animals = [Dog(), Cat(), Cow()] # リストを使って，まとめてインスタンス生成\n",
    "for animal in animals:\n",
    "    animal.make_sound()"
   ]
  },
  {
   "cell_type": "markdown",
   "metadata": {},
   "source": [
    "## 開放・閉鎖の原則を遵守することによる効果"
   ]
  },
  {
   "cell_type": "markdown",
   "metadata": {},
   "source": [
    "### メリット\n",
    "*  拡張性の向上: 新しい機能を追加する際に，既存のコードの変更が不要になる ⇒ システムを容易に拡張できる\n",
    "*  保守性の向上: 既存のコードに手を加えることなく新機能を追加できる ⇒ バグのリスクを減らし，保守作業が簡単になる\n",
    "*  再利用性の向上: 汎用的な部品を作成しやすくなる ⇒ コードの再利用が容易になる\n",
    "*  可読性の向上: コードが適切に分割されているので理解しやすい\n",
    "*  試験性の向上: 既存のコードに影響を与えずに新しい部品を追加できる ⇒ 新しい部品だけテストすればよい"
   ]
  },
  {
   "cell_type": "markdown",
   "metadata": {},
   "source": [
    "### デメリット\n",
    "*  設計の複雑化: 抽象化やインターフェースの導入により，初期の設計が複雑になる場合がある\n",
    "*  過剰な抽象化: 必要以上に抽象化を行うと，コードの理解や追跡が難しくなることがある"
   ]
  },
  {
   "cell_type": "markdown",
   "metadata": {},
   "source": [
    "## 具体例: 図形の面積を計算するシステム"
   ]
  },
  {
   "cell_type": "markdown",
   "metadata": {},
   "source": [
    "### OCPに違反するコード\n",
    "*  以下のコードにおける`Rctangle`クラスは，一つの図形を表現しているクラスで，インスタンス属性として矩形の幅（`width`）と高さ（`height`）を持つ\n",
    "*  また，`AreaCalculator`クラスは，図形に関する演算を扱うためのクラスで，`calculate_total_area`メソッドが定義されている\n",
    "*  `calculate_total_area`メソッドは，一つ以上の図形オブジェクト（`Rctangle`クラスのオブジェクト）を引数として渡すことで，それらの面積の合計を戻り値として返す\n",
    "*  よって，`AreaCalculator`クラスを全体，`Rctangle`クラスを部分とした集約の関連がある\n",
    "\n",
    "\n",
    "<img src=\"./fig/SOLID_OCP_sample1.png\" width=\"850\">"
   ]
  },
  {
   "cell_type": "code",
   "execution_count": null,
   "metadata": {},
   "outputs": [],
   "source": [
    "class Rectangle:\n",
    "    def __init__(self, width: float, height: float) -> None:\n",
    "        self.width = width\n",
    "        self.height = height\n",
    "\n",
    "class AreaCalculator:\n",
    "    def calculate_total_area(self, shapes: list[Rectangle]) -> float:\n",
    "        total_area = 0.0\n",
    "        for shape in shapes:\n",
    "            total_area += shape.width * shape.height\n",
    "        return total_area\n",
    "\n",
    "shape_list = [Rectangle(4, 5), Rectangle(8, 2)]\n",
    "calculator = AreaCalculator()\n",
    "result = calculator.calculate_total_area(shape_list)\n",
    "print(f'面積の合計: {result}')"
   ]
  },
  {
   "cell_type": "markdown",
   "metadata": {},
   "source": [
    "### 問題点\n",
    "*  上のコードにおいて，新しい図形クラス（例えば，`Triangle`クラスなど）を新たに追加すると，`AreaCalculator`クラスの内容（`calculate_total_area`メソッドの処理）を変更する必要がある\n",
    "*  次のコードは，上のコードに`Triangle`クラスを追加したコード例である\n",
    "*  コード内で使用している`isinstans`関数は第1引数で指定したインスタンスが第2引数で指定したクラスのインスタンスであれば`True`,そうでなければ`False`を返す関数である\n",
    "*  `isinstans`関数を使って，面積の計算方法を切り替えている\n",
    "*  このコードにおいて，さらに図形クラス（例えば，`Circle`クラスなど）を新たに追加すると，再度，`AreaCalculator`クラスの内容（`calculate_total_area`メソッドの処理）を変更する必要がある\n",
    "\n",
    "<img src=\"./fig/SOLID_OCP_sample2.png\" width=\"800\">"
   ]
  },
  {
   "cell_type": "code",
   "execution_count": 11,
   "metadata": {},
   "outputs": [
    {
     "name": "stdout",
     "output_type": "stream",
     "text": [
      "面積の合計: 27.5\n"
     ]
    }
   ],
   "source": [
    "from typing import Union\n",
    "\n",
    "class Rectangle:\n",
    "    def __init__(self, width: float, height: float) -> None:\n",
    "        self.width = width\n",
    "        self.height = height\n",
    "\n",
    "class Triangle:\n",
    "    def __init__(self, base: float, height: float) -> None:\n",
    "        self.base = base\n",
    "        self.height = height\n",
    "\n",
    "class AreaCalculator:\n",
    "    def calculate_total_area(self, shapes: list[Union[Rectangle, Triangle]]) -> float:\n",
    "        total_area = 0.0\n",
    "        for shape in shapes:\n",
    "            if isinstance(shape, Rectangle):\n",
    "                total_area += shape.width * shape.height\n",
    "            if isinstance(shape, Triangle):\n",
    "                total_area += shape.base * shape.height / 2\n",
    "        return total_area\n",
    "\n",
    "shape_list = [Rectangle(4, 5), Triangle(3, 5)]\n",
    "calculator = AreaCalculator()\n",
    "result = calculator.calculate_total_area(shape_list)\n",
    "print(f'面積の合計: {result}')"
   ]
  },
  {
   "cell_type": "markdown",
   "metadata": {},
   "source": [
    "### OCPに従ったコードに修正\n",
    "*  各図形クラスが自身の面積を計算する責任（メソッド）を持つようにする\n",
    "*  具体的には，抽象クラス`shape`を定義し，その中で抽象メソッド`calculate_area`を定義する\n",
    "*  具体的な図形クラス（`Rectangle`クラスや`Triangle`クラス）は`shape`クラスを継承したクラスとし，各クラスにおいて`calculate_area`メソッドの実装を定義する\n",
    "  \n",
    "<img src=\"./fig/SOLID_OCP_sample3.png\" width=\"1000\">\n"
   ]
  },
  {
   "cell_type": "code",
   "execution_count": null,
   "metadata": {},
   "outputs": [],
   "source": [
    "from abc import ABC, abstractmethod\n",
    "\n",
    "class Shape(ABC):\n",
    "    @abstractmethod\n",
    "    def calculate_area(self) -> float:\n",
    "        pass\n",
    "\n",
    "class Rectangle(Shape):\n",
    "    def __init__(self, width: float, height: float) -> None:\n",
    "        self.width = width\n",
    "        self.height = height\n",
    "\n",
    "    def calculate_area(self) -> float:\n",
    "        return self.width * self.height\n",
    "\n",
    "class Triangle(Shape):\n",
    "    def __init__(self, width: float, height: float) -> None:\n",
    "        self.width = width\n",
    "        self.height = height\n",
    "\n",
    "    def calculate_area(self) -> float:\n",
    "        return self.width * self.height / 2\n",
    "\n",
    "# 新しい図形を追加する場合\n",
    "class Circle(Shape):\n",
    "    def __init__(self, radius: float) -> None:\n",
    "        self.radius = radius\n",
    "\n",
    "    def calculate_area(self) -> float:\n",
    "        return self.radius ** 2 * 3.14\n",
    "\n",
    "class AreaCalculator:\n",
    "    def calculate_total_area(self, shapes: list[Shape]) -> float:\n",
    "        total_area = 0\n",
    "        for shape in shapes:\n",
    "            total_area += shape.calculate_area() # 各図形オブジェクトからメソッドを呼び出す\n",
    "        return total_area\n",
    "\n",
    "shape_list = [Rectangle(4, 5), Triangle(8, 2)]\n",
    "# shape_list = [Rectangle(4, 5), Triangle(8, 2), Circle(5)]\n",
    "calculator = AreaCalculator()\n",
    "result = calculator.calculate_total_area(shape_list)\n",
    "print(f'面積の合計: {result}')"
   ]
  },
  {
   "cell_type": "markdown",
   "metadata": {},
   "source": [
    "# 参考資料\n",
    "*  Robert C.Martin (著), 角征典 (翻訳), 高木正弘 (翻訳), [Clean Architecture 達人に学ぶソフトウェアの構造と設計](https://www.kadokawa.co.jp/product/301806000678/), KADOKAWA, 2018.\n",
    "*  ひらまつしょうたろう, [Python で身につける オブジェクト指向【SOLID原則+デザインパターンで、オブジェクト指向設計 の基礎を習得！】](https://www.udemy.com/course/python-solid-design-pattern/?couponCode=KEEPLEARNING), Udemy, 最終更新日 2024/6.\n",
    "*  Mark Summerfield (著), 斎藤康毅 (訳), [実践 Python 3](https://www.oreilly.co.jp/books/9784873117393/), オライリージャパン, 2015.\n",
    "<!-- *  Bill Lubanovic (著), 鈴木駿 (監訳), 長尾高弘 (訳), [入門 Python 3 第2版](https://www.oreilly.co.jp/books/9784873119328/), オライリージャパン, 2021. -->\n",
    "<!-- *  Guido van Rossum (著), 鴨澤眞夫 (翻訳), [Pythonチュートリアル 第4版](https://www.oreilly.co.jp/books/9784873119359/), オライリージャパン, 2021. -->\n",
    "\n"
   ]
  }
 ],
 "metadata": {
  "colab": {
   "authorship_tag": "ABX9TyNlEN6COxiCGqLXcrGZ08ji",
   "provenance": []
  },
  "kernelspec": {
   "display_name": "base",
   "language": "python",
   "name": "python3"
  },
  "language_info": {
   "codemirror_mode": {
    "name": "ipython",
    "version": 3
   },
   "file_extension": ".py",
   "mimetype": "text/x-python",
   "name": "python",
   "nbconvert_exporter": "python",
   "pygments_lexer": "ipython3",
   "version": "3.9.18"
  }
 },
 "nbformat": 4,
 "nbformat_minor": 0
}
