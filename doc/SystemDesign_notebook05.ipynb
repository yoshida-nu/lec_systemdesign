{
 "cells": [
  {
   "cell_type": "markdown",
   "metadata": {},
   "source": [
    "# 高階関数とデコレータ"
   ]
  },
  {
   "cell_type": "markdown",
   "metadata": {},
   "source": [
    "## 高階関数\n",
    "*  高階関数（higher-order function）とは，他の関数を引数として受け取ったり，関数を戻り値として返す関数のことを指す\n",
    "*  高階関数でできること: \n",
    ">*  別の関数を引数にとることで，関数内でその関数を操作したり呼び出す\n",
    ">*  関数内で新しい関数を作り，それを返す\n",
    "*  高階関数は，関数もまたオブジェクトであるから実現できているといえる\n",
    "*  高階関数を使うと，関数をデータのように扱えるため，コードの柔軟性と再利用性が高まる\n",
    "*  これにより，関数の動作を動的に変更したり，複雑な処理をシンプルに表現したりできる"
   ]
  },
  {
   "cell_type": "markdown",
   "metadata": {},
   "source": [
    "### 関数を引数にとる高階関数の例\n",
    "*  以下のコードでは，`apply_function`が高階関数\n",
    "*  高階関数`apply_function`は，`double`や`absolute`といった引数と戻り値が数値（`float`）である関数を引数`func`として受け取る\n",
    "*  引数`func`に渡された関数が`apply_function`関数内で呼び出されている"
   ]
  },
  {
   "cell_type": "code",
   "execution_count": null,
   "metadata": {},
   "outputs": [],
   "source": [
    "from typing import Callable\n",
    "\n",
    "# 関数を引数として受け取る高階関数\n",
    "def apply_function(func: Callable[[float], float], value: float) -> float:\n",
    "    return func(value)\n",
    "\n",
    "# 2倍する関数\n",
    "def double(x: float) -> float:\n",
    "    return x * 2\n",
    "\n",
    "# 絶対値を取る関数\n",
    "def absolute(x: float) -> float:\n",
    "    return abs(x)\n",
    "\n",
    "# 関数を渡して実行\n",
    "result1: float = apply_function(double, 5)    # 10\n",
    "result2: float = apply_function(absolute, -7) # 7\n",
    "\n",
    "print(result1)\n",
    "print(result2)"
   ]
  },
  {
   "cell_type": "markdown",
   "metadata": {},
   "source": [
    "### 関数を戻り値とする高階関数の例\n",
    "*  以下のコードでは，`multiplier`が高階関数\n",
    "*  `multiplier`内部で定義された`multiply_by`関数を戻り値として返す\n",
    "*  例えば，`multiplier(3)`を呼び出すことで，与えられた数値を3倍にする新しい関数が生成される\n",
    "*  戻り値として返された新たな関数は，変数に格納される\n",
    "*  新たな関数は，`変数名()`で呼び出すことができる"
   ]
  },
  {
   "cell_type": "code",
   "execution_count": null,
   "metadata": {},
   "outputs": [],
   "source": [
    "from typing import Callable\n",
    "\n",
    "# 関数を返り値として返す高階関数\n",
    "def multiplier(factor: float) -> Callable[[float], float]:\n",
    "    def multiply_by(x: float) -> float:\n",
    "        return x * factor\n",
    "    return multiply_by\n",
    "\n",
    "# 3倍する関数を生成\n",
    "triple: Callable[[float], float] = multiplier(3)\n",
    "\n",
    "# 生成した関数を使う\n",
    "result: float = triple(10)  # 30\n",
    "\n",
    "print(result)"
   ]
  },
  {
   "cell_type": "markdown",
   "metadata": {},
   "source": [
    "### 関数を引数にとり関数を戻り値とする高階関数の例\n",
    "*  以下のコードでは，`how_are_you`が高階関数\n",
    "*  `how_are_you`内部で定義された`wrapper`関数を戻り値として返す\n",
    "*  `how_are_you`関数は，`hello`関数のように何らかの値（文字列）を返す関数を引数として受け取る\n",
    "*  それらの関数が`wrapper`関数の定義に利用されている\n",
    "*  `wrapper`関数は，引数にとった関数の戻り値に「元気ですか！」を追加した文字列を返す関数となる"
   ]
  },
  {
   "cell_type": "code",
   "execution_count": null,
   "metadata": {},
   "outputs": [],
   "source": [
    "from typing import Callable\n",
    "\n",
    "def how_are_you(func: Callable[[str], str]) -> Callable[[str], str]:\n",
    "    def wrapper(arg: str) -> str:\n",
    "        txt: str = func(arg)\n",
    "        return  f'{txt}\\n元気ですか！'\n",
    "    return wrapper\n",
    "\n",
    "def hello(name: str) -> str:\n",
    "    return f'{name}さん、こんにちは！'\n",
    "\n",
    "newfunc: Callable[[str], str] = how_are_you(hello)\n",
    "print(newfunc('太郎'))"
   ]
  },
  {
   "cell_type": "markdown",
   "metadata": {},
   "source": [
    "## デコレータ\n",
    "*  上の高階関数`how_are_you`の例では，関数`hello`に対して機能を追加する（デコレートする）処理を行っている\n",
    "*  具体的には，高階関数によって機能を追加した関数を変数に代入して（変数として）扱っていた\n",
    "*  デコレータとは，関数，メソッド，及びクラスの中身を変えずに共通の機能を追加する機能（高階関数）のこと\n",
    "*  関数に対するデコレータを使うことで，上の例で示した高階関数の記述をもう少しシンプルにすることができる\n",
    "*  変数への代入を使わずに「`@`」に続けてデコレータ名（既存の高階関数名）を記述する\n",
    "*  Pythonには，様々な組み込みのデコレータが用意されている（多くの組み込みデコレータは，組み込みクラスに基づいている）\n",
    "*  ポリモーフィズムを実装する際に，その1つを利用する\n",
    "  \n",
    "---\n",
    "```Python\n",
    "@デコレータ名\n",
    "def デコレート（装飾）される側の関数名:\n",
    "    処理の記述\n",
    "```\n",
    "---\n"
   ]
  },
  {
   "cell_type": "markdown",
   "metadata": {},
   "source": [
    "### デコレータの利用例\n",
    "*  高階関数`how_are_you`の例をデコレータを使って記述すると以下のようになる"
   ]
  },
  {
   "cell_type": "code",
   "execution_count": null,
   "metadata": {},
   "outputs": [],
   "source": [
    "from typing import Callable\n",
    "\n",
    "def how_are_you(func: Callable[[str], str]) -> Callable[[str], str]:\n",
    "    def wrapper(arg: str) -> str:\n",
    "        txt: str = func(arg)\n",
    "        return  f'{txt}\\n元気ですか！'\n",
    "    return wrapper\n",
    "\n",
    "@how_are_you\n",
    "def hello(name: str) -> str:\n",
    "    return f'{name}さん、こんにちは！'\n",
    "\n",
    "print(hello('太郎'))"
   ]
  },
  {
   "cell_type": "markdown",
   "metadata": {},
   "source": [
    "# メソッドのタイプ\n",
    "*  Pythonには，インスタンスメソッド，クラスメソッド，スタティックメソッドという3種類のメソッドがある\n",
    "*  クラスメソッドとスタティックメソッドの定義には，組み込みのデコレータを用いる"
   ]
  },
  {
   "cell_type": "markdown",
   "metadata": {},
   "source": [
    "## インスタンスメソッド\n",
    "*  クラスのインスタンス（オブジェクト）に紐づけられたメソッド\n",
    "*  そのクラスの属性を操作したり参照したりできる\n",
    "*  第一引数として，常にインスタンス自身（`self`）を受け取る\n",
    "*  これまでのコード例で示してきたメソッドは，すべてインスタンスメソッドであった\n",
    "*  他のメソッド（クラスメソッドとスタティックメソッド）とは違い，デコレータを使用せずに定義できる"
   ]
  },
  {
   "cell_type": "markdown",
   "metadata": {},
   "source": [
    "##  クラスメソッド\n",
    "*  クラス自体に紐づけられたメソッドで，クラス全体に影響を与える\n",
    "*  第一引数として，クラス自身（`cls`）を受け取る\n",
    "*  引数の名前は`cls`でなくてもよいが慣例として`cls`と指定されている\n",
    "*  `cls`に対する型ヒントは，一般には記述しない\n",
    "*  クラスメソッドを定義する際には，組み込みの`@classmethod`デコレータを使用する\n",
    "*  クラスメソッドはクラス自体から呼び出すことができ、インスタンス化しなくても利用可能で\n",
    "*  以下のコードでは，クラス`MyClass`にクラスメソッドとして`count_instance`メソッドを定義している\n",
    ">*  クラス属性の`cnt`は，生成したインスタンスの数をカウントするための変数の役割\n",
    ">*  インスタンスが生成されると自動的に呼び出されるコンストラクタ`__init__`内で`cnt`が+1される"
   ]
  },
  {
   "cell_type": "code",
   "execution_count": null,
   "metadata": {},
   "outputs": [],
   "source": [
    "class MyClass:\n",
    "    cnt: int = 0 # クラス属性\n",
    "    \n",
    "    def __init__(self) -> None:\n",
    "        MyClass.cnt += 1\n",
    "    \n",
    "    # クラスメソッド\n",
    "    @classmethod\n",
    "    def count_instance(cls) -> None:\n",
    "        print(f'MyClassのインスタンス数: {cls.cnt}')\n",
    "\n",
    "MyClass.count_instance()\n",
    "a: MyClass = MyClass()\n",
    "MyClass.count_instance()\n",
    "b: MyClass = MyClass()\n",
    "MyClass.count_instance()"
   ]
  },
  {
   "cell_type": "markdown",
   "metadata": {},
   "source": [
    "## スタティックメソッド\n",
    "*  クラスやインスタンスに依存しないメソッド\n",
    "*  クラスやインスタンスとは独立しているが，クラスの中で定義したほうが都合のよいメソッド\n",
    "*  第一引数としてインスタンス自身（`self`）やクラス自身（`cls`）を受け取らず，通常の関数と同じように定義する\n",
    "*  クラス属性やインスタンス属性にはアクセスできない\n",
    "*  スタティックメソッドはクラスからもインスタンスからも呼び出せるが，メソッド名だけでは呼び出せない\n",
    ">*  `インスタンス名.スタティックメソッド名()`\n",
    ">*  `クラス名.スタティックメソッド名()`\n",
    "\n",
    "*  スタティックメソッドを定義する際には，組み込みの`@staticmethod`デコレータを使用する"
   ]
  },
  {
   "cell_type": "code",
   "execution_count": null,
   "metadata": {},
   "outputs": [],
   "source": [
    "class MyClass:\n",
    "    # スタティックメソッド\n",
    "    @staticmethod\n",
    "    def static_method() -> None:\n",
    "        print('スタティックメソッド: どのインスタンスやクラスにも依存しない')\n",
    "\n",
    "# スタティックメソッドはクラスからもインスタンスからも呼び出せる\n",
    "MyClass.static_method()\n",
    "obj: MyClass = MyClass()\n",
    "obj.static_method()"
   ]
  },
  {
   "cell_type": "markdown",
   "metadata": {},
   "source": [
    "# モジュールの利用\n",
    "*  これまでに使ってきた`print`などの組み込み関数は，Pythonの中に内蔵されていて，いつでも使えるように組み込まれている関数であった\n",
    "*  一方，限られた用途で使う定型の処理は，モジュールから読み込むことで使うことができる\n",
    "*  モジュールとは，（組み込み以外の）変数，関数，クラス，デコレータなどを必要なときに読み込んで使える仕組みのこと\n",
    "\n",
    "<img src=\"./fig/image_module.png\" width=\"500\">"
   ]
  },
  {
   "cell_type": "markdown",
   "metadata": {},
   "source": [
    "## モジュール／ライブラリ／パッケージ\n",
    "*  モジュールに関連する用語に「ライブラリ」と「パッケージ」がある\n",
    "*  モジュール\n",
    ">*  Pythonで記述された拡張子が「.py」のファイル\n",
    ">*  他のファイルやノートブックから読み込むことで利用できる\n",
    "*  ライブラリ\n",
    ">* 複数のモジュールがまとまったもので，2種類（標準ライブラリと外部ライブラリ）のライブラリがある\n",
    ">*  標準ライブラリ：最初からPythonに付属しているライブラリ\n",
    ">*  外部ライブラリ：外部の組織や個人（サードパーティ）が用意したライブラリ\n",
    "*  パッケージ\n",
    ">*  実体はフォルダ\n",
    ">*  複数のモジュールをフォルダに入れてひとまとめにしたもの\n",
    ">*  フォルダには「__init__.py」という名前のファイルが含まれ，そのパッケージを読み込んだ際に実行される\n"
   ]
  },
  {
   "cell_type": "markdown",
   "metadata": {},
   "source": [
    "## 標準ライブラリに含まれる主なモジュール\n",
    "\n",
    "|モジュール名|用途|\n",
    "|:--|:--|\n",
    "mathモジュール | 数学計算（三角関数など）に関する処理 |\n",
    "randomモジュール | 乱数に関する処理 |\n",
    "datetimeモジュール | 日付と時間に関する処理 |\n",
    "timeモジュール | 時間に関する処理 |\n",
    "emailモジュール | 電子メールに関する処理 |\n",
    "csvモジュール | CSVファイルに関する処理 |\n",
    "jsonモジュール | JSONファイルに関する処理 |\n",
    "osモジュール | OS操作に関する処理 |"
   ]
  },
  {
   "cell_type": "markdown",
   "metadata": {},
   "source": [
    "## 代表的な外部ライブラリ\n",
    "*  Pythonでは，外部の組織や個人（サードパーティ）が作成した数多くのモジュールが外部ライブラリとして公開されている\n",
    "*  外部ライブラリを使う場合は，事前にインストールしておく必要がある\n",
    "*  多くの外部ライブラリはパッケージとして提供されている\n",
    "\n",
    "|ライブラリ名|主な用途|\n",
    "|:--|:--|\n",
    "Matplotlib | データの可視化（グラフ作成等） |\n",
    "Pandas | データ分析 |\n",
    "NumPy | ベクトル・行列計算 |\n",
    "SciPy | 高度な科学技術計算（統計モジュールなど） |\n",
    "scikit-learn | 機械学習・データサイエンス |"
   ]
  },
  {
   "cell_type": "markdown",
   "metadata": {},
   "source": [
    "## モジュールのインポート\n",
    "*  モジュールを使いたい場合は，モジュールを読み込む必要がある\n",
    "*  モジュールを読み込むことをインポート（import）と呼ぶ\n",
    "*  モジュールのインポートは，`import`文で記述できる\n",
    "*  基本的な`import`文の書式: `import モジュール名`\n",
    "*  `import`の直後にモジュール名を書くことで指定したモジュールを読み込む（インポートする）ことができる\n",
    "*  モジュールをインポートすることで，モジュールの中にある各種機能（変数，関数，クラス）が利用できるようになる\n",
    "*  一般的に，`import`文はコードの先頭に記述する\n",
    "\n",
    "<img src=\"./fig/import_module.png\" width=\"500\">\n",
    "\n",
    "*  上記の書式でインポートしたモジュールの機能を利用する場合は，モジュール名を必ず記述する\n",
    "*  モジュール名の直後にドット「`.`」を付け，続けて変数名や関数名を記述する\n",
    "*  モジュール内の変数の参照: `モジュール名.変数名`\n",
    "*  モジュール内の関数の呼び出し: `モジュール名.関数名(引数, …)`\n",
    "*  モジュール内のクラスからインスタンスを生成: `モジュール名.クラス名(引数, …)`"
   ]
  },
  {
   "cell_type": "code",
   "execution_count": null,
   "metadata": {},
   "outputs": [],
   "source": [
    "import math\n",
    "\n",
    "print(f'2の平方根は{math.sqrt(2)}です') # sqrt は平方根を計算する関数\n",
    "print(f'円周率は{math.pi}です') # pi は円周率の値\n",
    "print(f'小数点以下を切り捨てれば{math.floor(math.pi)}です') # floor は切り捨てする関数\n",
    "print(f'小数点以下を切り上げれば{math.ceil(math.pi)}です') # ceil は切り上げする関数"
   ]
  },
  {
   "cell_type": "markdown",
   "metadata": {},
   "source": [
    "### 特定の機能だけをインポート\n",
    "*  `from`を使うと，モジュール全体ではなく，モジュールから特定の機能だけを読み込むこともできる\n",
    "*  この方法でインポートした機能は，「`モジュール名.`」を付けずにそのままの名前で使用することができる\n",
    "*  `from`を使った書式: \n",
    "*  モジュール内の変数の参照: `変数名`\n",
    "*  モジュール内の関数の呼び出し: `関数名(引数, …)`\n",
    "*  モジュール内のクラスからインスタンスを生成: `クラス名(引数, …)`"
   ]
  },
  {
   "cell_type": "code",
   "execution_count": null,
   "metadata": {},
   "outputs": [],
   "source": [
    "from math import sqrt\n",
    "from math import pi\n",
    "from math import floor\n",
    "from math import ceil\n",
    "\n",
    "print(f'2の平方根は{sqrt(2)}です') # sqrt は平方根を計算する関数\n",
    "print(f'円周率は{pi}です') # pi は円周率の値\n",
    "print(f'小数点以下を切り捨てれば{floor(pi)}です') # floor は切り捨てする関数\n",
    "print(f'小数点以下を切り上げれば{ceil(pi)}です') # ceil は切り上げする関数"
   ]
  },
  {
   "cell_type": "markdown",
   "metadata": {},
   "source": [
    "#  抽象クラスと抽象メソッド"
   ]
  },
  {
   "cell_type": "markdown",
   "metadata": {},
   "source": [
    "## メソッドと実装\n",
    "*  メソッドに対応する具体的な処理内容を実装と呼ぶ\n",
    "*  メソッドを呼び出す ⇒ そのクラスに定義されている実装が実行される\n",
    "*  実装はクラスで共通\n",
    "*  メソッドは単なる識別子と捉えることができる\n",
    "*  その裏には実装が紐づいている\n",
    "\n",
    "<img src=\"./fig/methods_and_implementation.png\" width=\"300\">  "
   ]
  },
  {
   "cell_type": "markdown",
   "metadata": {},
   "source": [
    "## 抽象クラスと抽象メソッドを理解するためのイメージ例\n",
    "*  犬クラス，猫クラス，牛クラスを考える\n",
    "*  これらのクラスは，すべて動物なので，動物クラスをスーパークラスとして定義する\n",
    "*  スーパークラスの動物には，「`鳴く`」というメソッドを定義する\n",
    ">*  鳴かない動物もいるが，この例での動物クラスは，鳴く動物を表現していると考える \n",
    "*  よって，3つのサブクラスには，`鳴く`メソッドが継承され，それぞれのクラスで`鳴く`メソッドが使用できる\n",
    "\n",
    "<img src=\"./fig/concrete class_animal.png\" width=\"350\">  \n",
    "\n",
    "*  しかし，同じ「鳴く」にしても．犬はワンと鳴き，猫はニャーと鳴き，牛はモーと鳴く\n",
    "*  したがって，（厳密な話は置いておいたとして）各サブクラスによって，スーパークラスから継承した`鳴く`メソッドのメカニズム，すなわち実装が違っているといえる\n",
    "\n",
    "\n",
    "<img src=\"./fig/methods_and_implementation_animal.png\" width=\"330\">  "
   ]
  },
  {
   "cell_type": "markdown",
   "metadata": {},
   "source": [
    "## 抽象クラス： インスタンスを持たないクラス\n",
    "*  情報システムは，クラスからインスタンスを生成することで，様々な機能を実現する\n",
    "*  この場合，クラスはインスタンスを持つことが前提として定義される\n",
    "*  しかし，インスタンスを持たないクラスを考えると便利なことがある\n",
    "*  上の例における動物クラスは，インスタンスを持たないクラスとなっている\n",
    "*  一般に，同じような機能を持つクラスに対して，インスタンスを持たないクラスをスーパークラスとして定義することで，共通した属性やメソッドをまとめて定義できる\n",
    "*  このような，インスタンスを持たないクラスのことを抽象クラスと呼ぶ\n",
    "*  抽象クラスに対して，インスタンスを持つ通常のクラスを具象クラスと呼ぶ\n",
    "*  抽象クラスは，次に説明する抽象メソッドを持つことができる\n"
   ]
  },
  {
   "cell_type": "markdown",
   "metadata": {},
   "source": [
    "## 抽象メソッド： 実装を持たないメソッド\n",
    "*  実装を持たないメソッドのことを抽象メソッドと呼ぶ\n",
    "*  抽象メソッドを定義できるのは抽象クラスのみ\n",
    "*  抽象メソッドの実装は，サブクラスにおいて抽象メソッドをオーバーライドする形で定義する\n",
    "*  抽象クラスは，抽象メソッドだけでなく，実装を持つ通常のメソッドも定義できる（混在を許す）\n",
    "*  一方，具象クラスは，実装を持つ通常のメソッドしか定義できない（抽象メソッドが定義できない）\n",
    "*  上の例は，スーパークラスから継承したメソッドの実装が各サブクラスで異なるのが問題であったので，スーパークラスでは抽象メソッドとして定義し，その実装を各サブクラスで定義すれば解決する（これがポリモーフィズムの考え方につながる）\n"
   ]
  },
  {
   "cell_type": "markdown",
   "metadata": {},
   "source": [
    "## UMLにおける抽象クラスの表記法\n",
    "*  抽象クラスは，一般のクラスと同様に3つの区画（名前区画，属性区画，メソッド区画）に分割された長方形で表す（属性区画とメソッド区画は省略可能）\n",
    "*  抽象クラスと抽象メソッドの名前は斜体で表記\n",
    "*  一般のクラスと同様に，属性や実装を持つ通常のメソッドも記述できる\n",
    "  \n",
    "> <img src=\"./fig/abstract_class_UML.jpg\" width=\"150\">  "
   ]
  },
  {
   "cell_type": "markdown",
   "metadata": {},
   "source": [
    "## 抽象クラスと抽象メソッドを理解するためのイメージ例（つづき）\n",
    "*  犬クラス，猫クラス，牛クラスにおいて定義される`鳴く`メソッドの実装は，それぞれ「ワン」，「ニャー」，「モー」と鳴くことに対応する\n",
    "*  一般の動物の鳴き声を一つに定めることはできないので，動物クラスの`鳴く`メソッドを抽象クラスとして定義しておく\n",
    "*  動物クラスのサブクラスである3つのクラスは，この抽象メソッドを継承するので，各クラスでオーバーライドし，実装を定義する\n",
    "*  オーバーライドについては[第4回講義資料](https://colab.research.google.com/github/yoshida-nu/lec_systemdesign/blob/main/doc/SystemDesign_notebook04.ipynb)を参照\n",
    "\n",
    "<img src=\"./fig/abstract_class_animal.png\" width=\"400\">  "
   ]
  },
  {
   "cell_type": "markdown",
   "metadata": {},
   "source": [
    "# インターフェース\n",
    "*  オブジェクト指向におけるインターフェースとは，複数クラスの共通の振る舞いを定義する概念\n",
    "*  クラスが実装すべきメソッドの仕様（メソッドの名前，引数，戻り値のクラス（型））を定義したものがインターフェース\n",
    "*  インターフェースでは，具体的な実装は定義しない\n",
    "*  クラスが実現しなければならないメソッドのみが定義された特別なクラス\n",
    "*  オブジェクト指向では，インターフェースと実装を分離することが重要な考え方の一つになる\n",
    ">*  インターフェースを実装するクラスは，共通のメソッドを実装することが強制され，コードの一貫性が保たれる\n",
    ">*  インターフェースを実装するクラスは、どのように動作するかを自由に定義できる\n",
    ">*  外部にはインターフェースだけを公開し，実装は非公開にできるので，外部のオブジェクト（利用者）は実装を気にすることなくメソッドを呼び出すことができるし，実装の変更も容易になる\n",
    "*  インターフェースは，実装を持たない抽象メソッドしか定義されていない（属性や実装を持つメソッドが定義されていない），特別な抽象クラスとしてみることもできる\n"
   ]
  },
  {
   "cell_type": "markdown",
   "metadata": {},
   "source": [
    "## UMLにおけるインターフェースの表記法\n",
    "*  インターフェースは抽象クラスなので，表記法も抽象クラスと同様\n",
    "*  インタフェース名とメソッド名は斜体で表記（それぞれ抽象クラスと抽象メソッドに対応する）\n",
    "*  ただし，記述できる（定義できる）のは抽象メソッドのみ\n",
    "*  つまり，属性，及び実装を持つメソッドは記述できない（定義できない）\n",
    "*  さらに，クラスとインターフェースを区別できるように，名前の上に「`<<interface>>`」と記述\n",
    ">*  「`<< … >>`」ような表記法をステレオタイプと呼ぶ\n",
    ">*  UMLには様々なステレオタイプがあるが，本講義では「`<<interface>>`」だけ使用する\n",
    ">*  省略することもある\n",
    "  \n",
    "> <img src=\"./fig/interface_UML.jpg\" width=\"150\">  "
   ]
  },
  {
   "cell_type": "markdown",
   "metadata": {},
   "source": [
    "## 実現関係（Realization Relationship）\n",
    "*  インターフェースとインターフェースで定義したメソッド（抽象メソッド）を実装するクラスとの関連を「実現関係」と呼ぶ\n",
    "*  抽象クラスと抽象クラスで定義した抽象メソッドを実装するサブクラスとの関連も同様に「実現関係」と呼ぶ\n",
    "*  関連，及び関連の種類の概要については，[第4回講義資料](https://colab.research.google.com/github/yoshida-nu/lec_systemdesign/blob/main/doc/SystemDesign_notebook04.ipynb)を参照\n",
    "*  クラス図では，インターフェースとメソッドを実装するクラスを，破線の先に白三角形が付いた矢印で結ぶ\n"
   ]
  },
  {
   "cell_type": "markdown",
   "metadata": {},
   "source": [
    "### 実現関係の例: 時刻表示\n",
    "*  例として時計の時刻表示を考える\n",
    "*  時計には，アナログ時計とデジタル時計があり，両方とも時刻を表示する機能を持っているが，表示のしかた（時間の読み方）が違っている\n",
    "*  つまり，これらは異なる実装を持つといえる\n",
    "*  ここで，時計インターフェースを定義し，「`時刻表示する`」という抽象メソッドを定義する\n",
    "*  このメソッドの実装を定義するクラスとして，アナログ時計クラスとデジタル時計クラスを定義する\n",
    "\n",
    "> <img src=\"./fig/interface_clock.jpg\" width=\"300\">  \n",
    "\n"
   ]
  },
  {
   "cell_type": "markdown",
   "metadata": {},
   "source": [
    "# ポリモーフィズム\n",
    "*  オブジェクト指向の重要な概念の一つで．異なるクラスのオブジェクトに対して同じメッセージを送った場合，オブジェクトごとに異なる処理が実行されることを指す\n",
    "*  つまり，同じメソッド名であっても，異なるクラスで異なる振る舞い（実装）を実現するしくみ\n"
   ]
  },
  {
   "cell_type": "markdown",
   "metadata": {},
   "source": [
    "## ポリモーフィズムの特徴\n",
    "*  統一された振る舞い: 同じ名前のメソッドを持つが，それが各クラスで異なる動作をする\n",
    "*  コードの再利用性:\n",
    ">*  同じコードを異なるクラスのオブジェクトに対して適用できるため，コードの重複を減らし，汎用的に使用できる\n",
    ">*  共通のメソッドを持つ異なるクラスのオブジェクトに対して同じ処理を行う関数やメソッドを一度定義しておけば，それをさまざまな場面で再利用できる\n",
    "*  拡張性:\n",
    ">* 既存のコード（システム）に影響を与えることなく新しいクラスを追加することができる\n",
    "*  柔軟性:\n",
    ">*  異なるクラスのオブジェクトに対して共通のメッセージで操作できる（クラスが違っても同じ操作を実行できる）ため，特定のクラスに依存しない汎用的な設計が可能になる\n",
    ">*  これにより，クラスの変更や差し替えが容易になる"
   ]
  },
  {
   "cell_type": "markdown",
   "metadata": {},
   "source": [
    "## インターフェースとポリモーフィズムの関係\n",
    "**インターフェースの役割:**\n",
    "*  インターフェースでは，クラスが実装すべきメソッドの仕様（メソッドの名前，引数，戻り値のクラス（型））を定義する\n",
    "*  インターフェース自体は抽象クラスなので，具体的な実装は定義せず，実装は抽象クラスのサブクラスで定義する\n",
    "*  インターフェースは，複数のクラスに共通のメソッドを強制するしくみとなる\n",
    "  \n",
    "**ポリモーフィズムの役割:**\n",
    "*  ポリモーフィズムは，異なるクラスのオブジェクトが同じメソッドを通じて異なる動作を実行できることを指す\n",
    "*  これは，クラスがインターフェースやスーパークラスを継承しているときに実現される\n",
    "*  つまり，インターフェースを通じて定義された共通のメソッドに対して，異なるクラスが異なる実装を持つことで，ポリモーフィズムが機能する\n",
    "\n",
    "**インターフェースとポリモーフィズムの連携:**\n",
    "*  インターフェースは，ポリモーフィズムを実現するための基盤（方法）となる\n",
    "*  インターフェースを使用することで，異なるクラスに共通のメソッドを強制でき，これらのクラスを同じ方法で扱いつつ，クラスごとに異なる動作をさせることが可能となる"
   ]
  },
  {
   "cell_type": "markdown",
   "metadata": {},
   "source": [
    "## ポリモーフィズムの実装"
   ]
  },
  {
   "cell_type": "markdown",
   "metadata": {},
   "source": [
    "### インターフェースを使わないポリモーフィズムの実装\n",
    "*  下のコードでポリモーフィズムは実現できるが，すべてのクラスに`sayhello`メソッドを定義する強制力がない\n",
    "*  つまり，下のコードの`Human`クラスように，`sayhello`メソッドが定義されていないクラスがあってもエラーとはならない（インスタンス化できてしまう）\n",
    "*  これはシステムにバグをもたらす要因となる\n",
    "*  この例の場合，`sayhello`関数の引数に`Human`クラスのインスタンスを与えて呼び出すとエラーになる"
   ]
  },
  {
   "cell_type": "code",
   "execution_count": null,
   "metadata": {},
   "outputs": [],
   "source": [
    "from typing import Union\n",
    "\n",
    "class Dog:\n",
    "    def sayhello(self) -> None:\n",
    "        print('ワン')\n",
    "\n",
    "class Cat:\n",
    "    def sayhello(self) -> None:\n",
    "        print('ニャー')\n",
    "\n",
    "class Cow:\n",
    "    def sayhello(self) -> None:\n",
    "        print('モー')\n",
    "\n",
    "class Human:\n",
    "    pass\n",
    "\n",
    "def sayhello(animal: Union[Dog, Cat, Cow])  -> None:\n",
    "    animal.sayhello()\n",
    "\n",
    "hachi: Dog = Dog()\n",
    "tama: Cat = Cat()\n",
    "beco: Cow = Cow()\n",
    "taro: Human = Human()\n",
    "\n",
    "sayhello(hachi)\n",
    "sayhello(tama)\n",
    "sayhello(beco)\n",
    "# sayhello(taro) # エラー"
   ]
  },
  {
   "cell_type": "markdown",
   "metadata": {},
   "source": [
    "### インターフェースを使ったポリモーフィズムの実装\n",
    "*  ポリモーフィズムを適用したいメソッド（上のコード例の`sayhello`メソッド）が定義されていないクラスがあった場合に，エラーとなるコードを作成したい\n",
    "*  これは，インターフェースを用いることで実現できる\n",
    "*  しかし，Pythonではインターフェースを定義する仕組みが存在しない\n",
    "*  そのため，ここでは抽象クラスをインターフェースとして用いることにする  \n",
    "*  Pythonでは，標準ライブラリから`abc` (Abstract Base Class) モジュールの`ABC`クラスと`abstractmethod`デコレータを読み込むことで，抽象クラス及び抽象メソッドを利用できる  \n",
    "*  具体的には，`ABC`クラスを継承した抽象クラス（インターフェース）を定義し，`@abstractmethod`デコレータを使って抽象メソッドを定義する\n",
    "*  クラス図は下図のように描ける\n",
    "\n",
    "> <img src=\"./fig/polymorphism_example_Animal.jpg\" width=\"350\">"
   ]
  },
  {
   "cell_type": "code",
   "execution_count": null,
   "metadata": {},
   "outputs": [],
   "source": [
    "from abc import ABC, abstractmethod\n",
    "\n",
    "# Animalクラスを抽象クラス（インターフェース）として定義\n",
    "class Animal(ABC):\n",
    "    # sayhelloを抽象メソッドにするためのデコレータ\n",
    "    @abstractmethod\n",
    "    def sayhello(self) -> None:\n",
    "    # ここでは実装（具体的な処理）は記述できない\n",
    "    # 抽象メソッドに書けるのはpassのみ\n",
    "        pass\n",
    "\n",
    "class Dog(Animal):\n",
    "    def sayhello(self) -> None:\n",
    "        print('ワン')\n",
    "\n",
    "class Cat(Animal):\n",
    "    def sayhello(self) -> None:\n",
    "        print('ニャー')\n",
    "\n",
    "class Cow(Animal):\n",
    "    def sayhello(self) -> None:\n",
    "        print('モー')\n",
    "\n",
    "hachi: Dog = Dog()\n",
    "tama: Cat = Cat()\n",
    "beko: Cow = Cow()\n",
    "\n",
    "hachi.sayhello()\n",
    "tama.sayhello()\n",
    "beko.sayhello()"
   ]
  },
  {
   "cell_type": "markdown",
   "metadata": {},
   "source": [
    "*  上のコードの`Animal`クラスを継承した`Human`クラスを新たに定義することを考える\n",
    "*  このとき，`sayhello`メソッドを定義していないとエラーになる\n",
    ">*  `Human`クラスで抽象メソッドの実装を定義していないため，`Human`クラスは抽象クラスとなる\n",
    ">*  よって，`taro = Human()`は抽象クラスからインスタンスを生成していることになるためエラーになる"
   ]
  },
  {
   "cell_type": "code",
   "execution_count": null,
   "metadata": {},
   "outputs": [],
   "source": [
    "from abc import ABC, abstractmethod\n",
    "\n",
    "class Animal(ABC):\n",
    "    @abstractmethod\n",
    "    def sayhello(self) -> None:\n",
    "        pass\n",
    "\n",
    "class Dog(Animal):\n",
    "    def sayhello(self) -> None:\n",
    "        print('ワン')\n",
    "\n",
    "class Cat(Animal):\n",
    "    def sayhello(self) -> None:\n",
    "        print('ニャー')\n",
    "\n",
    "class Cow(Animal):\n",
    "    def sayhello(self) -> None:\n",
    "        print('モー')\n",
    "\n",
    "class Human(Animal):\n",
    "    pass\n",
    "\n",
    "taro: Human = Human()"
   ]
  },
  {
   "cell_type": "markdown",
   "metadata": {},
   "source": [
    "*  エラーにならないように，`Human`クラスの`sayhello`メソッドを定義する"
   ]
  },
  {
   "cell_type": "code",
   "execution_count": null,
   "metadata": {},
   "outputs": [],
   "source": [
    "from abc import ABC, abstractmethod\n",
    "\n",
    "class Animal(ABC):\n",
    "    @abstractmethod\n",
    "    def sayhello(self) -> None:\n",
    "        pass\n",
    "\n",
    "class Dog(Animal):\n",
    "    def sayhello(self) -> None:\n",
    "        print('ワン')\n",
    "\n",
    "class Cat(Animal):\n",
    "    def sayhello(self) -> None:\n",
    "        print('ニャー')\n",
    "\n",
    "class Cow(Animal):\n",
    "    def sayhello(self) -> None:\n",
    "        print('モー')\n",
    "\n",
    "class Human(Animal):\n",
    "    def sayhello(self) -> None:\n",
    "        print('こんにちは')\n",
    "\n",
    "\n",
    "taro: Human = Human()\n",
    "taro.sayhello()"
   ]
  },
  {
   "cell_type": "markdown",
   "metadata": {},
   "source": [
    "# 実習\n",
    "以下のインターフェースを使わないポリモーフィズムの実装コードを修正して，インターフェース（実際は抽象クラス）を使ったポリモーフィズムの実装コードを作成しなさい．ただし，コードには型ヒントをつけ，既に入力されているコードは変更・削除しないこと．\n",
    "\n",
    "---  \n",
    "**インターフェースを使わないポリモーフィズムの実装コード::**\n",
    "```Python\n",
    "from typing import Union\n",
    "\n",
    "class Swimmer:\n",
    "    def play(self, name: str) -> None:\n",
    "        print(f'{name}! 泳ぎます！')\n",
    "\n",
    "class Runner:\n",
    "    def play(self, name: str) -> None:\n",
    "        print(f'{name}! 走ります！')\n",
    "\n",
    "def play(athlete: Union[Swimmer, Runner], name: str) -> None:\n",
    "    athlete.play(name)\n",
    "\n",
    "eiko: Swimmer = Swimmer()\n",
    "eiko.play('鈴木泳子')\n",
    "sota: Runner = Runner()\n",
    "sota.play('佐藤走太')\n",
    "```\n",
    "---\n",
    "**修正の要件:**\n",
    "*  `Athlete`クラスを抽象クラス（インターフェース）として定義する\n",
    "*  `Athlete`クラスに，抽象メソッドの`play`メソッドを定義する\n",
    "*  `play`メソッドの実装を`Swimmer`クラスと`Runner`クラスでそれぞれ定義する（内容は上のコードと同じ）\n",
    "*  インターフェースを使わないポリモーフィズムの実装コードと同じ実行結果となるようにする\n",
    "*  以下のクラス図と対応させる\n",
    "---\n",
    "**クラス図:**\n",
    "\n",
    "<img src=\"./fig/polymorphism_exercise_Athlete.jpg\" width=\"300\">"
   ]
  },
  {
   "cell_type": "code",
   "execution_count": null,
   "metadata": {},
   "outputs": [],
   "source": [
    "# ここにコードを記述（必要に応じて改行する）\n",
    "\n",
    "# これ以降は変更・削除しない\n",
    "eiko: Swimmer = Swimmer()\n",
    "eiko.play('鈴木泳子')\n",
    "sota: Runner = Runner()\n",
    "sota.play('佐藤走太')"
   ]
  },
  {
   "cell_type": "markdown",
   "metadata": {},
   "source": [
    "# 参考資料\n",
    "*  東京大学, [プログラミング入門](https://colab.research.google.com/github/utokyo-ipp/utokyo-ipp.github.io/blob/master/colab/index.ipynb), 講義資料, 2024.\n",
    "*  伊藤裕一, [速習 Python 3 中: オブジェクト指向編 Kindle版](https://www.amazon.co.jp/%E9%80%9F%E7%BF%92-Python-3-%E4%B8%AD-%E3%82%AA%E3%83%96%E3%82%B8%E3%82%A7%E3%82%AF%E3%83%88%E6%8C%87%E5%90%91%E7%B7%A8-ebook/dp/B01N04UBYI), 2016\n",
    "*  ひらまつしょうたろう, [Python でわかる オブジェクト指向 とはなにか？【Python オブジェクト指向 の「なぜ？」を「徹底的に」解説】](https://www.udemy.com/course/oop-python/?couponCode=KEEPLEARNING), Udemy, 最終更新日 2023/7\n",
    "*  Guido van Rossum (著), 鴨澤眞夫 (翻訳), [Pythonチュートリアル 第4版](https://www.oreilly.co.jp/books/9784873119359/), オライリージャパン, 2021.\n",
    "*  Bill Lubanovic (著), 鈴木駿 (監訳), 長尾高弘 (訳), [入門 Python 3 第2版](https://www.oreilly.co.jp/books/9784873119328/), オライリージャパン, 2021."
   ]
  }
 ],
 "metadata": {
  "colab": {
   "authorship_tag": "ABX9TyMWtd6/RDILJQwHHmedSHVP",
   "provenance": []
  },
  "kernelspec": {
   "display_name": "Python 3",
   "name": "python3"
  },
  "language_info": {
   "codemirror_mode": {
    "name": "ipython",
    "version": 3
   },
   "file_extension": ".py",
   "mimetype": "text/x-python",
   "name": "python",
   "nbconvert_exporter": "python",
   "pygments_lexer": "ipython3",
   "version": "3.12.5"
  }
 },
 "nbformat": 4,
 "nbformat_minor": 0
}
