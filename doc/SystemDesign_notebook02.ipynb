{
 "cells": [
  {
   "cell_type": "markdown",
   "metadata": {},
   "source": [
    "# 前回の復習"
   ]
  },
  {
   "cell_type": "markdown",
   "metadata": {},
   "source": [
    "## セルの基本操作\n",
    "*    ノートブックは複数の「セル」と呼ばれるブロックで構成される\n",
    "*    セルには「コードセル」と「テキストセル」の2種類がある \n",
    "*    セルの上のどこかをクリックすると，そのセルを選択することができる\n",
    "*    コードセルには，Pythonでコードを記述する\n",
    "*    テキストセルには，Markdown（文章を記述するためのマークアップ言語）を使った普通の文書（テキスト，見出し，箇条書き等）が記述できる\n",
    "*    テキストセルの上をダブルクリックすると，そのテキストセルの内容が編集可能となる\n",
    "*    本講義では，Markdown については特に扱わないが，例えば，以下のURLなどに簡単な説明がある  \n",
    ">https://colab.research.google.com/notebooks/markdown_guide.ipynb\n",
    "*    セルの追加はノートブック上部の[＋コード]と[＋テキスト]をクリック（他のやり方もあるので自分で調べてみる or 試してみる）\n",
    "*    セルの削除は，削除するセルを選択してから，ごみ箱アイコンをクリック（他のやり方もあるので自分で調べてみる or 試してみる）\n",
    "*    セル内のテキストの編集において，よく使うショートカットキーには，以下のようなものがある\n",
    ">*  `[Ctrl] + [C]`: テキストのコピー\n",
    ">*  `[Ctrl] + [X]`: テキストの切り取り\n",
    ">*  `[Ctrl] + [V]`: テキストの貼り付け\n",
    ">*  `[Ctrl] + [Z]`: 元に戻す"
   ]
  },
  {
   "cell_type": "markdown",
   "metadata": {},
   "source": [
    "## コードの実行\n",
    "*   コードセルに記述したPythonのコードは， `[Ctrl] + [Enter]` で実行できる（他のやり方もあるので自分で調べてみる or 試してみる）\n",
    "*   試しに以下のコードを実行してみる\n",
    "*   コードの意味については後述"
   ]
  },
  {
   "cell_type": "code",
   "execution_count": 1,
   "metadata": {},
   "outputs": [
    {
     "name": "stdout",
     "output_type": "stream",
     "text": [
      "Hello World!\n",
      "Pythonをはじめよう！\n",
      "321\n"
     ]
    }
   ],
   "source": [
    "# printは括弧内で指定したデータを表示する関数\n",
    "print('Hello World!')\n",
    "print('Pythonをはじめよう！')\n",
    "print(321)"
   ]
  },
  {
   "cell_type": "markdown",
   "metadata": {},
   "source": [
    "## `print` 関数\n",
    "*  上のコードで使用した `print` はPythonであらかじめ用意してくれている「関数」の1つ\n",
    "*  関数はあらかじめ決めておいた一連の処理のこと\n",
    ">*  関数に引き渡すデータのことを引数と呼ぶ\n",
    ">*  関数を使うことを呼び出すという\n",
    ">*  関数が返す値（出力）を戻り値と呼ぶ\n",
    "*  あらかじめ用意されている関数を「組み込み関数」と呼ぶ\n",
    "*  Pythonには多くの組み込み関数が用意されている\n",
    "*  利用者は自由にそれらを使う（呼び出す）ことができる  \n",
    "\n",
    "**例**： `print('Hello World!')` ⇒『文字列「Hello World!」を実行画面に表示しなさい』という意味を持つ命令\n",
    "*  実行画面のことを一般に「標準出力」と呼ぶ"
   ]
  },
  {
   "cell_type": "markdown",
   "metadata": {},
   "source": [
    "## コメント\n",
    "*  コードセルにおいて，半角「`#`」から始まる行はコメント（メモ）になる\n",
    "*  「`#`」以降，その行の終わりまでがコメントになる\n",
    "*  コメントは行頭からでも，行の途中からでも始めることができる\n",
    "*  後でコードを読み返す時や，他の人がコードをみた時などにおいて，そのコードがどのような処理をしているかといった補足説明のために使う\n",
    "*  また，コードの特定箇所の先頭に「`#`」を付けて（コメント化して）一時的に除外することを「コメントアウト」と呼ぶ\n",
    "*  コメントアウトは，すでに記述されたコードを完全に削除するのではなく一時的に無効化し，動作などを確認する場合に行われる\n",
    "*  `[Ctrl] + [/]`でコメントアウトの設定・解除ができる"
   ]
  },
  {
   "cell_type": "markdown",
   "metadata": {},
   "source": [
    "# リテラル\n",
    "*  コード内に記述された具体的な数値や文字列を一般に「リテラル」または「値」と呼ぶ\n",
    "*  本講義では「値」あるいは「データ」と呼ぶことが多いが，前後の文脈によっては別の表現（例えば「オブジェクト（次回以降説明）」）にすることもある\n",
    "*  ある特定の値をコードの中で何度も利用（処理）する場合，その都度，値を記述する必要がある ⇒ 大変・無駄\n",
    "*  このような場合には**変数**を使う"
   ]
  },
  {
   "cell_type": "markdown",
   "metadata": {},
   "source": [
    "# 変数\n",
    "*  変数とは，値を格納するための名前がついた箱のようなもの\n",
    "*  変数に値を格納することを**代入**と呼ぶ\n",
    "*  別の言い方をすると…\n",
    ">*  変数は特定の値を識別するために名前をつける仕組み\n",
    ">*  代入は値に名前をつけること ⇒ **変数の定義** "
   ]
  },
  {
   "cell_type": "markdown",
   "metadata": {},
   "source": [
    "## 代入の書式\n",
    "* `=` を用いる  \n",
    "\n",
    "**書式**： `変数名 = 値`\n",
    "\n",
    "*  数学的に `左辺 = 右辺` は，左辺と右辺が等しいという意味を持つが，Python では**左辺の変数に右辺の値を代入する**という意味になる"
   ]
  },
  {
   "cell_type": "code",
   "execution_count": null,
   "metadata": {},
   "outputs": [],
   "source": [
    "a = 10\n",
    "print(a)"
   ]
  },
  {
   "cell_type": "code",
   "execution_count": null,
   "metadata": {},
   "outputs": [],
   "source": [
    "x = 5.2\n",
    "print(x + 3.3)"
   ]
  },
  {
   "cell_type": "code",
   "execution_count": null,
   "metadata": {},
   "outputs": [],
   "source": [
    "x = 5\n",
    "y = 2\n",
    "print(x / y)"
   ]
  },
  {
   "cell_type": "code",
   "execution_count": null,
   "metadata": {},
   "outputs": [],
   "source": [
    "text = 'Hello World!'\n",
    "print(text)"
   ]
  },
  {
   "cell_type": "markdown",
   "metadata": {},
   "source": [
    "*  自分自身の変数を使った演算結果を自分自身に代入することもできる\n",
    "\n",
    "> 例1: `x = x + 1`  \n",
    "> 例2: `x = x - 1`  \n",
    "> 例3: `x = x * 0.1`  \n",
    "  \n",
    "*  上記の例は以下のように書くこともできる．  \n",
    "> 例1: `x += 1`  \n",
    "> 例2: `x -= 1`  \n",
    "> 例3: `x *= 0.1`  \n",
    "\n",
    "* このように，算術演算子と代入の`=`を組合わせたものを複合代入演算子と呼ぶ"
   ]
  },
  {
   "cell_type": "code",
   "execution_count": null,
   "metadata": {},
   "outputs": [],
   "source": [
    "a = 10\n",
    "print(a)\n",
    "a = a - 7\n",
    "print(a)\n",
    "a += 5\n",
    "print(a)"
   ]
  },
  {
   "cell_type": "markdown",
   "metadata": {},
   "source": [
    "## 変数の削除\n",
    "`del` 文を使うと定義した変数を削除できる ⇒ 書式: `del 変数名`"
   ]
  },
  {
   "cell_type": "markdown",
   "metadata": {},
   "source": [
    "## 変数名\n",
    "*  変数名は決められた命名ルールの範囲で自由に決めることができる\n",
    "*  変数名の命名ルール\n",
    ">*  半角のアルファベット `a`～`z`, `A`～`Z`, `_`(アンダースコア), 数字の`0`～`9`が使える\n",
    ">*  数字のみの変数名，先頭が数字の変数名は使えない\n",
    ">*  「予約語」と呼ばれる単語は使えない\n",
    ">>*  予約語はPythonの中であらかじめ別の目的で使用することが決まっているもの\n",
    ">>*  予約語（一部）: False, True, def, if, elif, else, import, whileなど\n",
    "*  よい変数名を付けるように心がける⇒ [参考サイト](https://web-camp.io/magazine/archives/117332)\n",
    ">*  変数名をみれば，それがどんな情報かわかるような名前を付けるのが望ましい\n",
    ">*  標準的な命名規則： キャメルケース，パスカルケース，スネークケースなど"
   ]
  },
  {
   "cell_type": "markdown",
   "metadata": {},
   "source": [
    "## コーディング規約\n",
    "*  コーディング規約とは，プログラマたちが守る書き方や形式に関するルール\n",
    "*  チームやプロジェクト，会社などで決められている\n",
    "*  コーディング規約を作成することのメリット\n",
    ">*  「可読性」「保守性」「品質」を高める\n",
    ">*  誰でも理解できる\n",
    ">*  誰でも修正・追加ができる\n",
    ">*  バグが少ないプログラムを誰でも作れる\n",
    "*  Pythonのコーディング規約： [PEP8（ペップエイト）](https://pep8-ja.readthedocs.io/ja/latest/)"
   ]
  },
  {
   "cell_type": "markdown",
   "metadata": {},
   "source": [
    "# データ型\n",
    "*  文字列や数値など，値様々な種類がある\n",
    "*  代表的な値の種類： 整数 (integer)，実数 (real number)，文字列 (string)など\n",
    "*  これらのの種類によって，Python内部での取り扱い方が異なる ⇒ 型を意識することが重要\n",
    "*  値の種類のことを，一般に**データ型 (type)** と呼ぶ\n",
    "*  本講義では，文脈によってデータ型を「クラス (class)」と呼ぶこともある\n"
   ]
  },
  {
   "cell_type": "markdown",
   "metadata": {},
   "source": [
    "## データ型の種類（一部）\n",
    "|データ型| 値の内容 |\n",
    "|:--|:--|\n",
    "|int（整数型）| 整数（小数を含まない数） |\n",
    "|float（浮動小数点型）| 実数（小数を含む数） |\n",
    "|str（文字列型）| 文字列 |\n",
    "|bool（論理型）| `True`と`False`のいずれか |\n",
    "|list（リスト）| 複数の値をまとめて格納 |\n",
    "|tuple（タプル）| 複数の値をまとめて格納 |\n",
    "|set（セット）| 複数の値をまとめて格納（要素の重複を許さない） |\n",
    "|dict（ディクショナリ）| キー（key）と値（value）の組合せで複数の値を格納 |"
   ]
  },
  {
   "cell_type": "markdown",
   "metadata": {},
   "source": [
    "## `type` 関数\n",
    "*  値のデータ型を調べるには `type` 関数を使う\n",
    "*  `type` 関数は組み込み関数の一つ\n",
    "*  `type` 関数の引数として括弧内に値そのものを指定することもできるし，変数を指定することもできる\n",
    "*  変数を指定した場合は，変数に代入されている値のデータ型を調べることになる"
   ]
  },
  {
   "cell_type": "code",
   "execution_count": null,
   "metadata": {},
   "outputs": [],
   "source": [
    "type(10)"
   ]
  },
  {
   "cell_type": "code",
   "execution_count": null,
   "metadata": {},
   "outputs": [],
   "source": [
    "x = 10\n",
    "type(x)"
   ]
  },
  {
   "cell_type": "code",
   "execution_count": null,
   "metadata": {},
   "outputs": [],
   "source": [
    "y = 3.2\n",
    "type(y)"
   ]
  },
  {
   "cell_type": "markdown",
   "metadata": {},
   "source": [
    "シングルクオート（あるいはダブルクオート）で囲われたものはすべて str（文字列型）になる．"
   ]
  },
  {
   "cell_type": "code",
   "execution_count": null,
   "metadata": {},
   "outputs": [],
   "source": [
    "x = '10'\n",
    "type(x)"
   ]
  },
  {
   "cell_type": "code",
   "execution_count": null,
   "metadata": {},
   "outputs": [],
   "source": [
    "z = 'Hello'\n",
    "type(z)"
   ]
  },
  {
   "cell_type": "code",
   "execution_count": null,
   "metadata": {},
   "outputs": [],
   "source": [
    "a = True\n",
    "type(a)"
   ]
  },
  {
   "cell_type": "markdown",
   "metadata": {},
   "source": [
    "*  複数の値や変数のデータ型を同時に表示したい場合は `print`関数を使う\n",
    "*  `<class 'データ型'>` と表示されるが，`class` は現時点では気にしなくてよい"
   ]
  },
  {
   "cell_type": "code",
   "execution_count": null,
   "metadata": {},
   "outputs": [],
   "source": [
    "x = 10\n",
    "y = 3.2\n",
    "z = 'Hello'\n",
    "print(type(x))\n",
    "print(type(y))\n",
    "print(type(z))"
   ]
  },
  {
   "cell_type": "markdown",
   "metadata": {},
   "source": [
    "算術演算子で演算した結果のデータ型は，演算前のデータ型と異なることがある．"
   ]
  },
  {
   "cell_type": "code",
   "execution_count": null,
   "metadata": {},
   "outputs": [],
   "source": [
    "x = 10\n",
    "y = 3.2\n",
    "a = x * 2\n",
    "b = x / 2\n",
    "c = x + y\n",
    "print(type(a))\n",
    "print(type(b))\n",
    "print(type(c))"
   ]
  },
  {
   "cell_type": "code",
   "execution_count": null,
   "metadata": {},
   "outputs": [],
   "source": [
    "a = 10\n",
    "print(a)\n",
    "a = a - 7\n",
    "print(a)\n",
    "a += 5\n",
    "print(a)"
   ]
  },
  {
   "cell_type": "markdown",
   "metadata": {},
   "source": [
    "# f-string（f文字列）\n",
    "シングルクオート（またはダブルクオート）で囲われた文字列に対して，先頭の文字列の前に「f」または「F」をつけることで，f-string（または f文字列）と呼ばれるフォーマットの文字列が利用できる．  \n",
    "f-stringを使った文字列中に中括弧 `{}` で変数や式を囲ったものを入れると，その位置に変数に格納された値や式の値が埋め込まれる．\n",
    "f-stringは `print` 関数の引数の中で用いられることが多い．\n",
    "\n",
    "\n",
    "<img src=\"./fig/03_f-string.png\" width=\"500\">\n"
   ]
  },
  {
   "cell_type": "code",
   "execution_count": null,
   "metadata": {},
   "outputs": [],
   "source": [
    "pi = 3.14\n",
    "r = 2\n",
    "print(f'円周率は{pi}です')\n",
    "print(f'半径{r}cmの円の面積は{r * r * pi}cm^2です')"
   ]
  },
  {
   "cell_type": "markdown",
   "metadata": {},
   "source": [
    "f-stringを使わない場合は，例えば以下のようなコードとなる．"
   ]
  },
  {
   "cell_type": "code",
   "execution_count": null,
   "metadata": {},
   "outputs": [],
   "source": [
    "pi = 3.14\n",
    "r = 2\n",
    "print('円周率は', pi, 'です')\n",
    "print('半径', r, 'cmの円の面積は', r * r * pi, 'cm^2です')"
   ]
  },
  {
   "cell_type": "markdown",
   "metadata": {},
   "source": [
    "# コンテナ"
   ]
  },
  {
   "cell_type": "markdown",
   "metadata": {},
   "source": [
    "複数の値を1つの変数にまとめて扱うためのしくみを「データ構造」と呼び，Pythonでは「コンテナ（container）」または「コレクション（collection）」と呼ばれている．  \n",
    "\n",
    "代表的なコンテナの種類（データ型）:\n",
    "*  リスト\n",
    "*  タプル\n",
    "*  ディクショナリ\n",
    "*  セット\n",
    "\n",
    "コンテナは，複数の値をまとめて管理できるデータ型（リスト，タプル，ディクショナリ，セット）の総称と解釈してもよい．\n",
    "また，文字列（str）をコンテナに含めることもある．  "
   ]
  },
  {
   "cell_type": "markdown",
   "metadata": {},
   "source": [
    "## リスト\n",
    "*  複数のデータをまとめて管理するときに使われるデータ型の一つ\n",
    "*  リストに含まれる値を要素と呼ぶ\n",
    "*  整数のインデックス （要素番号）を使って要素にアクセスする\n",
    "*  リストは角括弧 `[ ]` を使って定義: `リスト名(変数名) = [要素0, 要素1, 要素2, ...]`\n",
    "*  `[ ]`内の各要素はカンマ `,` で区切る\n",
    "*  変数を要素として指定することもできる\n",
    "*  インデックス指定を拡張したスライス指定を使うと，文字列の一部の文字列を取り出すことができる．  \n",
    ">*  **書式**： `リスト[開始インデックス:終了インデックス+1:ステップ数]`\n",
    ">*  ステップ数は省略することもできる（この場合のステップ数は1）．  \n",
    ">*  また，開始インデックスが文字列の先頭の場合と終了インデックスが末尾の場合は数値を省略できる．"
   ]
  },
  {
   "cell_type": "code",
   "execution_count": 2,
   "metadata": {},
   "outputs": [
    {
     "name": "stdout",
     "output_type": "stream",
     "text": [
      "['おにぎり', 'パスタ', 'ハンバーガー', 'カレー', 'ラーメン']\n",
      "パスタ\n",
      "ラーメン\n",
      "['パスタ', 'ハンバーガー']\n",
      "['おにぎり', 'パスタ', 'ハンバーガー']\n",
      "['カレー', 'ラーメン']\n",
      "['おにぎり', 'パスタ', 'ハンバーガー', 'カレー', 'ラーメン']\n",
      "5\n",
      "['おにぎり', 'パスタ', 'ハンバーガー', 'カレー', 'ラーメン', 'うどん', 'そば']\n",
      "['おにぎり', 'ピザ', 'ハンバーガー', 'カレー', 'ラーメン', 'うどん', 'そば']\n"
     ]
    }
   ],
   "source": [
    "#リストの定義\n",
    "lunch = ['おにぎり', 'パスタ', 'ハンバーガー', 'カレー', 'ラーメン']\n",
    "print(lunch)\n",
    "#リストのインデックス指定\n",
    "print(lunch[1])\n",
    "print(lunch[-1])\n",
    "#リストのスライス指定\n",
    "print(lunch[1:3])\n",
    "print(lunch[:3])\n",
    "print(lunch[3:])\n",
    "print(lunch[:])\n",
    "#リストの長さ（要素数）\n",
    "print(len(lunch))\n",
    "#+演算子によるリストの追加\n",
    "lunch = lunch + ['うどん', 'そば']\n",
    "print(lunch)\n",
    "#要素の置き換え\n",
    "lunch[1] = 'ピザ'\n",
    "print(lunch)"
   ]
  },
  {
   "cell_type": "markdown",
   "metadata": {},
   "source": [
    "上記コードの2行目で定義したリスト `lunch` の正負のインデックスは下表のとおり． \n",
    "\n",
    "||おにぎり|パスタ|ハンバーガー|カレー|ラーメン|\n",
    "|-|--|--|--|--|--|\n",
    "|非負（0か正）のインデックス|0|1|2|3|4|\n",
    "|負のインデックス|-5|-4|-3|-2|-1|"
   ]
  },
  {
   "cell_type": "markdown",
   "metadata": {},
   "source": [
    "# メソッド\n",
    "## オブジェクトとメソッド\n",
    "*  Pythonではすべての値がオブジェクト\n",
    "*  オブジェクトはクラス（後述）から生成される\n",
    ">*  「Hello World」などの文字列はstrクラスから生成されたオブジェクト\n",
    ">*  「10」などの整数値はintクラスから生成されたオブジェクト\n",
    "*  変数はオブジェクトの入れ物（オブジェクトに名前を付けている）\n",
    "*  オブジェクトには，そのオブジェクト固有のデータとメソッドが定義される\n",
    "*  メソッドはデータの処理方法\n",
    ">*  例: オブジェクトである文字列を大文字／小文字にする\n",
    "*  データは「プロパティ」や「属性」などと呼ぶこともある（詳細は次回以降説明）\n",
    "*  データとメソッドをまとめて「属性」と呼ぶこともあるし，データのみを「属性」と呼ぶこともある"
   ]
  },
  {
   "cell_type": "markdown",
   "metadata": {},
   "source": [
    "## クラスとは\n",
    "*  クラスはオブジェクトの雛形（設計図）のようなもの\n",
    "*  直感的なクラスのイメージ\n",
    ">*  たい焼き機がクラス\n",
    ">*  たい焼き機から作られるたい焼きがオブジェクト\n",
    ">*  たい焼きの中身や形（データ）は色々\n",
    "*  `type`関数は，オブジェクトのもとになっているクラス（オブジェクトが属しているクラス）を調べる関数\n",
    "*  クラスから生成されたオブジェクトを「インスタンス」と呼ぶこともある\n",
    "*  クラスやオブジェクトの詳細については，次回以降に説明する予定\n"
   ]
  },
  {
   "cell_type": "markdown",
   "metadata": {},
   "source": [
    "## メソッドの呼び出し方\n",
    "*  メソッドの呼び出し方の記法\n",
    ">*  `値.メソッド名(引数1, 引数2, ...)`\n",
    ">*  `変数.メソッド名(引数1, 引数2, ...)`\n",
    "*  メソッドに引き渡す値（括弧の中身）のことを引数と呼ぶ\n",
    "*  組み込み関数の括弧の中身も引数と呼ぶ\n",
    "*  メソッドや組み込み関数が処理した後に，結果として戻ってくる値のことを戻り値と呼ぶ\n",
    "*  メソッド呼び出しの例: `'Hello World!'.count('l')` ⇒ 文字列「Hello World!」の中に「l」が何回出てくるかを数える\n"
   ]
  },
  {
   "cell_type": "markdown",
   "metadata": {},
   "source": [
    "## 文字列（str）に対するメソッド\n",
    "\n",
    "|メソッド名|意味|\n",
    "|:--|:--|\n",
    "`lower` | 文字列の全ての文字を小文字にして返す． |\n",
    "`upper` | 文字列の全ての文字を大文字にして返す． |\n",
    "`count` | 引数で指定した文字（列）の登場回数を数える． |\n",
    "`replace` | 文字列内の指定した文字列を検索し，別に指定した文字列にすべて置き換える． |\n",
    "`find` | 指定した文字列（文字）が初めて登場するインデックスを返す． |\n",
    "`rfind` | 文字列（文字）が最後に登場するインデックスを返す． | \n",
    "`strip` | 文字列の先頭や末尾にある空白文字（スペースや改行など）を取り除く|"
   ]
  },
  {
   "cell_type": "code",
   "execution_count": null,
   "metadata": {},
   "outputs": [],
   "source": [
    "word = 'Hello World!'\n",
    "#すべて小文字\n",
    "print(word.lower())\n",
    "#すべて大文字\n",
    "print(word.upper())\n",
    "#'l'の登場回数を数える\n",
    "print(word.count('l'))\n",
    "#'lo'の登場回数を数える\n",
    "print(word.count('lo'))"
   ]
  },
  {
   "cell_type": "code",
   "execution_count": null,
   "metadata": {},
   "outputs": [],
   "source": [
    "word = 'Hello World!'\n",
    "#文字の置き換え\n",
    "print(word.replace('World', 'Python'))\n",
    "#メソッドを呼び出した後も元のデータは変わらない\n",
    "print(word)\n",
    "#文字の検索\n",
    "print(word.find('l'))\n",
    "print(word.rfind('l'))\n",
    "print(word.find('X'))"
   ]
  },
  {
   "cell_type": "markdown",
   "metadata": {},
   "source": [
    "## リスト（list）に対するメソッド\n",
    "\n",
    "|メソッド名|意味|\n",
    "|:--|:--|\n",
    "`append` | リストの末尾に要素を追加する． |\n",
    "`extend` | リストの末尾にリストを連結する． |\n",
    "`insert` | リストの中の任意の場所に要素を挿入する． |\n",
    "`pop` | リストの末尾の要素を返し，リストから削除する．引数にインデックスを指定することで任意の位置の要素についても同様の操作ができる． |\n",
    "`remove` | 要素を削除する． |\n",
    "`reverse` | リストの並び順を逆にする． |\n",
    "`sort` | リストを小さい順にして並べ替える． |\n",
    "`count` | 特定の値がリストの中に何個あるかを数える． |"
   ]
  },
  {
   "cell_type": "code",
   "execution_count": null,
   "metadata": {},
   "outputs": [],
   "source": [
    "a = [2, 5, 1, 4, 3]\n",
    "print(a)\n",
    "#末尾に値を追加\n",
    "a.append(7)\n",
    "#メソッドを呼び出した後は元のデータも変わる\n",
    "print(a)\n",
    "#末尾にリストを連結\n",
    "a.extend([2, 0])\n",
    "print(a)\n",
    "#インデックス2の直前に挿入\n",
    "a.insert(2, 0)\n",
    "print(a)"
   ]
  },
  {
   "cell_type": "code",
   "execution_count": null,
   "metadata": {},
   "outputs": [],
   "source": [
    "a = [2, 5, 0, 1, 4, 3, 7, 2, 0]\n",
    "#末尾の要素を返して削除\n",
    "print(a.pop())\n",
    "print(a)\n",
    "#最初の2を削除\n",
    "a.remove(2)\n",
    "print(a)\n",
    "#逆順にする\n",
    "a.reverse()\n",
    "print(a)\n",
    "#小さい順に並べ替える\n",
    "a.sort()\n",
    "print(a)"
   ]
  },
  {
   "cell_type": "markdown",
   "metadata": {},
   "source": [
    "# 参考資料\n",
    "*  国本大悟(著), 須藤秋良(著), 株式会社フレアリンク(監修), [スッキリわかるPython入門 第2版](https://book.impress.co.jp/books/1122101165), インプレス, 2023. \n",
    "*  [Chainer Tutorials : 02_Basics_of_Python.ipynb](https://colab.research.google.com/github/chainer/tutorials/blob/master/ja/02_Basics_of_Python.ipynb)\n",
    "*  東京大学, 「[プログラミング入門](https://utokyo-ipp.github.io/)」講義資料, 2024."
   ]
  }
 ],
 "metadata": {
  "colab": {
   "authorship_tag": "ABX9TyMkXO3Ag0O1a4CuasXPhPub",
   "provenance": []
  },
  "kernelspec": {
   "display_name": "Python 3 (ipykernel)",
   "language": "python",
   "name": "python3"
  },
  "language_info": {
   "codemirror_mode": {
    "name": "ipython",
    "version": 3
   },
   "file_extension": ".py",
   "mimetype": "text/x-python",
   "name": "python",
   "nbconvert_exporter": "python",
   "pygments_lexer": "ipython3",
   "version": "3.11.5"
  }
 },
 "nbformat": 4,
 "nbformat_minor": 1
}
