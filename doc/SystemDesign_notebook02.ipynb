{
 "cells": [
  {
   "cell_type": "markdown",
   "metadata": {},
   "source": [
    "# データ型\n",
    "*  値（リテラル）には，文字列や数値など，様々な種類がある\n",
    "*  代表的な値の種類： 整数 (integer)，実数 (real number)，文字列 (string)など\n",
    "*  これらの種類によって，Python内部での取り扱い方が異なる ⇒ 値の種類を意識することが重要\n",
    "*  値の種類のことを，一般に**データ型 (type)** と呼ぶ\n",
    "*  本講義では，文脈によってデータ型を「クラス (class)」と呼ぶこともある\n"
   ]
  },
  {
   "cell_type": "markdown",
   "metadata": {},
   "source": [
    "## データ型の種類（一部）\n",
    "|データ型| 値の内容 |\n",
    "|:--|:--|\n",
    "|int（整数型）| 整数（小数を含まない数） |\n",
    "|float（浮動小数点型）| 実数（小数を含む数） |\n",
    "|str（文字列型）| 文字列 |\n",
    "|bool（論理型）| `True`と`False`のいずれか |\n",
    "|list（リスト）| 複数の値をまとめて格納 |\n",
    "|tuple（タプル）| 複数の値をまとめて格納 |\n",
    "|set（セット）| 複数の値をまとめて格納（要素の重複を許さない） |\n",
    "|dict（ディクショナリ）| キー（key）と値（value）の組合せで複数の値を格納 |"
   ]
  },
  {
   "cell_type": "markdown",
   "metadata": {},
   "source": [
    "## `type` 関数\n",
    "*  値のデータ型を調べるには `type` 関数を使う\n",
    "*  `type` 関数は組み込み関数の一つ\n",
    "*  `type` 関数の引数として括弧内に値そのものを指定することもできるし，変数を指定することもできる\n",
    "*  変数を指定した場合は，変数に代入されている値のデータ型を調べることになる"
   ]
  },
  {
   "cell_type": "code",
   "execution_count": null,
   "metadata": {},
   "outputs": [],
   "source": [
    "type(10)"
   ]
  },
  {
   "cell_type": "code",
   "execution_count": null,
   "metadata": {},
   "outputs": [],
   "source": [
    "x = 10\n",
    "type(x)"
   ]
  },
  {
   "cell_type": "code",
   "execution_count": null,
   "metadata": {},
   "outputs": [],
   "source": [
    "y = 3.2\n",
    "type(y)"
   ]
  },
  {
   "cell_type": "markdown",
   "metadata": {},
   "source": [
    "シングルクオート（あるいはダブルクオート）で囲われたものはすべて str（文字列型）になる．"
   ]
  },
  {
   "cell_type": "code",
   "execution_count": null,
   "metadata": {},
   "outputs": [],
   "source": [
    "x = '10'\n",
    "type(x)"
   ]
  },
  {
   "cell_type": "code",
   "execution_count": null,
   "metadata": {},
   "outputs": [],
   "source": [
    "z = 'Hello'\n",
    "type(z)"
   ]
  },
  {
   "cell_type": "code",
   "execution_count": null,
   "metadata": {},
   "outputs": [],
   "source": [
    "a = True\n",
    "type(a)"
   ]
  },
  {
   "cell_type": "markdown",
   "metadata": {},
   "source": [
    "*  複数の値や変数のデータ型を同時に表示したい場合は `print`関数を使う\n",
    "*  `<class 'データ型'>` と表示されるが，`class` は現時点では気にしなくてよい"
   ]
  },
  {
   "cell_type": "code",
   "execution_count": null,
   "metadata": {},
   "outputs": [],
   "source": [
    "x = 10\n",
    "y = 3.2\n",
    "z = 'Hello'\n",
    "print(type(x))\n",
    "print(type(y))\n",
    "print(type(z))"
   ]
  },
  {
   "cell_type": "markdown",
   "metadata": {},
   "source": [
    "算術演算子で演算した結果のデータ型は，演算前のデータ型と異なることがある．"
   ]
  },
  {
   "cell_type": "code",
   "execution_count": null,
   "metadata": {},
   "outputs": [],
   "source": [
    "x = 10\n",
    "y = 3.2\n",
    "a = x * 2\n",
    "b = x / 2\n",
    "c = x + y\n",
    "print(type(a))\n",
    "print(type(b))\n",
    "print(type(c))"
   ]
  },
  {
   "cell_type": "code",
   "execution_count": null,
   "metadata": {},
   "outputs": [],
   "source": [
    "a = 10\n",
    "print(a)\n",
    "a = a - 7\n",
    "print(a)\n",
    "a += 5\n",
    "print(a)"
   ]
  },
  {
   "cell_type": "markdown",
   "metadata": {},
   "source": [
    "# f-string（f文字列）\n",
    "*  シングルクオート（またはダブルクオート）で囲われた文字列に対して，先頭の文字列の前に「f」または「F」をつけることで，f-string（または f文字列）と呼ばれるフォーマットの文字列が利用できる\n",
    "*  f-stringを使った文字列中に中括弧 `{}` で変数や式を囲ったものを入れると，その位置に変数に格納された値や式の値が埋め込まれる\n",
    "*  f-stringは `print` 関数の引数の中で用いられることが多い\n",
    "\n",
    "\n",
    "> <img src=\"./fig/03_f-string.png\" width=\"500\">\n"
   ]
  },
  {
   "cell_type": "code",
   "execution_count": null,
   "metadata": {},
   "outputs": [],
   "source": [
    "pi = 3.14\n",
    "r = 2\n",
    "print(f'円周率は{pi}です')\n",
    "print(f'半径{r}cmの円の面積は{r * r * pi}cm^2です')"
   ]
  },
  {
   "cell_type": "markdown",
   "metadata": {},
   "source": [
    "* 表示する数値（float）の桁数を指定することもできる\n",
    "* **書式:** `f'{[値]:.[桁数]f}'`"
   ]
  },
  {
   "cell_type": "code",
   "execution_count": null,
   "metadata": {},
   "outputs": [],
   "source": [
    "pi = 3.14159\n",
    "print(f\"{pi:.2f}\")"
   ]
  },
  {
   "cell_type": "markdown",
   "metadata": {},
   "source": [
    "# コンテナ\n",
    "* 1つの値を1つの変数で管理することができるが，複数の値を変数を使って管理したい場合は，値の数だけ変数を定義する必要がある\n",
    "* これは，コードを複雑でわかりにくくする要因となる\n",
    "* この問題は，関連する複数の値を1つの変数にまとめて扱うことができると解決できる\n",
    "* 複数の値を1つの変数にまとめて扱うためのしくみを「データ構造」と呼び，Pythonでは「コンテナ（container）」または「コレクション（collection）」と呼ぶ\n",
    "* 代表的なコンテナの種類（データ型）:\n",
    ">*  リスト（list）\n",
    ">*  タプル（tuple）\n",
    ">*  ディクショナリ（dict）\n",
    ">*  セット（set）\n",
    "* コンテナは，複数の値をまとめて管理できるデータ型（リスト，タプル，ディクショナリ，セット）の総称と解釈してもよい（各データ型の詳細は後述）\n",
    "* また，文字列（str）をコンテナに含めることもある"
   ]
  },
  {
   "cell_type": "markdown",
   "metadata": {},
   "source": [
    "## リスト\n",
    "*  複数のデータをまとめて管理するときに使われるデータ型の一つ\n",
    "*  リストに含まれる値を要素と呼ぶ\n",
    "*  整数のインデックス （要素番号）を使って要素にアクセスする\n",
    "*  リストは角括弧 `[ ]` を使って定義: `リスト名(変数名) = [要素0, 要素1, 要素2, ...]`\n",
    "*  `[ ]`内の各要素はカンマ `,` で区切る\n",
    "*  変数を要素として指定することもできる\n"
   ]
  },
  {
   "cell_type": "markdown",
   "metadata": {},
   "source": [
    "### リストのインデックス指定とスライス指定\n",
    "* 文字列と同様にリストでもインデックス指定とスライス指定ができる\n",
    ">* インデックス指定: `リスト名[インデックス番号]`\n",
    ">* スライス指定: `リスト名[開始インデックス:終了インデックス+1:ステップ数]`"
   ]
  },
  {
   "cell_type": "markdown",
   "metadata": {},
   "source": [
    "### リストの例1\n",
    "* 例: `score[0]` ⇒ インデックス0の要素 ⇒ 74\n",
    "* 例: `score[-1]` ⇒ 末尾インデックスの要素 ⇒ 77\n",
    "* 例: `score[1:4]` ⇒ インデックス1～3の要素 ⇒ [68, 92, 59]\n",
    "* 例: `score[:]` ⇒ すべての要素 ⇒ [74, 68, 92, 59, 77]\n",
    "* 例: `score[:2]` ⇒ 先頭からインデックス1の要素 ⇒ [74, 68]\n",
    "* 例: `score[2:]` ⇒ インデックス2から最後の要素 ⇒ [92, 59, 77]\n",
    "\n",
    "<img src=\"./fig/list_score.jpg\" width=\"550\">"
   ]
  },
  {
   "cell_type": "code",
   "execution_count": null,
   "metadata": {},
   "outputs": [],
   "source": [
    "#リストの定義\n",
    "lunch = ['おにぎり', 'パスタ', 'ハンバーガー', 'カレー', 'ラーメン']\n",
    "print(lunch)\n",
    "#リストのインデックス指定\n",
    "print(lunch[1])\n",
    "print(lunch[-1])\n",
    "#リストのスライス指定\n",
    "print(lunch[1:3])\n",
    "print(lunch[:3])\n",
    "print(lunch[3:])\n",
    "print(lunch[:])\n",
    "#リストの長さ（要素数）\n",
    "print(len(lunch))\n",
    "#要素の置き換え\n",
    "lunch[1] = 'ピザ'\n",
    "print(lunch)"
   ]
  },
  {
   "cell_type": "markdown",
   "metadata": {},
   "source": [
    "上記コードの2行目で定義したリスト `lunch` の正負のインデックスは下表のとおり． \n",
    "\n",
    "||おにぎり|パスタ|ハンバーガー|カレー|ラーメン|\n",
    "|-|--|--|--|--|--|\n",
    "|非負（0か正）のインデックス|0|1|2|3|4|\n",
    "|負のインデックス|-5|-4|-3|-2|-1|"
   ]
  },
  {
   "cell_type": "markdown",
   "metadata": {},
   "source": [
    "## タプル\n",
    "*  リストと同じく複数の値をまとめて扱いたいときに利用するデータ型\n",
    "*  丸括弧 `( )` を使って定義: `タプル名(変数名) = (要素0, 要素1, ...)`\n",
    "*  要素の指定（インデックス指定とスライス指定）や`+`演算子による連結はリストと同様だが，書き換え・削除はできない\n",
    "*  タプルのように中身が変更できない性質のことを不変またはイミュータブル (immutable) と呼ぶ\n",
    "*  逆に，リストのように中身が変更できる性質のことを可変またはミュータブル (mutable) と呼ぶ"
   ]
  },
  {
   "cell_type": "code",
   "execution_count": null,
   "metadata": {},
   "outputs": [],
   "source": [
    "#タプルの定義\n",
    "lunch = ('おにぎり', 'パスタ', 'ハンバーガー', 'カレー', 'ラーメン')\n",
    "print(lunch)\n",
    "#タプルのインデックス指定\n",
    "print(lunch[1])\n",
    "print(lunch[-1])\n",
    "#タプルのスライス指定\n",
    "print(lunch[1:3])\n",
    "print(lunch[:3])\n",
    "print(lunch[3:])\n",
    "print(lunch[:])\n",
    "#タプルの長さ（要素数）\n",
    "print(len(lunch))\n",
    "#要素の置き換えはできない\n",
    "# lunch[1] = 'ピザ'"
   ]
  },
  {
   "cell_type": "markdown",
   "metadata": {},
   "source": [
    "## ディクショナリ\n",
    "*  キーと値の組合せで複数のデータをまとめて管理するときに使われるデータ型\n",
    "*  中括弧 `{ }` を使って定義: `ディクショナリ名(変数名)＝ {キー0 : 値0, キー1 : 値1, キー2 : 値2, ...`}`\n",
    "*  `キー0 : 値0` が1つ目の要素に対応\n",
    "*  特定の要素の値の指定: `ディクショナリ名[キー]`\n",
    "*  要素の追加: `ディクショナリ名[新キー] = 値`\n",
    "*  要素の削除: `del ディクショナリ名[キー]`\n",
    "*  例: `score ＝ {'国語' : 74, '数学' : 68, '英語' : 92, '理科' : 59}`\n",
    ">* `score['国語']` ⇒ 指定したキー「'国語'」の値「74」が抽出される\n",
    ">* `score['社会'] = 77` ⇒ 要素の追加\n",
    ">* `del score['国語']` ⇒ 要素の削除\n",
    "\n",
    "<img src=\"./fig/dict_score.jpg\" width=\"550\">"
   ]
  },
  {
   "cell_type": "code",
   "execution_count": null,
   "metadata": {},
   "outputs": [],
   "source": [
    "#ディクショナリの定義\n",
    "setagaya = {'154-0001':'池尻', '154-0002':'下馬', '154-0003':'砧'}\n",
    "print(setagaya)\n",
    "#ディクショナリの長さ（要素数）\n",
    "print(len(setagaya))\n",
    "#キーで値を指定\n",
    "print(setagaya['154-0002'])\n",
    "# print(setagaya['154-0004']) # 存在しないキーを指定するとエラー\n",
    "#要素の値の書き換え\n",
    "setagaya['154-0003'] = '野沢'\n",
    "print(setagaya)\n",
    "#要素の追加\n",
    "setagaya['154-0004'] = '太子堂'\n",
    "print(setagaya)\n",
    "#要素の削除\n",
    "del setagaya['154-0001']\n",
    "print(setagaya)\n",
    "#データ型の確認\n",
    "print(type(setagaya))\n",
    "print(type(setagaya['154-0002']))"
   ]
  },
  {
   "cell_type": "markdown",
   "metadata": {},
   "source": [
    "# メソッド"
   ]
  },
  {
   "cell_type": "markdown",
   "metadata": {},
   "source": [
    "## オブジェクトとメソッド\n",
    "*  Pythonではすべての値がオブジェクト\n",
    "*  オブジェクトはクラス（後述）から生成される\n",
    ">*  「Hello World」などの文字列はstrクラスから生成されたオブジェクト\n",
    ">*  「10」などの整数値はintクラスから生成されたオブジェクト\n",
    "*  変数はオブジェクトに名前を付けているようなイメージ\n",
    "*  オブジェクトには，そのオブジェクト固有のデータとメソッドが定義される\n",
    "*  メソッドはデータの処理方法\n",
    ">*  例: オブジェクトである文字列を大文字／小文字にする\n",
    "*  データは「プロパティ」や「属性」などと呼ぶこともある\n",
    "*  データとメソッドをまとめて「属性」と呼ぶこともあるし，データのみを「属性」と呼ぶこともある"
   ]
  },
  {
   "cell_type": "markdown",
   "metadata": {},
   "source": [
    "## クラスとは\n",
    "*  クラスはオブジェクトの雛形（設計図）のようなもの\n",
    "*  直感的なクラスのイメージ\n",
    ">*  たい焼き機がクラス\n",
    ">*  たい焼き機から作られるたい焼きがオブジェクト\n",
    ">*  たい焼きの中身や形（データ）は色々\n",
    "\n",
    "<img src=\"./fig/class_and_object.jpg\" width=\"250\">\n",
    "\n",
    "*  `type`関数は，オブジェクトのもとになっているクラス（オブジェクトが属しているクラス）を調べる関数\n",
    "*  クラスから生成されたオブジェクトを「インスタンス」と呼ぶこともある"
   ]
  },
  {
   "cell_type": "markdown",
   "metadata": {},
   "source": [
    "## メソッドの呼び出し方\n",
    "*  メソッドの呼び出し方の記法\n",
    ">*  `値.メソッド名(引数1, 引数2, ...)`\n",
    ">*  `変数.メソッド名(引数1, 引数2, ...)`\n",
    "*  メソッドに引き渡す値（括弧の中身）のことを引数と呼ぶ\n",
    "*  組み込み関数の括弧の中身も引数と呼ぶ\n",
    "*  メソッドや組み込み関数が処理した後に，結果として戻ってくる値のことを戻り値と呼ぶ\n",
    "*  メソッド呼び出しの例: `'Hello World!'.count('l')` ⇒ 文字列「Hello World!」の中に「l」が何回出てくるかを数える\n"
   ]
  },
  {
   "cell_type": "markdown",
   "metadata": {},
   "source": [
    "## 文字列（str）に対するメソッド\n",
    "\n",
    "|メソッド名|意味|\n",
    "|:--|:--|\n",
    "`lower` | 文字列の全ての文字を小文字にして返す． |\n",
    "`upper` | 文字列の全ての文字を大文字にして返す． |\n",
    "`count` | 引数で指定した文字（列）の登場回数を数える． |\n",
    "`replace` | 文字列内の指定した文字列を検索し，別に指定した文字列にすべて置き換える． |\n",
    "`find` | 指定した文字列（文字）が初めて登場するインデックスを返す． |\n",
    "`rfind` | 文字列（文字）が最後に登場するインデックスを返す． | \n",
    "`strip` | 文字列の先頭や末尾にある空白文字（スペースや改行など）を取り除く．|\n",
    "`endswith` | 引数で指定した文字列（接尾辞）で終わっているかどうかを調べる．戻り値は `bool` で，指定した文字列で終わっていれば `True`，それ以外は `False` を返す|"
   ]
  },
  {
   "cell_type": "code",
   "execution_count": null,
   "metadata": {},
   "outputs": [],
   "source": [
    "word = 'Hello World!\\n'\n",
    "print(word)\n",
    "# すべて大文字\n",
    "print(word.upper())\n",
    "# 末尾の改行を削除\n",
    "print(word.strip())\n",
    "# 'l'の登場回数を数える\n",
    "print(word.count('l'))"
   ]
  },
  {
   "cell_type": "code",
   "execution_count": null,
   "metadata": {},
   "outputs": [],
   "source": [
    "file = 'sample.txt'\n",
    "# '.txt'で終わっているか\n",
    "print(file.endswith('.txt'))\n",
    "# '.html'で終わっているか\n",
    "print(file.endswith('.html'))"
   ]
  },
  {
   "cell_type": "markdown",
   "metadata": {},
   "source": [
    "## リスト（list）に対するメソッド\n",
    "\n",
    "|メソッド名|意味|\n",
    "|:--|:--|\n",
    "`append` | リストの末尾に要素を追加する． |\n",
    "`extend` | リストの末尾にリストを連結する． |\n",
    "`insert` | リストの中の任意の場所に要素を挿入する． |\n",
    "`pop` | リストの末尾の要素を返し，リストから削除する．引数にインデックスを指定することで任意の位置の要素についても同様の操作ができる． |\n",
    "`remove` | 要素を削除する． |\n",
    "`reverse` | リストの並び順を逆にする． |\n",
    "`sort` | リストを昇順で並べ替える． |\n",
    "`count` | 特定の値がリストの中に何個あるかを数える． |"
   ]
  },
  {
   "cell_type": "code",
   "execution_count": null,
   "metadata": {},
   "outputs": [],
   "source": [
    "a = [2, 5, 1, 4, 3]\n",
    "print(a)\n",
    "#末尾に値を追加\n",
    "a.append(7)\n",
    "#メソッドを呼び出した後は元のデータも変わる\n",
    "print(a)\n",
    "#末尾にリストを連結\n",
    "a.extend([2, 0])\n",
    "print(a)\n",
    "#インデックス2の直前に挿入\n",
    "a.insert(2, 0)\n",
    "print(a)"
   ]
  },
  {
   "cell_type": "code",
   "execution_count": null,
   "metadata": {},
   "outputs": [],
   "source": [
    "a = [2, 5, 0, 1, 4, 3, 7, 2, 0]\n",
    "#末尾の要素を返して削除\n",
    "print(a.pop())\n",
    "print(a)\n",
    "#最初の2を削除\n",
    "a.remove(2)\n",
    "print(a)\n",
    "#逆順にする\n",
    "a.reverse()\n",
    "print(a)\n",
    "#小さい順に並べ替える\n",
    "a.sort()\n",
    "print(a)"
   ]
  },
  {
   "cell_type": "markdown",
   "metadata": {},
   "source": [
    "## ディクショナリ（dict）に対するメソッド\n",
    "\n",
    "|メソッド名|意味|\n",
    "|:--|:--|\n",
    "`keys` | キーの一覧を返す． |\n",
    "`values` | 値の一覧を返す． |\n",
    "`items` | キーと値のペアの一覧を返す． |\n",
    "`get` | 引数で指定したキーに対応する値を返す．存在しないときは`None`を返す． |"
   ]
  },
  {
   "cell_type": "code",
   "execution_count": null,
   "metadata": {},
   "outputs": [],
   "source": [
    "d = {\"a\": 1, \"b\": 2}\n",
    "print(d.keys())\n",
    "print(d.values())\n",
    "print(d.items())\n",
    "print(d.get('a'))\n",
    "print(d.get('c'))"
   ]
  },
  {
   "cell_type": "markdown",
   "metadata": {},
   "source": [
    "# 実習\n",
    "以下の動作をするコードを作成しなさい．\n",
    "\n",
    "**処理手順:**\n",
    "* リスト`fruits = ['banana', 'orange', 'apple']` を定義\n",
    "* `fruits`の末尾に「grape」を追加\n",
    "* `fruits`の要素を昇順に並び替える\n",
    "* `fruits`の要素を逆順にする\n",
    "* リスト`fruits`を表示する"
   ]
  },
  {
   "cell_type": "code",
   "execution_count": null,
   "metadata": {},
   "outputs": [],
   "source": []
  },
  {
   "cell_type": "markdown",
   "metadata": {},
   "source": [
    "# 参考資料\n",
    "*  [Chainer Tutorials : 02_Basics_of_Python.ipynb](https://colab.research.google.com/github/chainer/tutorials/blob/master/ja/02_Basics_of_Python.ipynb)\n",
    "*  東京大学, 「[プログラミング入門](https://utokyo-ipp.github.io/)」講義資料, 2024\n",
    "*  国本大悟(著), 須藤秋良(著), 株式会社フレアリンク(監修), [スッキリわかるPython入門 第2版](https://book.impress.co.jp/books/1122101165), インプレス, 2023\n",
    "*  柴田淳, [みんなのPython 第4版](https://www.sbcr.jp/product/4797389463/), SBクリエイティブ, 2016\n",
    "*  株式会社ビープラウド(監修), リブロワークス(著), [スラスラ読める Pythonふりがなプログラミング Kindle版](https://www.amazon.co.jp/%E3%82%B9%E3%83%A9%E3%82%B9%E3%83%A9%E8%AA%AD%E3%82%81%E3%82%8B-Python%E3%81%B5%E3%82%8A%E3%81%8C%E3%81%AA%E3%83%97%E3%83%AD%E3%82%B0%E3%83%A9%E3%83%9F%E3%83%B3%E3%82%B0-%E3%81%B5%E3%82%8A%E3%81%8C%E3%81%AA%E3%83%97%E3%83%AD%E3%82%B0%E3%83%A9%E3%83%9F%E3%83%B3%E3%82%B0%E3%82%B7%E3%83%AA%E3%83%BC%E3%82%BA-%E3%83%AA%E3%83%96%E3%83%AD%E3%83%AF%E3%83%BC%E3%82%AF%E3%82%B9/dp/4295003867), インプレス, 2018\n",
    "*  森巧尚, [Python 1年生 体験してわかる！会話でまなべる！プログラミングのしくみ Kindle版](https://www.amazon.co.jp/Python-1%E5%B9%B4%E7%94%9F-%E4%BD%93%E9%A8%93%E3%81%97%E3%81%A6%E3%82%8F%E3%81%8B%E3%82%8B%EF%BC%81%E4%BC%9A%E8%A9%B1%E3%81%A7%E3%81%BE%E3%81%AA%E3%81%B9%E3%82%8B%EF%BC%81%E3%83%97%E3%83%AD%E3%82%B0%E3%83%A9%E3%83%9F%E3%83%B3%E3%82%B0%E3%81%AE%E3%81%97%E3%81%8F%E3%81%BF-%E6%A3%AE-%E5%B7%A7%E5%B0%9A-ebook/dp/B076DDBBK9), 翔泳社, 2017\n",
    "*  増井敏克, [Pythonではじめるアルゴリズム入門 伝統的なアルゴリズムで学ぶ定石と計算量 Kindle版](https://www.shoeisha.co.jp/book/detail/9784798165615), 翔泳社, 2020"
   ]
  }
 ],
 "metadata": {
  "colab": {
   "authorship_tag": "ABX9TyMkXO3Ag0O1a4CuasXPhPub",
   "provenance": []
  },
  "kernelspec": {
   "display_name": "Python 3",
   "language": "python",
   "name": "python3"
  },
  "language_info": {
   "codemirror_mode": {
    "name": "ipython",
    "version": 3
   },
   "file_extension": ".py",
   "mimetype": "text/x-python",
   "name": "python",
   "nbconvert_exporter": "python",
   "pygments_lexer": "ipython3",
   "version": "3.12.5"
  }
 },
 "nbformat": 4,
 "nbformat_minor": 1
}
