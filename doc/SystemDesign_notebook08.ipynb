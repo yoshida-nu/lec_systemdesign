{
 "cells": [
  {
   "cell_type": "markdown",
   "metadata": {},
   "source": [
    "# クラスの結びつきとシステムの変更\n",
    "* クラスの関連には様々なものがある（[第4回講義資料](https://colab.research.google.com/github/yoshida-nu/lec_systemdesign/blob/main/doc/SystemDesign_notebook04.ipynb)を参照）\n",
    "* これらの関連には，クラス間の結びつきが弱いものと強いものがある"
   ]
  },
  {
   "cell_type": "markdown",
   "metadata": {},
   "source": [
    "## 依存関係\n",
    "* 依存関係（Dependency）とは，クラスの関連の一つ\n",
    "* 依存関係とは，あるクラスが他のクラスを一時的に利用して機能する関係\n",
    "* メソッドの引数や戻り値に他のクラスが出てくると，この関連になる\n",
    "* 一時的な利用なので，この関連は「**弱い結びつき**」と言える\n",
    "* UML（クラス図）では，利用する側から利用される側へ向かう波線の矢印で表現する"
   ]
  },
  {
   "cell_type": "markdown",
   "metadata": {},
   "source": [
    "## 継承・集約・コンポジションとシステムの変更\n",
    "*  クラス間の関連の種類によっては，情報システムの変更に大きく影響する場合がある\n",
    "*  例えば，クラス`B`がクラス`A`を継承している「汎化・特化関係」にある場合は...\n",
    ">*  クラスAが定義されてないと，クラスBは存在できない（定義できない）\n",
    ">*  クラスAの中身が変更されると，クラスBにも影響する\n",
    "*  逆に...\n",
    ">*  クラスBが定義されてなくても，クラスAは存在できる\n",
    ">*  クラスBの中身が変更されても，クラスAには影響がない\n",
    "*  クラス`B`（全体）がクラス`A`（部分）を所有しているしている「所有関係」にある場合，すなわち，集約やコンポジションの関連を持つ場合も同様である\n",
    "*  したがって，弱い結びつきである「依存関係」に対して，「継承」「集約」「コンポジション」は「**強い結びつき**」であると言える"
   ]
  },
  {
   "cell_type": "code",
   "execution_count": null,
   "metadata": {},
   "outputs": [],
   "source": [
    "# 継承の例\n",
    "class A:\n",
    "    def method_a(self) -> None:\n",
    "        print('クラスAのメソッド')\n",
    "\n",
    "class B(A):\n",
    "    def method_b(self) -> None:\n",
    "        super().method_a() # クラスAのメソッドを呼び出して使用"
   ]
  },
  {
   "cell_type": "code",
   "execution_count": 1,
   "metadata": {},
   "outputs": [],
   "source": [
    "# コンポジションの例\n",
    "class A:\n",
    "    def method_a(self) -> None:\n",
    "        print('クラスAのメソッド')\n",
    "\n",
    "class B:\n",
    "    def __init__(self) -> None:\n",
    "        self.obj = A() # クラスAのインスタンスを生成\n",
    "    def method_b(self) -> None:\n",
    "        self.obj.method_a() # クラスAのメソッドを呼び出して使用"
   ]
  },
  {
   "cell_type": "markdown",
   "metadata": {},
   "source": [
    "## 変更しやすいシステムを作るためには...\n",
    "*  継承，集約，コンポジションといった「強い結びつき」は少ないほうがよい\n",
    "*  ただし，これらを完全になくすことは現実的ではない\n",
    "*  変更されにくいものや安定したものと結びつけるのが望ましい（現実的）\n",
    "*  上のコード例のように，あるクラスが `str` や `int` といった 組み込みクラスと関係を持つことはよくある\n",
    "*  しかし，組み込みクラスが変更されることはほとんどないため，問題にはならない"
   ]
  },
  {
   "cell_type": "markdown",
   "metadata": {},
   "source": [
    "# 情報システムの保守\n",
    "*  情報システム（ソフトウェア）の保守とは，システム運用中に発生する問題や要求に対して，システムを維持・改善する活動のことを指す\n",
    "*  保守は，システムがリリースされた後も，その性能を維持し，適切な機能を提供し続けるために必要なプロセス "
   ]
  },
  {
   "cell_type": "markdown",
   "metadata": {},
   "source": [
    "## 保守の主な種類\n",
    "*  修正保守: 情報システムの不具合やバグを修正するための保守\n",
    "*  適応保守: 情報システムが動作する環境の変化（OSやハードウェア，周辺システムの変更）に対応するための保守\n",
    "*  予防保守: 情報システムが将来的に安定して稼働し続けるために，潜在的な問題を予防するための保守\n",
    "*  完全保守: 新しい機能の追加や，既存機能の改善に関する保守"
   ]
  },
  {
   "cell_type": "markdown",
   "metadata": {},
   "source": [
    "## 保守性\n",
    "*  保守性とは，情報システムが運用される中で，修正，改良，及び変更がどれだけ容易に行えるかを指す概念\n",
    "*  情報システムは，リリース後も利用者の要望や技術の進歩に対応するために継続的な修正や改良が求められる\n",
    "*  保守性が高いシステムは，次のような作業が効率的に行える\n",
    ">*  バグ修正: システムにバグが発生した際，修正にかかる時間や労力を最小限に抑えることができる\n",
    ">*  機能追加・変更: 新機能を追加したり，既存機能を改良する際に，コードの構造や結びつきの関係が整っていればスムーズに対応できる\n",
    ">*  環境対応: システムが稼働する環境（ハードウェアやOSなど）が変わった場合に，その変化に対して柔軟に対応できる\n",
    "*  保守性の高いコードは可読性が高く，誰にでも理解しやすい構造になっている\n",
    "*  また，保守性は情報システムの品質を測る重要な指標の一つである\n",
    "*  下図は，[JIS X 25010:2013（IEC25010：2011）](https://kikakurui.com/x2/X25010-2013-01.html)に基づく品質モデルである\n",
    "\n",
    "<img src=\"./fig/software_quality.png\" width=\"700\">\n",
    "  "
   ]
  },
  {
   "cell_type": "markdown",
   "metadata": {},
   "source": [
    "## 保守性とオブジェクト指向\n",
    "*  オブジェクト指向は，保守性を向上させるための重要なアプローチである\n",
    "*  ここで，これまで学んできたオブジェクト指向の重要な概念と保守性との関連を整理しておく"
   ]
  },
  {
   "cell_type": "markdown",
   "metadata": {},
   "source": [
    "### カプセル化と保守性\n",
    "*  オブジェクト指向では，データとその操作を1つのオブジェクト（クラス）としてまとめるカプセル化が行われる\n",
    "*  カプセル化によって，データ（属性）と操作（メソッド）が外部から直接操作されないように保護することができる\n",
    "*  適切にカプセル化されていれば，クラス内部の実装を変更しても，そのクラスの外部に影響を与えにくくなるため，コードの変更や修正が他の部分に波及しにくくなり，保守性が向上する"
   ]
  },
  {
   "cell_type": "markdown",
   "metadata": {},
   "source": [
    "### 継承と保守性\n",
    "*  オブジェクト指向では，既存のクラスから新しいクラスを作る際に，スーパークラスの機能を引き継ぐ継承が使われる\n",
    "*  継承によって，同じ機能を何度も記述せずに再利用でき，コードの重複を避けられる\n",
    "*  共通の機能を継承元クラスにまとめておくことで，1箇所を修正すれば継承しているクラス全体に反映される\n",
    "*  その結果，変更や修正時の効率が向上し，保守性が向上する"
   ]
  },
  {
   "cell_type": "markdown",
   "metadata": {},
   "source": [
    "### ポリモーフィズムと保守性\n",
    "*  オブジェクト指向では，異なるクラスが共通のインターフェースを持つことで，ポリモーフィズム（多態性）を実現する\n",
    "*  これにより，同じメソッド名で異なる動作（実装）を行うことが可能となる\n",
    "*  ポリモーフィズムによって，新しいクラスを追加する際，既存のコードを変更せずに機能を拡張できるため，システム全体に影響を与えにくい形で保守・拡張が行える"
   ]
  },
  {
   "cell_type": "markdown",
   "metadata": {},
   "source": [
    "### 抽象化と保守性\n",
    "*  オブジェクト指向では，クラスやオブジェクトに対して必要な機能のみを定義し，具体的な実装を隠すことができる（⇒ 抽象化）\n",
    "*  コードをより抽象的なレベルで扱うことで，実装の変更が他のクラスやオブジェクトに直接影響を与えにくくなり，システム全体の理解や保守が容易になる"
   ]
  },
  {
   "cell_type": "markdown",
   "metadata": {},
   "source": [
    "# SOLID原則の概要\n",
    "*  良い設計のための指針（原則・考え方）\n",
    "*  有名なソフトウェア開発者のRobert C. Martinが2000年に発表 ⇒ [原著論文](https://web.archive.org/web/20150906155800/http:/www.objectmentor.com/resources/articles/Principles_and_Patterns.pdf)\n",
    "*  オブジェクト指向プログラミングをする上で，重要となる5つの原則\n",
    ">*  単一責任の原則（**S**ingle Responsibility Principle）\n",
    ">*  開放・閉鎖の原則（**O**pen-Closed Principle）\n",
    ">*  リスコフの置換原則（**L**iskov Substitution Principle）\n",
    ">*  インタフェース分離の原則（**I**nterface Segregation Principle）\n",
    ">*  依存関係逆転の原則（**D**ependency InversionPrinciple）\n",
    "*  SOLIDはそれらの頭文字をとったもの\n",
    "*  修正性（変更のしやすさ）は，SOLID原則遵守による主な効果の一つ\n",
    "*  SOLID原則の遵守によって修正性を向上させることで，保守性を向上する\n",
    ">*  修正性が高くなると，依存関係がシンプルで，モジュール性（システムを独立した部品（モジュール）に分割する能力）が高くなる\n",
    ">*  モジュール性が高くなると，再利用性と試験性（テストしやすさ）も高くなる\n",
    ">*  修正しやすいコードは，解析性（理解しやすさ）も高い\n",
    "*  カプセル化，継承，ポリモーフィズムを理解しただけでは，よい（変更のしやすい／保守性の高い）システムを設計することはできない\n",
    "*  SOLID原則を理解することで，これらの要素（カプセル化，継承，ポリモーフィズム）を効果的に利用したよいシステムが設計できるようになる"
   ]
  },
  {
   "cell_type": "markdown",
   "metadata": {},
   "source": [
    "## SOLID原則における「依存関係」\n",
    "* 関連の一つである「依存関係」を指しているわけではない\n",
    "* 感覚的には前述した「結びつき」に近い概念\n",
    "* この原則は，この結びつきの「方向性」に注目している"
   ]
  },
  {
   "cell_type": "markdown",
   "metadata": {},
   "source": [
    "# デザインパターンの概要\n",
    "*  デザインパターンは，情報システム（ソフトウェア）設計において，よく遭遇する問題に効率よく対処するための具体的かつ再利用可能な解決策（ノウハウ集）\n",
    "*  ソフトウェア開発のベストプラクティスとして広く受け入れられている\n",
    "*  23種類の「GoFデザインパターン」が有名だが，それ以外のデザインパターンも数多く存在する\n",
    ">*  GoFデザインパターンとは，1994年に出版された「[Design Patterns: Elements of Reusable Object-Oriented Software](https://github.com/GunterMueller/Books-3/blob/master/Design%20Patterns%20Elements%20of%20Reusable%20Object-Oriented%20Software.pdf)」で紹介された23のデザインパターン\n",
    ">*  著者4名（Erich Gamma, Richard Helm, Ralph Johnson, John Vlissides）が「Gang of Four」と呼ばれるようになったことから，このような呼ばれ方となった\n",
    "*  デザインパターンを理解し適切に適用することで，より効率的で保守性の高い情報システムを開発することができる\n",
    "*  デザインパターンの具体例については，次回以降に説明する"
   ]
  },
  {
   "cell_type": "markdown",
   "metadata": {},
   "source": [
    "## デザインパターンの種類\n",
    "*  生成パターン（Creational Patterns）： オブジェクトの**生成方法を柔軟にする**ためのパターン\n",
    ">*  Singleton，Factory Method，Abstract Factory，Builder，Prototype\n",
    "*  構造パターン（Structural Patterns）： クラスやオブジェクトの**構造を整理し，拡張性を高める**パターン\n",
    ">*  Adapter，Bridge，Composite，Decorator，Facade，Flyweight，Proxy\n",
    "*  振る舞いパターン（Behavioral Patterns）： オブジェクト間の**やり取りや責務分担を工夫する**パターン\n",
    ">*  Observer、Strategy、Command、State、Template Method"
   ]
  },
  {
   "cell_type": "markdown",
   "metadata": {},
   "source": [
    "## SOLID原則とデザインパターン\n",
    "* SOLID原則\n",
    ">* 情報システム設計の「基本方針」や「指針」\n",
    ">* SOLID原則＝設計の考え方\n",
    "* デザインパターン\n",
    ">* よくある設計上の問題を解決する「具体的な方法」\n",
    ">* デザインパターン＝考え方を実現する手段\n",
    "* 原則が「方向性」で，パターンが「道具」⇒ 原則を守るために，パターンが役立つ\n",
    "* SOLID原則はデザインパターンの理解と適用を容易にするための重要な指針となる\n",
    "* SOLID原則とデザインパターンは相互に補完し合い，堅牢で柔軟な情報システム（ソフトウェア）設計を実現するための基盤を提供する\n",
    "* SOLID原則を理解していることでデザインパターンの目的や利点をより深く理解できる"
   ]
  },
  {
   "cell_type": "markdown",
   "metadata": {},
   "source": [
    "# 単一責任の原則"
   ]
  },
  {
   "cell_type": "markdown",
   "metadata": {},
   "source": [
    "## 単一責任の原則（SRP: Single Responsibility Principle）とは\n",
    "*  オブジェクト指向では，クラス（オブジェクト）がそれぞれの責務（責任）を持ち，互いに協調することでシステムの機能を実現する\n",
    "\n",
    "  \n",
    "---\n",
    "**単一責任の原則:**\n",
    "*  クラスは一つの責任（役割）を持つ:\n",
    ">*  一つのクラスは一つの目的や役割にフォーカスし，その役割に対してのみ責任を持つべき\n",
    ">*  複数の目的を持たせると，変更が発生した場合にその影響が広範囲に及び、保守が困難になる\n",
    "*  クラスは一つの変更理由を持つ:\n",
    ">*  クラスに加えられる変更の理由は一つだけであるべき\n",
    ">*  例えば，UI（ユーザインタフェース）の変更やデータベースの変更が同じクラスに影響を与えないように設計する\n",
    ">*  一つのクラスが複数の責任を持っていると，一つの変更が別の部分に不具合をもたらす可能性がある\n",
    "---\n",
    "\n",
    "*  単一の責任を持つ ＝ 変更理由が一つ\n",
    "*  責任（変更理由）が2つ以上あるクラス:\n",
    ">*  クラスが役割・機能がわかりづらくなる\n",
    ">*  クラスの名前が曖昧なものになる ⇒ コードがわかりづらくなる\n",
    ">*  それぞれの責務がクラス内部で結合しやすくなる ⇒ 例えば，複数の責務（メソッド）で同じインスタンス属性を共有していると，あるメソッドの変更が他のメソッドにも影響を与える\n",
    ">*  結合しやすくなることで，変更箇所がわかりづらくなる\n",
    "\n",
    "<img src=\"./fig/SOLID_SRP.png\" width=\"400\">\n",
    "\n"
   ]
  },
  {
   "cell_type": "markdown",
   "metadata": {},
   "source": [
    "## 例1"
   ]
  },
  {
   "cell_type": "markdown",
   "metadata": {},
   "source": [
    "### 単一責任の原則に違反している例\n",
    "*  以下のコードにおける`User`クラスは，ユーザ情報管理機能（役割1）とファイル保存機能（役割2）を持つクラスとして定義されている（下図）\n",
    "*  これにより，クラスの変更理由が増え，保守性が低下する  \n",
    "\n",
    "> <img src=\"./fig/SOLID_SRP_example1a.jpg\" width=\"240\">"
   ]
  },
  {
   "cell_type": "code",
   "execution_count": null,
   "metadata": {},
   "outputs": [],
   "source": [
    "from typing import TextIO\n",
    "class User:\n",
    "    # ユーザ情報管理機能（役割1）\n",
    "    def __init__(self, name: str) -> None:\n",
    "        self.name = name\n",
    "\n",
    "    # ファイル保存機能（役割2）\n",
    "    def save_user_info(self, text: str) -> None:\n",
    "        with open(f'{self.name}.txt', 'w') as file:\n",
    "            file: TextIO\n",
    "            file.write(f'Name: {self.name}\\n{text}')\n",
    "\n",
    "user: User = User('Alice')\n",
    "user.save_user_info('alice@example.com')\n",
    "\n",
    "# 保存したファイルの内容表示\n",
    "with open(f'{user.name}.txt', 'r') as f:\n",
    "    f: TextIO\n",
    "    txt: str = f.read()\n",
    "    print(f'{user.name}.txtの内容:\\n{txt}')"
   ]
  },
  {
   "cell_type": "markdown",
   "metadata": {},
   "source": [
    "*  上のコードにおいて，会社情報管理機能を持つ`Company`クラスを新たに追加することを考える（下図）\n",
    "\n",
    "> <img src=\"./fig/SOLID_SRP_example1b.jpg\" width=\"500\">\n",
    "\n",
    "*  このとき，会社に関するファイル保存機能（`User`クラスの役割2と同様の機能）を利用するためには，`Company`クラスの中でも同様の機能を定義する必要がある\n",
    "*  これは，同じ機能を持つメソッドを2カ所で記述していることになるので，コードが冗長となり，可読性を低下させる"
   ]
  },
  {
   "cell_type": "code",
   "execution_count": null,
   "metadata": {},
   "outputs": [],
   "source": [
    "from typing import TextIO\n",
    "class User:\n",
    "    # ユーザ情報管理機能（役割1）\n",
    "    def __init__(self, name: str) -> None:\n",
    "        self.name = name\n",
    "\n",
    "    # ファイル保存機能（役割2）\n",
    "    def save_user_info(self, text: str) -> None:\n",
    "        with open(f'{self.name}.txt', 'w') as file:\n",
    "            file: TextIO\n",
    "            file.write(f'Name: {self.name}\\n{text}')\n",
    "\n",
    "class Company:\n",
    "    # 会社情報管理機能\n",
    "    def __init__(self, name: str) -> None:\n",
    "        self.name = name\n",
    "\n",
    "    # ファイル保存機能（役割2と同様）\n",
    "    def save_company_info(self, text: str) -> None:\n",
    "        with open(f'{self.name}.txt', 'w') as file:\n",
    "            file: TextIO\n",
    "            file.write(f'Name: {self.name}\\n{text}')\n",
    "\n",
    "user: User = User('Alice')\n",
    "user.save_user_info('alice@example.com')\n",
    "\n",
    "company: Company = Company('Example')\n",
    "company.save_company_info('Kinuta, Setagaya-ku, Tokyo')\n",
    "\n",
    "# 保存したファイルの内容表示（ユーザ）\n",
    "with open(f'{user.name}.txt', 'r') as f:\n",
    "    f: TextIO\n",
    "    txt: str = f.read()\n",
    "    print(f'{user.name}.txtの内容:\\n{txt}\\n')\n",
    "\n",
    "# 保存したファイルの内容表示（会社）\n",
    "with open(f'{company.name}.txt', 'r') as f:\n",
    "    f: TextIO\n",
    "    txt: str = f.read()\n",
    "    print(f'{company.name}.txtの内容:\\n{txt}\\n')"
   ]
  },
  {
   "cell_type": "markdown",
   "metadata": {},
   "source": [
    "### 単一責任の原則を遵守した例\n",
    "*  上のコードにおける`User`クラスのユーザ情報管理機能とファイル保存機能は，単一責任の原則に従うと，それぞれの役割を持つクラスに分割すべきである\n",
    "* `Company`クラスも同様\n",
    "*  以下のコードでは，`User`クラスはユーザ情報管理機能のみを担い，ファイル保存機能は`FileManager`クラスが担う（下図）\n",
    "*  この場合，`FileManager`が`User`を利用している（`FileManager`クラスのメソッド `save_info` の引数として `User`が登場している）ので，これらのクラス間の関連は「依存関係」となる\n",
    "\n",
    "> <img src=\"./fig/SOLID_SRP_example2a.jpg\" width=\"500\">"
   ]
  },
  {
   "cell_type": "code",
   "execution_count": null,
   "metadata": {},
   "outputs": [],
   "source": [
    "from typing import TextIO\n",
    "class User:\n",
    "    def __init__(self, name: str) -> None:\n",
    "        self.name = name\n",
    "\n",
    "class FileManager:\n",
    "    def save_info(self, obj: User, text: str) -> None:\n",
    "        with open(f'{obj.name}.txt', 'w') as file:\n",
    "            file: TextIO\n",
    "            file.write(f'Name: {obj.name}\\n{text}')\n",
    "\n",
    "user: User = User('Bob')\n",
    "filemaneger: FileManager = FileManager()\n",
    "filemaneger.save_info(user, 'bob@example.com')\n",
    "\n",
    "# 保存したファイルの内容表示（ユーザ）\n",
    "with open(f'{user.name}.txt', 'r') as f:\n",
    "    f: TextIO\n",
    "    txt: str = f.read()\n",
    "    print(f'{user.name}.txtの内容:\\n{txt}\\n')"
   ]
  },
  {
   "cell_type": "markdown",
   "metadata": {},
   "source": [
    "*  上記コードのように役割を分けておくと，会社情報管理機能を持つ`Company`クラスを追加した場合，`Company`クラスのインスタンスに対してもファイル保存機能（`FileManager`クラスの役割）を適用することができる（下図）\n",
    "*  これにより，コードの冗長性がなくなり，可読性が向上する\n",
    "*  ただし，`save_info`メソッドの仮引数`obj`に対するクラス（型ヒント）を，`User`から`Union[User, Company]`に修正している\n",
    "* 型ヒント「Union」については，[第4回講義資料](https://colab.research.google.com/github/yoshida-nu/lec_systemdesign/blob/main/doc/SystemDesign_notebook04.ipynb)を参照\n",
    "*  今後，ファイル保存機能（`save_info`メソッド）を適用するクラスを増やす場合は，同様に仮引数`obj`に対する型ヒントを修正する必要がある\n",
    "*  これを回避するには，`User`クラスや`Company`クラスといったファイル保存機能（`save_info`メソッド）を適用するクラスを汎化したスーパークラス（抽象クラス）を定義しておけばよい（具体的な例は次回以降に説明）\n",
    "\n",
    "> <img src=\"./fig/SOLID_SRP_example2b.jpg\" width=\"400\">"
   ]
  },
  {
   "cell_type": "code",
   "execution_count": null,
   "metadata": {},
   "outputs": [],
   "source": [
    "from typing import Union\n",
    "\n",
    "class User:\n",
    "    def __init__(self, name: str) -> None:\n",
    "        self.name = name\n",
    "\n",
    "class Company:\n",
    "    def __init__(self, name: str) -> None:\n",
    "        self.name = name\n",
    "\n",
    "class FileManager:\n",
    "    def save_info(self, obj: Union[User, Company], text: str) -> None:\n",
    "        with open(f'{obj.name}.txt', 'w') as file:\n",
    "            file: TextIO\n",
    "            file.write(f'Name: {obj.name}\\n{text}')\n",
    "\n",
    "user: User = User('Carol')\n",
    "filemaneger: FileManager = FileManager()\n",
    "filemaneger.save_info(user, 'carol@example.com')\n",
    "\n",
    "company: Company = Company('Example')\n",
    "filemaneger.save_info(company, 'Kinuta, Setagaya-ku, Tokyo')\n",
    "\n",
    "# 保存したデータの内容表示（ユーザ）\n",
    "with open(f'{user.name}.txt', 'r') as f:\n",
    "    f: TextIO\n",
    "    txt: str = f.read()\n",
    "    print(f'{user.name}.txtの内容:\\n{txt}\\n')\n",
    "\n",
    "# 保存したデータの内容表示（会社）\n",
    "with open(f'{company.name}.txt', 'r') as f:\n",
    "    f: TextIO\n",
    "    txt: str = f.read()\n",
    "    print(f'{company.name}.txtの内容:\\n{txt}\\n')"
   ]
  },
  {
   "cell_type": "markdown",
   "metadata": {},
   "source": [
    "## 例2"
   ]
  },
  {
   "cell_type": "markdown",
   "metadata": {},
   "source": [
    "### 単一責任の原則に違反している例\n",
    "\n",
    "> <img src=\"./fig/SOLID_SRP_example3a.jpg\" width=\"550\">\n",
    "\n",
    "*  `User`クラス:\n",
    ">*  ユーザの名前とメールアドレスをインスタンス属性`name`, `email`として持つ\n",
    "*  `Authenticator`クラス:\n",
    ">*  インスタンス属性`users`: 登録ユーザ（Userオブジェクト）を要素とするリスト\n",
    ">*  `register_user`メソッド: `users`にUserオブジェクトを追加（ユーザの登録）\n",
    ">*  `authenticate`メソッド: 仮引数`email`に受け取ったメールアドレスを持つユーザが`users`に含まれているかチェック（ユーザの認証）\n",
    ">*  `logging`メソッド: 認証ログ（メールアドレスと認証結果）を auth_log.txt に書き込む\n",
    "*  `Authenticator` は `User`オブジェクトのリストを属性として保持しているので，これらのクラスの関連は集約となる\n",
    "*  依存関係もあるが，クラス図に集約が描かれていれば，依存関係を表す波線の矢印を描く必要はない\n",
    "*  問題点: `Authenticator`クラスが，ユーザの登録，認証，ログの記録といった複数の機能を持つ ⇒ 単一責任の原則に違反"
   ]
  },
  {
   "cell_type": "code",
   "execution_count": null,
   "metadata": {},
   "outputs": [],
   "source": [
    "from typing import TextIO\n",
    "# ユーザを表現するクラス\n",
    "class User:\n",
    "    def __init__(self, name: str, email: str) -> None:\n",
    "        self.name = name\n",
    "        self.email = email\n",
    "\n",
    "# 認証とログ管理を行うクラス（単一責任の原則に違反）\n",
    "class Authenticator:\n",
    "    def __init__(self) -> None:\n",
    "        self.users: list[User] = [] # 登録ユーザのリスト\n",
    "\n",
    "    # ユーザの登録\n",
    "    def register_user(self, user: User) -> None:\n",
    "        self.users.append(user)\n",
    "        print(f'{user.name}が登録されました。')\n",
    "\n",
    "    # ユーザの認証\n",
    "    def authenticate(self, email: str) -> bool:\n",
    "        for user in self.users:\n",
    "            if user.email == email:\n",
    "                print(f'{user.name}が認証されました。')\n",
    "                return True\n",
    "        print('認証に失敗しました。')\n",
    "        return False\n",
    "\n",
    "    # ログの記録\n",
    "    def logging(self, email: str, success: bool) -> None:\n",
    "        with open('auth_log.txt', 'a') as log_file:\n",
    "            log_file: TextIO\n",
    "            if success:\n",
    "                status: str = '成功'\n",
    "            else:\n",
    "                status: str = '失敗'\n",
    "            log_file.write(f'{email}による認証: {status}\\n')\n",
    "        print('認証ログが記録されました。')\n",
    "\n",
    "\n",
    "auth: Authenticator = Authenticator() # Authenticatorクラスのインスタンス生成\n",
    "\n",
    "# Userクラスのインスタンス生成\n",
    "usr1: User = User('Alice', 'alice@example.com')\n",
    "usr2: User = User('Bob', 'bob@abc.com')\n",
    "\n",
    "# ユーザ登録\n",
    "auth.register_user(usr1) # output: Aliceが登録されました。\n",
    "auth.register_user(usr2) # output: Bobが登録されました。\n",
    "\n",
    "# ユーザ認証とログの記録\n",
    "email1: str = 'bob@abc.com'\n",
    "log1: bool = auth.authenticate('bob@abc.com') # output: Bobが認証されました。\n",
    "auth.logging(email1, log1) # output: 認証ログが記録されました。\n",
    "email2: str = 'eve@abc.com'\n",
    "log2: bool = auth.authenticate('eve@abc.com') # output: 認証に失敗しました。\n",
    "auth.logging(email2, log2) # output: 認証ログが記録されました。\n",
    "\n",
    "# 認証ログファイルの内容表示\n",
    "with open('auth_log.txt', 'r') as f:\n",
    "    f: TextIO\n",
    "    txt: str = f.read()\n",
    "    print(f'認証ログファイル「auth_log.txt」の内容:\\n{txt}\\n')"
   ]
  },
  {
   "cell_type": "markdown",
   "metadata": {},
   "source": [
    "### 単一責任の原則を遵守した例\n",
    "*  上のコードにおいて，`Authenticator`クラスが持つ役割のユーザの登録，認証，ログの記録を以下の3つのクラスに分けて定義する（下図）\n",
    "\n",
    "> <img src=\"./fig/SOLID_SRP_example3b.jpg\" width=\"630\">\n",
    "\n",
    "*  `UserManeger`クラス: ユーザの登録と管理を行う\n",
    "*  `UserAuthenticator`クラス: ユーザの認証を行う\n",
    "*  `AuthLogger`クラス: 認証ログを管理する\n"
   ]
  },
  {
   "cell_type": "code",
   "execution_count": null,
   "metadata": {},
   "outputs": [],
   "source": [
    "from typing import TextIO\n",
    "# ユーザを表現するクラス\n",
    "class User:\n",
    "    def __init__(self, name: str, email: str) -> None:\n",
    "        self.name = name\n",
    "        self.email = email\n",
    "\n",
    "# ユーザの登録と管理を担当するクラス\n",
    "class UserManeger:\n",
    "    # 登録ユーザの管理\n",
    "    def __init__(self) -> None:\n",
    "        self.users: list[User] = []\n",
    "\n",
    "    # ユーザの登録\n",
    "    def register_user(self, user: User) -> None:\n",
    "        self.users.append(user)\n",
    "        print(f'{user.name}が登録されました。')\n",
    "\n",
    "# ユーザの認証を担当するクラス\n",
    "class UserAuthenticator:\n",
    "    def authenticate(self, email: str, manager: UserManeger) -> bool:\n",
    "        for user in manager.users:\n",
    "            if user.email == email:\n",
    "                print(f'{user.name}が認証されました。')\n",
    "                return True\n",
    "        print('認証に失敗しました。')\n",
    "        return False\n",
    "\n",
    "# 認証ログを管理するクラス\n",
    "class AuthLogger:\n",
    "    def logging(self, email: str, success: bool) -> None:\n",
    "        with open('auth_log2.txt', 'a') as log_file:\n",
    "            log_file: TextIO\n",
    "            if success:\n",
    "                status = '成功'\n",
    "            else:\n",
    "                status = '失敗'\n",
    "            log_file.write(f'{email}による認証: {status}\\n')\n",
    "        print('認証ログが記録されました。')\n",
    "\n",
    "# Userクラスのインスタンス生成\n",
    "usr1: User = User('Alice', 'alice@example.com')\n",
    "usr2: User = User('Bob', 'bob@abc.com')\n",
    "\n",
    "# 各クラスからインスタンスを生成\n",
    "manager: UserManeger = UserManeger()\n",
    "authenticator: UserAuthenticator = UserAuthenticator()\n",
    "logger: AuthLogger = AuthLogger()\n",
    "\n",
    "# ユーザ登録\n",
    "manager.register_user(usr1) # output: Aliceが登録されました。\n",
    "manager.register_user(usr2) # output: Bobが登録されました。\n",
    "\n",
    "# ユーザ認証とログの記録\n",
    "email1: str = 'bob@abc.com'\n",
    "log1: bool = authenticator.authenticate('bob@abc.com', manager) # output: Bobが認証されました。\n",
    "logger.logging(email1, log1) # output: 認証ログが記録されました。\n",
    "email2: str = 'eve@abc.com'\n",
    "log2: bool = authenticator.authenticate('eve@abc.com', manager) # output: 認証に失敗しました。\n",
    "logger.logging(email2, log2) # output: 認証ログが記録されました。\n",
    "\n",
    "# 認証ログファイルの内容表示\n",
    "with open('auth_log2.txt', 'r') as f:\n",
    "    f: TextIO\n",
    "    txt: str = f.read()\n",
    "    print(f'認証ログファイル「auth_log.txt」の内容:\\n{txt}\\n')"
   ]
  },
  {
   "cell_type": "markdown",
   "metadata": {},
   "source": [
    "## 例3"
   ]
  },
  {
   "cell_type": "markdown",
   "metadata": {},
   "source": [
    "### 単一責任の原則に違反している例\n",
    "*  以下のコードは，ホームシアターシステムをイメージしている\n",
    "\n",
    "> <img src=\"./fig/SOLID_SRP_example4a.jpg\" width=\"240\">\n",
    "\n",
    "*  `HomeTheaterSystem`クラスは，複数の役割を持つので明らかに単一責任の原則に違反している\n",
    "*  ここで，システムの起動は，照明オン，プロジェクタオン，サウンドシステムオンの順で操作するものとし，システムの終了は，サウンドシステムオフ，プロジェクタオフ，照明オフの順で操作するものとする"
   ]
  },
  {
   "cell_type": "code",
   "execution_count": null,
   "metadata": {},
   "outputs": [],
   "source": [
    "class HomeTheaterSystem:\n",
    "    def light_on(self) -> None:\n",
    "        print('照明をオンにします')\n",
    "\n",
    "    def light_off(self) -> None:\n",
    "        print('照明をオフにします')\n",
    "\n",
    "    def projector_on(self) -> None:\n",
    "        print('プロジェクタをオンにします')\n",
    "\n",
    "    def projector_off(self) -> None:\n",
    "        print('プロジェクタをオフにします')\n",
    "\n",
    "    def sound_on(self) -> None:\n",
    "        print('サウンドシステムをオンにします')\n",
    "\n",
    "    def sound_off(self) -> None:\n",
    "        print('サウンドシステムをオフにします')\n",
    "\n",
    "# システムの操作\n",
    "system: HomeTheaterSystem = HomeTheaterSystem()\n",
    "print('--- ホームシアターシステムを起動します ---')\n",
    "system.light_on()\n",
    "system.projector_on()\n",
    "system.sound_on()\n",
    "print('--- 映画鑑賞中 ---')\n",
    "print('--- ホームシアターシステムを終了します ---')\n",
    "system.sound_off()\n",
    "system.projector_off()\n",
    "system.light_off()"
   ]
  },
  {
   "cell_type": "markdown",
   "metadata": {},
   "source": [
    "### 単一責任の原則を遵守した例\n",
    "*  上のコードにおいて，`HomeTheaterSystem`クラスが持つ役割の照明操作，プロジェクタ操作，サウンドシステム操作を，`Lighting`クラス，`Projector`クラス，`SoundSystem`クラスに分けて定義する\n",
    "*  さらにメソッド名を簡略化して，コードの可読性を高める\n",
    "\n",
    "> <img src=\"./fig/SOLID_SRP_example4b.jpg\" width=\"350\">\n",
    "\n",
    "*  次回は，このコードにデザインパターンを適用し，より洗練されたコードを作成する"
   ]
  },
  {
   "cell_type": "code",
   "execution_count": null,
   "metadata": {},
   "outputs": [],
   "source": [
    "class Lighting:\n",
    "    def on(self) -> None:\n",
    "        print('照明をオンにします')\n",
    "\n",
    "    def off(self) -> None:\n",
    "        print('照明をオフにします')\n",
    "\n",
    "class Projector:\n",
    "    def on(self) -> None:\n",
    "        print('プロジェクタをオンにします')\n",
    "\n",
    "    def off(self) -> None:\n",
    "        print('プロジェクタをオフにします')\n",
    "\n",
    "class SoundSystem:\n",
    "    def on(self) -> None:\n",
    "        print('サウンドシステムをオンにします')\n",
    "\n",
    "    def off(self) -> None:\n",
    "        print('サウンドシステムをオフにします')\n",
    "\n",
    "# システムの操作\n",
    "lighting: Lighting = Lighting()\n",
    "projector: Projector = Projector()\n",
    "sound_system: SoundSystem = SoundSystem()\n",
    "\n",
    "print('--- ホームシアターシステムを起動します ---')\n",
    "lighting.on()\n",
    "projector.on()\n",
    "sound_system.on()\n",
    "print('--- 映画鑑賞中 ---')\n",
    "print('--- ホームシアターシステムを終了します ---')\n",
    "sound_system.off()\n",
    "projector.off()\n",
    "lighting.off()"
   ]
  },
  {
   "cell_type": "markdown",
   "metadata": {},
   "source": [
    "## 単一責任の原則の利点\n",
    "*  保守性の向上: 単一の責任を持つクラスは，変更が必要な場合に特定しやすく，修正も容易\n",
    "*  試験性の向上: 責任が明確なクラスは，テストの作成と実行が容易になる\n",
    "*  再利用性の向上: 単一の責任を持つクラスは，他のシステムでも再利用しやすくなる\n",
    "*  可読性の向上: 各クラスの目的が明確になり，コード全体の理解が容易になる"
   ]
  },
  {
   "cell_type": "markdown",
   "metadata": {},
   "source": [
    "# 実習\n",
    "以下の「修正前コード」は，「問題点」で指摘しているように単一責任の原則（SRP）に違反している．このコードを「コード修正要件・補足説明」に従って，SRP遵守のコードに修正しなさい．ただし，コードには型ヒントをつけ，既に入力されているコードは変更・削除しないこと．\n",
    "\n",
    "---\n",
    "**修正前コード：**\n",
    "```Python\n",
    "class Student:\n",
    "    def __init__(self, name: str, score: int) -> None:\n",
    "        self.name = name\n",
    "        self.score = score\n",
    "\n",
    "    def is_pass(self) -> bool:\n",
    "        # 合否判定\n",
    "        return self.score >= 60\n",
    "\n",
    "    def print_result(self) -> None:\n",
    "        # 結果の表示\n",
    "        if self.is_pass():\n",
    "            print(f'{self.name} さんは合格です！')\n",
    "        else:\n",
    "            print(f'{self.name} さんは不合格です…')\n",
    "```\n",
    "---\n",
    "**問題点:**\n",
    "* `Student` クラスが「データの保持」「合否判定」「表示」の3つの責任を持っている\n",
    "* これでは「表示方法を変えたい」「判定基準を変えたい」といったときに `Student` を修正しなければならない\n",
    "---\n",
    "**コード修正要件・補足説明:**\n",
    "*  以下のクラス図と対応させる\n",
    "*  3つの責任「データの保持」「合否判定」「表示」を果たす3つのクラスを定義する\n",
    "*  3つのクラス名:\n",
    ">* `Student`: 学生のデータを表すクラス（責任：データ保持）　\n",
    ">* `Judge`: 判定を行うクラス（責任：合否判定）\n",
    ">* `Reporter`: 表示を行うクラス（責任：結果の出力）\n",
    "* `is_pass`メソッドの機能は修正前コードと同じ\n",
    "* `print_result`メソッドの機能は修正前コードと同じ\n",
    "---\n",
    "**クラス図:**\n",
    "\n",
    "<img src='./fig/SOLID_SRP_exercise.jpg' width='520'>\n",
    "\n",
    "---\n",
    "**期待される実行結果:**\n",
    "```\n",
    "Taro さんは合格です！\n",
    "Hanako さんは不合格です…\n",
    "```"
   ]
  },
  {
   "cell_type": "code",
   "execution_count": null,
   "metadata": {},
   "outputs": [],
   "source": [
    "# ここにコードを記述（必要に応じて改行する）\n",
    "\n",
    "# --------------------------\n",
    "# 動作確認\n",
    "# --------------------------\n",
    "s1 = Student('Taro', 75)\n",
    "s2 = Student('Hanako', 40)\n",
    "\n",
    "judge = Judge()\n",
    "reporter = Reporter()\n",
    "\n",
    "reporter.print_result(s1, judge)\n",
    "reporter.print_result(s2, judge)"
   ]
  },
  {
   "cell_type": "markdown",
   "metadata": {},
   "source": [
    "# 参考資料\n",
    "*  Robert C.Martin (著), 角征典 (翻訳), 高木正弘 (翻訳), [Clean Architecture 達人に学ぶソフトウェアの構造と設計](https://www.kadokawa.co.jp/product/301806000678/), KADOKAWA, 2018.\n",
    "*  伊藤裕一, [速習 Python 3 中: オブジェクト指向編 Kindle版](https://www.amazon.co.jp/%E9%80%9F%E7%BF%92-Python-3-%E4%B8%AD-%E3%82%AA%E3%83%96%E3%82%B8%E3%82%A7%E3%82%AF%E3%83%88%E6%8C%87%E5%90%91%E7%B7%A8-ebook/dp/B01N04UBYI), 2016\n",
    "*  ひらまつしょうたろう, [Python でわかる オブジェクト指向 とはなにか？【Python オブジェクト指向 の「なぜ？」を「徹底的に」解説】](https://www.udemy.com/course/oop-python/?couponCode=KEEPLEARNING), Udemy, 最終更新日 2023/7.\n",
    "*  ひらまつしょうたろう, [Python で身につける オブジェクト指向【SOLID原則+デザインパターンで、オブジェクト指向設計 の基礎を習得！】](https://www.udemy.com/course/python-solid-design-pattern/?couponCode=KEEPLEARNING), Udemy, 最終更新日 2024/6.\n",
    "<!-- *  河合昭男, [ゼロからわかる UML超入門](https://gihyo.jp/book/2017/978-4-7741-9005-1), 技術評論社, 2010. -->\n",
    "<!-- *  竹政昭利, 林田幸司, 大西洋平, 三村次朗, 藤本陽啓, 伊藤宏幸, [かんたんUML入門 ［改訂2版］ Kindle版](https://gihyo.jp/book/2017/978-4-7741-9039-6), 技術評論社, 2017. -->\n",
    "<!-- *  Bill Lubanovic (著), 鈴木駿 (監訳), 長尾高弘 (訳), [入門 Python 3 第2版](https://www.oreilly.co.jp/books/9784873119328/), オライリージャパン, 2021. -->\n",
    "<!-- *  Guido van Rossum (著), 鴨澤眞夫 (翻訳), [Pythonチュートリアル 第4版](https://www.oreilly.co.jp/books/9784873119359/), オライリージャパン, 2021. -->\n",
    "\n"
   ]
  }
 ],
 "metadata": {
  "colab": {
   "authorship_tag": "ABX9TyNlEN6COxiCGqLXcrGZ08ji",
   "provenance": []
  },
  "kernelspec": {
   "display_name": "Python 3",
   "language": "python",
   "name": "python3"
  },
  "language_info": {
   "codemirror_mode": {
    "name": "ipython",
    "version": 3
   },
   "file_extension": ".py",
   "mimetype": "text/x-python",
   "name": "python",
   "nbconvert_exporter": "python",
   "pygments_lexer": "ipython3",
   "version": "3.12.10"
  }
 },
 "nbformat": 4,
 "nbformat_minor": 0
}
