{
 "cells": [
  {
   "cell_type": "markdown",
   "metadata": {},
   "source": [
    "# 比較演算子と論理演算子"
   ]
  },
  {
   "cell_type": "markdown",
   "metadata": {},
   "source": [
    "## 比較演算子\n",
    "* 2つの値の大小を比較するための演算子\n",
    "* 演算結果は「`True`」と「`False`」のいずれかの値をとる論理型（bool）の値\n",
    "* 比較演算子を使った式が正しければ「True（真）」で，間違っていれば「False（偽）」となる\n",
    "\n",
    "|比較演算子|意味|\n",
    "|:-:|:-:|\n",
    "| < | 小さい |\n",
    "| > | 大きい |\n",
    "| <= | 以上 |\n",
    "| >= | 以下 |\n",
    "| == | 等しい |\n",
    "| != | 等しくない |"
   ]
  },
  {
   "cell_type": "markdown",
   "metadata": {},
   "source": [
    "## `is`演算子\n",
    "*  オブジェクトの同一性（identity）を比較するために使用する\n",
    "*  具体的には，2つのオブジェクトが同じオブジェクトであるかどうかを確認する\n",
    "*  つまり，オブジェクトがメモリ上で同じ位置を指しているかどうかを確認するための演算\n",
    "*  一方，上述した`==`演算子は，2つのオブジェクトの値が等しいかどうかを比較する\n",
    "*  `is`はオブジェクトの同一性，`==`はオブジェクトの等価性を判定するために使われる"
   ]
  },
  {
   "cell_type": "code",
   "execution_count": null,
   "metadata": {},
   "outputs": [],
   "source": [
    "a = [1, 2, 3]\n",
    "b = [1, 2, 3]\n",
    "c = a\n",
    "\n",
    "# 値は等しいが，aとbは異なるオブジェクト\n",
    "print(a == b)  # True （aとbの値が同じ）\n",
    "print(a is b)  # False （aとbは異なるオブジェクト）\n",
    "\n",
    "# cはaと同じオブジェクトを参照している\n",
    "print(a is c)  # True （aとcは同じオブジェクト）"
   ]
  },
  {
   "cell_type": "markdown",
   "metadata": {},
   "source": [
    "## `in`演算子／`not in`演算子\n",
    "`in`演算子（または`not in`演算子）は，文字列型（str）やコンテナのデータに指定の文字列や要素が含まれている（または含まれていない）かどうかを判定する演算子で，演算結果は論理型（bool）となる．  \n",
    "\n",
    "**書式:**\n",
    "```Python\n",
    "要素（or 文字列） in コンテナ（or 文字列）\n",
    "要素（or 文字列） not in コンテナ（or 文字列）\n",
    "```"
   ]
  },
  {
   "cell_type": "code",
   "execution_count": null,
   "metadata": {},
   "outputs": [],
   "source": [
    "prime_number = [2, 3, 5, 7, 11, 13]\n",
    "print(5 in prime_number)\n",
    "print(9 in prime_number)\n",
    "print(5 not in prime_number)\n",
    "print(9 not in prime_number)\n",
    "print(not 9 in prime_number)"
   ]
  },
  {
   "cell_type": "markdown",
   "metadata": {},
   "source": [
    "## 論理演算子\n",
    "*  論理演算を行うための演算子\n",
    "*  論理演算はbool（論理型）の値に対する演算\n",
    "*  演算結果はbool（論理型） ⇒ `True`と`False`のいずれか\n",
    "\n",
    "\n",
    "|論理演算子|意味|\n",
    "|:-:|:--|\n",
    "| `and` | 両者を満たす（両者ともTrueの）ときTrue |\n",
    "| `or` | どちらか片方を満たす（少なくともどちらか一方がTrueの）ときTrue |\n",
    "| `not` | 満たさない（Falseの）ときTrue |\n"
   ]
  },
  {
   "cell_type": "markdown",
   "metadata": {},
   "source": [
    "### `and`演算子\n",
    "\n",
    "|`A`|`B`|`A and B`|\n",
    "|:-:|:-:|:-:|\n",
    "| `True` | `True` | `True` | \n",
    "| `True` | `False` | `False` |\n",
    "| `False` | `True` | `False` |\n",
    "| `False` | `False` | `False` |"
   ]
  },
  {
   "cell_type": "code",
   "execution_count": null,
   "metadata": {},
   "outputs": [],
   "source": [
    "t = True\n",
    "f = False\n",
    "print(t and t)\n",
    "print(t and f)\n",
    "print(f and t)\n",
    "print(f and f)"
   ]
  },
  {
   "cell_type": "markdown",
   "metadata": {},
   "source": [
    "### `or`演算子\n",
    "\n",
    "|`A`|`B`|`A or B`|\n",
    "|:-:|:-:|:-:|\n",
    "| `True` | `True` | `True` | \n",
    "| `True` | `False` | `True` |\n",
    "| `False` | `True` | `True` |\n",
    "| `False` | `False` | `False` |"
   ]
  },
  {
   "cell_type": "code",
   "execution_count": null,
   "metadata": {},
   "outputs": [],
   "source": [
    "t = True\n",
    "f = False\n",
    "print(t or t)\n",
    "print(t or f)\n",
    "print(f or t)\n",
    "print(f or f)"
   ]
  },
  {
   "cell_type": "markdown",
   "metadata": {},
   "source": [
    "### `not`演算子\n",
    "\n",
    "|`A`|`not A`|\n",
    "|:-:|:-:|\n",
    "| `True` | `False` | \n",
    "| `False` | `True` |"
   ]
  },
  {
   "cell_type": "code",
   "execution_count": null,
   "metadata": {},
   "outputs": [],
   "source": [
    "t = True\n",
    "f = False\n",
    "print(not t)\n",
    "print(not f)"
   ]
  },
  {
   "cell_type": "markdown",
   "metadata": {},
   "source": [
    "## 比較演算子と論理演算子の組み合わせ"
   ]
  },
  {
   "cell_type": "code",
   "execution_count": null,
   "metadata": {},
   "outputs": [],
   "source": [
    "a = 1\n",
    "b = 2\n",
    "c = 3\n",
    "print(a < b)\n",
    "print(b > c)\n",
    "print(a < b and b > c)\n",
    "print(a < b or b > c)\n",
    "print(not a < b)"
   ]
  },
  {
   "cell_type": "markdown",
   "metadata": {},
   "source": [
    "# 条件分岐\n",
    "*  条件分岐とは，ある条件（条件式）を満たす or 満たさないのいずれかで異なる動作をするように制御すること\n",
    "*  条件分岐は`if`文を使って実現する"
   ]
  },
  {
   "cell_type": "markdown",
   "metadata": {},
   "source": [
    "## 条件式\n",
    "*  条件分岐では，結果がboolのオブジェクトとなる条件式を使う\n",
    "*  条件式が成り立つとき ⇒ `True` （真）\n",
    "*  条件式が成り立たないとき ⇒ `False` （偽）\n",
    "*  条件式には比較演算子，論理演算子，`in`／`not in`演算子などが使われる\n",
    "\n",
    "以下のコードは，条件式に`in`演算子を使った`if`文の例である．\n",
    "*  条件式は`if`の後に半角スペースを入れて記述する\n",
    "*  条件式の後にコロン `:` を入れる\n",
    "*  コロンを入れ忘れるとエラーになるので注意する\n",
    "*  条件式が`True`のときに実行する処理（文）を次の行以降にインデントを入れてから記述する\n",
    "*  インデントがなかったり，文の先頭が揃ってなかったりするとエラーになるので注意する\n"
   ]
  },
  {
   "cell_type": "code",
   "execution_count": null,
   "metadata": {},
   "outputs": [],
   "source": [
    "family = ['Shinnosuke', 'Misae', 'Hiroshi', 'Himawari']\n",
    "your_name = 'Himawari'\n",
    "if your_name in family:\n",
    "    print(f'Your name is {your_name}')\n",
    "    print('You are my family.')"
   ]
  },
  {
   "cell_type": "markdown",
   "metadata": {},
   "source": [
    "## `if`ブロック\n",
    "*  上のコードの4～5行目のように，条件式が`True`のときに実行する文のまとまりを`if`ブロックと呼ぶ\n",
    "*  `if`ブロックの範囲は，インデントによって定義される"
   ]
  },
  {
   "cell_type": "markdown",
   "metadata": {},
   "source": [
    "## `else`ブロック\n",
    "*  次に以下のコードを考える．このコードは，名前に応じて異なる返答ができるようにしている  \n",
    "*  具体的には，`your_name`の値が`family`に含まれていれば，7行目を実行し，含まれていなければ，9行目を実行する．  \n",
    "*  このコードのように条件式が`False`のときに実行する処理を記述する場合は，`if`ブロックの後に（インデントを解除して）`else:`を記述し，その下の行にインデントを設定して処理を記述する．"
   ]
  },
  {
   "cell_type": "code",
   "execution_count": null,
   "metadata": {},
   "outputs": [],
   "source": [
    "family = ['Shinnosuke', 'Misae', 'Hiroshi', 'Himawari']\n",
    "\n",
    "your_name = 'Himawari'\n",
    "print(f'Your name is {your_name}')\n",
    "\n",
    "if your_name in family:\n",
    "    print('You are my family.')\n",
    "else:    \n",
    "    print('You are not my family.')"
   ]
  },
  {
   "cell_type": "markdown",
   "metadata": {},
   "source": [
    "*  上のコードの9行目のように，条件式が`False`のときに実行する文のまとまりを`else`ブロックと呼ぶ\n",
    "*  例えば，以下のコードにおいて，3～4行目が`if`ブロック，6～7行目が`else`ブロックとなる"
   ]
  },
  {
   "cell_type": "code",
   "execution_count": null,
   "metadata": {},
   "outputs": [],
   "source": [
    "score = 78\n",
    "if score >= 80:\n",
    "    print('おめでとう！')\n",
    "    print('次もこの調子だ！')\n",
    "else:\n",
    "    print('残念でした。')\n",
    "    print('次回は頑張ろう！')"
   ]
  },
  {
   "cell_type": "markdown",
   "metadata": {},
   "source": [
    "## `elif`節\n",
    "*  条件式が成立しなかったとき，さらに別の条件式で判定したい場合は，`elif`プロックを追加する\n",
    "*  elifは「else if」を省略した形になっている\n",
    "*  `elif`プロックは，`if`ブロックのあとに，条件式を設定してから記述する\n",
    "*  この条件式は，`elif`の後に半角スペースを入れて記述する\n",
    "*  条件式の後にはコロン `:` を入れる\n",
    "*  この条件式が`True`のときに実行する処理（`elif`プロック）を次の行以降にインデントを入れてから記述する\n",
    "*  さらに別の条件式で判定したい場合は，`elif`ブロックのあとに，さらに`elif`ブロックを追加すればよい\n",
    "*  `elif`ブロックの数に制限はなく，必要なだけ記述できる\n",
    "*  複数記述した条件式は，先頭から順に判定していき，最初に`True`となった条件式の下のプロックのみが実行される"
   ]
  },
  {
   "cell_type": "code",
   "execution_count": null,
   "metadata": {},
   "outputs": [],
   "source": [
    "x = 115\n",
    "if x < 100 and x % 2 == 0:\n",
    "    print('100未満の偶数')\n",
    "elif x < 100 and x % 2 == 1:\n",
    "    print('100未満の奇数')\n",
    "elif x % 2 == 0:\n",
    "    print('100以上の偶数')\n",
    "else:\n",
    "    print('100以上の奇数')"
   ]
  },
  {
   "cell_type": "markdown",
   "metadata": {},
   "source": [
    "## `if`文の条件式\n",
    "*  `if`文では，条件式を使って条件分岐を行っていた\n",
    "*  条件式は「結果がboolのオブジェクトとなるものを使う」と説明したが，どのようなものが該当するのか？\n",
    ">*  条件式として使えるのは，特殊メソッド「`__bool__()`」が定義されているオブジェクト\n",
    ">*  `__bool__()`のメソッドは，戻り値としてboolクラスのオブジェクト（`True`または`False`）を返す  \n",
    ">*  `__bool__()`メソッドが定義されていないでも，特殊メソッド「`__len__()`」が定義されていれば，条件式として使える\n",
    ">*  組み込み関数の`len`関数は内部で`__len__()`メソッドを実行している  \n",
    ">*  `__len__()`メソッドの戻り値のクラスが`int`で，`int`クラスには`__bool__`メソッドが定義されている\n",
    ">*  これを利用して，`__len__()`メソッドの戻り値に対して`__bool__`メソッドを適用した結果が条件式の結果となる\n",
    ">*  `__len__()`メソッドも定義されていなければ`True`を返す\n"
   ]
  },
  {
   "cell_type": "markdown",
   "metadata": {},
   "source": [
    "### `int`クラスを条件式とした場合\n",
    "*  0のときの`__bool__()`メソッド: `True`\n",
    "*  0以外のときの`__bool__()`メソッド: `False`"
   ]
  },
  {
   "cell_type": "code",
   "execution_count": null,
   "metadata": {},
   "outputs": [],
   "source": [
    "x = 0\n",
    "print(x.__bool__())\n",
    "x = x + 1\n",
    "print(x.__bool__())"
   ]
  },
  {
   "cell_type": "markdown",
   "metadata": {},
   "source": [
    "### `str`クラスを条件式とした場合\n",
    "*  `str`クラスには，`__bool__()`メソッドがない\n",
    "*  そのため，`__len__()`メソッドの戻り値（`int`）に`__bool__()`メソッドを適用した結果を条件式に用いる\n",
    "*  空の文字列ではないとき: `True`\n",
    "*  空の文字列「`''`」のとき: `False`"
   ]
  },
  {
   "cell_type": "code",
   "execution_count": null,
   "metadata": {},
   "outputs": [],
   "source": [
    "x = ''\n",
    "print(x.__len__().__bool__())\n",
    "x = x + 'Hello'\n",
    "print(x.__len__().__bool__())"
   ]
  },
  {
   "cell_type": "markdown",
   "metadata": {},
   "source": [
    "### `list`クラスを条件式とした場合\n",
    "*  `list`クラスには，`__bool__()`メソッドがない\n",
    "*  そのため，`str`クラスと同様に，`__len__()`メソッドの戻り値（`int`）に`__bool__()`メソッドを適用した結果を条件式に用いる\n",
    "*  空のリストではないとき: `True`\n",
    "*  空のリスト「`[]`」のとき: `False`"
   ]
  },
  {
   "cell_type": "code",
   "execution_count": null,
   "metadata": {},
   "outputs": [],
   "source": [
    "my_list = []\n",
    "print(my_list.__len__().__bool__())\n",
    "my_list.append(10)\n",
    "print(my_list.__len__().__bool__())"
   ]
  },
  {
   "cell_type": "markdown",
   "metadata": {},
   "source": [
    "# 型ヒント（Type Hinting）\n",
    "*  Pythonでは，引数や戻り値，変数のクラスを指定しなくても動作する\n",
    "*  例えば，以下のコードで定義している`add_two_integers`関数は，引数として2つの整数値を受け取ると，それらの和を戻り値として返すが，引数や戻り値のクラスは指定していない\n",
    "*  しかし，コードを見ただけでは，引数にどのクラスのオブジェクトを渡すのか， どのクラスの戻り値が返ってくるのかがわからない\n",
    "*  よって，コードからでは，その仕様がわからない\n",
    "*  加えて，オブジェクトのクラスの取り扱いに関するミスも起こりやすくなる\n",
    "  \n",
    "---\n",
    "```Python\n",
    "def add_two_integers(a, b):\n",
    "    return a + b\n",
    "```\n",
    "---\n",
    " \n",
    "*  Pythonの型ヒント（Type Hinting）は，関数の引数や戻り値，変数がどのような型（クラス）であるかを明示するためのしくみ\n",
    "*  型ヒント自体はプログラムの動作に影響を与えないが，オブジェクトのクラス（データ型）の取り扱いミスが見つけやすくなり，コードの可読性や保守性を高める効果がある\n",
    "*  また，Google Coaboratoryなどの開発環境における補完機能やエラーチェックが強化され，開発がスムーズになる\n",
    "*  【参考】mypyモジュールを使うと，Pythonコードを解析し，コード内で取り扱っているクラスの整合性がチェックできる（[mypy公式ドキュメント](https://mypy.readthedocs.io/)）"
   ]
  },
  {
   "cell_type": "markdown",
   "metadata": {},
   "source": [
    "## 変数の型ヒント\n",
    "*  変数に型ヒントを付ける場合は，変数名の後にコロン「`:`」とクラスを記述する\n",
    "  \n",
    "---\n",
    "```Python\n",
    "変数名: クラス = 値\n",
    "```\n",
    "---"
   ]
  },
  {
   "cell_type": "code",
   "execution_count": 2,
   "metadata": {},
   "outputs": [],
   "source": [
    "age: int = 25\n",
    "name: str = \"Alice\"\n",
    "height: float = 1.75\n",
    "is_student: bool = True"
   ]
  },
  {
   "cell_type": "markdown",
   "metadata": {},
   "source": [
    "## 関数（メソッド）の型ヒント\n",
    "*  引数は変数と同様に，仮引数名の後にコロン「`:`」とクラスを記述する\n",
    "*  戻り値は，関数定義の最後（コロン「`:`」の直後）に矢印「`->`」とクラスを記述する\n",
    "*  メソッドの型ヒントも同様に記述する\n",
    "  \n",
    "---\n",
    "```Python\n",
    "def 関数名(引数1:クラス, 引数2:クラス, ...) -> 戻り値のクラス:\n",
    "    処理\n",
    "```\n",
    "---"
   ]
  },
  {
   "cell_type": "code",
   "execution_count": null,
   "metadata": {},
   "outputs": [],
   "source": [
    "def greet(name: str) -> str:\n",
    "    return f'Hello, {name}!'\n",
    "\n",
    "your_name: str = 'Hanako'\n",
    "\n",
    "print(greet(your_name))"
   ]
  },
  {
   "cell_type": "markdown",
   "metadata": {},
   "source": [
    "*  戻り値がない場合には，`None`と記述する\n",
    "*  メソッドの場合も同様"
   ]
  },
  {
   "cell_type": "code",
   "execution_count": null,
   "metadata": {},
   "outputs": [],
   "source": [
    "def show_greet(name: str) -> None:\n",
    "    print(f'Hello, {name}!')\n",
    "\n",
    "your_name: str = 'Taro'\n",
    "\n",
    "show_greet(your_name)"
   ]
  },
  {
   "cell_type": "markdown",
   "metadata": {},
   "source": [
    "## コンテナオブジェクトの型ヒント\n",
    "*  リスト（`list`）やタプル（`tuple`）などの，コンテナオブジェクトの型ヒントでは，コンテナのクラスと要素のクラスをそれぞれ指定する\n",
    "  \n",
    "書式（リストやタプルの場合）:\n",
    "```Python\n",
    "変数名: コンテナのクラス[要素のクラス] = 値\n",
    "```\n",
    "  \n",
    "書式（ディクショナリの場合）:\n",
    "```Python\n",
    "変数名: dict[キーのクラス, 値のクラス] = 値\n",
    "```"
   ]
  },
  {
   "cell_type": "code",
   "execution_count": 8,
   "metadata": {},
   "outputs": [],
   "source": [
    "numbers: list[int] = [1, 2, 3]\n",
    "scores: dict[str, int] = {\"Alice\": 90, \"Bob\": 85}"
   ]
  },
  {
   "cell_type": "markdown",
   "metadata": {},
   "source": [
    "## 独自クラスの型ヒント\n",
    "*  独自に定義したクラスを型ヒントとして記述することもできる"
   ]
  },
  {
   "cell_type": "code",
   "execution_count": null,
   "metadata": {},
   "outputs": [],
   "source": [
    "class MyClass:\n",
    "    def __init__(self, value: str) -> None: \n",
    "        self.value = value\n",
    "\n",
    "def print_myclass_value(obj: MyClass) -> None: # 引数はMyClassクラスのオブジェクト\n",
    "    print(obj.value)\n",
    "\n",
    "obj: MyClass = MyClass('Class 1')\n",
    "print_myclass_value(obj)"
   ]
  },
  {
   "cell_type": "markdown",
   "metadata": {},
   "source": [
    "## typingモジュール\n",
    "*  Pythonのtypingモジュールは，標準ライブラリに含まれるモジュールで，型ヒントを実現するために用いられる\n",
    "*  typingモジュールを使うと，これまでに説明した型ヒントの記述例よりも，さらに高度な型ヒントが表現できる\n",
    "*  具体的には，typingモジュール内に用意されている，型ヒントを定義するための構造を使って型ヒントを記述する\n",
    "*  型ヒントを定義するための構造には，`Union`，`Optional`，`Any`などがある\n",
    "*  これらの構造を使う場合は，`from typing import 構造`と記述してインポートする必要がある"
   ]
  },
  {
   "cell_type": "markdown",
   "metadata": {},
   "source": [
    "### `Union`を使った型ヒント\n",
    "*  例えば，引数が`int`か`str`のいずれかの場合など，複数の異なるクラスを受け入れたい場合は`Union`を使う\n",
    "*  `Union`は`from typing import Union`でインポートする\n",
    "  \n",
    "書式:\n",
    "```Python\n",
    "Union[クラス1, クラス2, ...]\n",
    "```\n",
    "\n",
    "*  以下のコードで定義している`process`関数は，`int`と`str`のどちらかを引数として受け取る"
   ]
  },
  {
   "cell_type": "code",
   "execution_count": null,
   "metadata": {},
   "outputs": [],
   "source": [
    "from typing import Union\n",
    "\n",
    "def process(value: Union[int, str]) -> None:\n",
    "    print(value)\n",
    "\n",
    "process(5)\n",
    "process('Hello')"
   ]
  },
  {
   "cell_type": "markdown",
   "metadata": {},
   "source": [
    "### `Optional`を使った型ヒント\n",
    "*  ある引数や戻り値，変数が`None`，または特定のクラスに属することを表す場合は，`Optional`を使う\n",
    "*  `Optional`は`from typing import Optional`でインポートする\n",
    "  \n",
    "書式:\n",
    "```Python\n",
    "Optional[クラス]\n",
    "```\n",
    "\n",
    "*  以下のコードで定義している`find_user`関数の戻り値は，引数が1の場合は，`str`のAliceを返し，それ以外の場合は`None`を返す\n",
    "*  `Optional[int]`は，`Union[int, None]`の省略形になっている"
   ]
  },
  {
   "cell_type": "code",
   "execution_count": null,
   "metadata": {},
   "outputs": [],
   "source": [
    "from typing import Optional\n",
    "\n",
    "def find_user(user_id: int) -> Optional[str]:\n",
    "    if user_id == 1:\n",
    "        return 'Alice'\n",
    "    else:\n",
    "        return None\n",
    "    \n",
    "print(find_user(1))\n",
    "print(find_user(2))"
   ]
  },
  {
   "cell_type": "markdown",
   "metadata": {},
   "source": [
    "### `Any`を使った型ヒント\n",
    "*  どんな型でも受け入れることを表す場合は，`Any`を使う\n",
    "*  `Any`は`from typing import Any`でインポートする\n",
    "*  以下のコードで定義している`log`関数の仮引数`message`は，任意のクラスのオブジェクトを受け取る"
   ]
  },
  {
   "cell_type": "code",
   "execution_count": 10,
   "metadata": {},
   "outputs": [],
   "source": [
    "from typing import Any\n",
    "\n",
    "def log(message: Any) -> None:\n",
    "    print(message)"
   ]
  },
  {
   "cell_type": "markdown",
   "metadata": {},
   "source": [
    "### `Callable`をつかった型ヒント\n",
    "*  呼び出し可能なオブジェクトのクラスを指定する場合は，`Callable`を使う\n",
    "*  `Callable`は`from typing import Callable`でインポートする\n",
    "\n",
    "書式:\n",
    "```Python\n",
    "Callable[[引数のクラス], 戻り値のクラス]\n",
    "```\n",
    "\n",
    "*  以下のコードで定義している`apply_func`関数の仮引数`f`に対する型ヒントに`Callable`を使っている\n",
    "*  仮引数`f`は，「2つの`int`クラスのオブジェクトを引数として受け取り，`int`クラスのオブジェクトを返す関数」を受け取る\n",
    "*  `add`関数は，型ヒントで指定した関数に当てはまるので，引数として渡すことができる"
   ]
  },
  {
   "cell_type": "code",
   "execution_count": null,
   "metadata": {},
   "outputs": [],
   "source": [
    "from typing import Callable\n",
    "\n",
    "def apply_func(f: Callable[[int, int], int], x: int, y: int) -> int:\n",
    "    return f(x, y)\n",
    "\n",
    "def add(a: int, b: int) -> int:\n",
    "    return a + b\n",
    "\n",
    "result = apply_func(add, 10, 20)\n",
    "print(result)\n"
   ]
  },
  {
   "cell_type": "markdown",
   "metadata": {},
   "source": [
    "## 型ヒントのメリット・デメリット\n",
    "*  コードを読むだけで変数や関数で想定しているクラスが理解できる\n",
    "*  Google Coaboratoryなどの開発環境における補完機能やエラーチェックが強化され，開発がスムーズになる\n",
    "*  型ヒントには上記のメリットがあるが，デメリットとしては，コードの記述量が増えることが挙げられる"
   ]
  },
  {
   "cell_type": "markdown",
   "metadata": {
    "id": "og0GV02cFyRe"
   },
   "source": [
    "# 集約とコンポジション\n",
    "*  集約（Aggregation）とコンポジション（Composition）は，オブジェクト指向においてオブジェクト同士の「所有関係」を表現するための設計概念\n",
    "*  どちらも「関連」の一種であるが，オブジェクトの所有権などに違いがある"
   ]
  },
  {
   "cell_type": "markdown",
   "metadata": {
    "id": "6gCwJCAmGalJ"
   },
   "source": [
    "## 集約（Aggregation）\n",
    "*  集約は「部分と全体」の関係を表すが，部分（部品）は全体（集約側）とは独立して存在できる\n",
    "*  つまり，一方のクラスのインスタンス（全体）が他方のクラスのインスタンス（部分）を参照するが，所有権はない\n",
    "*  したがって，全体のインスタンスが破棄されても，部分のインスタンスは影響を受けない\n",
    "*  UMLでは下図のように表現する: 全体と部分のクラスを直線でつなぎ，全体のほうに白いひし形をつける\n",
    "\n",
    "<img src=\"./fig/aggregation_templete.png\" width=\"300\">  \n"
   ]
  },
  {
   "cell_type": "markdown",
   "metadata": {},
   "source": [
    "### 集約の例1: お子様ランチ\n",
    "\n",
    "<img src=\"./fig/aggregation_kids_lunch.png\" width=\"450\">  \n"
   ]
  },
  {
   "cell_type": "markdown",
   "metadata": {},
   "source": [
    "### has-a関係\n",
    "*  2つのクラス間の関係 ⇒ is-a関係とhas-a関係\n",
    ">*  is-a関係については説明済み（継承の回）\n",
    ">*  has-a関係とは，一方のクラスが，もう一方のクラスを所有するという関係\n",
    "*  クラスA has a クラスB\n",
    ">*  クラスAはクラスBを所有する\n",
    ">*  クラスAはクラスBを構成要素として持つ\n",
    "*  全体 has a 部分 ⇒ 部分 is a part of 全体\n",
    "*  例: お子様ランチ has a ハンバーグ ⇒ ハンバーグ is a part of お子様ランチ \n"
   ]
  },
  {
   "cell_type": "markdown",
   "metadata": {},
   "source": [
    "### 集約の例2: 従業員と部署\n",
    "*  以下のコードは，従業員（`Employee`）と部署（`Department`）の関係を表している\n",
    "*  `Department`クラスのインスタンス`dept`のインスタンス属性`employees`はリストで，`Employee`クラスのインスタンスが要素として追加される\n",
    "*  部署（全体）が削除されても，従業員（部分）は独立して存在できる\n",
    "*  例えば，`del dept`でインスタンスを削除した後でも，`Employee`クラスのインスタンスである`emp1`と`emp2`は削除されていない\n",
    "*  この例におけるクラス図を下図に示す\n",
    "\n",
    "<img src=\"./fig/aggregation_department.png\" width=\"250\">  "
   ]
  },
  {
   "cell_type": "code",
   "execution_count": null,
   "metadata": {
    "colab": {
     "base_uri": "https://localhost:8080/"
    },
    "executionInfo": {
     "elapsed": 10,
     "status": "ok",
     "timestamp": 1704171038016,
     "user": {
      "displayName": "Takahiro YOSHIDA",
      "userId": "00096252480874798687"
     },
     "user_tz": -540
    },
    "id": "4wA-ad1LF0Ng",
    "outputId": "26e88763-27c9-46d2-8765-d62168ec1f7f"
   },
   "outputs": [],
   "source": [
    "class Employee:\n",
    "    def __init__(self, name: str) -> None:\n",
    "        self.name = name\n",
    "\n",
    "class Department:\n",
    "    def __init__(self) -> None:\n",
    "        self.employees: list[Employee] = []\n",
    "\n",
    "    def add_employee(self, employee: Employee) -> None:\n",
    "        self.employees.append(employee)\n",
    "        print(f'{employee.name}が配属されました')\n",
    "\n",
    "\n",
    "emp1: Employee = Employee('John')\n",
    "emp2: Employee = Employee('Jane')\n",
    "print(emp1.name)\n",
    "print(emp2.name)\n",
    "\n",
    "dept: Department = Department()\n",
    "dept.add_employee(emp1)\n",
    "dept.add_employee(emp2)\n",
    "\n",
    "del dept # インスタンスdeptを削除\n",
    "\n",
    "# emp1とemp2は削除されない\n",
    "print(emp1.name)\n",
    "print(emp2.name)"
   ]
  },
  {
   "cell_type": "markdown",
   "metadata": {
    "id": "mqk6YHzRG4gk"
   },
   "source": [
    "## コンポジション（Composition）\n",
    "*  コンポジションは，より強い「所有関係」を表しており，ある構成物（全体）を構成している要素（部分）が，その構成物だけに使われる場合の集約\n",
    "*  構成物（全体）に対応するインスタンスだけが，その構成要素（部分）の存在（生成と消滅）の責務を担う\n",
    "*  したがって，一方のクラスのインスタンス（全体）が破棄されると，他方のクラスのインスタンス（部分）も破棄される\n",
    "*  UMLでは下図のように表現する: 全体と部分のクラスを直線でつなぎ，全体のほうに黒いひし形をつける\n",
    "\n",
    "<img src=\"./fig/composition_templete.png\" width=\"300\">  "
   ]
  },
  {
   "cell_type": "markdown",
   "metadata": {},
   "source": [
    "### コンポジションの例: 車とエンジン\n",
    "*  以下のコードは，`Car`クラスと`Engine`クラスの2つのクラスが定義されており，`Car`クラスのインスタンス（車）が`Engine`クラスのインスタンス（エンジン）を所有するという関係を表している\n",
    "*  具体的には，`Car`クラスのインスタンスを生成すると，コンストラクタ内で`Engine`クラスのインスタンスを生成し，インスタンス属性の属性値として定義している\n",
    "*  `Engine`クラスのインスタンスは，`Car`クラスのインスタンス`car`のインスタンス属性であるので，`del car`で`car`を削除すると，その属性であるインスタンスも削除される\n",
    "*  この例におけるクラス図を下図に示す\n",
    "\n",
    "<img src=\"./fig/composition_car.png\" width=\"500\">  "
   ]
  },
  {
   "cell_type": "code",
   "execution_count": null,
   "metadata": {
    "colab": {
     "base_uri": "https://localhost:8080/"
    },
    "executionInfo": {
     "elapsed": 8,
     "status": "ok",
     "timestamp": 1696121627393,
     "user": {
      "displayName": "Takahiro YOSHIDA",
      "userId": "00096252480874798687"
     },
     "user_tz": -540
    },
    "id": "6VWTsnloHGnf",
    "outputId": "3d6c6fee-5454-4690-ae3d-e9e641c0d8df"
   },
   "outputs": [],
   "source": [
    "class Engine:\n",
    "    def __init__(self, horsepower: int) -> None:\n",
    "        self.horsepower = horsepower\n",
    "\n",
    "class Car:\n",
    "    def __init__(self, brand: str, horsepower: int) -> None:\n",
    "        self.brand = brand\n",
    "        self.engine: Engine = Engine(horsepower)  # Engineクラスのインスタンス生成\n",
    "\n",
    "car: Car = Car('Toyota', 150)\n",
    "print(car.engine.horsepower) # 馬力\n",
    "\n",
    "# 車が削除されるとエンジンも削除される\n",
    "del car"
   ]
  },
  {
   "cell_type": "markdown",
   "metadata": {},
   "source": [
    "# 参考資料\n",
    "*  国本大悟(著), 須藤秋良(著), 株式会社フレアリンク(監修), [スッキリわかるPython入門 第2版](https://book.impress.co.jp/books/1122101165), インプレス, 2023. \n",
    "*  東京大学, [プログラミング入門](https://colab.research.google.com/github/utokyo-ipp/utokyo-ipp.github.io/blob/master/colab/index.ipynb), 講義資料, 2024.\n",
    "*  伊藤裕一, [速習 Python 3 中: オブジェクト指向編 Kindle版](https://www.amazon.co.jp/%E9%80%9F%E7%BF%92-Python-3-%E4%B8%AD-%E3%82%AA%E3%83%96%E3%82%B8%E3%82%A7%E3%82%AF%E3%83%88%E6%8C%87%E5%90%91%E7%B7%A8-ebook/dp/B01N04UBYI), 2016\n",
    "*  ひらまつしょうたろう, [Python でわかる オブジェクト指向 とはなにか？【Python オブジェクト指向 の「なぜ？」を「徹底的に」解説】](https://www.udemy.com/course/oop-python/?couponCode=KEEPLEARNING), Udemy, 最終更新日 2023/7.\n",
    "*  ひらまつしょうたろう, [Python で身につける オブジェクト指向【SOLID原則+デザインパターンで、オブジェクト指向設計 の基礎を習得！】](https://www.udemy.com/course/python-solid-design-pattern/?couponCode=KEEPLEARNING), Udemy, 最終更新日 2024/6.\n",
    "*  河合昭男, [ゼロからわかる UML超入門](https://gihyo.jp/book/2017/978-4-7741-9005-1), 技術評論社, 2010.\n",
    "*  竹政昭利, 林田幸司, 大西洋平, 三村次朗, 藤本陽啓, 伊藤宏幸, [かんたんUML入門 ［改訂2版］ Kindle版](https://gihyo.jp/book/2017/978-4-7741-9039-6), 技術評論社, 2017.\n",
    "<!-- *  Bill Lubanovic (著), 鈴木駿 (監訳), 長尾高弘 (訳), [入門 Python 3 第2版](https://www.oreilly.co.jp/books/9784873119328/), オライリージャパン, 2021. -->\n",
    "<!-- *  Guido van Rossum (著), 鴨澤眞夫 (翻訳), [Pythonチュートリアル 第4版](https://www.oreilly.co.jp/books/9784873119359/), オライリージャパン, 2021. -->\n"
   ]
  }
 ],
 "metadata": {
  "colab": {
   "authorship_tag": "ABX9TyNlEN6COxiCGqLXcrGZ08ji",
   "provenance": []
  },
  "kernelspec": {
   "display_name": "base",
   "language": "python",
   "name": "python3"
  },
  "language_info": {
   "codemirror_mode": {
    "name": "ipython",
    "version": 3
   },
   "file_extension": ".py",
   "mimetype": "text/x-python",
   "name": "python",
   "nbconvert_exporter": "python",
   "pygments_lexer": "ipython3",
   "version": "3.11.5"
  }
 },
 "nbformat": 4,
 "nbformat_minor": 0
}
