{
 "cells": [
  {
   "cell_type": "markdown",
   "metadata": {},
   "source": [
    "# 単一責任の原則の問題点"
   ]
  },
  {
   "cell_type": "markdown",
   "metadata": {},
   "source": [
    "## 単一責任の原則を遵守したコード例\n",
    "*  前回示した以下のコードは，ホームシアターシステムをイメージしている\n",
    "*  このコードでは，ホームシアターシステムの機能である照明操作，プロジェクタ操作，サウンドシステム操作を，`Lighting`クラス，`Projector`クラス，`SoundSystem`クラスに分けて定義している\n",
    "*  よって，単一責任の原則に遵守したコードになる\n",
    "*  詳細は[第8回講義資料](https://colab.research.google.com/github/yoshida-nu/lec_systemdesign/blob/main/doc/SystemDesign_notebook08.ipynb)を参照\n",
    "\n",
    "> <img src=\"./fig/SOLID_SRP_example4b.jpg\" width=\"350\">\n"
   ]
  },
  {
   "cell_type": "code",
   "execution_count": null,
   "metadata": {},
   "outputs": [],
   "source": [
    "class Lighting:\n",
    "    def on(self) -> None:\n",
    "        print('照明をオンにします')\n",
    "\n",
    "    def off(self) -> None:\n",
    "        print('照明をオフにします')\n",
    "\n",
    "class Projector:\n",
    "    def on(self) -> None:\n",
    "        print('プロジェクタをオンにします')\n",
    "\n",
    "    def off(self) -> None:\n",
    "        print('プロジェクタをオフにします')\n",
    "\n",
    "class SoundSystem:\n",
    "    def on(self) -> None:\n",
    "        print('サウンドシステムをオンにします')\n",
    "\n",
    "    def off(self) -> None:\n",
    "        print('サウンドシステムをオフにします')\n",
    "\n",
    "# システムの操作\n",
    "lighting: Lighting = Lighting()\n",
    "projector: Projector = Projector()\n",
    "sound_system: SoundSystem = SoundSystem()\n",
    "\n",
    "print('--- ホームシアターシステムを起動します ---')\n",
    "lighting.on()\n",
    "projector.on()\n",
    "sound_system.on()\n",
    "print('--- 映画鑑賞中 ---')\n",
    "print('--- ホームシアターシステムを終了します ---')\n",
    "sound_system.off()\n",
    "projector.off()\n",
    "lighting.off()"
   ]
  },
  {
   "cell_type": "markdown",
   "metadata": {},
   "source": [
    "## 単一責任の原則の問題点\n",
    "*  上の例のように，クラスを細かく分けて定義することで，単一責任の原則を遵守できる\n",
    "*  しかし，クラスを細かく分けて定義することで，**クラスの利用が複雑になる**\n",
    "*  上の例の場合，それぞれのクラスからインスタンスを生成し，メソッドを順番に呼び出す必要があるので，記述する順番を間違える可能性がある\n",
    "*  また，システムの手続きに変更があった場合に，修正する手間がかかるかもしれない\n",
    "*  この問題を解決するための方法に，デザインパターンの一種である Facade（ファサード）パターンと呼ばれるパターンを用いる方法がある"
   ]
  },
  {
   "cell_type": "markdown",
   "metadata": {},
   "source": [
    "# Facadeパターン\n",
    "*  Facadeパターンは，複雑なサブシステム（クラス）に対して簡単なインターフェースを提供する\n",
    "*  つまり，複雑な処理をまとめてシンプルに見せるためのパターン\n",
    "*  上の例でいうと，`Lighting`クラス，`Projector`クラス，`SoundSystem`クラスがサブシステム\n",
    "*  クライアントは複数のクラスや複雑な操作を直接扱うのではなく，シンプルで統一されたインターフェースを通じてシステムを利用できる\n",
    "*  ここで，クライアントとは，クラスを利用するもの，すなわち，クラスのインスタンスからメソッドを呼び出すものを指す\n",
    "*  上の例でいうと，ホームシアターシステムの利用者（23行目以降の処理）がクライアントに対応する"
   ]
  },
  {
   "cell_type": "markdown",
   "metadata": {},
   "source": [
    "## 一般的なパターン\n",
    "* Facadeパターンのクラス図は下図のように描ける\n",
    "\n",
    "> <img src=\"./fig/Facade_templete.jpg\" width=\"450\">"
   ]
  },
  {
   "cell_type": "markdown",
   "metadata": {},
   "source": [
    "### `Facade`クラス\n",
    "*  `Facade`クラスは，Facadeパターンにおいて中心的な役割を果たすクラス\n",
    "*  サブシステム群に対して「簡易的な統合インターフェース」を提供する\n",
    "*  `Facade`クラスは，複雑なサブシステムの利用に対する「窓口」として機能し，クライアントがシステムを簡単に利用できるようにする役割を果たす\n",
    "*  属性として，サブシステムのインスタンスを保持する（上図の`a`, `b`, `c`に対応）\n",
    "*  クライアントに分かりやすいメソッド（上図の`operation`に対応）を提供する\n",
    "*  メソッドの内部では，サブシステムの複数メソッド（上図の`operationA`, `operationB`, `operationC`に対応）を組み合わせて一括で呼び出す"
   ]
  },
  {
   "cell_type": "markdown",
   "metadata": {},
   "source": [
    "### サブシステム群（下位モジュール群）\n",
    "* `Facade`クラスが属性として所有するサブシステム（部品）の集まりのこと（上図の`SubsystemA`, `SubsystemB`, `SubsystemC`に対応）\n",
    "* 上図ではサブシステム群を3つとしているが，任意の数のサブシステム群を定義できる\n",
    "* 各サブシステムが一つのクラスに対応し，細かな責務をそれぞれが持つ\n",
    "* 基本的には，`Facade`クラスとサブシステムの関連はコンポジションになる\n",
    "* ただし，状況（例えば，テストのしやすさを重視する場合など）によっては集約を用いることもある（下図）\n",
    ">* 集約にすることで，実際のオブジェクトでなく，テスト用のオブジェクト（モックと呼ばれる）を使ってテストできる\n",
    "* サブシステムのメソッドは，`Facade`クラスを介して呼び出される\n",
    "* サブシステムは`Facade`の中身を知らないくてよい ⇒ 結びつき（依存関係）は一方向\n",
    "\n",
    "> <img src=\"./fig/Facade_templete_agg.jpg\" width=\"460\">"
   ]
  },
  {
   "cell_type": "markdown",
   "metadata": {},
   "source": [
    "### クライアント\n",
    "* 上図のシステムの利用者のこと\n",
    "* サブシステムの複雑さを知らなくても，`Facade`経由で利用できる\n",
    "* つまり，`Facade`クラスのインスタンスだけを用いればよい"
   ]
  },
  {
   "cell_type": "markdown",
   "metadata": {},
   "source": [
    "## Facadeパターンのメリット・デメリット\n",
    "\n",
    "| 観点          | メリット                         | デメリット                                     |\n",
    "| ----------- | ---------------------------- | -------------------------------------- |\n",
    "| **使いやすさ**   | 複雑なサブシステムをシンプルに利用できる         | 提供される機能が限定的で，細かい機能にアクセスしづらい            |\n",
    "| **保守性**     | サブシステムの変更をクライアントに影響させずに隠蔽できる | `Facade`に機能を詰め込みすぎると「God Object」化して逆に複雑化 |\n",
    "| **拡張性**     | クライアントコードは修正なしでサブシステム内部を拡張可能 | 新機能を使うには `Facade` にも新しいメソッドを追加する必要がある    |\n",
    "| **理解のしやすさ** | クライアントにとって「システムの窓口」が一目で分かる   | クライアントが「`Facade`＝システム全体」と誤解する可能性         |\n",
    "\n"
   ]
  },
  {
   "cell_type": "markdown",
   "metadata": {},
   "source": [
    "## Facadeパターンの例 その1\n",
    "*  上述したホームシアターシステムの例に対して，Facadeパターンを適用する\n",
    "*  Facadeパターンを使うと，単一責任の原則の問題を回避でき，以下の効果が期待できる\n",
    ">*  クライアント側のコードの記述量が少なくなる\n",
    ">*  メソッドの呼び出し順を間違えなくなる\n",
    ">*  呼び出し順などの手続きが変わっても，Facadeクラスの中身を変えるだけでよい\n",
    "*  クラス図は下図のように描ける\n",
    "\n",
    "> <img src=\"./fig/HomeTheaterFacade.jpg\" width=\"550\">"
   ]
  },
  {
   "cell_type": "code",
   "execution_count": null,
   "metadata": {},
   "outputs": [],
   "source": [
    "# SubsystemA\n",
    "class Lighting:\n",
    "    def on(self) -> None:\n",
    "        print('照明をオンにします')\n",
    "\n",
    "    def off(self) -> None:\n",
    "        print('照明をオフにします')\n",
    "\n",
    "# SubsystemB\n",
    "class Projector:\n",
    "    def on(self) -> None:\n",
    "        print('プロジェクタをオンにします')\n",
    "\n",
    "    def off(self) -> None:\n",
    "        print('プロジェクタをオフにします')\n",
    "\n",
    "# SubsystemC\n",
    "class SoundSystem:\n",
    "    def on(self) -> None:\n",
    "        print('サウンドシステムをオンにします')\n",
    "\n",
    "    def off(self) -> None:\n",
    "        print('サウンドシステムをオフにします')\n",
    "\n",
    "# Facadeクラスの定義\n",
    "class HomeTheaterFacade:\n",
    "    def __init__(self) -> None:\n",
    "        self.lighting: Lighting = Lighting()\n",
    "        self.projector: Projector = Projector()\n",
    "        self.sound_system: SoundSystem = SoundSystem()\n",
    "\n",
    "    def startup(self) -> None:\n",
    "        print('--- ホームシアターシステムを起動します ---')\n",
    "        self.lighting.on()\n",
    "        self.projector.on()\n",
    "        self.sound_system.on()\n",
    "\n",
    "    def shutdown(self) -> None:\n",
    "        print('--- ホームシアターシステムを終了します ---')\n",
    "        self.sound_system.off()\n",
    "        self.projector.off()\n",
    "        self.lighting.off()\n",
    "        \n",
    "# クライアント\n",
    "# Facadeクラスのインスタンス生成\n",
    "home_theater: HomeTheaterFacade = HomeTheaterFacade()\n",
    "home_theater.startup() # システム起動\n",
    "print('--- 映画鑑賞中 ---')\n",
    "home_theater.shutdown() # システム終了"
   ]
  },
  {
   "cell_type": "markdown",
   "metadata": {},
   "source": [
    "### 集約を用いた場合\n",
    "* 集約を用いると，クライアント側でサブシステムのインスタンスを生成する処理が追加される\n",
    "\n",
    "> <img src=\"./fig/HomeTheaterFacade_agg.jpg\" width=\"550\">"
   ]
  },
  {
   "cell_type": "code",
   "execution_count": null,
   "metadata": {},
   "outputs": [],
   "source": [
    "# SubsystemA\n",
    "class Lighting:\n",
    "    def on(self) -> None:\n",
    "        print('照明をオンにします')\n",
    "\n",
    "    def off(self) -> None:\n",
    "        print('照明をオフにします')\n",
    "\n",
    "# SubsystemB\n",
    "class Projector:\n",
    "    def on(self) -> None:\n",
    "        print('プロジェクタをオンにします')\n",
    "\n",
    "    def off(self) -> None:\n",
    "        print('プロジェクタをオフにします')\n",
    "\n",
    "# SubsystemC\n",
    "class SoundSystem:\n",
    "    def on(self) -> None:\n",
    "        print('サウンドシステムをオンにします')\n",
    "\n",
    "    def off(self) -> None:\n",
    "        print('サウンドシステムをオフにします')\n",
    "\n",
    "# Facadeクラスの定義\n",
    "class HomeTheaterFacade:\n",
    "    def __init__(self, lighting: Lighting, projector: Projector, sound_system: SoundSystem) -> None:\n",
    "        self.lighting = lighting\n",
    "        self.projector = projector\n",
    "        self.sound_system = sound_system\n",
    "\n",
    "    def startup(self) -> None:\n",
    "        print('--- ホームシアターシステムを起動します ---')\n",
    "        self.lighting.on()\n",
    "        self.projector.on()\n",
    "        self.sound_system.on()\n",
    "\n",
    "    def shutdown(self) -> None:\n",
    "        print('--- ホームシアターシステムを終了します ---')\n",
    "        self.sound_system.off()\n",
    "        self.projector.off()\n",
    "        self.lighting.off()\n",
    "        \n",
    "# クライアント\n",
    "# サブシステムのインスタンス生成\n",
    "lighting: Lighting = Lighting()\n",
    "projector: Projector = Projector()\n",
    "sound_system: SoundSystem = SoundSystem()\n",
    "# Facadeクラスのインスタンス生成\n",
    "home_theater: HomeTheaterFacade = HomeTheaterFacade(lighting, projector, sound_system)\n",
    "home_theater.startup() # システム起動\n",
    "print('--- 映画鑑賞中 ---')\n",
    "home_theater.shutdown() # システム終了"
   ]
  },
  {
   "cell_type": "markdown",
   "metadata": {},
   "source": [
    "## Facadeパターンの例 その2\n",
    "*  下図のようなECサイトで利用されるシステムをイメージしたものを実装する\n",
    "*  3つのサブシステム\n",
    ">* `PaymentSystem`: 決済処理を行う`pay`メソッドを持つ\n",
    ">* `InventorySystem`: 在庫更新を行う`update`メソッドを持つ\n",
    ">* `ShippingSystem`: 配送手配を行う`ship`メソッドを持つ\n",
    "* `Facade`クラス\n",
    ">* 3つのサブシステムをまとめる窓口\n",
    ">* `place_order`メソッドの内部で，サブシステムの責務である「決済処理 ⇒ 在庫更新 ⇒ 配送手配」に対応するメソッドを順番に呼び出す\n",
    "* これにより，クライアントは細かいサブシステムを意識せずに一つの操作（注文処理） として利用できる\n",
    "* クライアントは `OrderFacade` だけ知っていればOK\n",
    "* クライアント側の操作\n",
    ">* `OrderFacade`クラスのインスタンスを生成 ⇒ `order`に代入\n",
    "* `order.place_order`を呼び出す ⇒ 裏で複雑な処理が順番に実行される\n",
    "\n",
    "> <img src=\"./fig/OrderFacade.jpg\" width=\"450\">"
   ]
  },
  {
   "cell_type": "code",
   "execution_count": null,
   "metadata": {},
   "outputs": [],
   "source": [
    "# SubsystemA\n",
    "class PaymentSystem:\n",
    "    def pay(self) -> None:\n",
    "        print('決済処理を実行しました')\n",
    "\n",
    "# SubsystemB\n",
    "class InventorySystem:\n",
    "    def update(self) -> None:\n",
    "        print('在庫を更新しました')\n",
    "\n",
    "# SubsystemC\n",
    "class ShippingSystem:\n",
    "    def ship(self) -> None:\n",
    "        print('配送を手配しました')\n",
    "\n",
    "# Facadeクラス\n",
    "class OrderFacade:\n",
    "    def __init__(self) -> None:\n",
    "        self.payment: PaymentSystem = PaymentSystem()\n",
    "        self.inventory: InventorySystem = InventorySystem()\n",
    "        self.shipping: ShippingSystem = ShippingSystem()\n",
    "\n",
    "    def place_order(self) -> None: # 注文処理をまとめて実行\n",
    "        self.payment.pay()\n",
    "        self.inventory.update()\n",
    "        self.shipping.ship()\n",
    "\n",
    "\n",
    "# クライアント\n",
    "order: OrderFacade = OrderFacade()\n",
    "order.place_order()"
   ]
  },
  {
   "cell_type": "markdown",
   "metadata": {},
   "source": [
    "# Command パターン"
   ]
  },
  {
   "cell_type": "markdown",
   "metadata": {},
   "source": [
    "## Command（コマンド）パターンとは\n",
    "* デザインパターンの一つで，「操作（処理要求）」をオブジェクトとして表現するしくみ\n",
    "* 処理を「呼び出す側」と「実際に行う側」に分離できる\n",
    "* 「やること（命令）」をクラスに包んで使い回す発想"
   ]
  },
  {
   "cell_type": "markdown",
   "metadata": {},
   "source": [
    "## 一般的なパターン\n",
    "* Commandパターンのクラス図は下図のように描ける\n",
    "\n",
    "> <img src=\"./fig/Command_templete.jpg\" width=\"650\">"
   ]
  },
  {
   "cell_type": "markdown",
   "metadata": {},
   "source": [
    "### Command（コマンド）\n",
    "* 処理を抽象化したインターフェース\n",
    "* 共通のインターフェース（上図の`execute`に対応）を定義する\n",
    "* 「処理を実行せよ」という抽象的な契約を示す"
   ]
  },
  {
   "cell_type": "markdown",
   "metadata": {},
   "source": [
    "### ConcreteCommand（具象コマンド）\n",
    "* `Command` を実装したクラス\n",
    "* 実際の処理を定義し，`Receiver` に処理を委譲する"
   ]
  },
  {
   "cell_type": "markdown",
   "metadata": {},
   "source": [
    "### Receiver（受け手）\n",
    "* 実際の処理（ビジネスロジック）を持つ\n",
    "* 例：電気をつける / ファイル保存する / メッセージ送る など\n",
    "* `Receiver` を使わず，`Command` に実際の処理を埋め込むと，責務混在，再利用性/テスト性の低下が起きやすい\n",
    "* `Receiver` と `Command` に分けることで，変更に強いシステムの構造になる"
   ]
  },
  {
   "cell_type": "markdown",
   "metadata": {},
   "source": [
    "### Invoker（呼び出し側）\n",
    "* `Command`を所有し，必要なときに処理（上図の`invoke`に対応）を呼び出す\n",
    "* `Command`を所有（登録）する際のメソッドを定義する（上図の`set_command`に対応）\n",
    "* `Invoker`は，処理の詳細を知らなくてもよい"
   ]
  },
  {
   "cell_type": "markdown",
   "metadata": {},
   "source": [
    "### Client（クライアント）\n",
    "* システム利用者を表すクラスとした\n",
    "* `Command`と`Receiver`を組み合わせて，`Invoker`に登録する"
   ]
  },
  {
   "cell_type": "markdown",
   "metadata": {},
   "source": [
    "## Commandパターンの直感的イメージ"
   ]
  },
  {
   "cell_type": "markdown",
   "metadata": {},
   "source": [
    "### 例：リモコンの操作に例えると...\n",
    "* **Receiver** = テレビ本体\n",
    "* **Command** = 「電源オン」「チャンネル変更」などの操作をオブジェクト化\n",
    "* **Invoker** = リモコン（ボタンを押すとコマンドを実行する）\n",
    "* **Client** = ユーザが「どのボタンにどの操作を割り当てるか」を決める"
   ]
  },
  {
   "cell_type": "markdown",
   "metadata": {},
   "source": [
    "### 簡単なコード例\n",
    "* 以下のコードは，一般的なCommandパターンのクラス図に対応する最小限のコードになっている\n",
    "* `if`文の条件式に使用している`self.__command`は，属性`__command`にコマンド（`Command`）が格納されていれば`True`，そうでなければ（`None`のとき）`False`となる\n",
    "* このコードでは，`ConcreteCommand` が `Receiver` を所有している，すなわち，集約の関連があるように見えるが，「全体-部分の関係」というよりは，単なる「依存関係」といえるので，クラス図では破線の矢印で結んでいる"
   ]
  },
  {
   "cell_type": "code",
   "execution_count": null,
   "metadata": {},
   "outputs": [],
   "source": [
    "from abc import ABC, abstractmethod\n",
    "from typing import Optional\n",
    "\n",
    "# Commandインターフェース\n",
    "class Command(ABC):\n",
    "    @abstractmethod\n",
    "    def execute(self) -> None:\n",
    "        pass\n",
    "\n",
    "# Receiver（実際の処理を持つ役割）\n",
    "class Receiver:\n",
    "    def action(self) -> None:\n",
    "        print('Receiver: 処理を実行しました')\n",
    "\n",
    "# ConcreteCommand（具体的な命令）\n",
    "class ConcreteCommand(Command):\n",
    "    def __init__(self, receiver: Receiver) -> None:\n",
    "        self.__receiver = receiver\n",
    "\n",
    "    def execute(self) -> None:\n",
    "        self.__receiver.action() # 実際の処理をReceiverに委譲\n",
    "\n",
    "# Invoker（呼び出し役）\n",
    "class Invoker:\n",
    "    def __init__(self) -> None:\n",
    "        self.__command: Optional[Command] = None\n",
    "\n",
    "    def set_command(self, command: Command) -> None:\n",
    "        self.__command = command\n",
    "\n",
    "    def invoke(self) -> None:\n",
    "        if self.__command:\n",
    "            self.__command.execute()\n",
    "        else:\n",
    "            print('Invoker: コマンドが設定されていません')\n",
    "\n",
    "\n",
    "# Client（クライアント）\n",
    "receiver: Receiver = Receiver()\n",
    "command: ConcreteCommand = ConcreteCommand(receiver)\n",
    "invoker: Invoker = Invoker()\n",
    "\n",
    "invoker.set_command(command)\n",
    "invoker.invoke()"
   ]
  },
  {
   "cell_type": "markdown",
   "metadata": {},
   "source": [
    "## Commandパターンのメリット・デメリット\n",
    "\n",
    "| 観点       | メリット                                       | デメリット                                          |\n",
    "| -------- | ------------------------------------------ | ---------------------------------------------- |\n",
    "| **拡張性**  | 新しいコマンドをクラスとして追加するだけで拡張できる（後述するOCPを満たす）           | クラスの数が増えやすく，シンプルなケースでは冗長に見える                   |\n",
    "| **結びつき**  | 実行役（Invoker）は処理の中身を知らなくてよい ⇒ クラス間の依存が減る | 仕組みを理解するのに学習コストがかかる                             |\n",
    "| **再利用性** | コマンドをオブジェクト化することで再利用可能       | 小さな処理には回りくどく見える                     |\n",
    "| **柔軟性**  | Undo/Redo（元に戻す/やり直し），操作ログ再生などを自然に実装できる          | Receiver が多いと関連が複雑になる                    |\n",
    "| **テストのしやすさ** | CCommand単位でモック化してテスト可能    | Command と Receiver の依存関係管理が増え，テスト準備が大変になることもある |\n",
    "| **責務分離** | Invoker／Command／Receiver がそれぞれ 1 つの責務だけを持つ（SRPを満たす）    | 細かく分けすぎると逆にわかりにくくなる |\n",
    "\n"
   ]
  },
  {
   "cell_type": "markdown",
   "metadata": {},
   "source": [
    "## Commandパターンの例\n",
    "* ここでは，単一責任の原則に違反しているコードを，Commandパターンを使って原則に遵守したコードに改善する例を考える"
   ]
  },
  {
   "cell_type": "markdown",
   "metadata": {},
   "source": [
    "### 単一責任の原則に違反している例\n",
    "*  以下のコードは，タスクを文字列コマンドで実行する`TaskRunner`クラス（下図）を実装している\n",
    "\n",
    "> <img src=\"./fig/Command_example1a.jpg\" width=\"250\">\n",
    "\n",
    "* `TaskRunner`は，以下の3つの責務を同時に担っている\n",
    ">* **入力の解釈**: `if`文による条件分岐で，受け取った文字列がどの処理（`backup`, `report`, `notify`）かを解釈する\n",
    ">* **実際の処理**: `print('バックアップを実行しました')`などのように，実際の処理を行う\n",
    ">* **ログの記録**: `self.logs.append('backup done')`などのように，実行結果を`logs`に記録する\n",
    "* `TaskRunner`は，シンプルなタスク実行クラスではあるが，複数の責務が集中しているので単一責任の原則に違反しているので，以下のような問題がある\n",
    "* このままだと，新しいコマンドが追加されるたびに，`if`文を修正する必要がある ⇒ 保守性が低い"
   ]
  },
  {
   "cell_type": "code",
   "execution_count": null,
   "metadata": {},
   "outputs": [],
   "source": [
    "class TaskRunner:\n",
    "    def __init__(self) -> None:\n",
    "        self.logs: list[str] = []\n",
    "\n",
    "    def run(self, command: str) -> None:\n",
    "        # 入力の解釈（責務1）\n",
    "        if command == 'backup':\n",
    "            # 実際の処理（責務2）\n",
    "            print('バックアップを実行しました')\n",
    "            # ログ（責務3）\n",
    "            self.logs.append('backup done')\n",
    "        elif command == 'report':\n",
    "            print('レポートを作成しました')\n",
    "            self.logs.append('report done')\n",
    "        elif command == 'notify':\n",
    "            print('通知を送信しました')\n",
    "            self.logs.append('notify done')\n",
    "        else:\n",
    "            print('未知のコマンドです')\n",
    "            self.logs.append('unknown command')"
   ]
  },
  {
   "cell_type": "markdown",
   "metadata": {},
   "source": [
    "### 単一責任の原則を遵守したコードに改善\n",
    "* ここで，Commandパターンを使って単一責任の原則を遵守したコードに改善する\n",
    "* 改善したコードは以下のとおりで，クラス図は下図のように描ける\n",
    "* `Command`クラス:\n",
    ">* 処理（コマンド）の実行に対するインターフェースを抽象メソッド `execute` として定義\n",
    "* `Ops`クラス:\n",
    ">* `Ops`は「Operations」の略\n",
    ">* `Receiver`の役割を持つクラスで，3つの処理（バックアップの実行，レポート作成，通知送信）の実体を持つ\n",
    ">* `run_backup`メソッド: バックアップの実行\n",
    ">* `generate_report`メソッド: レポート作成\n",
    ">* `send_notification`メソッド: 通知送信\n",
    "* `Logger`クラス:\n",
    ">* 処理の記録だけに責務を限定\n",
    ">* インスタンス属性の `logs: list[str]` にログを蓄積していく（本来はプライベート属性のほうが望ましい）\n",
    ">* 記録方式に変更があっても，コマンド側の変更を最小化できる\n",
    ">* `Logger`は記録を専任するためのクラスで，`Command`パターンの構成要素ではないが，単一責任の原則を遵守するために定義した\n",
    "* `BackupCommand` / `ReportCommand` / `NotifyCommand`:\n",
    ">* `ConcreteCommand`の役割を持つクラス\n",
    ">* 2つのインスタンス属性 `__ops: Ops` と `__logger: Logger` を持つ\n",
    ">* `execute` を実装し，1つの処理に責務を限定\n",
    ">* `execute`の実装内容: \n",
    ">>* 対応する `Ops` のメソッド（`run_backup` or `generate_report` or `send_notification`）を呼び出して処理を実行\n",
    ">>* `Logger.add`を呼び出して結果を記録する\n",
    "* `Invoker`クラス\n",
    ">* 命令を呼び出す役割のクラス\n",
    ">* 入力（コマンド名）に応じて，対応する処理を実行する（`execute`を呼び出す）\n",
    ">* インスタンス属性`__commands: dict[str, Command]`で，コマンド名と対応する処理（`execute`）を実装するインスタンスを保持\n",
    ">* コマンド名と対応する処理は，`register`メソッドで登録\n",
    ">* `handle`メソッドで，コマンド名を引数として取得し，対応するインスタンスから `execute` を呼び出す\n",
    ">* `Invoker` は処理（コマンド）の中身を知らないので，コマンドの追加・変更があっても影響を受けない\n",
    "\n",
    "> <img src=\"./fig/Command_example1b.jpg\" width=\"850\">\n",
    "\n",
    "* このコードは，以下のように責務が分担されているので，単一責任の原則に遵守しているといえる\n",
    ">* `Ops`: 実際の処理を実行するだけ\n",
    ">* `Logger`: 記録するだけ\n",
    ">* `ConcreteCommand`: 特定の処理（メソッド）をまとめて呼び出すだけ\n",
    ">* `Invoker`: 入力（コマンド名）応じて `execute` を呼び出すだけ"
   ]
  },
  {
   "cell_type": "code",
   "execution_count": null,
   "metadata": {},
   "outputs": [],
   "source": [
    "from abc import ABC, abstractmethod\n",
    "from typing import Optional\n",
    "\n",
    "# Commandインターフェース\n",
    "class Command(ABC):\n",
    "    @abstractmethod\n",
    "    def execute(self) -> None:\n",
    "        pass\n",
    "\n",
    "# Receiver（実処理の中身）\n",
    "class Ops:\n",
    "    def run_backup(self) -> None:\n",
    "        print('バックアップを実行しました')\n",
    "\n",
    "    def generate_report(self) -> None:\n",
    "        print('レポートを作成しました')\n",
    "\n",
    "    def send_notification(self) -> None:\n",
    "        print('通知を送信しました')\n",
    "\n",
    "# Logger（記録専任）\n",
    "class Logger:\n",
    "    def __init__(self) -> None:\n",
    "        self.__logs: list[str] = []\n",
    "  \n",
    "    def add(self, message: str) -> None:\n",
    "        self.__logs.append(message)\n",
    "\n",
    "    def show(self) -> None:\n",
    "        print(self.__logs)\n",
    "\n",
    "# ConcreteCommands（バックアップ実行コマンド）\n",
    "class BackupCommand(Command):\n",
    "    def __init__(self, ops: Ops, logger: Logger) -> None:\n",
    "        self.__ops: Ops = ops\n",
    "        self.__logger: Logger = logger\n",
    "\n",
    "    def execute(self) -> None:\n",
    "        self.__ops.run_backup()\n",
    "        self.__logger.add('backup done')\n",
    "\n",
    "# ConcreteCommands（レポート作成コマンド）\n",
    "class ReportCommand(Command):\n",
    "    def __init__(self, ops: Ops, logger: Logger) -> None:\n",
    "        self.__ops: Ops = ops\n",
    "        self.__logger: Logger = logger\n",
    "\n",
    "    def execute(self) -> None:\n",
    "        self.__ops.generate_report()\n",
    "        self.__logger.add('report done')\n",
    "\n",
    "# ConcreteCommands（通知送信コマンド）\n",
    "class NotifyCommand(Command):\n",
    "    def __init__(self, ops: Ops, logger: Logger) -> None:\n",
    "        self.__ops: Ops = ops\n",
    "        self.__logger: Logger = logger\n",
    "\n",
    "    def execute(self) -> None:\n",
    "        self.__ops.send_notification()\n",
    "        self.__logger.add('notify done')\n",
    "\n",
    "\n",
    "# Invoker（命令を呼び出す役割）\n",
    "class Invoker:\n",
    "    def __init__(self) -> None:\n",
    "        self.__commands: dict[str, Command] = {}\n",
    "\n",
    "    def register(self, name: str, command: Command) -> None:\n",
    "        self.__commands[name] = command\n",
    "\n",
    "    def handle(self, name: str) -> None:\n",
    "        cmd: Optional[Command] = self.__commands.get(name)\n",
    "        if cmd is None:\n",
    "            print('未知のコマンドです')\n",
    "            return\n",
    "        cmd.execute()\n",
    "\n",
    "# クライアント\n",
    "ops: Ops = Ops()\n",
    "logger: Logger = Logger()\n",
    "\n",
    "invoker: Invoker = Invoker()\n",
    "invoker.register('backup', BackupCommand(ops, logger))\n",
    "invoker.register('report', ReportCommand(ops, logger))\n",
    "invoker.register('notify', NotifyCommand(ops, logger))\n",
    "\n",
    "# 入力に応じて実行\n",
    "invoker.handle('backup')\n",
    "invoker.handle('report')\n",
    "invoker.handle('unknown')\n",
    "invoker.handle('notify')\n",
    "\n",
    "# ログの表示\n",
    "print(logger.logs)\n"
   ]
  },
  {
   "cell_type": "markdown",
   "metadata": {},
   "source": [
    "# 開放・閉鎖の原則（OCP: Open-Closed Principle）\n",
    "*  情報システム（ソフトウェア）の構成要素（クラス，モジュール，関数など）は，拡張に対して開かれており，一方，修正・変更に対しては閉じているべきであるという原則\n",
    "*  つまり，既存のコードを変更せずに，新機能を追加できるような設計を目指すべきということ\n",
    "*  開放（Open）: 新しい機能や振る舞いを追加するために，既存のコードを拡張できる状態\n",
    "*  閉鎖（Closed）: 既存のコードを変更する必要がない状態\n",
    "*  この原則に従うことで，バグの発生リスクを低減し，コードの安定性を保つことができる"
   ]
  },
  {
   "cell_type": "markdown",
   "metadata": {},
   "source": [
    "## 開放・閉鎖の原則を遵守するための方法\n",
    "*  開放・閉鎖の原則を遵守するためには，主に抽象化とポリモーフィズムを活用する\n",
    "*  具体的には，抽象クラスやインターフェースを定義し，実装をサブクラスや実装クラスに委譲する\n",
    "*  これにより，新しい機能（クラス）を追加する際に，既存のクラスを変更せずに拡張できる"
   ]
  },
  {
   "cell_type": "markdown",
   "metadata": {},
   "source": [
    "## 簡単な例: 動物の鳴き声を出すシステム"
   ]
  },
  {
   "cell_type": "markdown",
   "metadata": {},
   "source": [
    "### SRPとOCPに違反するコード\n",
    "* クラス図は以下のとおり\n",
    "\n",
    "> <img src=\"./fig/SRP-OCP_sample1a.jpg\" width=\"280\">\n",
    "\n",
    "* このコードは，SRPとOCPに違反している\n",
    "* SRPに違反している理由: `Animal`クラスは，犬の鳴き声を出す役割と猫の鳴き声を出す役割がある\n",
    "* OCPに違反している理由: 新しい動物（例: `Cow`など）を追加するたびに，`Animal`クラスを変更しなければならない ⇒ その結果，`Animal`クラスが複雑化する"
   ]
  },
  {
   "cell_type": "code",
   "execution_count": null,
   "metadata": {},
   "outputs": [],
   "source": [
    "class Animal:\n",
    "    \n",
    "    def make_sound(self, animal_type: str) -> None:\n",
    "        if animal_type == 'Dog':\n",
    "            print('ワンワン')\n",
    "        elif animal_type == 'Cat':\n",
    "            print('ニャー')\n",
    "\n",
    "# クライアント側\n",
    "animal = Animal()\n",
    "animal.make_sound('Dog')\n",
    "animal.make_sound('Cat') "
   ]
  },
  {
   "cell_type": "markdown",
   "metadata": {},
   "source": [
    "### SRPに従ったコードに修正\n",
    "*  2つの役割を持っていた`Animal`クラスを2つのクラス`Dog`と`Cat`に分割することで，SRPに従ったコードに修正できる\n",
    "*  ここで，鳴き声を出す機能に対するクライアント（利用者）として，`sound_producer`関数を定義した\n",
    "\n",
    "> <img src=\"./fig/SRP-OCP_sample1b.jpg\" width=\"400\">\n",
    "\n",
    "*  しかし，このコードには以下の問題が残されている\n",
    ">*  既存のクラスに影響を与えずに新しい動物クラス（`Cow`クラスなど）を定義できるが，`make_sound`メソッドを持たないクラスが定義できてしまう\n",
    ">*  新しい動物クラスを追加すると，`sound_producer`関数における仮引数`animal`に対する型ヒントの記述を変更する必要がある\n",
    "*  したがって，このコードはOCPに従ったコードとしては十分ではないといえる"
   ]
  },
  {
   "cell_type": "code",
   "execution_count": null,
   "metadata": {},
   "outputs": [],
   "source": [
    "from typing import Union\n",
    "\n",
    "class Dog:\n",
    "    \n",
    "    def make_sound(self) -> None:\n",
    "        print('ワンワン')\n",
    "\n",
    "class Cat:\n",
    "    \n",
    "    def make_sound(self) -> None:\n",
    "        print('ニャー')\n",
    "\n",
    "# クライアント\n",
    "def sound_producer(animal: Union[Dog, Cat]) -> None:\n",
    "    animal.make_sound()\n",
    "\n",
    "dog = Dog()\n",
    "cat = Cat()\n",
    "sound_producer(dog)\n",
    "sound_producer(cat)"
   ]
  },
  {
   "cell_type": "markdown",
   "metadata": {},
   "source": [
    "### OCPに従ったコードに修正\n",
    "*  OCPに従った，さらによいコードにするために，抽象化とポリモーフィズムを使う\n",
    "*  `Animal`クラスを抽象クラス（インターフェース）にして，`make_sound`メソッドを抽象メソッドとして定義\n",
    "*  具体的な動物クラス（`Dog`や`Cat`）は，`Animal`クラスを継承するサブクラスとし，各クラスで`make_sound`メソッドの実装を定義する\n",
    "*  これにより，新しい動物クラスを追加する際に`make_sound`メソッドの定義を強制できる（共通のインターフェースが定義できる）\n",
    "*  また，クライアントの`sound_producer`関数が具象クラスに依存しなくなるので，動物クラス（具象クラス）に修正や変更があっても，クライアントを変更する必要がない\n",
    "\n",
    "> <img src=\"./fig/SRP-OCP_sample1c.jpg\" width=\"520\">\n",
    "\n",
    "*  この例のように，抽象クラス（インターフェース）を使って共通のインターフェースを定義し，クライアントは異なる実装を定義している具象クラスを切り替えて利用するといったコードの記述方法は，**Strategyパターン**と呼ばれている\n",
    "*  Strategyパターンは次回説明する（[第10回講義資料](https://colab.research.google.com/github/yoshida-nu/lec_systemdesign/blob/main/doc/SystemDesign_notebook10.ipynb)を参照）"
   ]
  },
  {
   "cell_type": "code",
   "execution_count": null,
   "metadata": {},
   "outputs": [],
   "source": [
    "from abc import ABC, abstractmethod\n",
    "\n",
    "class Animal(ABC):\n",
    "    \n",
    "    @abstractmethod\n",
    "    def make_sound(self) -> None:\n",
    "        pass\n",
    "\n",
    "class Dog(Animal):\n",
    "    \n",
    "    def make_sound(self) -> None:\n",
    "        print('ワンワン')\n",
    "\n",
    "class Cat(Animal):\n",
    "    \n",
    "    def make_sound(self) -> None:\n",
    "        print('ニャー')\n",
    "\n",
    "# 新しい動物を追加する場合\n",
    "class Cow(Animal):\n",
    "    \n",
    "    def make_sound(self) -> None:\n",
    "        print('モーモー')\n",
    "\n",
    "# クライアント\n",
    "def sound_producer(animal: Animal) -> None:\n",
    "    animal.make_sound()\n",
    "\n",
    "animals = [Dog(), Cat(), Cow()] # リストを使って，まとめてインスタンス生成\n",
    "for animal in animals:\n",
    "    sound_producer(animal)"
   ]
  },
  {
   "cell_type": "markdown",
   "metadata": {},
   "source": [
    "## OCPを遵守することによる効果"
   ]
  },
  {
   "cell_type": "markdown",
   "metadata": {},
   "source": [
    "### メリット\n",
    "*  拡張性の向上: 新しい機能を追加する際に，既存のコードの変更が不要になる ⇒ システムを容易に拡張できる\n",
    "*  保守性の向上: 既存のコードに手を加えることなく新機能を追加できる ⇒ バグのリスクを減らし，保守作業が簡単になる\n",
    "*  再利用性の向上: 汎用的な部品を作成しやすくなる ⇒ コードの再利用が容易になる\n",
    "*  可読性の向上: コードが適切に分割されているので理解しやすい\n",
    "*  試験性の向上: 既存のコードに影響を与えずに新しい部品を追加できる ⇒ 新しい部品だけテストすればよい"
   ]
  },
  {
   "cell_type": "markdown",
   "metadata": {},
   "source": [
    "### デメリット\n",
    "*  設計の複雑化: 抽象化やインターフェースの導入により，初期の設計が複雑になる場合がある\n",
    "*  過剰な抽象化: 必要以上に抽象化を行うと，コードの理解や追跡が難しくなることがある"
   ]
  },
  {
   "cell_type": "markdown",
   "metadata": {},
   "source": [
    "## 具体例: 図形の面積を計算するシステム"
   ]
  },
  {
   "cell_type": "markdown",
   "metadata": {},
   "source": [
    "### OCPに違反するコード\n",
    "*  以下のコードにおける`Rctangle`クラスは，一つの矩形（四角形）を表現しているクラスで，インスタンス属性として矩形の幅（`width`）と高さ（`height`）を持つ\n",
    "*  また，`AreaCalculator`クラスは，図形に関する演算を扱うためのクラスで，`calculate_total_area`メソッドが定義されている\n",
    "*  `calculate_total_area`メソッドは，図形オブジェクト（`Rctangle`クラスのインスタンス）を要素とするリストを引数として渡すことで，それらの面積の合計を戻り値として返す\n",
    "\n",
    "\n",
    "> <img src=\"./fig/SOLID_OCP_sample1.jpg\" width=\"800\">"
   ]
  },
  {
   "cell_type": "code",
   "execution_count": null,
   "metadata": {},
   "outputs": [],
   "source": [
    "class Rectangle:\n",
    "    def __init__(self, width: float, height: float) -> None:\n",
    "        self.width = width\n",
    "        self.height = height\n",
    "\n",
    "class AreaCalculator:\n",
    "    def calculate_total_area(self, shapes: list[Rectangle]) -> float:\n",
    "        total_area = 0.0\n",
    "        for shape in shapes:\n",
    "            total_area += shape.width * shape.height\n",
    "        return total_area\n",
    "\n",
    "shape_list = [Rectangle(4.0, 5.0), Rectangle(8.0, 2.0)]\n",
    "calculator = AreaCalculator()\n",
    "result = calculator.calculate_total_area(shape_list)\n",
    "print(f'面積の合計: {result}')"
   ]
  },
  {
   "cell_type": "markdown",
   "metadata": {},
   "source": [
    "### 問題点\n",
    "*  上のコードにおいて，新しい図形クラス（例えば，`Triangle`クラスなど）を新たに追加すると，`AreaCalculator`クラスの内容（`calculate_total_area`メソッドの処理）を変更する必要がある\n",
    "*  次のコードは，上のコードに`Triangle`クラスを追加したコード例である\n",
    "*  `isinstance`関数（[第7回講義資料](https://colab.research.google.com/github/yoshida-nu/lec_systemdesign/blob/main/doc/SystemDesign_notebook07.ipynb)参照）を使って，面積の計算方法を切り替えている\n",
    "*  このコードにおいて，さらに図形クラス（例えば，`Circle`クラスなど）を新たに追加すると，再度，`AreaCalculator`クラスの内容（`calculate_total_area`メソッドの処理）を変更する必要がある\n",
    "\n",
    "<img src=\"./fig/SOLID_OCP_sample2.jpg\" width=\"800\">"
   ]
  },
  {
   "cell_type": "code",
   "execution_count": null,
   "metadata": {},
   "outputs": [],
   "source": [
    "from typing import Union\n",
    "\n",
    "class Rectangle:\n",
    "    def __init__(self, width: float, height: float) -> None:\n",
    "        self.width = width\n",
    "        self.height = height\n",
    "\n",
    "class Triangle:\n",
    "    def __init__(self, base: float, height: float) -> None:\n",
    "        self.base = base\n",
    "        self.height = height\n",
    "\n",
    "class AreaCalculator:\n",
    "    def calculate_total_area(self, shapes: list[Union[Rectangle, Triangle]]) -> float:\n",
    "        total_area = 0.0\n",
    "        for shape in shapes:\n",
    "            if isinstance(shape, Rectangle):\n",
    "                total_area += shape.width * shape.height\n",
    "            if isinstance(shape, Triangle):\n",
    "                total_area += shape.base * shape.height / 2\n",
    "        return total_area\n",
    "\n",
    "shape_list = [Rectangle(4.0, 5.0), Triangle(3.0, 5.0)]\n",
    "calculator = AreaCalculator()\n",
    "result = calculator.calculate_total_area(shape_list)\n",
    "print(f'面積の合計: {result}')"
   ]
  },
  {
   "cell_type": "markdown",
   "metadata": {},
   "source": [
    "### OCPに従ったコードに修正\n",
    "*  各図形クラスが自身の面積を計算する責任（メソッド）を持つようにする\n",
    "*  具体的には，抽象クラス`shape`を定義し，その中で抽象メソッド`calculate_area`を定義する\n",
    "*  具体的な図形クラス（`Rectangle`クラスや`Triangle`クラス）は`shape`クラスを継承したクラスとし，各クラスにおいて`calculate_area`メソッドの実装を定義する\n",
    "  \n",
    "<img src=\"./fig/SOLID_OCP_sample3.jpg\" width=\"1000\">\n"
   ]
  },
  {
   "cell_type": "code",
   "execution_count": null,
   "metadata": {},
   "outputs": [],
   "source": [
    "from abc import ABC, abstractmethod\n",
    "\n",
    "class Shape(ABC):\n",
    "    @abstractmethod\n",
    "    def calculate_area(self) -> float:\n",
    "        pass\n",
    "\n",
    "class Rectangle(Shape):\n",
    "    def __init__(self, width: float, height: float) -> None:\n",
    "        self.width = width\n",
    "        self.height = height\n",
    "\n",
    "    def calculate_area(self) -> float:\n",
    "        return self.width * self.height\n",
    "\n",
    "class Triangle(Shape):\n",
    "    def __init__(self, width: float, height: float) -> None:\n",
    "        self.width = width\n",
    "        self.height = height\n",
    "\n",
    "    def calculate_area(self) -> float:\n",
    "        return self.width * self.height / 2\n",
    "\n",
    "# 新しい図形を追加する場合\n",
    "# class Circle(Shape):\n",
    "#     def __init__(self, radius: float) -> None:\n",
    "#         self.radius = radius\n",
    "\n",
    "#     def calculate_area(self) -> float:\n",
    "#         return self.radius ** 2 * 3.14\n",
    "\n",
    "class AreaCalculator:\n",
    "    def calculate_total_area(self, shapes: list[Shape]) -> float:\n",
    "        total_area = 0\n",
    "        for shape in shapes:\n",
    "            total_area += shape.calculate_area() # 各図形オブジェクトからメソッドを呼び出す\n",
    "        return total_area\n",
    "\n",
    "shape_list = [Rectangle(4, 5), Triangle(8, 2)]\n",
    "# shape_list = [Rectangle(4, 5), Triangle(8, 2), Circle(5)]\n",
    "calculator = AreaCalculator()\n",
    "result = calculator.calculate_total_area(shape_list)\n",
    "print(f'面積の合計: {result}')"
   ]
  },
  {
   "cell_type": "markdown",
   "metadata": {},
   "source": [
    "# 実習\n",
    "以下の「修正前コード」は，「問題点」で指摘しているように開放・閉鎖の原則（OCP）に違反している．このコードを「コード修正要件・補足説明」に従って，OCP遵守のコードに修正しなさい．ただし，コードには型ヒントをつけ，既に入力されているコードは変更・削除しないこと．\n",
    "\n",
    "---\n",
    "**修正前コード：**\n",
    "```Python\n",
    "shipping_method = ['standard', 'express']\n",
    "\n",
    "def calc_shipping_fee(method: list[str], weight_kg: float) -> int:\n",
    "    if method == 'standard':\n",
    "        return int(500 + 20 * weight_kg)\n",
    "    elif method == 'express':\n",
    "        return int(900 + 30 * weight_kg)\n",
    "    else:\n",
    "        raise ValueError('未知の配送方法です')\n",
    "```\n",
    "---\n",
    "**問題点:**\n",
    "* `calc_shipping_fee`は，配送方法（現時点では standard と express の2種類）に応じて送料を計算する関数であるが，新しい配送方法が増えるたびに `if`文を編集する必要がある\n",
    "* よって，`calc_shipping_fee`関数は，OCPに違反している\n",
    "---\n",
    "**コード修正要件・補足説明:**\n",
    "*  以下のクラス図と対応させる\n",
    "* `ShippingPolicy`を 抽象メソッド`calc`のみを持つインターフェースとして定義する\n",
    "* インターフェースを実装するための2つのクラス `StandardPolicy` と `ExpressPolicy` を定義する\n",
    "* `calc` の引数 `weight_kg` は荷物の重さ（float）に対応する\n",
    "* `StandardPolicy`における `calc`メソッドは `int(500 + 20 * weight_kg)`を戻り値として返る\n",
    "* `StandardPolicy`における `calc`メソッドは `int(900 + 30 * weight_kg)`を戻り値として返る\n",
    "---\n",
    "**クラス図:**\n",
    "\n",
    "<img src='./fig/OCP_exercise.jpg' width='430'>\n",
    "\n",
    "---\n",
    "**期待される実行結果:**\n",
    "```\n",
    "通常配送料金: 540円\n",
    "即日配送料金: 960円\n",
    "```"
   ]
  },
  {
   "cell_type": "code",
   "execution_count": null,
   "metadata": {},
   "outputs": [],
   "source": [
    "# ここにコードを記述（必要に応じて改行する）\n",
    "\n",
    "# --------------------------\n",
    "# 動作確認（クライアント側）\n",
    "# --------------------------\n",
    "std: ShippingPolicy = StandardPolicy()\n",
    "exp: ShippingPolicy = ExpressPolicy()\n",
    "print(f'通常配送料金: {std.calc(2.0)}円')\n",
    "print(f'即日配送料金: {exp.calc(2.0)}円')"
   ]
  },
  {
   "cell_type": "markdown",
   "metadata": {},
   "source": [
    "# 参考資料\n",
    "*  Robert C.Martin (著), 角征典 (翻訳), 高木正弘 (翻訳), [Clean Architecture 達人に学ぶソフトウェアの構造と設計](https://www.kadokawa.co.jp/product/301806000678/), KADOKAWA, 2018.\n",
    "*  ひらまつしょうたろう, [Python で身につける オブジェクト指向【SOLID原則+デザインパターンで、オブジェクト指向設計 の基礎を習得！】](https://www.udemy.com/course/python-solid-design-pattern/?couponCode=KEEPLEARNING), Udemy, 最終更新日 2024/6.\n",
    "*  Mark Summerfield (著), 斎藤康毅 (訳), [実践 Python 3](https://www.oreilly.co.jp/books/9784873117393/), オライリージャパン, 2015.\n",
    "<!-- *  Bill Lubanovic (著), 鈴木駿 (監訳), 長尾高弘 (訳), [入門 Python 3 第2版](https://www.oreilly.co.jp/books/9784873119328/), オライリージャパン, 2021. -->\n",
    "<!-- *  Guido van Rossum (著), 鴨澤眞夫 (翻訳), [Pythonチュートリアル 第4版](https://www.oreilly.co.jp/books/9784873119359/), オライリージャパン, 2021. -->\n",
    "\n"
   ]
  }
 ],
 "metadata": {
  "colab": {
   "authorship_tag": "ABX9TyNlEN6COxiCGqLXcrGZ08ji",
   "provenance": []
  },
  "kernelspec": {
   "display_name": "Python 3",
   "language": "python",
   "name": "python3"
  },
  "language_info": {
   "codemirror_mode": {
    "name": "ipython",
    "version": 3
   },
   "file_extension": ".py",
   "mimetype": "text/x-python",
   "name": "python",
   "nbconvert_exporter": "python",
   "pygments_lexer": "ipython3",
   "version": "3.12.5"
  }
 },
 "nbformat": 4,
 "nbformat_minor": 0
}
