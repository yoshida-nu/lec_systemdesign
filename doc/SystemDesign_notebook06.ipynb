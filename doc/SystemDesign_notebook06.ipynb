{
 "cells": [
  {
   "cell_type": "markdown",
   "metadata": {},
   "source": [
    "# 論理演算子／同一性演算子／メンバーシップ演算子"
   ]
  },
  {
   "cell_type": "markdown",
   "metadata": {},
   "source": [
    "## 論理演算子\n",
    "*  論理演算を行うための演算子\n",
    "*  論理演算はbool（論理型）の値に対する演算\n",
    "*  演算結果はbool（論理型） ⇒ `True`と`False`のいずれか\n",
    "\n",
    "\n",
    "|論理演算子|意味|\n",
    "|:-:|:--|\n",
    "| `and` | 両者を満たす（両者ともTrueの）ときTrue |\n",
    "| `or` | どちらか片方を満たす（少なくともどちらか一方がTrueの）ときTrue |\n",
    "| `not` | 満たさない（Falseの）ときTrue |\n"
   ]
  },
  {
   "cell_type": "markdown",
   "metadata": {},
   "source": [
    "### `and`演算子\n",
    "\n",
    "|`A`|`B`|`A and B`|\n",
    "|:-:|:-:|:-:|\n",
    "| `True` | `True` | `True` | \n",
    "| `True` | `False` | `False` |\n",
    "| `False` | `True` | `False` |\n",
    "| `False` | `False` | `False` |"
   ]
  },
  {
   "cell_type": "code",
   "execution_count": null,
   "metadata": {},
   "outputs": [],
   "source": [
    "t: bool = True\n",
    "f: bool = False\n",
    "print(t and t)\n",
    "print(t and f)\n",
    "print(f and t)\n",
    "print(f and f)"
   ]
  },
  {
   "cell_type": "markdown",
   "metadata": {},
   "source": [
    "### `or`演算子\n",
    "\n",
    "|`A`|`B`|`A or B`|\n",
    "|:-:|:-:|:-:|\n",
    "| `True` | `True` | `True` | \n",
    "| `True` | `False` | `True` |\n",
    "| `False` | `True` | `True` |\n",
    "| `False` | `False` | `False` |"
   ]
  },
  {
   "cell_type": "code",
   "execution_count": null,
   "metadata": {},
   "outputs": [],
   "source": [
    "t: bool = True\n",
    "f: bool = False\n",
    "print(t or t)\n",
    "print(t or f)\n",
    "print(f or t)\n",
    "print(f or f)"
   ]
  },
  {
   "cell_type": "markdown",
   "metadata": {},
   "source": [
    "### `not`演算子\n",
    "\n",
    "|`A`|`not A`|\n",
    "|:-:|:-:|\n",
    "| `True` | `False` | \n",
    "| `False` | `True` |"
   ]
  },
  {
   "cell_type": "code",
   "execution_count": null,
   "metadata": {},
   "outputs": [],
   "source": [
    "t: bool = True\n",
    "f: bool = False\n",
    "print(not t)\n",
    "print(not f)"
   ]
  },
  {
   "cell_type": "markdown",
   "metadata": {},
   "source": [
    "### 比較演算子と論理演算子の組み合わせ\n",
    "*  比較演算子については，[第1回講義資料](https://colab.research.google.com/github/yoshida-nu/lec_systemdesign/blob/main/doc/SystemDesign_notebook01.ipynb)を参照"
   ]
  },
  {
   "cell_type": "code",
   "execution_count": null,
   "metadata": {},
   "outputs": [],
   "source": [
    "a: int = 1\n",
    "b: int = 2\n",
    "c: int = 3\n",
    "print(a < b and b > c)\n",
    "print(a < b or b > c)\n",
    "print(not a < b)"
   ]
  },
  {
   "cell_type": "markdown",
   "metadata": {},
   "source": [
    "## オブジェクトとメモリ\n",
    "*  コンピュータは，メモリに格納されたプログラムをCPUが実行することで動作する\n",
    "*  このしくみのことを「プログラム内蔵方式」または「プログラム記憶方式」などと呼ぶ\n",
    "*  メモリには一定の区画ごとに，区画を識別するための番号が割り振られている\n",
    "*  この番号のことをアドレスと呼ぶ\n",
    "\n",
    "> <img src=\"./fig/memory.jpg\" width=\"200\"> ※図はイメージ  \n",
    "\n",
    "*  アドレスを指定することで，そこに格納されているデータ（オブジェクト）を読み出すことができる\n",
    "*  つまり，オブジェクトが生成されるとメモリ内に格納され，そこから読み出すことで，様々な処理を実現する\n",
    "*  また，オブジェクトのサイズによって，使用するメモリの区画範囲は変わる\n",
    "\n",
    "> <img src=\"./fig/object_in_memory.jpg\" width=\"220\"> ※図はイメージ  "
   ]
  },
  {
   "cell_type": "markdown",
   "metadata": {},
   "source": [
    "## 同一性演算子"
   ]
  },
  {
   "cell_type": "markdown",
   "metadata": {},
   "source": [
    "### `is`演算子\n",
    "*  オブジェクトの同一性（identity）を比較するために使用する\n",
    "*  具体的には，2つのオブジェクトが同じオブジェクトであるかどうかを確認する\n",
    "*  つまり，オブジェクトがメモリ上で同じ位置を指しているかどうかを確認するための演算\n",
    "*  演算結果は論理型（bool）で，同じオブジェクトであれば`True`となる\n",
    "*  一方，比較演算子である`==`演算子は，2つのオブジェクトの値が等しいかどうかを比較する\n",
    "*  `is`はオブジェクトの同一性，`==`はオブジェクトの等価性を判定するために使われる\n",
    "*  `is`の利用ケースの例: 変数が`None`であるかを確認するとき ⇒ `変数 is None`"
   ]
  },
  {
   "cell_type": "code",
   "execution_count": null,
   "metadata": {},
   "outputs": [],
   "source": [
    "a: list[int] = [1, 2, 3]\n",
    "b: list[int] = [1, 2, 3]\n",
    "c: list[int] = a\n",
    "\n",
    "# 値は等しいが，aとbは異なるオブジェクト\n",
    "print(a == b)  # True （aとbの値が同じ）\n",
    "print(a is b)  # False （aとbは異なるオブジェクト）\n",
    "\n",
    "# cはaと同じオブジェクトを参照している\n",
    "print(a is c)  # True （aとcは同じオブジェクト）"
   ]
  },
  {
   "cell_type": "markdown",
   "metadata": {},
   "source": [
    "### `is not`演算子\n",
    "* `is not`は2つのオブジェクトが異なるオブジェクトであるかどうかを判定する\n",
    "* 演算結果は論理型（bool）で，異なるオブジェクトであれば`True`となる\n",
    "* つまり，`is`による演算結果を論理演算子`not`で演算した結果となる"
   ]
  },
  {
   "cell_type": "code",
   "execution_count": null,
   "metadata": {},
   "outputs": [],
   "source": [
    "a: list[int] = [1, 2, 3]\n",
    "b: list[int] = [1, 2, 3]\n",
    "c: list[int] = a\n",
    "print(a is not b)  # True （aとbは異なるオブジェクト）\n",
    "print(a is not c)  # False （aとcは同じオブジェクト）"
   ]
  },
  {
   "cell_type": "markdown",
   "metadata": {},
   "source": [
    "## メンバーシップ演算子"
   ]
  },
  {
   "cell_type": "markdown",
   "metadata": {},
   "source": [
    "### `in`演算子\n",
    "* `in`演算子は，文字列型（str）やコンテナの要素に特定の値が含まれているかどうかを判定する演算子である\n",
    "* 演算結果は論理型（bool）で，特定の値が含まれていれば`True`となる\n",
    "* **書式:** `値 in コンテナ（or 文字列）`"
   ]
  },
  {
   "cell_type": "code",
   "execution_count": null,
   "metadata": {},
   "outputs": [],
   "source": [
    "prime_number: list[int] = [2, 3, 5, 7, 11, 13]\n",
    "print(5 in prime_number)\n",
    "print(9 in prime_number)"
   ]
  },
  {
   "cell_type": "markdown",
   "metadata": {},
   "source": [
    "### `not in`演算子\n",
    "* `not in`演算子は，文字列型（str）やコンテナの要素に特定の値が含まれていないかを判定する演算子である\n",
    "* 演算結果は論理型（bool）で，特定の値が含まれていなけば`True`となる\n",
    "* つまり，`in`による演算結果を論理演算子`not`で演算した結果となる\n",
    "* **書式:** `値 not in コンテナ（or 文字列）`  "
   ]
  },
  {
   "cell_type": "code",
   "execution_count": null,
   "metadata": {},
   "outputs": [],
   "source": [
    "prime_number: list[int] = [2, 3, 5, 7, 11, 13]\n",
    "print(5 not in prime_number)\n",
    "print(9 not in prime_number)"
   ]
  },
  {
   "cell_type": "markdown",
   "metadata": {},
   "source": [
    "# 条件分岐\n",
    "*  条件分岐とは，ある条件（条件式）を満たす or 満たさないのいずれかで異なる動作をするように制御すること\n",
    "*  条件分岐は`if`文を使って実現する"
   ]
  },
  {
   "cell_type": "markdown",
   "metadata": {},
   "source": [
    "## 条件式\n",
    "*  条件分岐では，結果がboolのオブジェクトとなる条件式を使う\n",
    "*  条件式が成り立つとき ⇒ `True` （真）\n",
    "*  条件式が成り立たないとき ⇒ `False` （偽）\n",
    "*  条件式には比較演算子，論理演算子，メンバーシップ演算子などが使われる\n"
   ]
  },
  {
   "cell_type": "markdown",
   "metadata": {},
   "source": [
    "## `if`文の例\n",
    "*  `if`文は複数行で構成される\n",
    "*  以下のコードは，条件式に`in`演算子を使った`if`文の例である\n",
    "*  `if`文の1行目（開始行）を「ヘッダ」と呼ぶ\n",
    "*  ヘッダの書式: `if 条件式:`\n",
    ">*  条件式は`if`の後に半角スペースを入れて記述する\n",
    ">*  条件式の後にコロン `:` を入れる\n",
    ">*  コロンを入れ忘れるとエラーになるので注意する\n",
    "*  条件式が`True`のときに実行する処理（文）を次の行（2行目）以降にインデントを入れてから記述する\n",
    "*  インデントがなかったり，文の先頭が揃ってなかったりするとエラーになるので注意する"
   ]
  },
  {
   "cell_type": "code",
   "execution_count": null,
   "metadata": {},
   "outputs": [],
   "source": [
    "family: list[str] = ['Shinnosuke', 'Misae', 'Hiroshi', 'Himawari']\n",
    "your_name: str = 'Himawari'\n",
    "if your_name in family:\n",
    "    print(f'Your name is {your_name}')\n",
    "    print('You are my family.')"
   ]
  },
  {
   "cell_type": "markdown",
   "metadata": {},
   "source": [
    "## `if`ブロック\n",
    "*  上のコードの4～5行目のように，条件式が`True`のときに実行する文のまとまりを`if`ブロックと呼ぶ\n",
    "*  `if`ブロックの範囲は，インデントによって定義される\n",
    "\n",
    "<img src=\"./fig/if-block.jpg\" width=\"450\">"
   ]
  },
  {
   "cell_type": "markdown",
   "metadata": {},
   "source": [
    "## インデント\n",
    "*  インデントとは，行頭の空白，字下げのことで，文をグループにまとめる機能を持つ\n",
    "*  文はインデントレベル（深さ）の違いによって異なるグループとして扱われる\n",
    "*  インデントレベルが進む（深くなる）と文はもとのグループの下に位置する別のグループに属するものとして扱われる\n",
    "*  インデントレベルが戻る（浅くなる）まで文は同じグループに属することになる\n",
    "*  インデントはTabキーで設定できる\n",
    "*  Pythonではインデントとして半角スペース4つが広く利用されている\n",
    "*  本講義で利用するノートブックの中でも，インデントとして半角スペース4つを利用する"
   ]
  },
  {
   "cell_type": "markdown",
   "metadata": {},
   "source": [
    "## `else`ブロック\n",
    "*  次に以下のコードを考える\n",
    "*  このコードは，名前に応じて異なる返答ができるようにしている  \n",
    "*  具体的には，`your_name`の値が`family`に含まれていれば，7行目を実行し，含まれていなければ，9行目を実行する\n",
    "*  このコードのように条件式が`False`のときに実行する処理を記述する場合は，`if`ブロックの後に（インデントを解除して）`else:`を記述し，その下の行にインデントを設定して処理を記述する"
   ]
  },
  {
   "cell_type": "code",
   "execution_count": null,
   "metadata": {},
   "outputs": [],
   "source": [
    "family: list[str] = ['Shinnosuke', 'Misae', 'Hiroshi', 'Himawari']\n",
    "your_name: str = 'Himawari'\n",
    "print(f'Your name is {your_name}')\n",
    "if your_name in family:\n",
    "    print('You are my family.')\n",
    "else:    \n",
    "    print('You are not my family.')"
   ]
  },
  {
   "cell_type": "markdown",
   "metadata": {},
   "source": [
    "*  上のコードの9行目のように，条件式が`False`のときに実行する文のまとまりを`else`ブロックと呼ぶ\n",
    "\n",
    "<img src=\"./fig/else-block.jpg\" width=\"500\">"
   ]
  },
  {
   "cell_type": "markdown",
   "metadata": {},
   "source": [
    "## `elif`ブロック\n",
    "*  条件式が成立しなかったとき，さらに別の条件式で判定したい場合は，`elif`プロックを追加する\n",
    "*  elifは「else if」を省略した形になっている\n",
    "*  `elif`プロックは，`if`ブロックのあとに，条件式を設定してから記述する\n",
    "*  この条件式は，`elif`の後に半角スペースを入れて記述する\n",
    "*  条件式の後にはコロン `:` を入れる\n",
    "*  この条件式が`True`のときに実行する処理（`elif`プロック）を次の行以降にインデントを入れてから記述する\n",
    "*  さらに別の条件式で判定したい場合は，`elif`ブロックのあとに，さらに`elif`ブロックを追加すればよい\n",
    "*  `elif`ブロックの数に制限はなく，必要なだけ記述できる\n",
    "*  複数記述した条件式は，先頭から順に判定していき，最初に`True`となった条件式の下のプロックのみが実行される\n",
    "\n",
    "<img src=\"./fig/elif-block.jpg\" width=\"570\">"
   ]
  },
  {
   "cell_type": "code",
   "execution_count": null,
   "metadata": {},
   "outputs": [],
   "source": [
    "x: int = 115\n",
    "if x < 100 and x % 2 == 0:\n",
    "    print('100未満の偶数')\n",
    "elif x < 100 and x % 2 == 1:\n",
    "    print('100未満の奇数')\n",
    "elif x % 2 == 0:\n",
    "    print('100以上の偶数')\n",
    "else:\n",
    "    print('100以上の奇数')"
   ]
  },
  {
   "cell_type": "markdown",
   "metadata": {},
   "source": [
    "## 特殊な条件式\n",
    "* `bool`ではない通常クラスのオブジェクトを`if`文の条件式として利用することもある\n",
    "* ここでは，使い方だけ紹介する（詳細は付録を参照）"
   ]
  },
  {
   "cell_type": "markdown",
   "metadata": {},
   "source": [
    "### `int`クラスを条件式とした場合\n",
    "*  0以外のとき: `True`\n",
    "*  0のとき: `False`"
   ]
  },
  {
   "cell_type": "code",
   "execution_count": null,
   "metadata": {},
   "outputs": [],
   "source": [
    "x: int = 0\n",
    "if x:\n",
    "    print('整数xは0以外')\n",
    "else:\n",
    "    print('整数xは0')"
   ]
  },
  {
   "cell_type": "markdown",
   "metadata": {},
   "source": [
    "### `str`クラスを条件式とした場合\n",
    "*  空の文字列ではないとき: `True`\n",
    "*  空の文字列「`''`」のとき: `False`"
   ]
  },
  {
   "cell_type": "code",
   "execution_count": null,
   "metadata": {},
   "outputs": [],
   "source": [
    "x: str = ''\n",
    "if x:\n",
    "    print('文字列xは空ではない')\n",
    "else:\n",
    "    print('文字列xは空')"
   ]
  },
  {
   "cell_type": "markdown",
   "metadata": {},
   "source": [
    "### `list`クラスを条件式とした場合\n",
    "*  空のリストではないとき: `True`\n",
    "*  空のリスト「`[]`」のとき: `False`"
   ]
  },
  {
   "cell_type": "code",
   "execution_count": null,
   "metadata": {},
   "outputs": [],
   "source": [
    "x: list = []\n",
    "if x:\n",
    "    print('リストxは空ではない')\n",
    "else:\n",
    "    print('リストxは空')"
   ]
  },
  {
   "cell_type": "markdown",
   "metadata": {},
   "source": [
    "# `input`関数\n",
    "\n",
    "*  組み込み関数の`input`関数を使うとキーボードから値を入力することができる ⇒ 入力した値によって結果が変わるコードが作成できる\n",
    "*  `input`関数が呼び出されると，キーボードからの入力待ち状態になる\n",
    "*  キーボードから入力した値が`input`関数に渡される引数となる\n",
    "*  `input`関数の引数は，データ型がすべて str（文字列型）となることに注意する"
   ]
  },
  {
   "cell_type": "code",
   "execution_count": null,
   "metadata": {},
   "outputs": [],
   "source": [
    "name: str = input('名前を入力してください。>> ')\n",
    "print(f'あなたの名前は{name}です')"
   ]
  },
  {
   "cell_type": "markdown",
   "metadata": {},
   "source": [
    "*  `input`関数で入力した値を数値として扱う場合は，クラス名関数の`int`関数や`float`関数を使って，`str`クラスから数値型のクラスの`int`クラスや`float`クラスのオブジェクトに変換する\n",
    "*  以下のコードでは，`str`クラスのオブジェクト`a`を，`int(a)`によって`int`クラスのオブジェクトに変換している"
   ]
  },
  {
   "cell_type": "code",
   "execution_count": null,
   "metadata": {},
   "outputs": [],
   "source": [
    "a: str = input('数字を入力してください。>> ')\n",
    "print(f'入力した数字は{a}です')\n",
    "print(f'入力した数字に10を足すと{int(a) + 10}です')\n",
    "# print(f'入力した数字に10を足すと{a + 10}です') # エラー"
   ]
  },
  {
   "cell_type": "markdown",
   "metadata": {},
   "source": [
    "# 繰り返し"
   ]
  },
  {
   "cell_type": "markdown",
   "metadata": {},
   "source": [
    "## `while`文を使った繰り返し\n",
    "*  `while`の直後に半角スペースを入れたあと，繰り返し処理の条件式を記述して，最後にコロン`:`を入れる\n",
    "*  条件式のデータ型は`if`文と同様にboolとなる\n",
    "*  条件式が `True`（真） である間，`while`ブロック内の処理を繰り返す\n",
    "*  ブロックの意味は`if`文と同じ\n",
    "*  条件式が `False`（偽）になったら繰り返しが終わる ⇒ `while`ブロック直後の処理へ\n",
    "\n",
    "<img src=\"./fig/while.jpg\" width=\"400\">\n"
   ]
  },
  {
   "cell_type": "markdown",
   "metadata": {},
   "source": [
    "### `while`文の例\n",
    "* `while`文の条件式: `count < 6`\n",
    "* この条件式が`True`である限り，`while`ブロックを繰り返す\n",
    "* `while`ブロックは，3～4行目の処理"
   ]
  },
  {
   "cell_type": "code",
   "execution_count": null,
   "metadata": {},
   "outputs": [],
   "source": [
    "count = 1\n",
    "while count < 6:\n",
    "    print(f'ひつじが{count}匹')\n",
    "    count += 1\n",
    "print('zzz...')"
   ]
  },
  {
   "cell_type": "markdown",
   "metadata": {},
   "source": [
    "### 無限ループ\n",
    "* 上のコードは繰り返しの中で変数`count`の値を1ずつ増やしていき，その値が6になる（6未満じゃなくなる）と繰り返しを終了するコードとなる\n",
    "* したがって，`while`ブロックで変数`count`の値を増やす処理がないと，無限に処理が繰り返され，いつまでも終了しないコードになる\n",
    "* この現象を「**無限ループ**」と呼ぶ\n",
    "* 無限ループになってしまったら，コードセル左上の停止ボタン[■]をクリックする．"
   ]
  },
  {
   "cell_type": "markdown",
   "metadata": {},
   "source": [
    "## `for`文を使った繰り返し\n",
    "*  `for`の直後に半角スペースを入れたあと，繰り返しの処理の中で用いる変数を記述\n",
    "*  その変数の直後に半角スペースを入れたあと，`in`と記述\n",
    "*  `in`の直後に半角スペースを入れたあと，イテラブル（iterable）と呼ばれる繰り返し処理が可能なオブジェクトを記述して，最後にコロン`:`を入れる\n",
    "*  イテラブルは複数の要素からなり，要素を順番に取り出すことができるオブジェクトの総称（「イテラブルなオブジェクト」と呼ぶこともある）\n",
    "*  各繰り返しで，イテラブルの要素が順番に1つずつ変数に格納される\n",
    "*  取り出す要素がなくなるまで処理を繰り返す\n",
    "*  もう少し細かく言うと，`for`文で指定したイテラブルは，イテレータ（iterator）と呼ばれるオブジェクトを経由して利用されている（詳細は付録を参照）\n",
    "*  `for`文では，リストなどのコンテナや`range`関数（後述）がイテラブルとしてよく使われる\n",
    "*  `for`文で繰り返す処理は，`while`文の`while`ブロックと同様に`for`ブロックとして記述する\n",
    "*  `for`ブロックはインデントを使って設定する\n",
    "\n",
    "<img src=\"./fig/for.png\" width=\"400\">"
   ]
  },
  {
   "cell_type": "markdown",
   "metadata": {},
   "source": [
    "### イテラブルにリストを用いた`for`文\n",
    "*  リストの要素数だけ繰り返す（リスト以外のコンテナでもOK）\n",
    "*  各繰り返しでリストの要素を先頭から順に，「`for`」の直後に記述した変数に代入する\n",
    "*  次のコードの例において，`a`はリストなのでイテラブルである．\n",
    "*  繰り返しの中で，`a`の要素が順番に取り出されて3行目を実行していく"
   ]
  },
  {
   "cell_type": "code",
   "execution_count": null,
   "metadata": {},
   "outputs": [],
   "source": [
    "a = [78, 93, 80, 62]\n",
    "for i in a:\n",
    "    print(i)"
   ]
  },
  {
   "cell_type": "markdown",
   "metadata": {},
   "source": [
    "### イテラブルに`range`関数を用いた`for`文\n",
    "*  `range`関数は，引数として指定した範囲の整数（等差数列）を要素とするイテラブルを返す\n",
    "*  `range`関数をfor文のイテラブルとして用いることで，決まった回数の繰り返し処理を実行することができる\n",
    "*  `range`関数の記述方法: `range(開始の値, 終了の値, ステップ幅)`\n",
    ">*  引数は3つ指定できる\n",
    ">*  開始の値とステップ幅は省略することもできる\n",
    ">*  引数が1つの場合 ⇒ 終了の値\n",
    ">*  引数が2つの場合 ⇒ 開始の値，終了の値\n",
    ">*  引数が3つの場合 ⇒ 開始の値, 終了の値, ステップ幅\n",
    ">*  開始の値を指定していない場合 ⇒ 0\n",
    ">*  ステップ幅を指定していない場合 ⇒ 1\n",
    "*  次のコードの例において，`range(5)`の要素0～4が，各繰り返しの中で順番に取り出されて変数`i`に代入される\n",
    "*  したがって，繰り返し回数は5回となる"
   ]
  },
  {
   "cell_type": "code",
   "execution_count": null,
   "metadata": {},
   "outputs": [],
   "source": [
    "x = 3\n",
    "for i in range(5):\n",
    "    print(f'{x} * {i} = {x * i}')"
   ]
  },
  {
   "cell_type": "markdown",
   "metadata": {},
   "source": [
    "## リスト内包(ないほう)表記\n",
    "*  内包表記とは，Pythonの文法の一つ\n",
    "*  `for`文などを使って行う繰り返し処理を，単純な形で記述できる\n",
    "*  もう少し正確にいうと内包表記は「式」⇒ 1行で記述できる\n",
    "*  式なので関数の引数として渡すことができる\n",
    "*  リスト内包表記は内包表記の一種\n",
    "*  イテラブルを利用して，新しいリストを作るための式\n",
    "*  式を計算した結果が新しいリストの要素となる\n",
    "*  説明用の簡単な例として，0, 1, 2,...,9 までの数の2乗を要素とするリストを作成することを考える\n",
    "*  単純な方法として，以下のような `for`文でリストを作成する方法がある"
   ]
  },
  {
   "cell_type": "code",
   "execution_count": null,
   "metadata": {},
   "outputs": [],
   "source": [
    "square = [] # 空のリストを定義\n",
    "for i in range(10):\n",
    "    square.append(i ** 2)\n",
    "print(square)"
   ]
  },
  {
   "cell_type": "markdown",
   "metadata": {},
   "source": [
    "*  リスト内包表記を使って，上記コードと同様の処理を行う\n",
    "*  リスト内包表記は，リスト内に`for`文を記述するようなイメージとなる\n",
    "*  リスト内包表記を使うことで，コードがシンプルになる，処理が早くなるといった効果が生まれる\n",
    "*  **リスト内包表記の書式:** `[ 式 for 変数 in イテラブル]`"
   ]
  },
  {
   "cell_type": "code",
   "execution_count": null,
   "metadata": {},
   "outputs": [],
   "source": [
    "square = [i ** 2 for i in range(10)]\n",
    "print(square)"
   ]
  },
  {
   "cell_type": "markdown",
   "metadata": {},
   "source": [
    "## 繰り返しの制御\n",
    "*  `while`文や`for`文の中に，`break`文や`continue`文を組み合わせると，より高度な繰り返し制御ができる\n",
    "*  `break`文と`continue`文は，`if`文と組み合わせて使う\n",
    "*  `break`文: `if`文の条件式が`True` ⇒ 繰り返し処理の途中で終了（即座に`for`文を抜ける）\n",
    "*  `continue`文: `if`文の条件式が`True` ⇒繰り返し処理の途中で処理をスキップ（即座に`for`文の次の繰り返しに移る）"
   ]
  },
  {
   "cell_type": "markdown",
   "metadata": {},
   "source": [
    "### `break`文の例\n",
    "*  以下のコードは，上のコードと同じ動作をするコードになっている\n",
    "*  `word`に「apple」が入力されると，`if`文の条件式が`True`となり5行目が実行されたのちに`break`で`while`文を抜ける\n",
    "*  `break`がないと無限ループになるので注意する"
   ]
  },
  {
   "cell_type": "code",
   "execution_count": null,
   "metadata": {},
   "outputs": [],
   "source": [
    "is_apple = False\n",
    "while True:\n",
    "    word = input('リンゴは英語で？ >> ')\n",
    "    if word == 'apple':\n",
    "        print('正解')\n",
    "        break\n",
    "    print(f'{word}はリンゴではありません！')"
   ]
  },
  {
   "cell_type": "markdown",
   "metadata": {},
   "source": [
    "### `continue`文の例\n",
    "*  以下のコードは，上のコードと同じ動作をするコードになっている\n",
    "*  `word`に「apple」以外が入力されると，`if`文の条件式が`True`となり5行目が実行されたのちに`continue`で次の繰り返しに移る\n",
    "*  `continue`によって，`if`文の条件式が`False`にならないと7行目が実行されない"
   ]
  },
  {
   "cell_type": "code",
   "execution_count": null,
   "metadata": {},
   "outputs": [],
   "source": [
    "is_apple = False\n",
    "while is_apple == False:\n",
    "    word = input('リンゴは英語で？ >> ')\n",
    "    if word != 'apple':\n",
    "        print(f'{word}はリンゴではありません！')\n",
    "        continue\n",
    "    is_apple = True\n",
    "print('正解')"
   ]
  },
  {
   "cell_type": "markdown",
   "metadata": {},
   "source": [
    "# ファイル操作\n",
    "*   Pythonでは，`open`関数を使って，ファイル操作を行う\n",
    "*  よく行うファイル操作処理:\n",
    ">*  処理をした結果をファイルに書き込んで保存する\n",
    ">*  ファイルからデータを読み込んで処理（集計や表示など）する\n",
    ">*  例: 10万人分のテストの成績が書かれたファイルを読み込み，平均や偏差値を計算し，その計算結果を別のファイルに書き込んで保存する\n",
    "*  基本的な処理手順\n",
    ">*  ファイルを開く\n",
    ">*  ファイルに書き込む／ファイルから読み込む\n",
    ">*  ファイルを閉じる"
   ]
  },
  {
   "cell_type": "markdown",
   "metadata": {},
   "source": [
    "## `open`関数とファイルオブジェクト\n",
    "*  `open`関数の基本的な書式：`open('ファイル名', 'モード')`\n",
    ">*  さらに，引数 `encoding='文字コード'` で文字コードを指定しないと，読み込み／書き込みにおいて文字化けなどの問題が生じる場合がある\n",
    ">*  本講義では，こういった問題が起きないコードしか扱わないので，この引数は使わないこととする\n",
    "*  モードはファイルの操作方法を指定するための文字\n",
    "*  モードの種類（代表的なもの）\n",
    ">*  `r`: 読み込み\n",
    ">*  `w`: 書き込み（新規）\n",
    ">*  `a`: 既に存在するファイルに追加で書き込み\n",
    "*  `open`関数は戻り値として，ファイルオブジェクトを返す\n",
    "*  ファイルオブジェクトの生成が「ファイルを開く」ことに対応する\n",
    "*  ファイルオブジェクトは，ファイルとのやり取り（読み込みや書き込みなど）を行うための機能を提供する\n",
    "*  このオブジェクトのメソッド等を使って，ファイルの入出力処理を行う\n",
    "*  `open`関数の戻り値に型ヒントをつける場合は，`from typing import TextIO`で`TextIO`をインポートした上で，`TextIO`と記述する\n",
    "*  型ヒントについては，[第4回講義資料](https://colab.research.google.com/github/yoshida-nu/lec_systemdesign/blob/main/doc/SystemDesign_notebook04.ipynb)を参照\n",
    " \n",
    "> <img src=\"./fig/file_object.jpg\" width=\"400\">"
   ]
  },
  {
   "cell_type": "markdown",
   "metadata": {},
   "source": [
    "## ファイルオブジェクトに対する主なメソッド\n",
    "\n",
    "|メソッド名|意味|\n",
    "|:--|:--|\n",
    "`read` | ファイルの内容を読み込む． |\n",
    "`readline` | ファイルから1行ずつ読み込むメソッド．改行文字（`\\n`）も含まれる． |\n",
    "`readlines` | ファイル全体を行単位でリストとして読み込む． |\n",
    "`write` | 指定された文字列やデータをファイルに書き込む． |\n",
    "`writelines` | リストやイテラブルなオブジェクトの要素を一度にファイルに書き込む． |\n",
    "`close` | ファイルを閉じる．ファイル操作が終わった後は，必ずこのメソッドを呼び出す． |      "
   ]
  },
  {
   "cell_type": "markdown",
   "metadata": {},
   "source": [
    "## ファイルの書き込み\n",
    "*  以下のコードはファイルを新たに作成し，書き込みを行っている\n",
    "*  1行目: ファイル名が「file1.txt」，モードが「w（書き込み）」，文字コードが「UTF-8」のファイルオブジェクト`x`を生成\n",
    "*  このとき，ファイル「file1.txt」は存在しないので，新規にファイルが作成されることになる\n",
    "*  2行目: `write`メソッドで，「Hello World!」をファイルに書き込む\n",
    "*  3行目: `close`メソッドで，ファイルを閉じる "
   ]
  },
  {
   "cell_type": "code",
   "execution_count": null,
   "metadata": {},
   "outputs": [],
   "source": [
    "from typing import TextIO\n",
    "x: TextIO = open('file1.txt', 'w')\n",
    "x.write('Hello World!')\n",
    "x.close()"
   ]
  },
  {
   "cell_type": "markdown",
   "metadata": {},
   "source": [
    "## ファイルの読み込み\n",
    "*  以下のコードは，上のコードで作成したファイル「file1.txt」に対する読み込みを行っている\n",
    "*  1行目: ファイル名が「file1.txt」，モードが「r（読み込み）」，文字コードが「UTF-8」のファイルオブジェクト`f`を生成\n",
    "*  このとき，ファイル「file1.txt」が存在しなければ，エラーになる\n",
    "*  2行目: `read`メソッドで，ファイルの内容を取り出し，変数txtに代入\n",
    "*  `txt`は`str`のオブジェクトとなる\n",
    "*  3行目: `txt`を表示\n",
    "*  4行目: `close`メソッドで，ファイルを閉じる"
   ]
  },
  {
   "cell_type": "code",
   "execution_count": null,
   "metadata": {},
   "outputs": [],
   "source": [
    "from typing import TextIO\n",
    "f: TextIO = open('file1.txt', 'r')\n",
    "txt: str = f.read()\n",
    "print(f'file1.txtの内容:\\n{txt}')\n",
    "f.close()"
   ]
  },
  {
   "cell_type": "markdown",
   "metadata": {},
   "source": [
    "## `with`文を使ったファイル操作\n",
    "*  `with`文を使うと `close()`メソッドの記述を省略できる\n",
    "\n",
    "`with`文の書式:\n",
    "  \n",
    "---\n",
    "```Python\n",
    "with ファイルオブジェクト as 変数:\n",
    "    ファイルを操作する処理\n",
    "```\n",
    "---\n",
    "\n",
    "*  一般に，ファイルオブジェクトは，`open`関数を使って生成する\n",
    "*  ファイルオブジェクトは変数に代入される\n",
    "*  ファイルを操作する処理は`with`ブロックとして記述する（ブロックの範囲をインデントで設定する）\n",
    "*  `with`ブロックが終了すると，自動的にファイルを閉じる処理（`close`メソッド）が行われる\n",
    "*  ファイルオブジェクトを含む一般的なオブジェクトに対する`with`文の処理については付録を参照"
   ]
  },
  {
   "cell_type": "code",
   "execution_count": null,
   "metadata": {},
   "outputs": [],
   "source": [
    "from typing import TextIO\n",
    "#ファイルの書き込み\n",
    "with open('file2.txt', 'w') as x:\n",
    "    x: TextIO # 型ヒント\n",
    "    x.write('This is the first line of the file.\\n')\n",
    "#ファイルの読み込み\n",
    "with open('file2.txt', 'r') as f:\n",
    "    f: TextIO # 型ヒント\n",
    "    txt: str = f.read()\n",
    "    print(f'file2.txtの内容:\\n{txt}')"
   ]
  },
  {
   "cell_type": "markdown",
   "metadata": {},
   "source": [
    "## ファイルオブジェクトの操作例"
   ]
  },
  {
   "cell_type": "markdown",
   "metadata": {},
   "source": [
    "### 準備: ファイルのダウンロード\n",
    "*  ファイルオブジェクトを操作するコード例を実行する前に，必ず以下のコード（正確にはコマンド）を実行する\n",
    "*  このコマンドを実行すると，以降のコードで使用するファイルをダウンロードできる\n",
    "*  このコマンドを実行しないと，これ以降のコードが実行できないので，必ず実行する\n",
    "*  この操作は，ノートブックを開くたび，毎回行う\n",
    "*  コマンドの内容を理解する必要はない"
   ]
  },
  {
   "cell_type": "code",
   "execution_count": null,
   "metadata": {},
   "outputs": [],
   "source": [
    "!curl -L -o sample.txt https://raw.githubusercontent.com/yoshida-nu/lec_systemdesign/main/resources/sample.txt"
   ]
  },
  {
   "cell_type": "markdown",
   "metadata": {},
   "source": [
    "### ダウンロードしたファイルの確認\n",
    "*  ダウンロードしたファイルは，「sample.txt」という名前で，ノートブック上に保存される\n",
    "*  ファイルは画面右側のサイドバーから確認できる（下図）\n",
    "*  ノートブックをしばらく操作しないと，接続切れとなりファイルは自動的に削除される\n",
    "\n",
    "> <img src=\"./fig/file_download.png\" width=\"700\">"
   ]
  },
  {
   "cell_type": "markdown",
   "metadata": {},
   "source": [
    "### ファイルオブジェクトはイテラブル\n",
    "*  ファイルオブジェクトはイテラブル（より正確にはイテレータ）であるので，`for`文に利用することができる\n",
    "*  具体的には，ファイルオブジェクトに対応するファイルの内容を1行ずつ上から順番に読み込んで繰り返し処理を実行する\n",
    "*  読み込む際は，行末尾の改行「`\\n`」も含んだものを読み込む"
   ]
  },
  {
   "cell_type": "code",
   "execution_count": null,
   "metadata": {},
   "outputs": [],
   "source": [
    "with open('sample.txt', 'r') as file:\n",
    "    file: TextIO # 型ヒント\n",
    "    for line in file:\n",
    "        print(line.strip('\\n')) # lineから改行を削除"
   ]
  },
  {
   "cell_type": "markdown",
   "metadata": {
    "id": "og0GV02cFyRe"
   },
   "source": [
    "# 集約とコンポジション\n",
    "*  集約（Aggregation）とコンポジション（Composition）は，オブジェクト指向においてオブジェクト同士の「所有関係」を表現するための設計概念\n",
    "*  どちらも「関連」の一種であるが，オブジェクトの所有権などに違いがある"
   ]
  },
  {
   "cell_type": "markdown",
   "metadata": {
    "id": "6gCwJCAmGalJ"
   },
   "source": [
    "## 集約（Aggregation）\n",
    "*  集約は「部分と全体」の関係を表すが，部分（部品）は全体（集約側）とは独立して存在できる\n",
    "*  つまり，一方のクラスのインスタンス（全体）が他方のクラスのインスタンス（部分）を参照するが，所有権はない\n",
    "*  したがって，全体のインスタンスが破棄されても，部分のインスタンスは影響を受けない\n",
    "*  UMLでは下図のように表現する: 全体と部分のクラスを直線でつなぎ，全体のほうに白いひし形をつける\n",
    "*  ケースにもよるが，基本的に集約における部分は外部から渡されるもの（オブジェクト）と解釈できる\n",
    "\n",
    "<img src=\"./fig/aggregation_templete.png\" width=\"300\">  \n"
   ]
  },
  {
   "cell_type": "markdown",
   "metadata": {},
   "source": [
    "### 集約の例1: お子様ランチ\n",
    "\n",
    "<img src=\"./fig/aggregation_kids_lunch.png\" width=\"450\">  \n"
   ]
  },
  {
   "cell_type": "markdown",
   "metadata": {},
   "source": [
    "### 集約の例2: 従業員と部署\n",
    "*  以下のコードは，従業員（`Employee`）と部署（`Department`）の関係を表している\n",
    "*  `Department`クラスのインスタンス`dept`のインスタンス属性`employees`はリストで，`Employee`クラスのインスタンスが要素として追加される\n",
    "*  部署（全体）が削除されても，従業員（部分）は独立して存在できる\n",
    "*  例えば，`del dept`でインスタンスを削除した後でも，`Employee`クラスのインスタンスである`emp1`と`emp2`は削除されていない\n",
    ">*  `del`はインスタンスを削除するためのキーワード\n",
    ">*  書式: `del インスタンス`\n",
    ">*  ここでのインスタンスは，一般的にはインスタンスを格納している変数名を記述する\n",
    "*  この例におけるクラス図を下図に示す\n",
    "\n",
    "<img src=\"./fig/aggregation_department.jpg\" width=\"580\">  "
   ]
  },
  {
   "cell_type": "code",
   "execution_count": null,
   "metadata": {
    "colab": {
     "base_uri": "https://localhost:8080/"
    },
    "executionInfo": {
     "elapsed": 10,
     "status": "ok",
     "timestamp": 1704171038016,
     "user": {
      "displayName": "Takahiro YOSHIDA",
      "userId": "00096252480874798687"
     },
     "user_tz": -540
    },
    "id": "4wA-ad1LF0Ng",
    "outputId": "26e88763-27c9-46d2-8765-d62168ec1f7f"
   },
   "outputs": [],
   "source": [
    "class Employee:\n",
    "    def __init__(self, name: str) -> None:\n",
    "        self.name = name\n",
    "\n",
    "class Department:\n",
    "    def __init__(self) -> None:\n",
    "        self.employees: list[Employee] = []\n",
    "\n",
    "    def add_employee(self, employee: Employee) -> None:\n",
    "        self.employees.append(employee)\n",
    "        print(f'{employee.name}が配属されました')\n",
    "\n",
    "\n",
    "emp1: Employee = Employee('John')\n",
    "emp2: Employee = Employee('Jane')\n",
    "print(emp1.name)\n",
    "print(emp2.name)\n",
    "\n",
    "dept: Department = Department()\n",
    "dept.add_employee(emp1)\n",
    "dept.add_employee(emp2)\n",
    "\n",
    "del dept # インスタンスdeptを削除\n",
    "\n",
    "# emp1とemp2は削除されない\n",
    "print(emp1.name)\n",
    "print(emp2.name)"
   ]
  },
  {
   "cell_type": "markdown",
   "metadata": {
    "id": "mqk6YHzRG4gk"
   },
   "source": [
    "## コンポジション（Composition）\n",
    "*  コンポジションは，より強い「所有関係」を表しており，ある構成物（全体）を構成している要素（部分）が，その構成物だけに使われる場合の集約\n",
    "*  構成物（全体）に対応するインスタンスだけが，その構成要素（部分）の存在（生成と消滅）の責務を担う\n",
    "*  したがって，一方のクラスのインスタンス（全体）が破棄されると，他方のクラスのインスタンス（部分）も破棄される\n",
    "*  UMLでは下図のように表現する: 全体と部分のクラスを直線でつなぎ，全体のほうに黒いひし形をつける\n",
    "*  ケースにもよるが，基本的にコンポジションにおける部分は内部で生成されるもの（オブジェクト）と解釈できる\n",
    "\n",
    "<img src=\"./fig/composition_templete.png\" width=\"300\">  "
   ]
  },
  {
   "cell_type": "markdown",
   "metadata": {},
   "source": [
    "### コンポジションの例: 車とエンジン\n",
    "*  以下のコードは，`Car`クラスと`Engine`クラスの2つのクラスが定義されており，`Car`クラスのインスタンス（車）が`Engine`クラスのインスタンス（エンジン）を所有するという関係を表している\n",
    "*  具体的には，`Car`クラスのインスタンスを生成すると，コンストラクタ内で`Engine`クラスのインスタンスを生成し，インスタンス属性の属性値として定義している\n",
    "*  `Engine`クラスのインスタンスは，`Car`クラスのインスタンス`car`のインスタンス属性であるので，`del car`で`car`を削除すると，その属性であるインスタンスも削除される\n",
    "*  この例におけるクラス図を下図に示す\n",
    "\n",
    "<img src=\"./fig/composition_car.jpg\" width=\"580\">  "
   ]
  },
  {
   "cell_type": "code",
   "execution_count": null,
   "metadata": {
    "colab": {
     "base_uri": "https://localhost:8080/"
    },
    "executionInfo": {
     "elapsed": 8,
     "status": "ok",
     "timestamp": 1696121627393,
     "user": {
      "displayName": "Takahiro YOSHIDA",
      "userId": "00096252480874798687"
     },
     "user_tz": -540
    },
    "id": "6VWTsnloHGnf",
    "outputId": "3d6c6fee-5454-4690-ae3d-e9e641c0d8df"
   },
   "outputs": [],
   "source": [
    "class Engine:\n",
    "    def __init__(self, horsepower: int) -> None:\n",
    "        self.horsepower = horsepower\n",
    "\n",
    "class Car:\n",
    "    def __init__(self, brand: str, horsepower: int) -> None:\n",
    "        self.brand = brand\n",
    "        self.engine: Engine = Engine(horsepower)  # Engineクラスのインスタンス生成\n",
    "\n",
    "car: Car = Car('Toyota', 150)\n",
    "print(car.engine.horsepower) # 馬力\n",
    "\n",
    "# 車が削除されるとエンジンも削除される\n",
    "del car"
   ]
  },
  {
   "cell_type": "markdown",
   "metadata": {},
   "source": [
    "# 実習\n",
    "以下の「`Team`クラス定義の要件・補足説明」及び「`Car`クラス定義の要件・補足説明」に従って，2つのクラス`Team`と`Car`を実装したコードを作成しなさい．ただし，コードには型ヒントをつけ，既に入力されているコードは変更・削除しないこと．\n",
    "\n",
    "---\n",
    "**`Player`クラスについて**\n",
    "* `Player`は選手に対応するクラスとして定義した\n",
    "* `Player`は選手名に対応するパブリックな属性`name`を持つ\n",
    "---\n",
    "**`Engine`クラスについて**\n",
    "* `Engine`は車が搭載しているエンジンに対応する\n",
    "* `Engine`は`drive`メソッドを持つ\n",
    "* `drive`メソッドは，メッセージ「ngine started」を出力する機能を持つ\n",
    "---\n",
    "**`Team`クラス定義の要件・補足説明:**\n",
    "*  以下のクラス図と対応させる\n",
    "*  `Team`は複数の選手で構成されるチームに対応する\n",
    "*  `name`はチーム名，`players`は所属する選手に対応する\n",
    "*  `show_players`メソッドは，チーム名（`name`）を表示した後に続けてチーム（`Team`）に所属する全ての選手（`Player`）の名前（`name`）のリストを出力する機能を持つ\n",
    "*  下の「期待される実行結果」の1行目が`show_players`メソッドの出力例となる\n",
    "*  選手の名前のリストは，`show_players`メソッド内部で，例えばリスト内包表記を使って`names = [p.name for p in self.players]`などとすると取得できる\n",
    "*  チーム名と選手名のリストは，例えば上記の`names`を使って`print(f'{self.name}: {names}')`などとすると表示できる\n",
    "---\n",
    "**`Car`クラス定義の要件・補足説明:**\n",
    "*  以下のクラス図と対応させる\n",
    "*  `Car`は車に対応する\n",
    "*  `engine`は車が搭載しているエンジンに対応する\n",
    "*  `engine`は`Car`の内部で生成する\n",
    "*  `drive`メソッドは，メソッド内部で`drive`メソッドを呼び出した後，メッセージ「Car is driving」を出力する機能を持つ\n",
    "---\n",
    "**クラス図:**\n",
    "\n",
    "<img src=\"./fig/aggregation-composition_exercise.jpg\" width=\"500\">\n",
    "\n",
    "---\n",
    "**期待される実行結果:**\n",
    "```\n",
    "Blue Team: ['Taro', 'Hanako']\n",
    "Engine started\n",
    "Car is driving\n",
    "```"
   ]
  },
  {
   "cell_type": "code",
   "execution_count": null,
   "metadata": {},
   "outputs": [],
   "source": [
    "class Player:\n",
    "    def __init__(self, name: str) -> None:\n",
    "        self.name = name\n",
    "\n",
    "class Engine:\n",
    "    def start(self) -> None:\n",
    "        print('Engine started')\n",
    "\n",
    "# ここにコードを記述（必要に応じて改行する）\n",
    "\n",
    "# -------------------------\n",
    "# 動作確認\n",
    "# -------------------------\n",
    "p1: Player = Player('Taro')\n",
    "p2: Player = Player('Hanako')\n",
    "team: Team = Team('Blue Team')\n",
    "team.add_player(p1)\n",
    "team.add_player(p2)\n",
    "team.show_players()\n",
    "car: Car = Car()\n",
    "car.drive()"
   ]
  },
  {
   "cell_type": "markdown",
   "metadata": {},
   "source": [
    "# 参考資料\n",
    "*  国本大悟(著), 須藤秋良(著), 株式会社フレアリンク(監修), [スッキリわかるPython入門 第2版](https://book.impress.co.jp/books/1122101165), インプレス, 2023\n",
    "*  東京大学, [プログラミング入門](https://colab.research.google.com/github/utokyo-ipp/utokyo-ipp.github.io/blob/master/colab/index.ipynb), 講義資料, 2024\n",
    "*  伊藤裕一, [速習 Python 3 中: オブジェクト指向編 Kindle版](https://www.amazon.co.jp/%E9%80%9F%E7%BF%92-Python-3-%E4%B8%AD-%E3%82%AA%E3%83%96%E3%82%B8%E3%82%A7%E3%82%AF%E3%83%88%E6%8C%87%E5%90%91%E7%B7%A8-ebook/dp/B01N04UBYI), 2016\n",
    "*  ひらまつしょうたろう, [Python でわかる オブジェクト指向 とはなにか？【Python オブジェクト指向 の「なぜ？」を「徹底的に」解説】](https://www.udemy.com/course/oop-python/?couponCode=KEEPLEARNING), Udemy, 最終更新日 2023/7\n",
    "*  ひらまつしょうたろう, [Python で身につける オブジェクト指向【SOLID原則+デザインパターンで、オブジェクト指向設計 の基礎を習得！】](https://www.udemy.com/course/python-solid-design-pattern/?couponCode=KEEPLEARNING), Udemy, 最終更新日 2024/6.\n",
    "*  Bill Lubanovic (著), 鈴木駿 (監訳), 長尾高弘 (訳), [入門 Python 3 第2版](https://www.oreilly.co.jp/books/9784873119328/), オライリージャパン, 2021\n",
    "*  Guido van Rossum (著), 鴨澤眞夫 (翻訳), [Pythonチュートリアル 第4版](https://www.oreilly.co.jp/books/9784873119359/), オライリージャパン, 2021\n",
    "*  河合昭男, [ゼロからわかる UML超入門](https://gihyo.jp/book/2017/978-4-7741-9005-1), 技術評論社, 2010.\n",
    "*  竹政昭利, 林田幸司, 大西洋平, 三村次朗, 藤本陽啓, 伊藤宏幸, [かんたんUML入門 ［改訂2版］ Kindle版](https://gihyo.jp/book/2017/978-4-7741-9039-6), 技術評論社, 2017\n",
    "\n"
   ]
  },
  {
   "cell_type": "markdown",
   "metadata": {},
   "source": [
    "# 付録\n",
    "* 付録では，今回の内容に関する補足事項を説明する\n",
    "* 付録の内容の理解は必須ではない"
   ]
  },
  {
   "cell_type": "markdown",
   "metadata": {},
   "source": [
    "## `if`文の条件式\n",
    "*  `if`文では，条件式を使って条件分岐を行っていた\n",
    "*  条件式は「結果がboolのオブジェクトとなるものを使う」と説明したが，どのようなものが該当するのか？\n",
    ">*  条件式として使えるのは，特殊メソッド「`__bool__()`」が定義されているオブジェクト\n",
    ">*  `__bool__()`のメソッドは，戻り値としてboolクラスのオブジェクト（`True`または`False`）を返す  \n",
    ">*  `__bool__()`メソッドが定義されていないでも，特殊メソッド「`__len__()`」が定義されていれば，条件式として使える\n",
    ">*  組み込み関数の`len`関数は内部で`__len__()`メソッドを実行している  \n",
    ">*  `__len__()`メソッドの戻り値のクラスが`int`で，`int`クラスには`__bool__`メソッドが定義されている\n",
    ">*  これを利用して，`__len__()`メソッドの戻り値に対して`__bool__`メソッドを適用した結果が条件式の結果となる\n",
    ">*  `__len__()`メソッドも定義されていなければ`True`を返す\n"
   ]
  },
  {
   "cell_type": "markdown",
   "metadata": {},
   "source": [
    "### `int`クラスを条件式とした場合\n",
    "*  0のときの`__bool__()`メソッド: `True`\n",
    "*  0以外のときの`__bool__()`メソッド: `False`"
   ]
  },
  {
   "cell_type": "code",
   "execution_count": null,
   "metadata": {},
   "outputs": [],
   "source": [
    "x = 0\n",
    "print(x.__bool__())\n",
    "x = x + 1\n",
    "print(x.__bool__())"
   ]
  },
  {
   "cell_type": "markdown",
   "metadata": {},
   "source": [
    "### `str`クラスを条件式とした場合\n",
    "*  `str`クラスには，`__bool__()`メソッドがない\n",
    "*  そのため，`__len__()`メソッドの戻り値（`int`）に`__bool__()`メソッドを適用した結果を条件式に用いる\n",
    "*  空の文字列ではないとき: `True`\n",
    "*  空の文字列「`''`」のとき: `False`"
   ]
  },
  {
   "cell_type": "code",
   "execution_count": null,
   "metadata": {},
   "outputs": [],
   "source": [
    "x = ''\n",
    "print(x.__len__().__bool__())\n",
    "x = x + 'Hello'\n",
    "print(x.__len__().__bool__())"
   ]
  },
  {
   "cell_type": "markdown",
   "metadata": {},
   "source": [
    "### `list`クラスを条件式とした場合\n",
    "*  `list`クラスには，`__bool__()`メソッドがない\n",
    "*  そのため，`str`クラスと同様に，`__len__()`メソッドの戻り値（`int`）に`__bool__()`メソッドを適用した結果を条件式に用いる\n",
    "*  空のリストではないとき: `True`\n",
    "*  空のリスト「`[]`」のとき: `False`"
   ]
  },
  {
   "cell_type": "code",
   "execution_count": null,
   "metadata": {},
   "outputs": [],
   "source": [
    "my_list = []\n",
    "print(my_list.__len__().__bool__())\n",
    "my_list.append(10)\n",
    "print(my_list.__len__().__bool__())"
   ]
  },
  {
   "cell_type": "markdown",
   "metadata": {},
   "source": [
    "## イテラブルとイテレータ\n",
    "*  `for`文の繰り返し処理に使えるイテラブルは，`__iter__`メソッドを持っている\n",
    ">*  例えば，`dir(list)`を実行すると，イテラブルであるリストが`__iter__`メソッドを持つことを確認できる\n",
    "*  一方，イテレータ（Iterator）は，イテラブルオブジェクトの要素を1つずつ返すしくみを持つオブジェクト\n",
    ">*  イテレータは`__next__`メソッドを持っている\n",
    ">*  また，イテレータはイテラブルと同様に`__iter__`メソッドを持っている\n",
    ">*  したがって，イテレータはイテラブルでもある\n",
    "*  イテレータを用いることで，`for`文の繰り返し処理にイテラブルが利用可能になる\n"
   ]
  },
  {
   "cell_type": "markdown",
   "metadata": {},
   "source": [
    "### `__iter__`メソッドと`iter`関数"
   ]
  },
  {
   "cell_type": "markdown",
   "metadata": {},
   "source": [
    "#### `__iter__`メソッド\n",
    "*  `__iter__`メソッドは，イテラブルからイテレータを作る\n",
    "*  つまり，イテラブルオブジェクトをイテレータオブジェクトに変換している\n",
    "*  イテレータに`__iter__`メソッドを適用すると，イテレータ自身を返す"
   ]
  },
  {
   "cell_type": "markdown",
   "metadata": {},
   "source": [
    "#### `iter`関数\n",
    "*  `iter`関数は，Pythonの組み込み関数で，イテラブルオブジェクトからイテレータを生成するための関数\n",
    "*  引数に渡されたオブジェクトの`__iter__`メソッドを呼び出し，その結果（イテレータ）を返す\n",
    "*  オブジェクトが`__iter__`メソッドを持っていない場合は，特別な処理を施す（詳細省略）"
   ]
  },
  {
   "cell_type": "markdown",
   "metadata": {},
   "source": [
    "### `__next__`メソッドと`next`関数"
   ]
  },
  {
   "cell_type": "markdown",
   "metadata": {},
   "source": [
    "#### `__next__`メソッド\n",
    "*  `__next__`メソッドは，イテレータオブジェクトの次の要素を取得する\n",
    "*  取得する要素がなくなると，「StopIteration」という例外（エラー）を発生させる（例外については次回以降説明）\n"
   ]
  },
  {
   "cell_type": "markdown",
   "metadata": {},
   "source": [
    "#### `next`関数\n",
    "*  `next`関数は，Pythonの組み込み関数で，引数として渡されたオブジェクトの`__next__`メソッドを呼び出して，次の要素を取得する\n",
    "*  渡されたオブジェクトの`__next__`メソッドが呼び出せるかどうかをチェックし，呼び出せる場合に実際に呼び出す\n",
    "*  あるオブジェクトに対して，`next`関数が適用可能であることと，`next`メソッドを持つことは同じ意味と考えてよい\n",
    "*  `__next__`メソッドで取得する要素がなくなると「StopIteration」が発生する"
   ]
  },
  {
   "cell_type": "code",
   "execution_count": null,
   "metadata": {},
   "outputs": [],
   "source": [
    "it = iter([0,1,2]) # イテラブルからイテレータを作る\n",
    "print(next(it))\n",
    "print(next(it))\n",
    "print(next(it))\n",
    "# print(next(it)) # 例外 StopIteration の発生"
   ]
  },
  {
   "cell_type": "markdown",
   "metadata": {},
   "source": [
    "### `for`文の内部動作\n",
    "*  `for`文は，内部的にイテラブルからイテレータを生成して繰り返し処理を行ってる\n",
    "*  各繰り返しにおいて，生成したイテレータから`__next__`メソッドで要素を取得する\n",
    "*  繰り返しは，StopIterationが発生した時点で終了する\n",
    "*  つまり，イテラブルの要素を使い切ると繰り返しが終了する"
   ]
  },
  {
   "cell_type": "markdown",
   "metadata": {},
   "source": [
    "#### コード例 その1\n",
    "*  以下のコード例では，同じリストを用いて`for`文の処理を2回行っている\n",
    "*  この場合，それぞれの`for`文で同じイテラブル（リスト）からイテレータをそれぞれ生成しているので，2つの`for`文は同じ結果を出力する"
   ]
  },
  {
   "cell_type": "code",
   "execution_count": null,
   "metadata": {},
   "outputs": [],
   "source": [
    "fruits: list[str] = ['apple', 'banana', 'cherry']\n",
    "\n",
    "for elem in fruits: # fruitsからイテレータを生成\n",
    "    print(elem)\n",
    "\n",
    "for elem in fruits: # 再度 fruitsからイテレータを生成\n",
    "    print(elem)"
   ]
  },
  {
   "cell_type": "markdown",
   "metadata": {},
   "source": [
    "#### コード例 その2\n",
    "* 一方，以下のコード例では，まずリストからイテレータを生成し，変数`it`に代入している\n",
    "* 次に，イテレータである`it`を各`for`文で用いている\n",
    "* イテレータは使いきりなので，同じイテレータを`for`文で複数回使っても，2回目以降の`for`文は実行されない（0回の繰り返し処理となる）\n",
    "* つまり，2回目の`for`文で用いる`it`は要素がないので，最初の繰り返しで StopIterationを発生することになる"
   ]
  },
  {
   "cell_type": "code",
   "execution_count": null,
   "metadata": {},
   "outputs": [],
   "source": [
    "from typing import Iterator # 型ヒントにIteratorを指定する場合に読み込む必要がある\n",
    "fruits: list[str] = ['apple', 'banana', 'cherry']\n",
    "it: Iterator = iter(fruits)  # リストからイテレータを作成\n",
    "\n",
    "for elem in it: \n",
    "    print(elem)\n",
    "# イテレータは使いきりなので，以下の処理は実行されない\n",
    "for elem in it:\n",
    "    print(elem)"
   ]
  },
  {
   "cell_type": "markdown",
   "metadata": {},
   "source": [
    "### 独自のイテレータの定義\n",
    "*  Pythonでは，自作のイテレータを作成することもできる\n",
    "*  `__iter__`メソッドと`__next__`メソッドを定義することで，任意のクラスをイテレータにすることができる\n",
    "*  イテレータ自身もイテラブルなので，イテレータを`iter`関数に渡すと自分自身を返す"
   ]
  },
  {
   "cell_type": "code",
   "execution_count": null,
   "metadata": {},
   "outputs": [],
   "source": [
    "class Counter:\n",
    "    def __init__(self, limit: int) -> None:\n",
    "        self.current: int = 0\n",
    "        self.limit = limit\n",
    "    \n",
    "    def __iter__(self) -> 'Counter':\n",
    "        return self\n",
    "    \n",
    "    def __next__(self) -> int:\n",
    "        if self.current < self.limit:\n",
    "            self.current += 1\n",
    "            return self.current\n",
    "        else:\n",
    "            raise StopIteration\n",
    "\n",
    "# イテレータとして使用\n",
    "counter: Counter = Counter(3)\n",
    "for num in counter:\n",
    "    print(num)\n",
    "\n",
    "# イテレータは使いきりなので，以下の処理は実行されない\n",
    "for num in counter:\n",
    "    print(num)"
   ]
  },
  {
   "cell_type": "markdown",
   "metadata": {},
   "source": [
    "#### 型ヒント `'Counter'` の補足\n",
    "*  クラスの定義が完了する前にそのクラス名を型ヒントとして使用すると，NameErrorが発生する（場合によっては警告だけのこともある）\n",
    "*  この問題を解決するためには，型ヒントとしてクラス名を文字列で指定する\n",
    "*  あるいは，`from __future__ import annotations` を使って後方参照を有効にする"
   ]
  },
  {
   "cell_type": "markdown",
   "metadata": {},
   "source": [
    "## 一般的な`with`文の処理の流れ\n",
    "*  `with`文はファイル操作のためだけに利用されるわけではなく，一般のオブジェクト（独自のオブジェクトも含む）に対して利用できる\n",
    "\n",
    "**書式:**  \n",
    "  \n",
    "---\n",
    "```Python\n",
    "with オブジェクト as 変数\n",
    "    処理\n",
    "```\n",
    "---\n",
    "\n",
    "*  処理開始前: `with`の後ろに記述したオブジェクトに対応するクラスの`__init__`メソッド（コンストラクタ）と`__enter__`がそれぞれ呼び出される\n",
    "*  処理終了後: `__exit__`メソッドが呼び出される\n",
    "*  `__enter__`メソッドと`__exit__`メソッドは，`with`文の中で使用される特殊メソッド\n",
    ">*  これにより，リソースの確保と解放を安全に行うことができる\n",
    ">*  例えば，ファイルのオープンとクローズ，データベース接続の開始と終了など\n",
    ">*  ファイル操作において，リソースの確保がオープン，解法がクローズに対応する\n",
    "*  `__enter__`メソッド:\n",
    "*  `with`文が始まるときに呼び出され，リソースの初期化などを行う\n",
    "*  戻り値は，`with`文の中で変数に代入されるオブジェクトになる（省略も可能）\n",
    "*  `__exit__`メソッド:\n",
    ">*  `with`文が終了するときに呼び出される\n",
    ">*  例外（エラー）が発生しても，このメソッドは呼び出されるため，リソースの解放を確実に行うことができる\n",
    ">*  3つの引数を取る（詳細は省略）：例外の型，例外の値，例外トレースバック（例外が発生しなかった場合はすべてNone）\n"
   ]
  },
  {
   "cell_type": "code",
   "execution_count": null,
   "metadata": {},
   "outputs": [],
   "source": [
    "from typing import TextIO\n",
    "\n",
    "class MyWith:\n",
    "    def __init__(self, msg: str) -> None:\n",
    "        print('コンストラクタ__init__の処理')\n",
    "        self.msg = msg\n",
    "\n",
    "    def __enter__(self) -> None:\n",
    "        print('__enter__の処理')\n",
    "        print(self.msg)\n",
    "\n",
    "    def __exit__(self, exc_type, exc_val, traceback) -> None:\n",
    "        print('__exit__の処理')\n",
    "\n",
    "with MyWith('Hello') as t:\n",
    "    x: TextIO # 型ヒント\n",
    "    print('withの中の処理')"
   ]
  }
 ],
 "metadata": {
  "colab": {
   "authorship_tag": "ABX9TyNlEN6COxiCGqLXcrGZ08ji",
   "provenance": []
  },
  "kernelspec": {
   "display_name": "Python 3",
   "language": "python",
   "name": "python3"
  },
  "language_info": {
   "codemirror_mode": {
    "name": "ipython",
    "version": 3
   },
   "file_extension": ".py",
   "mimetype": "text/x-python",
   "name": "python",
   "nbconvert_exporter": "python",
   "pygments_lexer": "ipython3",
   "version": "3.12.5"
  }
 },
 "nbformat": 4,
 "nbformat_minor": 0
}
