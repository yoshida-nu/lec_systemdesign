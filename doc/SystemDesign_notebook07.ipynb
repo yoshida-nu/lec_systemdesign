{
 "cells": [
  {
   "cell_type": "markdown",
   "metadata": {},
   "source": [
    "# Pythonにおけるエラー\n",
    "*  エラーは大きく分けて以下の2つに分類される．\n",
    ">*  構文エラー（Syntax Errors）\n",
    ">*  例外（Exceptions） \n",
    "*  教科書では「例外」ことを「実行時エラー」と呼んでいる．\n",
    "*  エラーが発生すると，そのエラーに関する情報が表示される\n",
    "*  2つのエラーで表示される内容は異なるが，主に表示されるものは以下の3つ\n",
    ">*  エラーが発生した場所\n",
    ">*  発生したエラーの名前\n",
    ">*  エラーメッセージ\n",
    "*  以下でエラーとなるコード例を紹介するが，型ヒントは省略している"
   ]
  },
  {
   "cell_type": "markdown",
   "metadata": {},
   "source": [
    "## 構文エラー（Syntax Error）\n",
    "*  よく目にするエラーの一つで「文法エラー」とも呼ばれているエラー\n",
    "*  Pythonの文法に違反するコードを実行しようとしたときに発生する\n",
    "*  Pythonインタプリタがコードを理解できず，プログラムが実行される前に検出されるエラー"
   ]
  },
  {
   "cell_type": "markdown",
   "metadata": {},
   "source": [
    "### SyntaxError: unterminated string literal\n",
    "*  文字列リテラル（strオブジェクト）が正しく終了していない（unterminated）場合に発生する構文エラー\n",
    "*  つまり，文字列がクオート（シングルクオート `'` やダブルクォート `\"`）で開かれた後，それに対応する閉じるクオートが不足しているときに発生\n",
    "*  エラーを修正するためには，開くクオートと閉じるクオートを正しく対応させる必要がある"
   ]
  },
  {
   "cell_type": "code",
   "execution_count": null,
   "metadata": {},
   "outputs": [],
   "source": [
    "print('Hello, World)  # 閉じるシングルクオートが不足している"
   ]
  },
  {
   "cell_type": "code",
   "execution_count": null,
   "metadata": {},
   "outputs": [],
   "source": [
    "print('Hello, World\")  # シングルクオートで始まり，ダブルクオートで終わっている"
   ]
  },
  {
   "cell_type": "markdown",
   "metadata": {},
   "source": [
    "### SyntaxError: incomplete input\n",
    "*  コードの構文が不完全 （incomplete） である場合に発生するエラー\n",
    "*  Pythonがコードの一部を正しく理解できない場合に表示される\n",
    "*  下のコードのように，括弧が閉じられていない場合には，Pythonがコードの終了を検出できなくなるので，このエラーが発生する  \n",
    "*  このエラーメッセージが表示された場合，コードのどの部分が不完全であるかを調べ，適切に修正する\n",
    "*  通常，エラーメッセージの行番号や周辺のコードが不完全な入力を示す手がかりとなる"
   ]
  },
  {
   "cell_type": "code",
   "execution_count": null,
   "metadata": {},
   "outputs": [],
   "source": [
    "my_list = [1, 2, 3"
   ]
  },
  {
   "cell_type": "code",
   "execution_count": null,
   "metadata": {},
   "outputs": [],
   "source": [
    "x = 10\n",
    "if x < 10:"
   ]
  },
  {
   "cell_type": "markdown",
   "metadata": {},
   "source": [
    "### SyntaxError: expected ':'\n",
    "*  コードの特定の場所でコロン「`:`」が期待されている（expected）が，それが存在しない場合に発生\n",
    "*  同様のエラーメッセージに，カンマ「`,`」が抜けているときに発生する\"SyntaxError: invalid syntax. Perhaps you forgot a comma?\"がある"
   ]
  },
  {
   "cell_type": "code",
   "execution_count": null,
   "metadata": {},
   "outputs": [],
   "source": [
    "x = 10\n",
    "if x < 10\n",
    "    print('1 digit')"
   ]
  },
  {
   "cell_type": "markdown",
   "metadata": {},
   "source": [
    "### SyntaxError: invalid character\n",
    "*  Pythonが特定の文字（character）を認識できない場合に発生する\n",
    "*  下のコードの場合は，全角の「＝」が認識できない無効な文字となる\n",
    "*  また，全角スペースがコード内にあると\"SyntaxError: invalid non-printable character U+3000\"というエラーメッセージが表示される"
   ]
  },
  {
   "cell_type": "markdown",
   "metadata": {},
   "source": [
    "## 例外（Exceptions）\n",
    "*  プログラム実行中に発生するエラー\n",
    "*  コードが正しい構文で書かれていても，実行時にエラーが発生することがる\n",
    "*  例えば，ファイルの存在確認をせずに読み込もうとしたり，0で割り算を行おうとするなどが例外の典型\n",
    "*  Pythonでは，例外は特定のタイプのエラーとして扱われ，発生するときにどの種類の例外が起こったかを特定することができる\n",
    "*  例外はプログラム実行中に検知して処理することもできる\n",
    "*  Pythonにおける例外は，すべて「クラス」として定義されている\n",
    "*  例外クラスには，NameError, TypeError, ValueErrorなど様々なクラスが定義されている\n",
    "*  具体的に生じた例外は，ある例外クラスのオブジェクトとなる"
   ]
  },
  {
   "cell_type": "code",
   "execution_count": null,
   "metadata": {},
   "outputs": [],
   "source": [
    "x ＝ 10 # ＝が全角"
   ]
  },
  {
   "cell_type": "code",
   "execution_count": null,
   "metadata": {},
   "outputs": [],
   "source": [
    "x =　10 # 全角スペースがある"
   ]
  },
  {
   "cell_type": "markdown",
   "metadata": {},
   "source": [
    "### NameError\n",
    "\n",
    "\n",
    "*   組み込み関数の名前などの打ち間違いによって引き起こされるエラー\n",
    "*   大文字と小文字を間違えているときもこのエラーになる\n",
    "---\n",
    "コードの例:    \n",
    "```Python\n",
    "pint('Hello!')\n",
    "```\n",
    "  \n",
    "エラー表示:   \n",
    "```Python\n",
    "NameError                                 Traceback (most recent call last)\n",
    "<ipython-input-3-1aaec4ef864a> in <cell line: 1>()\n",
    "----> 1 pint('Hello!')\n",
    "\n",
    "NameError: name 'pint' is not defined\n",
    "```\n",
    "---\n",
    "\n",
    "\n",
    "*  エラー表示の3行目 `----> 1 pint('Hello!')` には，エラーが発生した場所が示されている\n",
    "*  1行目と2行目もエラーの場所に関する情報（特に気にしなくてよい）\n",
    "*  `name 'pint' is not defined` の部分は，「`'pint'`という名前は定義されていません．」という意味"
   ]
  },
  {
   "cell_type": "code",
   "execution_count": null,
   "metadata": {},
   "outputs": [],
   "source": [
    "pint('Hello!')"
   ]
  },
  {
   "cell_type": "markdown",
   "metadata": {},
   "source": [
    "### TypeError\n",
    "*  タイプエラーは，データ型に問題があるときに表示されるエラー\n",
    "*  関数，メソッド，演算が無効なデータ型（クラス）に対して使用された場合に発生\n",
    "\n",
    "---\n",
    "\n",
    "コードの例:  \n",
    "```Python\n",
    "print(10 + '円です。')\n",
    "```\n",
    "\n",
    "エラー表示:  \n",
    "```Python\n",
    "TypeError                                 Traceback (most recent call last)\n",
    "<ipython-input-4-6462738270db> in <cell line: 1>()\n",
    "----> 1 print(10 + '円です。')\n",
    "\n",
    "TypeError: unsupported operand type(s) for +: 'int' and 'str'\n",
    "```\n",
    "---\n",
    "  \n",
    "*    `unsupported operand type(s) for +: 'int' and 'str'`の部分は，「`+`演算子は整数型（int）と文字列型（str）の演算をサポートしていません．」といったような意味になる\n",
    "*    `print`関数のカッコ内で数値と文字列を「`+`」で連結しようとしているが，「`+`」は整数型（int）と文字列型（str）のデータを連結できないためエラーになっている  \n",
    "\n",
    "\n",
    "\n"
   ]
  },
  {
   "cell_type": "code",
   "execution_count": null,
   "metadata": {},
   "outputs": [],
   "source": [
    "print(10 + '円です。')"
   ]
  },
  {
   "cell_type": "markdown",
   "metadata": {},
   "source": [
    "### ValueError\n",
    "*  対応できないデータ型が関数やメソッドに渡されたときなどに発生する\n",
    "*  例えば，数字（0～9）以外を含む文字列を`int`関数の引数にすると，ValueErrorが発生する．\n",
    "  \n",
    "\n",
    "---\n",
    "コードの例:  \n",
    "```Python\n",
    "n = int(input('整数値を入力してください：'))\n",
    "print(n)\n",
    "```\n",
    "  \n",
    "エラー:  \n",
    "```Python\n",
    "整数値を入力してください：abc\n",
    "---------------------------------------------------------------------------\n",
    "ValueError                                Traceback (most recent call last)\n",
    "<ipython-input-8-c8e3506c5607> in <cell line: 1>()\n",
    "----> 1 n = int(input('整数値を入力してください：'))\n",
    "      2 print(n)\n",
    "\n",
    "ValueError: invalid literal for int() with base 10: 'abc'\n",
    "```\n",
    "---\n",
    "  \n",
    "  \n",
    "*  実行後に「abc」と入力すると例外が発生する\n",
    "*  `base 10`は10進法を意味している\n",
    "*  `int`関数は，10進法の整数（`base 10`）で記述された値を引数として受け取ることができる\n",
    "*  つまり，「`invalid literal for int() with base 10: 'abc'`」は「10進法の整数（`base 10`）で記述された値（リテラル）を引数とする`int`関数に対して，10進法の整数（`base 10`）として解釈できない不正な値（リテラル）である文字列 `'abc'`を整数に変換しようとしているよ」といった意味になる"
   ]
  },
  {
   "cell_type": "code",
   "execution_count": null,
   "metadata": {},
   "outputs": [],
   "source": [
    "n = int(input('整数値を入力してください：'))\n",
    "print(n)"
   ]
  },
  {
   "cell_type": "markdown",
   "metadata": {},
   "source": [
    "### IndexError\n",
    "*  リスト，タプル，文字列などに対して範囲外のインデックスを指定したときに発生する\n",
    "*  例えば，要素が3つのリストに対してインデックス「3」を指定すると，IndexErrorが発生する．  \n",
    "   \n",
    "--- \n",
    "コードの例:  \n",
    "```Python\n",
    "my_list = [2, 3, 5, 7] \n",
    "print(my_list[4])\n",
    "```\n",
    "\n",
    "エラー:  \n",
    "```Python\n",
    "IndexError                                Traceback (most recent call last)\n",
    "<ipython-input-8-207d238f976c> in <cell line: 2>()\n",
    "      1 my_list = [2, 3, 5, 7]\n",
    "----> 2 print(my_list[4])\n",
    "\n",
    "IndexError: list index out of range\n",
    "```\n",
    "\n",
    "---  \n",
    "\n",
    "* 「`list index out of range`」は「リストのインデックスが範囲外」といった意味になる "
   ]
  },
  {
   "cell_type": "code",
   "execution_count": null,
   "metadata": {},
   "outputs": [],
   "source": [
    "my_list = [2, 3, 5, 7] \n",
    "print(my_list[4])"
   ]
  },
  {
   "cell_type": "markdown",
   "metadata": {},
   "source": [
    "### ZeroDivisionError\n",
    "* 数値を0で割ろうとしたときに発生する\n",
    "---\n",
    "コードの例:  \n",
    "```Python\n",
    "x = 0\n",
    "10 / x\n",
    "```\n",
    "\n",
    "エラー:  \n",
    "```Python\n",
    "ZeroDivisionError                         Traceback (most recent call last)\n",
    "<ipython-input-14-84bb7c42511b> in <cell line: 2>()\n",
    "      1 x = 0\n",
    "----> 2 10 / x\n",
    "\n",
    "ZeroDivisionError: division by zero\n",
    "```\n",
    "---"
   ]
  },
  {
   "cell_type": "code",
   "execution_count": null,
   "metadata": {},
   "outputs": [],
   "source": [
    "x = 0\n",
    "10 / x"
   ]
  },
  {
   "cell_type": "markdown",
   "metadata": {},
   "source": [
    "# 例外処理"
   ]
  },
  {
   "cell_type": "markdown",
   "metadata": {},
   "source": [
    "## 例外処理とは\n",
    "*  Pythonは，コード実行中に次に何をすべきかの判断ができないと「例外オブジェクト」を生成する\n",
    "*  前述した例外（「NameError」「TypeError」「ValueError」など）が例外オブジェクトのクラス（以降は「例外クラス」と呼ぶ）に対応している\n",
    "*  例外オブジェクトが生成されることで，「例外」が発生する\n",
    "*  この例外オブジェクトを適切に処理することで，例外が発生してもプログラムが中断されないようにできる\n",
    "*  この処理のことを例外処理と呼ぶ\n",
    "*  例外処理は，例外が発生する可能性があるコードを予測して，その例外に対して適切な対応を取るために使われる"
   ]
  },
  {
   "cell_type": "markdown",
   "metadata": {},
   "source": [
    "## 例外処理の必要性\n",
    "*  例えば，アプリを実装するコードにおいて，例外の発生をそのままにしておくと，以下のようなリスクがある\n",
    ">*  アプリがクラッシュする\n",
    ">*  ユーザが操作不能になる\n",
    ">*  データに予期しない変更が加えられる\n",
    "*  こういったことが起きると，アプリ（を販売してる企業）の信頼が低下してしまうので，例外の発生は望ましくない\n",
    "*  そのため，予想される例外に対して，あらかじめ対処しておく必要がある ⇒ 例外処理"
   ]
  },
  {
   "cell_type": "markdown",
   "metadata": {},
   "source": [
    "## 例外処理の基本構文\n",
    "*  Pythonでは，`try`ブロック, `except`ブロック, `else`ブロック, `finally`ブロック を使って例外処理のコードを記述する\n",
    "*  各ブロックは，`if`文や`for`文などと同様に，インデントで設定する\n",
    "*  ブロックの直前には，ブロックの始まりを宣言するヘッダを記述する（これも`if`文や`for`文などと同様）\n",
    "*  まずは，`try`ブロックと`except`ブロックを使った，基本的な例外処理について説明する\n",
    "\n",
    "---\n",
    "```Python\n",
    "try:\n",
    "    # 例外が発生する可能性のある処理\n",
    "except 捕捉する例外の種類（例外クラス）:\n",
    "    # tryブロック内で例外が発生したときの処理\n",
    "```\n",
    "---"
   ]
  },
  {
   "cell_type": "markdown",
   "metadata": {},
   "source": [
    "### `try`ブロック\n",
    "*  ヘッダには，`try:`と記述\n",
    "*  `try`ブロックには，例外が発生する可能性がある処理を記述する\n",
    "*  `try`ブロック内で例外が発生すると，その処理は中断され，対応する`except`ブロックが実行される"
   ]
  },
  {
   "cell_type": "markdown",
   "metadata": {},
   "source": [
    "### `except`ブロック\n",
    "*  ヘッダには，`except 例外の種類（例外オブジェクトのクラス）:`と記述\n",
    "*  発生する例外クラスを指定することで，その特定の例外に対してのみ処理を行うことができる\n",
    "*  何も指定しない場合は，すべての例外に対して同じ処理を行うことになるが推奨しない\n",
    ">*  基本的には，具体的な例外クラスを指定する\n",
    ">*  何も指定しないと，自分が予期していない例外が発生しても，それに気づくことができない\n",
    ">*  これは望ましいことではない\n",
    "*  `except`ブロックには，`try`ブロックにおいて，ヘッダで指定した例外が発生した場合に実行される処理を記述する\n",
    "*  `except`ブロックは，複数記述することも可能"
   ]
  },
  {
   "cell_type": "markdown",
   "metadata": {},
   "source": [
    "## 基本的な例外処理の具体例"
   ]
  },
  {
   "cell_type": "markdown",
   "metadata": {},
   "source": [
    "### ValueErrorの捕捉\n",
    "*  以下のコードは，ユーザからの入力を整数に変換・表示する処理を行っている\n",
    "*  例外処理を使って，入力が整数以外の無効な値だった場合にエラーメッセージ「整数値ではありません。終了します。」を表示して処理を終了する仕組みになっている\n",
    "*  また，`as 変数`を使うことで，エラーメッセージを表示することもできる\n",
    "*  `as e` の部分で，発生した例外オブジェクトを変数`e`に代入している\n",
    "*  これにより，エラーメッセージが`e`を通じて表示できる"
   ]
  },
  {
   "cell_type": "code",
   "execution_count": null,
   "metadata": {},
   "outputs": [],
   "source": [
    "try:\n",
    "    n = int(input('整数値を入力してください：'))\n",
    "    print(n)\n",
    "except ValueError as e: # ValueErrorを捕捉\n",
    "    print(f'整数値ではありません。終了します。: {e}')"
   ]
  },
  {
   "cell_type": "markdown",
   "metadata": {},
   "source": [
    "### 無限ループとの組み合わせ\n",
    "* 以下のような無限ループの`while`文を組み合わせた例外処理がよく使われる\n",
    "* この例では，整数値が入力されるまで，何度も入力を受け付けることができる．"
   ]
  },
  {
   "cell_type": "code",
   "execution_count": null,
   "metadata": {},
   "outputs": [],
   "source": [
    "while True:\n",
    "    try:\n",
    "        n = int(input('整数値を入力してください：'))\n",
    "        print(n)\n",
    "        break\n",
    "    except ValueError:\n",
    "        print('整数値ではありません。入力し直してください。')"
   ]
  },
  {
   "cell_type": "markdown",
   "metadata": {},
   "source": [
    "### ZeroDivisionErrorの捕捉\n",
    "*  以下のコードは，0で割り算を行った際に発生する ZeroDivisionError を捕捉して，適切なエラーメッセージを表示する\n",
    "*  `try`ブロック内で ZeroDivisionError が発生した場合，この例外を捕捉するための`except`ブロックが実行される"
   ]
  },
  {
   "cell_type": "code",
   "execution_count": null,
   "metadata": {},
   "outputs": [],
   "source": [
    "try:\n",
    "    x = 0\n",
    "    result = 10 / x\n",
    "except ZeroDivisionError as e:\n",
    "    print(f'ゼロでの除算はできません: {e}')"
   ]
  },
  {
   "cell_type": "markdown",
   "metadata": {},
   "source": [
    "### FileNotFoundErrorの捕捉\n",
    "*  以下のコードは，存在しないファイルを読み込もうとした際に発生する FileNotFoundError を捕捉して，適切なエラーメッセージを表示する\n",
    "*  `try`ブロックの`with`ブロックで non_existent_file.txt というファイルを読み込もうとしているが，ファイルが存在しないため FileNotFoundError が発生する"
   ]
  },
  {
   "cell_type": "code",
   "execution_count": null,
   "metadata": {},
   "outputs": [],
   "source": [
    "try:\n",
    "    with open('non_existent_file.txt', 'r') as f:\n",
    "        content = f.read()\n",
    "except FileNotFoundError as e:\n",
    "    print(f'ファイルが見つかりませんでした: {e}')"
   ]
  },
  {
   "cell_type": "markdown",
   "metadata": {},
   "source": [
    "## 高度な例外処理の構文\n",
    "*  `try`ブロックと`except`ブロックに加えて，`else`ブロックや`finally`ブロックを使うことで，より高度な例外処理を実現できる\n",
    "*  各ブロックとヘッダーの書式は以下のとおり\n",
    "---\n",
    "```Python\n",
    "try:\n",
    "    # 例外が発生する可能性のある処理\n",
    "except 捕捉する例外の種類（例外クラス）:\n",
    "    # tryブロック内で例外が発生したときの処理\n",
    "else:\n",
    "    # 例外が発生しなかったときの処理\n",
    "finally:\n",
    "    # 例外が発生したかどうかに関係なく実行される処理（必ず実行される）\n",
    "```\n",
    "---"
   ]
  },
  {
   "cell_type": "markdown",
   "metadata": {},
   "source": [
    "## 高度な例外処理の具体例"
   ]
  },
  {
   "cell_type": "code",
   "execution_count": null,
   "metadata": {},
   "outputs": [],
   "source": [
    "c = 0\n",
    "while True:\n",
    "    try:\n",
    "        n = int(input('整数値を入力してください：'))\n",
    "    except ValueError:\n",
    "        print('整数値ではありません。入力し直してください。')\n",
    "    else:\n",
    "        print(f'入力された数値は{n}です。') # 例外が発生しなかった時の処理\n",
    "        break # finallyの処理をしてからbreakする\n",
    "    finally:\n",
    "        c += 1 # 必ず実行される\n",
    "\n",
    "print(f'{c}回目の入力で成功しました。')"
   ]
  },
  {
   "cell_type": "markdown",
   "metadata": {},
   "source": [
    "## `raise`文で例外を発生させる\n",
    "*  `raise`文を使うと，特定の例外を意図的に発生できる\n",
    "*  `raise`文を適切に利用することで，例外の管理と処理を効果的に行うことができる\n",
    "> **書式:** `raise 例外クラス名('メッセージ')`\n",
    "*  ここで，料金と人数を引数として，1人あたりの料金を計算する`calc_fee`関数を定義する\n",
    "*  `calc_fee`関数への引数に応じて，`raise`文で例外を発生させている\n",
    "*  コード内で使用している文字列（strクラス）に対する`isdecimal`メソッドは，すべての文字が0～9であれば`True`を返すメソッドである\n"
   ]
  },
  {
   "cell_type": "code",
   "execution_count": null,
   "metadata": {},
   "outputs": [],
   "source": [
    "def calc_fee(price: str, number: str) -> float:\n",
    "    if price.isdecimal() and number.isdecimal():\n",
    "        if number == '0':\n",
    "            raise ZeroDivisionError('人数に0は入力しないでください。')\n",
    "    else:\n",
    "        raise ValueError('料金または人数は整数を入力してください。')\n",
    "    return int(price) / int(number)\n",
    "\n",
    "try:\n",
    "    price = input('料金を入力 >> ')\n",
    "    number = input('人数を入力 >> ')\n",
    "    fee = calc_fee(price, number)\n",
    "except ValueError as e:\n",
    "    print(f'エラー発生： {e}')\n",
    "except ZeroDivisionError as e:\n",
    "    print(f'エラー発生： {e}')\n",
    "else:\n",
    "    print(f'1人あたり{fee}円です。')\n",
    "finally:\n",
    "    print('処理を終了します。')"
   ]
  },
  {
   "cell_type": "markdown",
   "metadata": {},
   "source": [
    "*  `raise`文は，自作クラスに対して，想定していない使われ方をしたときなどにも利用できる\n",
    "*  以下のコードで定義している自作クラス`User`は，インスタンス変数`name`に 1文字以上，20文字以内のユーザ名（`str`）を格納する\n",
    "*  そこで，文字列（`str`）以外の値や空文字列が渡されたときには，`raise`文を使って，TypeErrorを発生させる\n",
    "*  条件式`not name`については，[第6回講義資料](https://colab.research.google.com/github/yoshida-nu/lec_systemdesign/blob/main/doc/SystemDesign_notebook06.ipynb)の「特殊な条件式」を参照\n",
    "*  同様に，コンストラクタに20文字を超えるユーザ名が渡されたときには，`raise`文を使って，ValueErrorを発生させる"
   ]
  },
  {
   "cell_type": "code",
   "execution_count": null,
   "metadata": {},
   "outputs": [],
   "source": [
    "class User:\n",
    "    def __init__(self, name: str) -> None:\n",
    "        if not isinstance(name, str):\n",
    "            raise TypeError('不正な値（文字列以外）です。')\n",
    "        if not name:\n",
    "            raise TypeError('不正な値（空文字列）です。')\n",
    "        if len(name) > 20: # 20文字よりも長いユーザー名ならValueErrorを発生させる\n",
    "            raise ValueError('ユーザ名が20文字を超えています。')\n",
    "        self.name = name\n",
    "\n",
    "# エラーチェック\n",
    "try:\n",
    "    user1: User = User(12345) # 名前が文字列以外\n",
    "except TypeError as e:\n",
    "    print(f'エラー発生： {e}')\n",
    "\n",
    "try:\n",
    "    user2: User = User('') # 名前が空文字列\n",
    "except TypeError as e:\n",
    "    print(f'エラー発生： {e}')\n",
    "\n",
    "try:\n",
    "    user3: User = User('スランヴァイルプールグウィンギルゴゲリッヒルンドロブールスランティシリオゴゴゴッホ') # 名前が20文字より多い\n",
    "except ValueError as e:\n",
    "    print(f'エラー発生： {e}')\n"
   ]
  },
  {
   "cell_type": "markdown",
   "metadata": {},
   "source": [
    "## ガード節\n",
    "*  上のコードの`if`文のように，不正な値が与えられた場合に例外を発生させることで，クラスやメソッドの正しい使用を強制できる\n",
    "*  つまり，システムの利用者が間違った使い方をしても，エラー（例外）を出すことなく適切な対応をとることができる\n",
    "*  不正な値が渡されたら例外を発生させるようなメソッドの先頭の記述（上のコードの`if`文）をガード節と呼ぶ"
   ]
  },
  {
   "cell_type": "code",
   "execution_count": null,
   "metadata": {},
   "outputs": [],
   "source": [
    "class User:\n",
    "    def __init__(self, name: str) -> None:\n",
    "        # ガード節\n",
    "        if len(name) > 20:\n",
    "            raise ValueError('ユーザ名が20文字を超えています。')\n",
    "        self.name = name\n",
    "\n",
    "try:\n",
    "    name = input('ユーザ名を入力 >> ')\n",
    "    user = User(name)\n",
    "except ValueError as e:\n",
    "    print(f'エラー発生： {e}')"
   ]
  },
  {
   "cell_type": "markdown",
   "metadata": {},
   "source": [
    "## 例外クラスの定義\n",
    "*  例外クラスは自作することもできる\n",
    "*  新しく定義する例外クラスは，Exceptionクラスを継承したクラスとする必要がある\n",
    "*  既存の（組み込みの）例外クラスも，すべてExceptionクラスを継承している\n",
    "  \n",
    "---\n",
    "```Python\n",
    "def 例外クラス名(Exception):\n",
    "    ...\n",
    "```\n",
    "---"
   ]
  },
  {
   "cell_type": "code",
   "execution_count": null,
   "metadata": {},
   "outputs": [],
   "source": [
    "class MyError(Exception):\n",
    "    pass\n",
    "\n",
    "def is_positive(n: int) -> None:\n",
    "    if n < 0:\n",
    "        raise MyError('値は負であってはなりません。')\n",
    "\n",
    "try:\n",
    "    number = int(input('正の数を入力 >> '))\n",
    "    is_positive(number)\n",
    "except MyError as e:\n",
    "    print(f'エラー発生： {e}')\n",
    "else:\n",
    "    print('正常に処理できました。')\n",
    "finally:\n",
    "    print('処理を終了します。')"
   ]
  },
  {
   "cell_type": "markdown",
   "metadata": {},
   "source": [
    "## すべての例外を無視するのは望ましくない\n",
    "*  例外処理は安定した動作をするシステムを開発するうえで重要な機能\n",
    "*  ただし，間違った使い方（アンチパターン）をすると問題が生じる\n",
    "*  代表的な間違った使い方として，「すべての例外を無視する」がある\n",
    "*  すべての例外を無視するには，以下のコードのように，すべての例外クラスが継承するExceptionクラスを捕捉すればよい\n",
    "  \n",
    "---\n",
    "```Python\n",
    "while True:\n",
    "    try:\n",
    "        n = int(input('整数値を入力してください：'))\n",
    "        print(n)\n",
    "        break\n",
    "    except Exception:\n",
    "        print('整数値ではありません。入力し直してください。')\n",
    "```\n",
    "---\n",
    "  \n",
    "*  しかし，上のコードだと，どのような例外を捕捉しているのかがわからない\n",
    "*  開発者が想定していない例外が起きている可能性もある\n",
    "*  これは，システムの深刻な問題につながるかもしれない\n",
    "*  したがって，捕捉する例外クラスは，下のコードのように具体的に記述するほうが望ましい（というか具体的に記述すべき）\n",
    "  \n",
    "---\n",
    "```Python\n",
    "while True:\n",
    "    try:\n",
    "        n = int(input('整数値を入力してください：'))\n",
    "        print(n)\n",
    "        break\n",
    "    except ValueError:\n",
    "        print('整数値ではありません。入力し直してください。')\n",
    "```\n",
    "---"
   ]
  },
  {
   "cell_type": "markdown",
   "metadata": {},
   "source": [
    "# ゲッターとセッター\n",
    "*  オブジェクト指向プログラミングでは，カプセル化によって，特定の属性への外部からのアクセスを制限することができる\n",
    "*  例えば，可視性をプライベートやプロテクテッドに設定することで，外部のクラスに対して属性値を非公開にすることができる\n",
    "*  しかし，このような非公開の属性値を取得・変更する必要がある場合もありえる\n",
    "*  ゲッター（getter）とセッター（setter）は，オブジェクト指向プログラミングにおいて，オブジェクトの属性に対する読み取りと書き込みをそれぞれ行うメソッドである\n",
    "*  ゲッターとセッターは，デコレータを使って定義できる\n",
    "*  デコレータについては，[第5回講義資料](https://colab.research.google.com/github/yoshida-nu/lec_systemdesign/blob/main/doc/SystemDesign_notebook05.ipynb)を参照"
   ]
  },
  {
   "cell_type": "markdown",
   "metadata": {},
   "source": [
    "## ゲッター\n",
    "*  ゲッターは属性の値を取得するためのメソッド，すなわち，読み取り専用窓口の役割を果たす\n",
    "*  ゲッターを使うことで，読み取り専用の属性のように扱うことができる（逆に書き換えは禁止している）\n",
    "*  ゲッターを定義する際には，組み込みの`@property`デコレータを使用する\n",
    "*  以下のコード例では，2つのゲッターを定義している\n",
    ">*  プライベートな属性`__name`と`__age`をインスタンス属性として定義\n",
    ">*  これらの属性にアクセスするためのゲッター`name`と`age`を定義\n",
    ">*  ゲッターを使うことで，`p.name`や`p.age`のように，直接属性にアクセスする形で値を取得できる"
   ]
  },
  {
   "cell_type": "code",
   "execution_count": null,
   "metadata": {},
   "outputs": [],
   "source": [
    "class Person:\n",
    "    def __init__(self, name: str, age: int) -> None:\n",
    "        self.__name = name # プライベート属性（本講義では2重アンダースコア）\n",
    "        self.__age = age # プライベート属性（本講義では2重アンダースコア）\n",
    "\n",
    "    # ゲッター（__nameの取得）\n",
    "    @property\n",
    "    def name(self) -> str:\n",
    "        return self.__name\n",
    "\n",
    "    # ゲッター（__ageの取得）\n",
    "    @property\n",
    "    def age(self) -> int:\n",
    "        return self.__age\n",
    "    \n",
    "# インスタンスを作成\n",
    "p: Person = Person('太郎', 20)\n",
    "\n",
    "# ゲッターの使用\n",
    "print(p.name)\n",
    "print(p.age)\n",
    "\n",
    "# 属性値を変更するような記述はエラーとなる\n",
    "# p.name = '花子'"
   ]
  },
  {
   "cell_type": "markdown",
   "metadata": {},
   "source": [
    "## セッター\n",
    "*  セッターは属性の値を設定するためのメソッド，すなわち，書き込み専用窓口の役割を果たす\n",
    "*  値を設定する際に，制約や検証を加えたい場合にセッターを使用する\n",
    "*  つまり，属性に値を代入する前に，値のチェックなどのほかの処理を加えることを想定している\n",
    "*  ほかの処理を加えずに，値の代入だけを行うと，プライベートにしている意味がなくなる（パブリックにして直接アクセスすればよい）\n",
    "*  セッターを定義する際は，`@属性名.setter`デコレータを使用する\n",
    "*  このデコレータの利用は，`@property`によるゲッターの定義が前提となる\n",
    "*  以下のコード例では，属性`__name`と`__age`を設定するための2つのセッターを定義している\n",
    ">*  セッターの定義内で，属性への値の代入処理をしている\n",
    ">*  代入処理の前には，値のチェックを行う処理（ガード節）を加えている\n",
    ">*  このチェックは，`if`文の条件式で値が適正かチェックし，適正でなければ`raise`文で例外を発生させている\n",
    ">*  セッター`name`では，値（名前）が空の文字列（''）であれば，エラーとなり，エラーメッセージ「名前は空にはできません」を表示する\n",
    ">*  セッター`age`では，値（数値）がマイナスであれば，エラーとなり，エラーメッセージ「年齢は0以上である必要があります」を表示する"
   ]
  },
  {
   "cell_type": "code",
   "execution_count": null,
   "metadata": {},
   "outputs": [],
   "source": [
    "class Person:\n",
    "    def __init__(self, name: str, age: int) -> None:\n",
    "        self.__name = name # プライベート属性（本講義では2重アンダースコア）\n",
    "        self.__age = age # プライベート属性（本講義では2重アンダースコア）\n",
    "\n",
    "    # ゲッター（__nameの取得）\n",
    "    @property\n",
    "    def name(self) -> str:\n",
    "        return self.__name\n",
    "\n",
    "    # セッター（__nameの設定）\n",
    "    @name.setter\n",
    "    def name(self, value: str) -> None:\n",
    "        if value == '':\n",
    "            raise ValueError('名前は空にはできません')\n",
    "        self.__name = value\n",
    "\n",
    "    # ゲッター（__ageの取得）\n",
    "    @property\n",
    "    def age(self) -> int:\n",
    "        return self.__age\n",
    "\n",
    "    # セッター（__ageの設定）\n",
    "    @age.setter\n",
    "    def age(self, value: int) -> None:\n",
    "        if value < 0:\n",
    "            raise ValueError('年齢は0以上である必要があります')\n",
    "        self.__age = value\n",
    "\n",
    "# インスタンスを作成\n",
    "p: Person = Person('太郎', 20)\n",
    "\n",
    "# ゲッターの使用\n",
    "print(p.name)\n",
    "print(p.age)\n",
    "\n",
    "# セッターの使用\n",
    "p.name = '花子'\n",
    "p.age = 25\n",
    "\n",
    "# 変更された値の確認\n",
    "print(p.name)\n",
    "print(p.age)"
   ]
  },
  {
   "cell_type": "markdown",
   "metadata": {},
   "source": [
    "## ゲッターとセッターの利点\n",
    "*  ゲッターとセッターを使うことで，クラスの属性へのアクセスに対して柔軟性と安全性を確保できる\n",
    "*  直接属性にアクセスする代わりに，ゲッターやセッターを介することで，属性の読み書きに対して制約や処理が追加できる\n",
    "*  属性の不正な値の変更を防ぐため，セッターでチェックを行うことができる"
   ]
  },
  {
   "cell_type": "markdown",
   "metadata": {},
   "source": [
    "# フールプルーフ"
   ]
  },
  {
   "cell_type": "markdown",
   "metadata": {},
   "source": [
    "## フールプルーフとは\n",
    "*  フールプルーフ（foolproof）とは，システムの利用者が本来のシステムの仕様から外れた誤った操作をしても，異常が起きないようにするといった考え方（設計思想）\n",
    "*  **典型的なフールプルーフの例**: ファイルを保存しないで終了しようとしたときに，ファイルの保存を確認するメッセージを表示するといったような，利用者の入力ミスや操作ミスをあらかじめ想定した設計にする\n",
    "*  **身の回りのフールプルーフの例**:\n",
    ">*  ドアが完全に閉じないと起動しない電子レンジ\n",
    ">*  蓋を閉めないと回転しない洗濯機\n",
    ">*  座らないと作動しない温水便座\n",
    ">*  転倒すると消える電気ストーブ\n",
    "*  ガード節やカプセル化におけるおける情報の隠ぺい（属性などのアクセス制限）も，フールプルーフの考え方に従っている"
   ]
  },
  {
   "cell_type": "markdown",
   "metadata": {},
   "source": [
    "## フールプルーフに基づくコードの例 その1\n",
    "*  コンストラクタ`__init__`: インスタンス化のときに円の半径をプライベート属性`__radius`として設定\n",
    "*  `@property`デコレータと`@radius.setter`デコレータ: 半径に対してゲッター（getter）とセッター（setter）を定義し，外部から半径にアクセスしたり，変更できるようにしている\n",
    "*  半径の変更時にはガード節によって，半径が負の値であれば例外ValueErrorを発生させる\n",
    "*  このコード例の場合，負の値を渡してインスタンス化しても例外が発生しないという問題がある"
   ]
  },
  {
   "cell_type": "code",
   "execution_count": null,
   "metadata": {},
   "outputs": [],
   "source": [
    "class Circle:\n",
    "    def __init__(self, radius: float) -> None:\n",
    "        self.__radius = radius # 円の半径（プライベート属性）\n",
    "\n",
    "    # 半径の取得 (getter)\n",
    "    @property\n",
    "    def radius(self) -> float:\n",
    "        return self.__radius\n",
    "\n",
    "    # 半径の設定 (setter): ガード節付き\n",
    "    @radius.setter\n",
    "    def radius(self, value: float) -> None:\n",
    "        if value < 0:\n",
    "            raise ValueError('半径は0以上である必要があります')\n",
    "        self.__radius = value\n",
    "\n",
    "circle1: Circle = Circle(5)\n",
    "print(f'circle1の半径: {circle1.radius}')  # getterによる属性の読み取り\n",
    "circle1.radius = 8 # 半径の変更 (setterの呼び出し)\n",
    "print(f'変更後のcircle1の半径: {circle1.radius}')\n",
    "\n",
    "# エラーチェック\n",
    "try:\n",
    "    circle1.radius = -3  # エラー: ガード節による例外発生\n",
    "except ValueError as e:\n",
    "    print('Error:', e)\n",
    "\n",
    "# 問題点\n",
    "circle2: Circle = Circle(-1)\n",
    "print(f'circle2の半径: {circle2.radius}')"
   ]
  },
  {
   "cell_type": "markdown",
   "metadata": {},
   "source": [
    "## フールプルーフに基づくコードの例 その2\n",
    "* 次のコード例は，上のコード例の問題点を改善したコードになる\n",
    "* 改善のポイント:\n",
    ">* コンストラクタ（`__init__`）内で，まず属性`__radius`に`None`を代入しておく（5行目）\n",
    ">* その後，9行目以降で定義しているセッターを使って引数`radius`の値に変更する（6行目）\n",
    ">* このとき，セッター内のガード節により，引数`radius`が負の値であれば例外が発生する\n",
    "*  セッターの戻り値は，本来`float`であるが，初期値に`None`を使用しているので，型ヒントは`float`または`None`を表す`Optional[float]`としている\n",
    "*  型ヒント「Union」については，[第4回講義資料](https://colab.research.google.com/github/yoshida-nu/lec_systemdesign/blob/main/doc/SystemDesign_notebook04.ipynb)を参照"
   ]
  },
  {
   "cell_type": "code",
   "execution_count": null,
   "metadata": {},
   "outputs": [],
   "source": [
    "from typing import Optional\n",
    "\n",
    "class Circle:\n",
    "    def __init__(self, radius: float) -> None:\n",
    "        self.__radius = None # 円の半径（プライベート属性）\n",
    "        self.radius = radius  # セッター経由で引数radiusを代入\n",
    "\n",
    "    # 半径の取得 (getter)\n",
    "    @property\n",
    "    def radius(self) -> Optional[float]:\n",
    "        return self.__radius\n",
    "\n",
    "    # 半径の設定 (setter): ガード節付き\n",
    "    @radius.setter\n",
    "    def radius(self, value: float) -> None:\n",
    "        if value < 0:\n",
    "            raise ValueError('半径は0以上である必要があります')\n",
    "        self.__radius = value\n",
    "\n",
    "# エラーチェック\n",
    "try:\n",
    "    circle2: Circle = Circle(-1)  # エラー: ガード節による例外発生\n",
    "except ValueError as e:\n",
    "    print('Error:', e)"
   ]
  },
  {
   "cell_type": "markdown",
   "metadata": {},
   "source": [
    "# 参考資料\n",
    "*  国本大悟(著), 須藤秋良(著), 株式会社フレアリンク(監修), [スッキリわかるPython入門 第2版](https://book.impress.co.jp/books/1122101165), インプレス, 2023. \n",
    "*  東京大学, [プログラミング入門](https://colab.research.google.com/github/utokyo-ipp/utokyo-ipp.github.io/blob/master/colab/index.ipynb), 講義資料, 2024.\n",
    "*  ひらまつしょうたろう, [Python でわかる オブジェクト指向 とはなにか？【Python オブジェクト指向 の「なぜ？」を「徹底的に」解説】](https://www.udemy.com/course/oop-python/?couponCode=KEEPLEARNING), Udemy, 最終更新日 2023/7.\n",
    "*  ひらまつしょうたろう, [Python で身につける オブジェクト指向【SOLID原則+デザインパターンで、オブジェクト指向設計 の基礎を習得！】](https://www.udemy.com/course/python-solid-design-pattern/?couponCode=KEEPLEARNING), Udemy, 最終更新日 2024/6.\n",
    "*  Bill Lubanovic (著), 鈴木駿 (監訳), 長尾高弘 (訳), [入門 Python 3 第2版](https://www.oreilly.co.jp/books/9784873119328/), オライリージャパン, 2021.\n",
    "*  Guido van Rossum (著), 鴨澤眞夫 (翻訳), [Pythonチュートリアル 第4版](https://www.oreilly.co.jp/books/9784873119359/), オライリージャパン, 2021.\n",
    "\n",
    "<!-- *  河合昭男, [ゼロからわかる UML超入門](https://gihyo.jp/book/2017/978-4-7741-9005-1), 技術評論社, 2010. -->\n",
    "<!-- *  竹政昭利, 林田幸司, 大西洋平, 三村次朗, 藤本陽啓, 伊藤宏幸, [かんたんUML入門 ［改訂2版］ Kindle版](https://gihyo.jp/book/2017/978-4-7741-9039-6), 技術評論社, 2017. -->\n",
    "\n",
    "<!-- *  伊藤裕一, [速習 Python 3 中: オブジェクト指向編 Kindle版](https://www.amazon.co.jp/%E9%80%9F%E7%BF%92-Python-3-%E4%B8%AD-%E3%82%AA%E3%83%96%E3%82%B8%E3%82%A7%E3%82%AF%E3%83%88%E6%8C%87%E5%90%91%E7%B7%A8-ebook/dp/B01N04UBYI), 2016. -->"
   ]
  }
 ],
 "metadata": {
  "colab": {
   "authorship_tag": "ABX9TyNlEN6COxiCGqLXcrGZ08ji",
   "provenance": []
  },
  "kernelspec": {
   "display_name": "Python 3",
   "name": "python3"
  },
  "language_info": {
   "codemirror_mode": {
    "name": "ipython",
    "version": 3
   },
   "file_extension": ".py",
   "mimetype": "text/x-python",
   "name": "python",
   "nbconvert_exporter": "python",
   "pygments_lexer": "ipython3",
   "version": "3.12.5"
  }
 },
 "nbformat": 4,
 "nbformat_minor": 0
}
